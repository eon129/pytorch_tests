{
 "cells": [
  {
   "cell_type": "code",
   "execution_count": 1,
   "id": "dressed-breach",
   "metadata": {},
   "outputs": [],
   "source": [
    "import torch\n",
    "import numpy as np\n",
    "import matplotlib.pyplot as plt "
   ]
  },
  {
   "cell_type": "code",
   "execution_count": 2,
   "id": "satisfactory-accessory",
   "metadata": {},
   "outputs": [
    {
     "data": {
      "image/png": "[encoded data removed]",
      "text/plain": [
       "<Figure size 432x288 with 1 Axes>"
      ]
     },
     "metadata": {
      "needs_background": "light"
     },
     "output_type": "display_data"
    }
   ],
   "source": [
    "#Number of data points\n",
    "n = 50\n",
    "X = np.random.uniform(-5, 5, n) \n",
    "error = np.random.uniform(0, 8, n) # Gaussian distribution\n",
    "\n",
    "#This are the real parameters\n",
    "true_beta1, true_beta0 = 6, 2\n",
    "\n",
    "#Our true function\n",
    "# y = beta1 * x + beta0 + ε\n",
    "y = true_beta1 * X + true_beta0 + error\n",
    "\n",
    "pop = np.array([X, y])\n",
    "\n",
    "plt.plot(X, y, 'x');\n",
    "plt.xlabel('Example population')\n",
    "plt.show()"
   ]
  },
  {
   "cell_type": "code",
   "execution_count": 3,
   "id": "sound-november",
   "metadata": {},
   "outputs": [],
   "source": [
    "device = 'cuda' if torch.cuda.is_available() else 'cpu'"
   ]
  },
  {
   "cell_type": "code",
   "execution_count": 4,
   "id": "atmospheric-victoria",
   "metadata": {},
   "outputs": [],
   "source": [
    "w = torch.zeros([1, 2], dtype=torch.float32, requires_grad=True)\n",
    "\n",
    "def forward(x):\n",
    "    return torch.matmul(w, x)"
   ]
  },
  {
   "cell_type": "code",
   "execution_count": 5,
   "id": "boxed-anxiety",
   "metadata": {},
   "outputs": [],
   "source": [
    "#Prepare training samples\n",
    "X_tensor =  torch.from_numpy(X).float()\n",
    "X_tensor = torch.cat((X_tensor, torch.ones(50)))\n",
    "X_tensor = torch.reshape(X_tensor, (2, -1))\n",
    "\n",
    "y_tensor = torch.from_numpy(y).float()\n",
    "y_tensor = torch.reshape(y_tensor, (1, -1))"
   ]
  },
  {
   "cell_type": "markdown",
   "id": "covered-bronze",
   "metadata": {},
   "source": [
    "### Train model"
   ]
  },
  {
   "cell_type": "code",
   "execution_count": 6,
   "id": "aerial-carry",
   "metadata": {},
   "outputs": [],
   "source": [
    "n_epoch = 100\n",
    "lr = 0.01\n",
    "\n",
    "optimizer = optimizer = torch.optim.SGD([w], lr=lr)\n",
    "loss = torch.nn.MSELoss()\n",
    "\n",
    "for epoch in range(n_epoch):\n",
    "    \n",
    "    optimizer.zero_grad()\n",
    "    \n",
    "    out = forward(X_tensor)\n",
    "    \n",
    "    error = loss(out, y_tensor)\n",
    "    \n",
    "    error.backward()\n",
    "    \n",
    "    optimizer.step()"
   ]
  },
  {
   "cell_type": "code",
   "execution_count": 7,
   "id": "seventh-england",
   "metadata": {},
   "outputs": [
    {
     "name": "stdout",
     "output_type": "stream",
     "text": [
      "Parameters b1: 5.078518390655518, b0: 5.873547077178955\n"
     ]
    }
   ],
   "source": [
    "print(f'Parameters b1: {w[0][1].item()}, b0: {w[0][0].item()}')"
   ]
  },
  {
   "cell_type": "code",
   "execution_count": 8,
   "id": "exotic-future",
   "metadata": {},
   "outputs": [
    {
     "data": {
      "image/png": "[encoded data removed]",
      "text/plain": [
       "<Figure size 432x288 with 1 Axes>"
      ]
     },
     "metadata": {
      "needs_background": "light"
     },
     "output_type": "display_data"
    }
   ],
   "source": [
    "#Our true function\n",
    "# y = beta1 * x + beta0 + ε\n",
    "y_hat = w[0][0].item() * X + w[0][1].item()\n",
    "\n",
    "pop = np.array([X, y])\n",
    "\n",
    "plt.plot(X, y_hat, 'x');\n",
    "plt.xlabel('Example population')\n",
    "plt.show()"
   ]
  },
  {
   "cell_type": "markdown",
   "id": "reasonable-marketing",
   "metadata": {},
   "source": [
    "### When gradients are calculated?"
   ]
  },
  {
   "cell_type": "code",
   "execution_count": 9,
   "id": "promotional-progressive",
   "metadata": {},
   "outputs": [],
   "source": [
    "#reset weights\n",
    "lr = 0.01\n",
    "w = torch.zeros([1, 2], dtype=torch.float32, requires_grad=True)\n",
    "optimizer = optimizer = torch.optim.SGD([w], lr=lr)"
   ]
  },
  {
   "cell_type": "code",
   "execution_count": 10,
   "id": "willing-passage",
   "metadata": {},
   "outputs": [
    {
     "name": "stdout",
     "output_type": "stream",
     "text": [
      "Before training: None parameters: tensor([[0., 0.]], requires_grad=True)\n",
      "After first forward pass: None parameters: tensor([[0., 0.]], requires_grad=True)\n",
      "After error calculation: None parameters: tensor([[0., 0.]], requires_grad=True)\n",
      "After backward: tensor([[-110.7970,  -12.4580]]) parameters: tensor([[0., 0.]], requires_grad=True)\n",
      "After optimizer step: tensor([[-110.7970,  -12.4580]]) parameters: tensor([[1.1080, 0.1246]], requires_grad=True)\n",
      "After optimizer zero grad: tensor([[0., 0.]]) parameters: tensor([[1.1080, 0.1246]], requires_grad=True)\n"
     ]
    }
   ],
   "source": [
    "print(f'Before training: {w.grad} parameters: {w}')\n",
    "\n",
    "out = forward(X_tensor)\n",
    "\n",
    "print(f'After first forward pass: {w.grad} parameters: {w}')\n",
    "\n",
    "error = loss(out, y_tensor)\n",
    "\n",
    "print(f'After error calculation: {w.grad} parameters: {w}')\n",
    "\n",
    "error.backward()\n",
    "\n",
    "print(f'After backward: {w.grad} parameters: {w}')\n",
    "\n",
    "optimizer.step()\n",
    "\n",
    "print(f'After optimizer step: {w.grad} parameters: {w}')\n",
    "\n",
    "optimizer.zero_grad()\n",
    "\n",
    "print(f'After optimizer zero grad: {w.grad} parameters: {w}')"
   ]
  },
  {
   "cell_type": "markdown",
   "id": "retained-ending",
   "metadata": {},
   "source": [
    "Gradients are calculated after error.backward function.\n",
    "Parameters are updated when usin optimizer.step.\n",
    "Gradients are set to 0 using optimizar.zero_grad funcion."
   ]
  },
  {
   "cell_type": "markdown",
   "id": "structural-mexico",
   "metadata": {},
   "source": [
    "#### Divide training into two chunks, use forward separatly on each chunk and check how gradients and parameters behave"
   ]
  },
  {
   "cell_type": "code",
   "execution_count": 34,
   "id": "exempt-diesel",
   "metadata": {},
   "outputs": [],
   "source": [
    "#reset weights\n",
    "lr = 0.01\n",
    "w = torch.zeros([1, 2], dtype=torch.float32, requires_grad=True)\n",
    "optimizer = optimizer = torch.optim.SGD([w], lr=lr)"
   ]
  },
  {
   "cell_type": "code",
   "execution_count": 35,
   "id": "referenced-hollow",
   "metadata": {},
   "outputs": [
    {
     "name": "stdout",
     "output_type": "stream",
     "text": [
      "Before training 1: None parameters: tensor([[0., 0.]], requires_grad=True)\n",
      "After backward 1: tensor([[-126.0480,  -13.9361]]) parameters: tensor([[0., 0.]], requires_grad=True)\n",
      "After backward 2: tensor([[-221.5941,  -24.9161]]) parameters: tensor([[0., 0.]], requires_grad=True)\n",
      "After optimizer step: tensor([[-221.5941,  -24.9161]]) parameters: tensor([[2.2159, 0.2492]], requires_grad=True)\n"
     ]
    }
   ],
   "source": [
    "#separate X_tensor\n",
    "X1 = X_tensor[:, :25]\n",
    "X2 = X_tensor[:, 25:]\n",
    "y1 = y_tensor[:, :25]\n",
    "y2 = y_tensor[:, 25:]\n",
    "\n",
    "print(f'Before training 1: {w.grad} parameters: {w}')\n",
    "\n",
    "out = forward(X1)\n",
    "error1 = loss(out, y1)\n",
    "error1.backward()\n",
    "\n",
    "print(f'After backward 1: {w.grad} parameters: {w}')\n",
    "\n",
    "out = forward(X2)\n",
    "error2 = loss(out, y2)\n",
    "error2.backward()\n",
    "\n",
    "print(f'After backward 2: {w.grad} parameters: {w}')\n",
    "\n",
    "optimizer.step()\n",
    "\n",
    "print(f'After optimizer step: {w.grad} parameters: {w}')\n",
    "\n",
    "optimizer.zero_grad()"
   ]
  },
  {
   "cell_type": "markdown",
   "id": "crucial-methodology",
   "metadata": {},
   "source": [
    "Gradients calculated in the first backward pass are summed up with gradients calculated with second backward pass.\n",
    "When using this approach at least with this example, it seems to be converging quickly, why?, perhaps because using a smaller training sample each time derives in calculating bigger gradients thus converging faster."
   ]
  },
  {
   "cell_type": "code",
   "execution_count": 36,
   "id": "amazing-testimony",
   "metadata": {},
   "outputs": [],
   "source": [
    "#reset weights\n",
    "lr = 0.01\n",
    "w = torch.zeros([1, 2], dtype=torch.float32, requires_grad=True)\n",
    "optimizer = optimizer = torch.optim.SGD([w], lr=lr)"
   ]
  },
  {
   "cell_type": "code",
   "execution_count": 37,
   "id": "quick-looking",
   "metadata": {},
   "outputs": [
    {
     "name": "stdout",
     "output_type": "stream",
     "text": [
      "Before training 1: None parameters: tensor([[0., 0.]], requires_grad=True)\n",
      "After backward 1: tensor([[-95.5461, -10.9799]]) parameters: tensor([[0., 0.]], requires_grad=True)\n",
      "After backward 2: tensor([[-221.5941,  -24.9161]]) parameters: tensor([[0., 0.]], requires_grad=True)\n",
      "After optimizer step: tensor([[-221.5941,  -24.9161]]) parameters: tensor([[2.2159, 0.2492]], requires_grad=True)\n"
     ]
    }
   ],
   "source": [
    "#separate X_tensor\n",
    "X1 = X_tensor[:, :25]\n",
    "X2 = X_tensor[:, 25:]\n",
    "y1 = y_tensor[:, :25]\n",
    "y2 = y_tensor[:, 25:]\n",
    "\n",
    "print(f'Before training 1: {w.grad} parameters: {w}')\n",
    "\n",
    "out = forward(X2)\n",
    "error1 = loss(out, y2)\n",
    "error1.backward()\n",
    "\n",
    "print(f'After backward 1: {w.grad} parameters: {w}')\n",
    "\n",
    "out = forward(X1)\n",
    "error2 = loss(out, y1)\n",
    "error2.backward()\n",
    "\n",
    "print(f'After backward 2: {w.grad} parameters: {w}')\n",
    "\n",
    "optimizer.step()\n",
    "\n",
    "print(f'After optimizer step: {w.grad} parameters: {w}')\n",
    "\n",
    "optimizer.zero_grad()"
   ]
  },
  {
   "cell_type": "markdown",
   "id": "plastic-ontario",
   "metadata": {},
   "source": [
    "If chunk 2 is trained first, and then chunk 1, we end up with the same gradients."
   ]
  }
 ],
 "metadata": {
  "kernelspec": {
   "display_name": "Python 3",
   "language": "python",
   "name": "python3"
  },
  "language_info": {
   "codemirror_mode": {
    "name": "ipython",
    "version": 3
   },
   "file_extension": ".py",
   "mimetype": "text/x-python",
   "name": "python",
   "nbconvert_exporter": "python",
   "pygments_lexer": "ipython3",
   "version": "3.8.5"
  }
 },
 "nbformat": 4,
 "nbformat_minor": 5
}
