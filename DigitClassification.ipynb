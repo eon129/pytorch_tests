{
 "cells": [
  {
   "cell_type": "code",
   "execution_count": 1,
   "id": "distinct-township",
   "metadata": {},
   "outputs": [],
   "source": [
    "%matplotlib inline\n",
    "%config InlineBackend.figure_format = 'retina'\n",
    "\n",
    "import torch\n",
    "import torchvision\n",
    "import matplotlib.pyplot as plt\n",
    "\n",
    "import torch.nn as nn\n",
    "import torch.nn.functional as F\n",
    "import torch.optim as optim\n",
    "\n",
    "import time"
   ]
  },
  {
   "cell_type": "markdown",
   "id": "chubby-veteran",
   "metadata": {},
   "source": [
    "Based on: https://nextjournal.com/gkoehler/pytorch-mnist"
   ]
  },
  {
   "cell_type": "markdown",
   "id": "underlying-advantage",
   "metadata": {},
   "source": [
    "### Set hyperparameters\n",
    "\n",
    "Setting hyperparameters for training"
   ]
  },
  {
   "cell_type": "code",
   "execution_count": 2,
   "id": "union-disabled",
   "metadata": {},
   "outputs": [
    {
     "data": {
      "text/plain": [
       "<torch._C.Generator at 0x20175f660d0>"
      ]
     },
     "execution_count": 2,
     "metadata": {},
     "output_type": "execute_result"
    }
   ],
   "source": [
    "n_epochs = 3\n",
    "batch_size_train = 64\n",
    "batch_size_test = 1000\n",
    "learning_rate = 0.01\n",
    "momentum = 0.5\n",
    "log_interval = 10\n",
    "\n",
    "random_seed = 1\n",
    "torch.backends.cudnn.enabled = False\n",
    "torch.manual_seed(random_seed)"
   ]
  },
  {
   "cell_type": "markdown",
   "id": "oriental-knowing",
   "metadata": {},
   "source": [
    "### Configure data loaders"
   ]
  },
  {
   "cell_type": "code",
   "execution_count": 3,
   "id": "hollywood-wrestling",
   "metadata": {},
   "outputs": [
    {
     "data": {
      "text/plain": [
       "torch.utils.data.dataloader.DataLoader"
      ]
     },
     "execution_count": 3,
     "metadata": {},
     "output_type": "execute_result"
    }
   ],
   "source": [
    "data_dir = 'data/'\n",
    "\n",
    "train_loader = torch.utils.data.DataLoader(\n",
    "  torchvision.datasets.MNIST(data_dir, train=True, download=True,\n",
    "                             transform=torchvision.transforms.Compose([\n",
    "                               torchvision.transforms.ToTensor(),\n",
    "                               torchvision.transforms.Normalize(\n",
    "                                 (0.1307,), (0.3081,))\n",
    "                             ])),\n",
    "  batch_size=batch_size_train, shuffle=True)\n",
    "\n",
    "test_loader = torch.utils.data.DataLoader(\n",
    "  torchvision.datasets.MNIST(data_dir, train=False, download=True,\n",
    "                             transform=torchvision.transforms.Compose([\n",
    "                               torchvision.transforms.ToTensor(),\n",
    "                               torchvision.transforms.Normalize(\n",
    "                                 (0.1307,), (0.3081,))\n",
    "                                 ])),\n",
    "  batch_size=batch_size_test, shuffle=True)\n",
    "    \n",
    "type(test_loader)"
   ]
  },
  {
   "cell_type": "markdown",
   "id": "gentle-station",
   "metadata": {},
   "source": [
    "Figuring out what the code is doing. Check what is inside test_loader"
   ]
  },
  {
   "cell_type": "code",
   "execution_count": 42,
   "id": "arctic-digit",
   "metadata": {},
   "outputs": [
    {
     "name": "stdout",
     "output_type": "stream",
     "text": [
      "<class 'torch.utils.data.dataloader._SingleProcessDataLoaderIter'>\n",
      "<class 'list'>\n",
      "lenght: 2\n",
      "<class 'torch.Tensor'>\n",
      "Shape:  torch.Size([1000, 1, 28, 28])\n",
      "<class 'torch.Tensor'>\n",
      "Shape:  torch.Size([1000])\n",
      "Shape:  torch.Size([1000, 1, 28, 28])\n",
      "Shape:  torch.Size([1000])\n"
     ]
    }
   ],
   "source": [
    "#testloader is an iterable object. Lets get the iterator\n",
    "test1 = iter(test_loader)\n",
    "print(type(test1))\n",
    "\n",
    "#use next to get the value which is a list of lenght 2 [val0, val1]\n",
    "val1 = next(test1)\n",
    "print(type(val1))\n",
    "print(\"lenght:\", len(val1))\n",
    "\n",
    "#List value 0 is a 1000 * 1 * 28 * 28 Tensor. The images\n",
    "print(type(val1[0]))\n",
    "print(\"Shape: \", val1[0].shape)\n",
    "\n",
    "#List value 1 is a 1000 Tensor. The labels\n",
    "print(type(val1[1]))\n",
    "print(\"Shape: \", val1[1].shape)\n",
    "\n",
    "#we can use two values when returning function, it works the same\n",
    "val1, val2 = next(test1)\n",
    "#images\n",
    "print(\"Shape: \", val1.shape)\n",
    "#labels\n",
    "print(\"Shape: \", val2.shape)\n"
   ]
  },
  {
   "cell_type": "markdown",
   "id": "deadly-papua",
   "metadata": {},
   "source": [
    "### Check how train_loader handles batch size"
   ]
  },
  {
   "cell_type": "code",
   "execution_count": 43,
   "id": "streaming-password",
   "metadata": {},
   "outputs": [
    {
     "name": "stdout",
     "output_type": "stream",
     "text": [
      "<class 'torch.utils.data.dataloader._SingleProcessDataLoaderIter'>\n",
      "Shape:  torch.Size([64, 1, 28, 28])\n",
      "Shape:  torch.Size([64])\n"
     ]
    }
   ],
   "source": [
    "#testloader is an iterable object. Lets get the iterator\n",
    "test1 = iter(train_loader)\n",
    "print(type(test1))\n",
    "\n",
    "#use next to get the value which is a list of lenght 2 [val0, val1]\n",
    "val1, val2 = next(test1)\n",
    "\n",
    "#When doing a next() in train_loader it returns 64 elements which is the batch size\n",
    "print(\"Shape: \", val1.shape)\n",
    "#We get also 64 corresponding labels\n",
    "print(\"Shape: \", val2.shape)"
   ]
  },
  {
   "cell_type": "markdown",
   "id": "bound-seating",
   "metadata": {},
   "source": [
    "Either test_loader and train_loaders are DataLoader classes. This class is iterable."
   ]
  },
  {
   "cell_type": "code",
   "execution_count": 8,
   "id": "local-trash",
   "metadata": {},
   "outputs": [
    {
     "data": {
      "image/png": "[encoded data removed]",
      "text/plain": [
       "<Figure size 432x288 with 6 Axes>"
      ]
     },
     "metadata": {
      "image/png": {
       "height": 266,
       "width": 405
      }
     },
     "output_type": "display_data"
    }
   ],
   "source": [
    "#enumerate functions adds an index to the iterable objetct\n",
    "#using enumerate helps to add an index when using for, for example\n",
    "examples = enumerate(test_loader)\n",
    "\n",
    "#unpacking with parentesis because first return value is the index, second is a two values list. Check code below\n",
    "#li = [[1,2], [2,3]]\n",
    "#bla = enumerate(li)\n",
    "#idx, (x, y) = next(bla)\n",
    "##idx = 0, x = 1, y = 2\n",
    "\n",
    "batch_idx, (example_data, example_targets) = next(examples)\n",
    "\n",
    "\n",
    "#Print 6 images with their respective value\n",
    "for i in range(6):\n",
    "  plt.subplot(2,3,i+1)\n",
    "  plt.tight_layout()\n",
    "  plt.imshow(example_data[i][0], cmap='gray', interpolation='none')\n",
    "  plt.title(\"Ground Truth: {}\".format(example_targets[i]))\n",
    "  plt.xticks([])\n",
    "  plt.yticks([])"
   ]
  },
  {
   "cell_type": "code",
   "execution_count": 31,
   "id": "approximate-runner",
   "metadata": {},
   "outputs": [],
   "source": [
    "class Net(nn.Module):\n",
    "    def __init__(self):\n",
    "        super(Net, self).__init__()\n",
    "        self.conv1 = nn.Conv2d(1, 10, kernel_size=5)\n",
    "        self.conv2 = nn.Conv2d(10, 20, kernel_size=5)\n",
    "        self.conv2_drop = nn.Dropout2d()\n",
    "        self.fc1 = nn.Linear(320, 50)\n",
    "        self.fc2 = nn.Linear(50, 10)\n",
    "\n",
    "    def forward(self, x):\n",
    "        x = F.relu(F.max_pool2d(self.conv1(x), 2))\n",
    "        x = F.relu(F.max_pool2d(self.conv2_drop(self.conv2(x)), 2))\n",
    "        x = x.view(-1, 320)\n",
    "        x = F.relu(self.fc1(x))\n",
    "        x = F.dropout(x, training=self.training)\n",
    "        x = self.fc2(x)\n",
    "        return F.log_softmax(x)"
   ]
  },
  {
   "cell_type": "code",
   "execution_count": 32,
   "id": "reserved-proposition",
   "metadata": {},
   "outputs": [],
   "source": [
    "#Network model\n",
    "network = Net()\n",
    "\n",
    "#Stochastic gradient decent\n",
    "optimizer = optim.SGD(network.parameters(), lr=learning_rate,\n",
    "                      momentum=momentum)"
   ]
  },
  {
   "cell_type": "code",
   "execution_count": 33,
   "id": "peaceful-variation",
   "metadata": {},
   "outputs": [],
   "source": [
    "train_losses = []\n",
    "train_counter = []\n",
    "test_losses = []\n",
    "test_counter = [i*len(train_loader.dataset) for i in range(n_epochs + 1)]"
   ]
  },
  {
   "cell_type": "code",
   "execution_count": 44,
   "id": "exceptional-frequency",
   "metadata": {},
   "outputs": [],
   "source": [
    "def train(epoch):\n",
    "  #\n",
    "  network.train()\n",
    "  for batch_idx, (data, target) in enumerate(train_loader):\n",
    "    \n",
    "    #set parameters gradients to 0\n",
    "    optimizer.zero_grad()\n",
    "    \n",
    "    #runs model with data and returns result in output\n",
    "    #here data contains a 64 * 1 * 28 * 28 tensor, 64 is batch size\n",
    "    output = network(data)\n",
    "    \n",
    "    #Use negative log likelihood loss.\n",
    "    loss = F.nll_loss(output, target)\n",
    "    \n",
    "    #with this gradients are calculated\n",
    "    loss.backward()\n",
    "    \n",
    "    #update gradients\n",
    "    optimizer.step()\n",
    "    \n",
    "    #Display iteration statistics\n",
    "    if batch_idx % log_interval == 0:\n",
    "      print('Train Epoch: {} [{}/{} ({:.0f}%)]\\tLoss: {:.6f}'.format(\n",
    "        epoch, batch_idx * len(data), len(train_loader.dataset),\n",
    "        100. * batch_idx / len(train_loader), loss.item()))\n",
    "      train_losses.append(loss.item())\n",
    "      train_counter.append(\n",
    "        (batch_idx*64) + ((epoch-1)*len(train_loader.dataset)))\n",
    "      torch.save(network.state_dict(), 'results/model.pth')\n",
    "      torch.save(optimizer.state_dict(), 'results/optimizer.pth')"
   ]
  },
  {
   "cell_type": "code",
   "execution_count": 1,
   "id": "banned-handling",
   "metadata": {},
   "outputs": [],
   "source": [
    "def test():\n",
    "  #Sets the module in evaluation mode\n",
    "  network.eval()\n",
    "  test_loss = 0\n",
    "  correct = 0\n",
    "    \n",
    "  #dont update dynamic computation graph\n",
    "  with torch.no_grad():\n",
    "    #for every example in test\n",
    "    for data, target in test_loader:\n",
    "      #evaluate the model\n",
    "      output = network(data)\n",
    "      #acumulate the loss\n",
    "      test_loss += F.nll_loss(output, target, size_average=False).item()\n",
    "      \n",
    "      pred = output.data.max(1, keepdim=True)[1]\n",
    "      correct += pred.eq(target.data.view_as(pred)).sum()\n",
    "  test_loss /= len(test_loader.dataset)\n",
    "  test_losses.append(test_loss)\n",
    "  print('\\nTest set: Avg. loss: {:.4f}, Accuracy: {}/{} ({:.0f}%)\\n'.format(\n",
    "    test_loss, correct, len(test_loader.dataset),\n",
    "    100. * correct / len(test_loader.dataset)))"
   ]
  },
  {
   "cell_type": "code",
   "execution_count": 46,
   "id": "synthetic-hungarian",
   "metadata": {},
   "outputs": [
    {
     "name": "stderr",
     "output_type": "stream",
     "text": [
      "C:\\Users\\Erick\\miniconda3\\envs\\pytorch_examples\\lib\\site-packages\\ipykernel_launcher.py:17: UserWarning: Implicit dimension choice for log_softmax has been deprecated. Change the call to include dim=X as an argument.\n"
     ]
    },
    {
     "name": "stdout",
     "output_type": "stream",
     "text": [
      "\n",
      "Test set: Avg. loss: 1.1156, Accuracy: 6554/10000 (66%)\n",
      "\n",
      "Train Epoch: 1 [0/60000 (0%)]\tLoss: 1.347929\n",
      "Train Epoch: 1 [640/60000 (1%)]\tLoss: 1.448666\n",
      "Train Epoch: 1 [1280/60000 (2%)]\tLoss: 1.292621\n",
      "Train Epoch: 1 [1920/60000 (3%)]\tLoss: 1.283124\n",
      "Train Epoch: 1 [2560/60000 (4%)]\tLoss: 1.612273\n",
      "Train Epoch: 1 [3200/60000 (5%)]\tLoss: 1.469255\n",
      "Train Epoch: 1 [3840/60000 (6%)]\tLoss: 1.565036\n",
      "Train Epoch: 1 [4480/60000 (7%)]\tLoss: 1.328872\n",
      "Train Epoch: 1 [5120/60000 (9%)]\tLoss: 1.425122\n",
      "Train Epoch: 1 [5760/60000 (10%)]\tLoss: 1.407016\n",
      "Train Epoch: 1 [6400/60000 (11%)]\tLoss: 1.621439\n",
      "Train Epoch: 1 [7040/60000 (12%)]\tLoss: 1.556371\n",
      "Train Epoch: 1 [7680/60000 (13%)]\tLoss: 1.251160\n",
      "Train Epoch: 1 [8320/60000 (14%)]\tLoss: 1.375228\n",
      "Train Epoch: 1 [8960/60000 (15%)]\tLoss: 1.365638\n",
      "Train Epoch: 1 [9600/60000 (16%)]\tLoss: 1.196130\n",
      "Train Epoch: 1 [10240/60000 (17%)]\tLoss: 1.539584\n",
      "Train Epoch: 1 [10880/60000 (18%)]\tLoss: 1.613402\n",
      "Train Epoch: 1 [11520/60000 (19%)]\tLoss: 1.339143\n",
      "Train Epoch: 1 [12160/60000 (20%)]\tLoss: 1.551208\n",
      "Train Epoch: 1 [12800/60000 (21%)]\tLoss: 1.606202\n",
      "Train Epoch: 1 [13440/60000 (22%)]\tLoss: 1.463217\n",
      "Train Epoch: 1 [14080/60000 (23%)]\tLoss: 1.400700\n",
      "Train Epoch: 1 [14720/60000 (25%)]\tLoss: 1.416534\n",
      "Train Epoch: 1 [15360/60000 (26%)]\tLoss: 1.373075\n",
      "Train Epoch: 1 [16000/60000 (27%)]\tLoss: 1.441779\n",
      "Train Epoch: 1 [16640/60000 (28%)]\tLoss: 1.403242\n",
      "Train Epoch: 1 [17280/60000 (29%)]\tLoss: 1.228535\n",
      "Train Epoch: 1 [17920/60000 (30%)]\tLoss: 1.280647\n",
      "Train Epoch: 1 [18560/60000 (31%)]\tLoss: 1.440088\n",
      "Train Epoch: 1 [19200/60000 (32%)]\tLoss: 1.075924\n",
      "Train Epoch: 1 [19840/60000 (33%)]\tLoss: 1.388592\n",
      "Train Epoch: 1 [20480/60000 (34%)]\tLoss: 1.466529\n",
      "Train Epoch: 1 [21120/60000 (35%)]\tLoss: 1.426873\n",
      "Train Epoch: 1 [21760/60000 (36%)]\tLoss: 1.285082\n",
      "Train Epoch: 1 [22400/60000 (37%)]\tLoss: 1.332315\n",
      "Train Epoch: 1 [23040/60000 (38%)]\tLoss: 1.255321\n",
      "Train Epoch: 1 [23680/60000 (39%)]\tLoss: 1.438564\n",
      "Train Epoch: 1 [24320/60000 (41%)]\tLoss: 1.136576\n",
      "Train Epoch: 1 [24960/60000 (42%)]\tLoss: 1.288043\n",
      "Train Epoch: 1 [25600/60000 (43%)]\tLoss: 1.176548\n",
      "Train Epoch: 1 [26240/60000 (44%)]\tLoss: 1.321386\n",
      "Train Epoch: 1 [26880/60000 (45%)]\tLoss: 1.471613\n",
      "Train Epoch: 1 [27520/60000 (46%)]\tLoss: 1.596127\n",
      "Train Epoch: 1 [28160/60000 (47%)]\tLoss: 1.248272\n",
      "Train Epoch: 1 [28800/60000 (48%)]\tLoss: 1.008121\n",
      "Train Epoch: 1 [29440/60000 (49%)]\tLoss: 1.595454\n",
      "Train Epoch: 1 [30080/60000 (50%)]\tLoss: 1.437323\n",
      "Train Epoch: 1 [30720/60000 (51%)]\tLoss: 1.453373\n",
      "Train Epoch: 1 [31360/60000 (52%)]\tLoss: 1.500603\n",
      "Train Epoch: 1 [32000/60000 (53%)]\tLoss: 1.235729\n",
      "Train Epoch: 1 [32640/60000 (54%)]\tLoss: 1.467034\n",
      "Train Epoch: 1 [33280/60000 (55%)]\tLoss: 1.294005\n",
      "Train Epoch: 1 [33920/60000 (57%)]\tLoss: 1.473915\n",
      "Train Epoch: 1 [34560/60000 (58%)]\tLoss: 1.550511\n",
      "Train Epoch: 1 [35200/60000 (59%)]\tLoss: 1.099561\n",
      "Train Epoch: 1 [35840/60000 (60%)]\tLoss: 1.360270\n",
      "Train Epoch: 1 [36480/60000 (61%)]\tLoss: 1.101185\n",
      "Train Epoch: 1 [37120/60000 (62%)]\tLoss: 1.465137\n",
      "Train Epoch: 1 [37760/60000 (63%)]\tLoss: 1.491479\n",
      "Train Epoch: 1 [38400/60000 (64%)]\tLoss: 1.386353\n",
      "Train Epoch: 1 [39040/60000 (65%)]\tLoss: 1.432896\n",
      "Train Epoch: 1 [39680/60000 (66%)]\tLoss: 1.290896\n",
      "Train Epoch: 1 [40320/60000 (67%)]\tLoss: 1.250131\n",
      "Train Epoch: 1 [40960/60000 (68%)]\tLoss: 0.983166\n",
      "Train Epoch: 1 [41600/60000 (69%)]\tLoss: 1.299214\n",
      "Train Epoch: 1 [42240/60000 (70%)]\tLoss: 1.257648\n",
      "Train Epoch: 1 [42880/60000 (71%)]\tLoss: 1.289658\n",
      "Train Epoch: 1 [43520/60000 (72%)]\tLoss: 1.412382\n",
      "Train Epoch: 1 [44160/60000 (74%)]\tLoss: 1.355584\n",
      "Train Epoch: 1 [44800/60000 (75%)]\tLoss: 1.384640\n",
      "Train Epoch: 1 [45440/60000 (76%)]\tLoss: 1.437521\n",
      "Train Epoch: 1 [46080/60000 (77%)]\tLoss: 1.299724\n",
      "Train Epoch: 1 [46720/60000 (78%)]\tLoss: 1.127288\n",
      "Train Epoch: 1 [47360/60000 (79%)]\tLoss: 1.453022\n",
      "Train Epoch: 1 [48000/60000 (80%)]\tLoss: 1.250927\n",
      "Train Epoch: 1 [48640/60000 (81%)]\tLoss: 1.155751\n",
      "Train Epoch: 1 [49280/60000 (82%)]\tLoss: 1.354410\n",
      "Train Epoch: 1 [49920/60000 (83%)]\tLoss: 1.207399\n",
      "Train Epoch: 1 [50560/60000 (84%)]\tLoss: 1.271987\n",
      "Train Epoch: 1 [51200/60000 (85%)]\tLoss: 1.349154\n",
      "Train Epoch: 1 [51840/60000 (86%)]\tLoss: 1.436995\n",
      "Train Epoch: 1 [52480/60000 (87%)]\tLoss: 1.231821\n",
      "Train Epoch: 1 [53120/60000 (88%)]\tLoss: 1.479117\n",
      "Train Epoch: 1 [53760/60000 (90%)]\tLoss: 1.310816\n",
      "Train Epoch: 1 [54400/60000 (91%)]\tLoss: 1.192832\n",
      "Train Epoch: 1 [55040/60000 (92%)]\tLoss: 1.288079\n",
      "Train Epoch: 1 [55680/60000 (93%)]\tLoss: 0.905122\n",
      "Train Epoch: 1 [56320/60000 (94%)]\tLoss: 1.215689\n",
      "Train Epoch: 1 [56960/60000 (95%)]\tLoss: 1.235018\n",
      "Train Epoch: 1 [57600/60000 (96%)]\tLoss: 1.180794\n",
      "Train Epoch: 1 [58240/60000 (97%)]\tLoss: 1.273025\n",
      "Train Epoch: 1 [58880/60000 (98%)]\tLoss: 1.167307\n",
      "Train Epoch: 1 [59520/60000 (99%)]\tLoss: 1.072055\n",
      "\n",
      "Test set: Avg. loss: 0.8812, Accuracy: 7432/10000 (74%)\n",
      "\n",
      "Train Epoch: 2 [0/60000 (0%)]\tLoss: 1.344154\n",
      "Train Epoch: 2 [640/60000 (1%)]\tLoss: 1.301351\n",
      "Train Epoch: 2 [1280/60000 (2%)]\tLoss: 1.272876\n",
      "Train Epoch: 2 [1920/60000 (3%)]\tLoss: 1.519738\n",
      "Train Epoch: 2 [2560/60000 (4%)]\tLoss: 1.165389\n",
      "Train Epoch: 2 [3200/60000 (5%)]\tLoss: 1.338774\n",
      "Train Epoch: 2 [3840/60000 (6%)]\tLoss: 1.008649\n",
      "Train Epoch: 2 [4480/60000 (7%)]\tLoss: 1.228029\n",
      "Train Epoch: 2 [5120/60000 (9%)]\tLoss: 1.184899\n",
      "Train Epoch: 2 [5760/60000 (10%)]\tLoss: 1.266379\n",
      "Train Epoch: 2 [6400/60000 (11%)]\tLoss: 1.123336\n",
      "Train Epoch: 2 [7040/60000 (12%)]\tLoss: 1.408237\n",
      "Train Epoch: 2 [7680/60000 (13%)]\tLoss: 0.998639\n",
      "Train Epoch: 2 [8320/60000 (14%)]\tLoss: 1.147264\n",
      "Train Epoch: 2 [8960/60000 (15%)]\tLoss: 1.215663\n",
      "Train Epoch: 2 [9600/60000 (16%)]\tLoss: 1.190371\n",
      "Train Epoch: 2 [10240/60000 (17%)]\tLoss: 1.127880\n",
      "Train Epoch: 2 [10880/60000 (18%)]\tLoss: 1.292637\n",
      "Train Epoch: 2 [11520/60000 (19%)]\tLoss: 1.091573\n",
      "Train Epoch: 2 [12160/60000 (20%)]\tLoss: 1.197382\n",
      "Train Epoch: 2 [12800/60000 (21%)]\tLoss: 1.171281\n",
      "Train Epoch: 2 [13440/60000 (22%)]\tLoss: 1.471300\n",
      "Train Epoch: 2 [14080/60000 (23%)]\tLoss: 1.254498\n",
      "Train Epoch: 2 [14720/60000 (25%)]\tLoss: 0.889409\n",
      "Train Epoch: 2 [15360/60000 (26%)]\tLoss: 1.136887\n",
      "Train Epoch: 2 [16000/60000 (27%)]\tLoss: 1.323717\n",
      "Train Epoch: 2 [16640/60000 (28%)]\tLoss: 1.331977\n",
      "Train Epoch: 2 [17280/60000 (29%)]\tLoss: 1.336866\n",
      "Train Epoch: 2 [17920/60000 (30%)]\tLoss: 1.232859\n",
      "Train Epoch: 2 [18560/60000 (31%)]\tLoss: 0.940517\n",
      "Train Epoch: 2 [19200/60000 (32%)]\tLoss: 1.237266\n",
      "Train Epoch: 2 [19840/60000 (33%)]\tLoss: 1.159168\n",
      "Train Epoch: 2 [20480/60000 (34%)]\tLoss: 0.981302\n",
      "Train Epoch: 2 [21120/60000 (35%)]\tLoss: 1.008500\n",
      "Train Epoch: 2 [21760/60000 (36%)]\tLoss: 1.256673\n",
      "Train Epoch: 2 [22400/60000 (37%)]\tLoss: 1.212023\n",
      "Train Epoch: 2 [23040/60000 (38%)]\tLoss: 1.346721\n",
      "Train Epoch: 2 [23680/60000 (39%)]\tLoss: 1.254486\n",
      "Train Epoch: 2 [24320/60000 (41%)]\tLoss: 1.252434\n",
      "Train Epoch: 2 [24960/60000 (42%)]\tLoss: 1.388906\n",
      "Train Epoch: 2 [25600/60000 (43%)]\tLoss: 1.031022\n",
      "Train Epoch: 2 [26240/60000 (44%)]\tLoss: 1.467800\n",
      "Train Epoch: 2 [26880/60000 (45%)]\tLoss: 1.265665\n",
      "Train Epoch: 2 [27520/60000 (46%)]\tLoss: 1.346126\n",
      "Train Epoch: 2 [28160/60000 (47%)]\tLoss: 1.091044\n",
      "Train Epoch: 2 [28800/60000 (48%)]\tLoss: 1.382982\n",
      "Train Epoch: 2 [29440/60000 (49%)]\tLoss: 1.313724\n",
      "Train Epoch: 2 [30080/60000 (50%)]\tLoss: 1.089996\n",
      "Train Epoch: 2 [30720/60000 (51%)]\tLoss: 1.309348\n",
      "Train Epoch: 2 [31360/60000 (52%)]\tLoss: 1.222232\n",
      "Train Epoch: 2 [32000/60000 (53%)]\tLoss: 1.197813\n",
      "Train Epoch: 2 [32640/60000 (54%)]\tLoss: 1.095821\n",
      "Train Epoch: 2 [33280/60000 (55%)]\tLoss: 1.404419\n",
      "Train Epoch: 2 [33920/60000 (57%)]\tLoss: 1.059537\n",
      "Train Epoch: 2 [34560/60000 (58%)]\tLoss: 1.287734\n",
      "Train Epoch: 2 [35200/60000 (59%)]\tLoss: 1.178502\n",
      "Train Epoch: 2 [35840/60000 (60%)]\tLoss: 1.076967\n",
      "Train Epoch: 2 [36480/60000 (61%)]\tLoss: 1.141195\n",
      "Train Epoch: 2 [37120/60000 (62%)]\tLoss: 1.348678\n",
      "Train Epoch: 2 [37760/60000 (63%)]\tLoss: 1.220170\n",
      "Train Epoch: 2 [38400/60000 (64%)]\tLoss: 0.968814\n",
      "Train Epoch: 2 [39040/60000 (65%)]\tLoss: 1.329038\n",
      "Train Epoch: 2 [39680/60000 (66%)]\tLoss: 1.296420\n",
      "Train Epoch: 2 [40320/60000 (67%)]\tLoss: 1.148862\n",
      "Train Epoch: 2 [40960/60000 (68%)]\tLoss: 1.294696\n",
      "Train Epoch: 2 [41600/60000 (69%)]\tLoss: 1.045960\n",
      "Train Epoch: 2 [42240/60000 (70%)]\tLoss: 1.029193\n",
      "Train Epoch: 2 [42880/60000 (71%)]\tLoss: 1.135699\n",
      "Train Epoch: 2 [43520/60000 (72%)]\tLoss: 1.315283\n"
     ]
    },
    {
     "name": "stdout",
     "output_type": "stream",
     "text": [
      "Train Epoch: 2 [44160/60000 (74%)]\tLoss: 1.200808\n",
      "Train Epoch: 2 [44800/60000 (75%)]\tLoss: 1.173962\n",
      "Train Epoch: 2 [45440/60000 (76%)]\tLoss: 1.373405\n",
      "Train Epoch: 2 [46080/60000 (77%)]\tLoss: 1.308079\n",
      "Train Epoch: 2 [46720/60000 (78%)]\tLoss: 0.957776\n",
      "Train Epoch: 2 [47360/60000 (79%)]\tLoss: 1.446518\n",
      "Train Epoch: 2 [48000/60000 (80%)]\tLoss: 1.032707\n",
      "Train Epoch: 2 [48640/60000 (81%)]\tLoss: 1.310031\n",
      "Train Epoch: 2 [49280/60000 (82%)]\tLoss: 1.053676\n",
      "Train Epoch: 2 [49920/60000 (83%)]\tLoss: 1.408687\n",
      "Train Epoch: 2 [50560/60000 (84%)]\tLoss: 1.215197\n",
      "Train Epoch: 2 [51200/60000 (85%)]\tLoss: 1.195811\n",
      "Train Epoch: 2 [51840/60000 (86%)]\tLoss: 1.307431\n",
      "Train Epoch: 2 [52480/60000 (87%)]\tLoss: 1.277050\n",
      "Train Epoch: 2 [53120/60000 (88%)]\tLoss: 1.324410\n",
      "Train Epoch: 2 [53760/60000 (90%)]\tLoss: 0.909366\n",
      "Train Epoch: 2 [54400/60000 (91%)]\tLoss: 0.849921\n",
      "Train Epoch: 2 [55040/60000 (92%)]\tLoss: 1.145181\n",
      "Train Epoch: 2 [55680/60000 (93%)]\tLoss: 0.994002\n",
      "Train Epoch: 2 [56320/60000 (94%)]\tLoss: 1.416077\n",
      "Train Epoch: 2 [56960/60000 (95%)]\tLoss: 1.175032\n",
      "Train Epoch: 2 [57600/60000 (96%)]\tLoss: 0.919626\n",
      "Train Epoch: 2 [58240/60000 (97%)]\tLoss: 0.904860\n",
      "Train Epoch: 2 [58880/60000 (98%)]\tLoss: 1.025953\n",
      "Train Epoch: 2 [59520/60000 (99%)]\tLoss: 1.296982\n",
      "\n",
      "Test set: Avg. loss: 0.7669, Accuracy: 7825/10000 (78%)\n",
      "\n",
      "Train Epoch: 3 [0/60000 (0%)]\tLoss: 1.398018\n",
      "Train Epoch: 3 [640/60000 (1%)]\tLoss: 1.124186\n",
      "Train Epoch: 3 [1280/60000 (2%)]\tLoss: 1.343612\n",
      "Train Epoch: 3 [1920/60000 (3%)]\tLoss: 1.109985\n",
      "Train Epoch: 3 [2560/60000 (4%)]\tLoss: 1.156497\n",
      "Train Epoch: 3 [3200/60000 (5%)]\tLoss: 1.157134\n",
      "Train Epoch: 3 [3840/60000 (6%)]\tLoss: 1.025705\n",
      "Train Epoch: 3 [4480/60000 (7%)]\tLoss: 1.077239\n",
      "Train Epoch: 3 [5120/60000 (9%)]\tLoss: 1.029765\n",
      "Train Epoch: 3 [5760/60000 (10%)]\tLoss: 1.404559\n",
      "Train Epoch: 3 [6400/60000 (11%)]\tLoss: 1.032796\n",
      "Train Epoch: 3 [7040/60000 (12%)]\tLoss: 1.250831\n",
      "Train Epoch: 3 [7680/60000 (13%)]\tLoss: 1.064429\n",
      "Train Epoch: 3 [8320/60000 (14%)]\tLoss: 1.071134\n",
      "Train Epoch: 3 [8960/60000 (15%)]\tLoss: 0.879361\n",
      "Train Epoch: 3 [9600/60000 (16%)]\tLoss: 1.019820\n",
      "Train Epoch: 3 [10240/60000 (17%)]\tLoss: 1.069389\n",
      "Train Epoch: 3 [10880/60000 (18%)]\tLoss: 1.086940\n",
      "Train Epoch: 3 [11520/60000 (19%)]\tLoss: 0.808988\n",
      "Train Epoch: 3 [12160/60000 (20%)]\tLoss: 1.176972\n",
      "Train Epoch: 3 [12800/60000 (21%)]\tLoss: 1.255299\n",
      "Train Epoch: 3 [13440/60000 (22%)]\tLoss: 1.057309\n",
      "Train Epoch: 3 [14080/60000 (23%)]\tLoss: 1.470123\n",
      "Train Epoch: 3 [14720/60000 (25%)]\tLoss: 1.078806\n",
      "Train Epoch: 3 [15360/60000 (26%)]\tLoss: 1.047948\n",
      "Train Epoch: 3 [16000/60000 (27%)]\tLoss: 1.050293\n",
      "Train Epoch: 3 [16640/60000 (28%)]\tLoss: 1.170412\n",
      "Train Epoch: 3 [17280/60000 (29%)]\tLoss: 0.929970\n",
      "Train Epoch: 3 [17920/60000 (30%)]\tLoss: 1.132328\n",
      "Train Epoch: 3 [18560/60000 (31%)]\tLoss: 1.063792\n",
      "Train Epoch: 3 [19200/60000 (32%)]\tLoss: 1.079101\n",
      "Train Epoch: 3 [19840/60000 (33%)]\tLoss: 1.256320\n",
      "Train Epoch: 3 [20480/60000 (34%)]\tLoss: 1.336125\n",
      "Train Epoch: 3 [21120/60000 (35%)]\tLoss: 1.180472\n",
      "Train Epoch: 3 [21760/60000 (36%)]\tLoss: 1.272723\n",
      "Train Epoch: 3 [22400/60000 (37%)]\tLoss: 0.951451\n",
      "Train Epoch: 3 [23040/60000 (38%)]\tLoss: 1.010215\n",
      "Train Epoch: 3 [23680/60000 (39%)]\tLoss: 0.993739\n",
      "Train Epoch: 3 [24320/60000 (41%)]\tLoss: 1.385704\n",
      "Train Epoch: 3 [24960/60000 (42%)]\tLoss: 1.047405\n",
      "Train Epoch: 3 [25600/60000 (43%)]\tLoss: 1.196100\n",
      "Train Epoch: 3 [26240/60000 (44%)]\tLoss: 1.107730\n",
      "Train Epoch: 3 [26880/60000 (45%)]\tLoss: 0.934108\n",
      "Train Epoch: 3 [27520/60000 (46%)]\tLoss: 1.172240\n",
      "Train Epoch: 3 [28160/60000 (47%)]\tLoss: 1.255905\n",
      "Train Epoch: 3 [28800/60000 (48%)]\tLoss: 1.125962\n",
      "Train Epoch: 3 [29440/60000 (49%)]\tLoss: 1.111156\n",
      "Train Epoch: 3 [30080/60000 (50%)]\tLoss: 1.103465\n",
      "Train Epoch: 3 [30720/60000 (51%)]\tLoss: 1.401540\n",
      "Train Epoch: 3 [31360/60000 (52%)]\tLoss: 1.010270\n",
      "Train Epoch: 3 [32000/60000 (53%)]\tLoss: 1.066131\n",
      "Train Epoch: 3 [32640/60000 (54%)]\tLoss: 0.954256\n",
      "Train Epoch: 3 [33280/60000 (55%)]\tLoss: 1.132158\n",
      "Train Epoch: 3 [33920/60000 (57%)]\tLoss: 1.017429\n",
      "Train Epoch: 3 [34560/60000 (58%)]\tLoss: 1.331747\n",
      "Train Epoch: 3 [35200/60000 (59%)]\tLoss: 1.218038\n",
      "Train Epoch: 3 [35840/60000 (60%)]\tLoss: 0.859909\n",
      "Train Epoch: 3 [36480/60000 (61%)]\tLoss: 0.945506\n",
      "Train Epoch: 3 [37120/60000 (62%)]\tLoss: 1.150494\n",
      "Train Epoch: 3 [37760/60000 (63%)]\tLoss: 1.134513\n",
      "Train Epoch: 3 [38400/60000 (64%)]\tLoss: 0.976894\n",
      "Train Epoch: 3 [39040/60000 (65%)]\tLoss: 1.193123\n",
      "Train Epoch: 3 [39680/60000 (66%)]\tLoss: 0.980353\n",
      "Train Epoch: 3 [40320/60000 (67%)]\tLoss: 1.236455\n",
      "Train Epoch: 3 [40960/60000 (68%)]\tLoss: 1.089205\n",
      "Train Epoch: 3 [41600/60000 (69%)]\tLoss: 1.062869\n",
      "Train Epoch: 3 [42240/60000 (70%)]\tLoss: 0.998180\n",
      "Train Epoch: 3 [42880/60000 (71%)]\tLoss: 1.073431\n",
      "Train Epoch: 3 [43520/60000 (72%)]\tLoss: 1.001322\n",
      "Train Epoch: 3 [44160/60000 (74%)]\tLoss: 1.062515\n",
      "Train Epoch: 3 [44800/60000 (75%)]\tLoss: 1.273418\n",
      "Train Epoch: 3 [45440/60000 (76%)]\tLoss: 1.422215\n",
      "Train Epoch: 3 [46080/60000 (77%)]\tLoss: 1.220961\n",
      "Train Epoch: 3 [46720/60000 (78%)]\tLoss: 1.127420\n",
      "Train Epoch: 3 [47360/60000 (79%)]\tLoss: 1.152547\n",
      "Train Epoch: 3 [48000/60000 (80%)]\tLoss: 1.228891\n",
      "Train Epoch: 3 [48640/60000 (81%)]\tLoss: 1.135155\n",
      "Train Epoch: 3 [49280/60000 (82%)]\tLoss: 1.271995\n",
      "Train Epoch: 3 [49920/60000 (83%)]\tLoss: 1.406257\n",
      "Train Epoch: 3 [50560/60000 (84%)]\tLoss: 1.194451\n",
      "Train Epoch: 3 [51200/60000 (85%)]\tLoss: 1.068032\n",
      "Train Epoch: 3 [51840/60000 (86%)]\tLoss: 1.224664\n",
      "Train Epoch: 3 [52480/60000 (87%)]\tLoss: 0.960865\n",
      "Train Epoch: 3 [53120/60000 (88%)]\tLoss: 1.050090\n",
      "Train Epoch: 3 [53760/60000 (90%)]\tLoss: 0.941712\n",
      "Train Epoch: 3 [54400/60000 (91%)]\tLoss: 0.957232\n",
      "Train Epoch: 3 [55040/60000 (92%)]\tLoss: 1.020841\n",
      "Train Epoch: 3 [55680/60000 (93%)]\tLoss: 0.715241\n",
      "Train Epoch: 3 [56320/60000 (94%)]\tLoss: 0.945306\n",
      "Train Epoch: 3 [56960/60000 (95%)]\tLoss: 1.019626\n",
      "Train Epoch: 3 [57600/60000 (96%)]\tLoss: 0.907427\n",
      "Train Epoch: 3 [58240/60000 (97%)]\tLoss: 1.309495\n",
      "Train Epoch: 3 [58880/60000 (98%)]\tLoss: 1.104584\n",
      "Train Epoch: 3 [59520/60000 (99%)]\tLoss: 1.126674\n",
      "\n",
      "Test set: Avg. loss: 0.6946, Accuracy: 7953/10000 (80%)\n",
      "\n",
      "Time elapsed: 77.6967 seconds\n"
     ]
    }
   ],
   "source": [
    "#test\n",
    "#n_epochs = 1\n",
    "#Check accuaracy before training\n",
    "test()\n",
    "tic = time.perf_counter()\n",
    "\n",
    "for epoch in range(1, n_epochs + 1):\n",
    "  train(epoch)\n",
    "  test()\n",
    "    \n",
    "toc = time.perf_counter()\n",
    "\n",
    "print(f\"Time elapsed: {toc - tic:0.4f} seconds\")"
   ]
  },
  {
   "cell_type": "code",
   "execution_count": 48,
   "id": "independent-authority",
   "metadata": {},
   "outputs": [
    {
     "ename": "ValueError",
     "evalue": "x and y must be the same size",
     "output_type": "error",
     "traceback": [
      "\u001b[1;31m---------------------------------------------------------------------------\u001b[0m",
      "\u001b[1;31mValueError\u001b[0m                                Traceback (most recent call last)",
      "\u001b[1;32m<ipython-input-48-62b230fcf3a3>\u001b[0m in \u001b[0;36m<module>\u001b[1;34m\u001b[0m\n\u001b[0;32m      1\u001b[0m \u001b[0mfig\u001b[0m \u001b[1;33m=\u001b[0m \u001b[0mplt\u001b[0m\u001b[1;33m.\u001b[0m\u001b[0mfigure\u001b[0m\u001b[1;33m(\u001b[0m\u001b[1;33m)\u001b[0m\u001b[1;33m\u001b[0m\u001b[1;33m\u001b[0m\u001b[0m\n\u001b[0;32m      2\u001b[0m \u001b[0mplt\u001b[0m\u001b[1;33m.\u001b[0m\u001b[0mplot\u001b[0m\u001b[1;33m(\u001b[0m\u001b[0mtrain_counter\u001b[0m\u001b[1;33m,\u001b[0m \u001b[0mtrain_losses\u001b[0m\u001b[1;33m,\u001b[0m \u001b[0mcolor\u001b[0m\u001b[1;33m=\u001b[0m\u001b[1;34m'blue'\u001b[0m\u001b[1;33m)\u001b[0m\u001b[1;33m\u001b[0m\u001b[1;33m\u001b[0m\u001b[0m\n\u001b[1;32m----> 3\u001b[1;33m \u001b[0mplt\u001b[0m\u001b[1;33m.\u001b[0m\u001b[0mscatter\u001b[0m\u001b[1;33m(\u001b[0m\u001b[0mtest_counter\u001b[0m\u001b[1;33m,\u001b[0m \u001b[0mtest_losses\u001b[0m\u001b[1;33m,\u001b[0m \u001b[0mcolor\u001b[0m\u001b[1;33m=\u001b[0m\u001b[1;34m'red'\u001b[0m\u001b[1;33m)\u001b[0m\u001b[1;33m\u001b[0m\u001b[1;33m\u001b[0m\u001b[0m\n\u001b[0m\u001b[0;32m      4\u001b[0m \u001b[0mplt\u001b[0m\u001b[1;33m.\u001b[0m\u001b[0mlegend\u001b[0m\u001b[1;33m(\u001b[0m\u001b[1;33m[\u001b[0m\u001b[1;34m'Train Loss'\u001b[0m\u001b[1;33m,\u001b[0m \u001b[1;34m'Test Loss'\u001b[0m\u001b[1;33m]\u001b[0m\u001b[1;33m,\u001b[0m \u001b[0mloc\u001b[0m\u001b[1;33m=\u001b[0m\u001b[1;34m'upper right'\u001b[0m\u001b[1;33m)\u001b[0m\u001b[1;33m\u001b[0m\u001b[1;33m\u001b[0m\u001b[0m\n\u001b[0;32m      5\u001b[0m \u001b[0mplt\u001b[0m\u001b[1;33m.\u001b[0m\u001b[0mxlabel\u001b[0m\u001b[1;33m(\u001b[0m\u001b[1;34m'number of training examples seen'\u001b[0m\u001b[1;33m)\u001b[0m\u001b[1;33m\u001b[0m\u001b[1;33m\u001b[0m\u001b[0m\n",
      "\u001b[1;32m~\\miniconda3\\envs\\pytorch_examples\\lib\\site-packages\\matplotlib\\pyplot.py\u001b[0m in \u001b[0;36mscatter\u001b[1;34m(x, y, s, c, marker, cmap, norm, vmin, vmax, alpha, linewidths, verts, edgecolors, plotnonfinite, data, **kwargs)\u001b[0m\n\u001b[0;32m   2893\u001b[0m         \u001b[0mverts\u001b[0m\u001b[1;33m=\u001b[0m\u001b[0mverts\u001b[0m\u001b[1;33m,\u001b[0m \u001b[0medgecolors\u001b[0m\u001b[1;33m=\u001b[0m\u001b[0medgecolors\u001b[0m\u001b[1;33m,\u001b[0m\u001b[1;33m\u001b[0m\u001b[1;33m\u001b[0m\u001b[0m\n\u001b[0;32m   2894\u001b[0m         \u001b[0mplotnonfinite\u001b[0m\u001b[1;33m=\u001b[0m\u001b[0mplotnonfinite\u001b[0m\u001b[1;33m,\u001b[0m\u001b[1;33m\u001b[0m\u001b[1;33m\u001b[0m\u001b[0m\n\u001b[1;32m-> 2895\u001b[1;33m         **({\"data\": data} if data is not None else {}), **kwargs)\n\u001b[0m\u001b[0;32m   2896\u001b[0m     \u001b[0msci\u001b[0m\u001b[1;33m(\u001b[0m\u001b[0m__ret\u001b[0m\u001b[1;33m)\u001b[0m\u001b[1;33m\u001b[0m\u001b[1;33m\u001b[0m\u001b[0m\n\u001b[0;32m   2897\u001b[0m     \u001b[1;32mreturn\u001b[0m \u001b[0m__ret\u001b[0m\u001b[1;33m\u001b[0m\u001b[1;33m\u001b[0m\u001b[0m\n",
      "\u001b[1;32m~\\miniconda3\\envs\\pytorch_examples\\lib\\site-packages\\matplotlib\\__init__.py\u001b[0m in \u001b[0;36minner\u001b[1;34m(ax, data, *args, **kwargs)\u001b[0m\n\u001b[0;32m   1445\u001b[0m     \u001b[1;32mdef\u001b[0m \u001b[0minner\u001b[0m\u001b[1;33m(\u001b[0m\u001b[0max\u001b[0m\u001b[1;33m,\u001b[0m \u001b[1;33m*\u001b[0m\u001b[0margs\u001b[0m\u001b[1;33m,\u001b[0m \u001b[0mdata\u001b[0m\u001b[1;33m=\u001b[0m\u001b[1;32mNone\u001b[0m\u001b[1;33m,\u001b[0m \u001b[1;33m**\u001b[0m\u001b[0mkwargs\u001b[0m\u001b[1;33m)\u001b[0m\u001b[1;33m:\u001b[0m\u001b[1;33m\u001b[0m\u001b[1;33m\u001b[0m\u001b[0m\n\u001b[0;32m   1446\u001b[0m         \u001b[1;32mif\u001b[0m \u001b[0mdata\u001b[0m \u001b[1;32mis\u001b[0m \u001b[1;32mNone\u001b[0m\u001b[1;33m:\u001b[0m\u001b[1;33m\u001b[0m\u001b[1;33m\u001b[0m\u001b[0m\n\u001b[1;32m-> 1447\u001b[1;33m             \u001b[1;32mreturn\u001b[0m \u001b[0mfunc\u001b[0m\u001b[1;33m(\u001b[0m\u001b[0max\u001b[0m\u001b[1;33m,\u001b[0m \u001b[1;33m*\u001b[0m\u001b[0mmap\u001b[0m\u001b[1;33m(\u001b[0m\u001b[0msanitize_sequence\u001b[0m\u001b[1;33m,\u001b[0m \u001b[0margs\u001b[0m\u001b[1;33m)\u001b[0m\u001b[1;33m,\u001b[0m \u001b[1;33m**\u001b[0m\u001b[0mkwargs\u001b[0m\u001b[1;33m)\u001b[0m\u001b[1;33m\u001b[0m\u001b[1;33m\u001b[0m\u001b[0m\n\u001b[0m\u001b[0;32m   1448\u001b[0m \u001b[1;33m\u001b[0m\u001b[0m\n\u001b[0;32m   1449\u001b[0m         \u001b[0mbound\u001b[0m \u001b[1;33m=\u001b[0m \u001b[0mnew_sig\u001b[0m\u001b[1;33m.\u001b[0m\u001b[0mbind\u001b[0m\u001b[1;33m(\u001b[0m\u001b[0max\u001b[0m\u001b[1;33m,\u001b[0m \u001b[1;33m*\u001b[0m\u001b[0margs\u001b[0m\u001b[1;33m,\u001b[0m \u001b[1;33m**\u001b[0m\u001b[0mkwargs\u001b[0m\u001b[1;33m)\u001b[0m\u001b[1;33m\u001b[0m\u001b[1;33m\u001b[0m\u001b[0m\n",
      "\u001b[1;32m~\\miniconda3\\envs\\pytorch_examples\\lib\\site-packages\\matplotlib\\cbook\\deprecation.py\u001b[0m in \u001b[0;36mwrapper\u001b[1;34m(*inner_args, **inner_kwargs)\u001b[0m\n\u001b[0;32m    409\u001b[0m                          \u001b[1;32melse\u001b[0m \u001b[0mdeprecation_addendum\u001b[0m\u001b[1;33m,\u001b[0m\u001b[1;33m\u001b[0m\u001b[1;33m\u001b[0m\u001b[0m\n\u001b[0;32m    410\u001b[0m                 **kwargs)\n\u001b[1;32m--> 411\u001b[1;33m         \u001b[1;32mreturn\u001b[0m \u001b[0mfunc\u001b[0m\u001b[1;33m(\u001b[0m\u001b[1;33m*\u001b[0m\u001b[0minner_args\u001b[0m\u001b[1;33m,\u001b[0m \u001b[1;33m**\u001b[0m\u001b[0minner_kwargs\u001b[0m\u001b[1;33m)\u001b[0m\u001b[1;33m\u001b[0m\u001b[1;33m\u001b[0m\u001b[0m\n\u001b[0m\u001b[0;32m    412\u001b[0m \u001b[1;33m\u001b[0m\u001b[0m\n\u001b[0;32m    413\u001b[0m     \u001b[1;32mreturn\u001b[0m \u001b[0mwrapper\u001b[0m\u001b[1;33m\u001b[0m\u001b[1;33m\u001b[0m\u001b[0m\n",
      "\u001b[1;32m~\\miniconda3\\envs\\pytorch_examples\\lib\\site-packages\\matplotlib\\axes\\_axes.py\u001b[0m in \u001b[0;36mscatter\u001b[1;34m(self, x, y, s, c, marker, cmap, norm, vmin, vmax, alpha, linewidths, verts, edgecolors, plotnonfinite, **kwargs)\u001b[0m\n\u001b[0;32m   4439\u001b[0m         \u001b[0my\u001b[0m \u001b[1;33m=\u001b[0m \u001b[0mnp\u001b[0m\u001b[1;33m.\u001b[0m\u001b[0mma\u001b[0m\u001b[1;33m.\u001b[0m\u001b[0mravel\u001b[0m\u001b[1;33m(\u001b[0m\u001b[0my\u001b[0m\u001b[1;33m)\u001b[0m\u001b[1;33m\u001b[0m\u001b[1;33m\u001b[0m\u001b[0m\n\u001b[0;32m   4440\u001b[0m         \u001b[1;32mif\u001b[0m \u001b[0mx\u001b[0m\u001b[1;33m.\u001b[0m\u001b[0msize\u001b[0m \u001b[1;33m!=\u001b[0m \u001b[0my\u001b[0m\u001b[1;33m.\u001b[0m\u001b[0msize\u001b[0m\u001b[1;33m:\u001b[0m\u001b[1;33m\u001b[0m\u001b[1;33m\u001b[0m\u001b[0m\n\u001b[1;32m-> 4441\u001b[1;33m             \u001b[1;32mraise\u001b[0m \u001b[0mValueError\u001b[0m\u001b[1;33m(\u001b[0m\u001b[1;34m\"x and y must be the same size\"\u001b[0m\u001b[1;33m)\u001b[0m\u001b[1;33m\u001b[0m\u001b[1;33m\u001b[0m\u001b[0m\n\u001b[0m\u001b[0;32m   4442\u001b[0m \u001b[1;33m\u001b[0m\u001b[0m\n\u001b[0;32m   4443\u001b[0m         \u001b[1;32mif\u001b[0m \u001b[0ms\u001b[0m \u001b[1;32mis\u001b[0m \u001b[1;32mNone\u001b[0m\u001b[1;33m:\u001b[0m\u001b[1;33m\u001b[0m\u001b[1;33m\u001b[0m\u001b[0m\n",
      "\u001b[1;31mValueError\u001b[0m: x and y must be the same size"
     ]
    },
    {
     "data": {
      "image/png": "[encoded data removed]",
      "text/plain": [
       "<Figure size 432x288 with 1 Axes>"
      ]
     },
     "metadata": {
      "image/png": {
       "height": 260,
       "width": 374
      },
      "needs_background": "light"
     },
     "output_type": "display_data"
    }
   ],
   "source": [
    "fig = plt.figure()\n",
    "plt.plot(train_counter, train_losses, color='blue')\n",
    "plt.scatter(test_counter, test_losses, color='red')\n",
    "plt.legend(['Train Loss', 'Test Loss'], loc='upper right')\n",
    "plt.xlabel('number of training examples seen')\n",
    "plt.ylabel('negative log likelihood loss')\n",
    "#fig"
   ]
  },
  {
   "cell_type": "code",
   "execution_count": 65,
   "id": "about-worst",
   "metadata": {},
   "outputs": [
    {
     "name": "stderr",
     "output_type": "stream",
     "text": [
      "C:\\Users\\Erick\\miniconda3\\envs\\pytorch_examples\\lib\\site-packages\\ipykernel_launcher.py:17: UserWarning: Implicit dimension choice for log_softmax has been deprecated. Change the call to include dim=X as an argument.\n"
     ]
    }
   ],
   "source": [
    "with torch.no_grad():\n",
    "  output = network(example_data)"
   ]
  },
  {
   "cell_type": "code",
   "execution_count": 66,
   "id": "quantitative-african",
   "metadata": {},
   "outputs": [
    {
     "data": {
      "image/png": "[encoded data removed]",
      "text/plain": [
       "<Figure size 432x288 with 6 Axes>"
      ]
     },
     "execution_count": 66,
     "metadata": {
      "image/png": {
       "height": 266,
       "width": 405
      }
     },
     "output_type": "execute_result"
    },
    {
     "data": {
      "image/png": "[encoded data removed]",
      "text/plain": [
       "<Figure size 432x288 with 6 Axes>"
      ]
     },
     "metadata": {
      "image/png": {
       "height": 266,
       "width": 405
      }
     },
     "output_type": "display_data"
    }
   ],
   "source": [
    "fig = plt.figure()\n",
    "for i in range(6):\n",
    "  plt.subplot(2,3,i+1)\n",
    "  plt.tight_layout()\n",
    "  plt.imshow(example_data[i][0], cmap='gray', interpolation='none')\n",
    "  plt.title(\"Prediction: {}\".format(\n",
    "    output.data.max(1, keepdim=True)[1][i].item()))\n",
    "  plt.xticks([])\n",
    "  plt.yticks([])\n",
    "fig"
   ]
  },
  {
   "cell_type": "markdown",
   "id": "cutting-startup",
   "metadata": {},
   "source": [
    "### Train with GPU (this is not working yet)\n",
    "\n",
    "Enable cuda and train model to check time differences"
   ]
  },
  {
   "cell_type": "code",
   "execution_count": 29,
   "id": "unauthorized-wales",
   "metadata": {},
   "outputs": [
    {
     "data": {
      "text/plain": [
       "Net(\n",
       "  (conv1): Conv2d(1, 10, kernel_size=(5, 5), stride=(1, 1))\n",
       "  (conv2): Conv2d(10, 20, kernel_size=(5, 5), stride=(1, 1))\n",
       "  (conv2_drop): Dropout2d(p=0.5, inplace=False)\n",
       "  (fc1): Linear(in_features=320, out_features=50, bias=True)\n",
       "  (fc2): Linear(in_features=50, out_features=10, bias=True)\n",
       ")"
      ]
     },
     "execution_count": 29,
     "metadata": {},
     "output_type": "execute_result"
    }
   ],
   "source": [
    "#check if gpu is available\n",
    "device = torch.device('cuda' if torch.cuda.is_available() else 'cpu')\n",
    "\n",
    "network_gpu = Net()\n",
    "network_gpu.to(device)"
   ]
  },
  {
   "cell_type": "code",
   "execution_count": 31,
   "id": "subjective-bidding",
   "metadata": {},
   "outputs": [],
   "source": [
    "\n",
    "def train_gpu(epoch):\n",
    "  #\n",
    "  network_gpu.train()\n",
    "  for batch_idx, (data, target) in enumerate(train_loader):\n",
    "    #send training data to GPU\n",
    "    data = data.to(device)\n",
    "    target = target.to(device)\n",
    "    \n",
    "    #set gradients to 0\n",
    "    optimizer.zero_grad()\n",
    "    #runs model with data and returns result in output\n",
    "    output = network_gpu(data)\n",
    "    \n",
    "    #here is where the magic happens\n",
    "    loss = F.nll_loss(output, target)\n",
    "    loss.backward()\n",
    "    optimizer.step()\n",
    "    \n",
    "    #Display iteration statistics\n",
    "    if batch_idx % log_interval == 0:\n",
    "      print('Train Epoch: {} [{}/{} ({:.0f}%)]\\tLoss: {:.6f}'.format(\n",
    "        epoch, batch_idx * len(data), len(train_loader.dataset),\n",
    "        100. * batch_idx / len(train_loader), loss.item()))\n",
    "      train_losses.append(loss.item())\n",
    "      train_counter.append(\n",
    "        (batch_idx*64) + ((epoch-1)*len(train_loader.dataset)))\n",
    "      torch.save(network_gpu.state_dict(), 'results/model.pth')\n",
    "      torch.save(optimizer.state_dict(), 'results/optimizer.pth')"
   ]
  },
  {
   "cell_type": "code",
   "execution_count": 34,
   "id": "stable-lawyer",
   "metadata": {},
   "outputs": [],
   "source": [
    "def test_gpu():\n",
    "  #Sets the module in evaluation mode\n",
    "  network_gpu.eval()\n",
    "  test_loss = 0\n",
    "  correct = 0\n",
    "  with torch.no_grad():\n",
    "    for data, target in test_loader:\n",
    "      data = data.to(device)\n",
    "      target = target.to(device)  \n",
    "      output = network_gpu(data)\n",
    "      test_loss += F.nll_loss(output, target, size_average=False).item()\n",
    "      pred = output.data.max(1, keepdim=True)[1]\n",
    "      correct += pred.eq(target.data.view_as(pred)).sum()\n",
    "  test_loss /= len(test_loader.dataset)\n",
    "  test_losses.append(test_loss)\n",
    "  print('\\nTest set: Avg. loss: {:.4f}, Accuracy: {}/{} ({:.0f}%)\\n'.format(\n",
    "    test_loss, correct, len(test_loader.dataset),\n",
    "    100. * correct / len(test_loader.dataset)))"
   ]
  },
  {
   "cell_type": "markdown",
   "id": "empirical-driver",
   "metadata": {},
   "source": [
    "### Train model with gpu (this is not working yet)"
   ]
  },
  {
   "cell_type": "code",
   "execution_count": 35,
   "id": "golden-ending",
   "metadata": {},
   "outputs": [
    {
     "name": "stderr",
     "output_type": "stream",
     "text": [
      "C:\\Users\\Erick\\miniconda3\\envs\\pytorch_examples\\lib\\site-packages\\ipykernel_launcher.py:17: UserWarning: Implicit dimension choice for log_softmax has been deprecated. Change the call to include dim=X as an argument.\n"
     ]
    },
    {
     "name": "stdout",
     "output_type": "stream",
     "text": [
      "\n",
      "Test set: Avg. loss: 0.0949, Accuracy: 9690/10000 (97%)\n",
      "\n"
     ]
    },
    {
     "ename": "RuntimeError",
     "evalue": "cuda runtime error (209) : no kernel image is available for execution on the device at C:/cb/pytorch_1000000000000/work/aten/src\\THC/generic/THCTensorMath.cu:19",
     "output_type": "error",
     "traceback": [
      "\u001b[1;31m---------------------------------------------------------------------------\u001b[0m",
      "\u001b[1;31mRuntimeError\u001b[0m                              Traceback (most recent call last)",
      "\u001b[1;32m<ipython-input-35-1931a4a4fa6c>\u001b[0m in \u001b[0;36m<module>\u001b[1;34m\u001b[0m\n\u001b[0;32m      4\u001b[0m \u001b[1;33m\u001b[0m\u001b[0m\n\u001b[0;32m      5\u001b[0m \u001b[1;32mfor\u001b[0m \u001b[0mepoch\u001b[0m \u001b[1;32min\u001b[0m \u001b[0mrange\u001b[0m\u001b[1;33m(\u001b[0m\u001b[1;36m1\u001b[0m\u001b[1;33m,\u001b[0m \u001b[0mn_epochs\u001b[0m \u001b[1;33m+\u001b[0m \u001b[1;36m1\u001b[0m\u001b[1;33m)\u001b[0m\u001b[1;33m:\u001b[0m\u001b[1;33m\u001b[0m\u001b[1;33m\u001b[0m\u001b[0m\n\u001b[1;32m----> 6\u001b[1;33m   \u001b[0mtrain_gpu\u001b[0m\u001b[1;33m(\u001b[0m\u001b[0mepoch\u001b[0m\u001b[1;33m)\u001b[0m\u001b[1;33m\u001b[0m\u001b[1;33m\u001b[0m\u001b[0m\n\u001b[0m\u001b[0;32m      7\u001b[0m   \u001b[0mtest_gpu\u001b[0m\u001b[1;33m(\u001b[0m\u001b[1;33m)\u001b[0m\u001b[1;33m\u001b[0m\u001b[1;33m\u001b[0m\u001b[0m\n\u001b[0;32m      8\u001b[0m \u001b[1;33m\u001b[0m\u001b[0m\n",
      "\u001b[1;32m<ipython-input-31-660b5f05f4e6>\u001b[0m in \u001b[0;36mtrain_gpu\u001b[1;34m(epoch)\u001b[0m\n\u001b[0;32m     10\u001b[0m     \u001b[0moptimizer\u001b[0m\u001b[1;33m.\u001b[0m\u001b[0mzero_grad\u001b[0m\u001b[1;33m(\u001b[0m\u001b[1;33m)\u001b[0m\u001b[1;33m\u001b[0m\u001b[1;33m\u001b[0m\u001b[0m\n\u001b[0;32m     11\u001b[0m     \u001b[1;31m#runs model with data and returns result in output\u001b[0m\u001b[1;33m\u001b[0m\u001b[1;33m\u001b[0m\u001b[1;33m\u001b[0m\u001b[0m\n\u001b[1;32m---> 12\u001b[1;33m     \u001b[0moutput\u001b[0m \u001b[1;33m=\u001b[0m \u001b[0mnetwork_gpu\u001b[0m\u001b[1;33m(\u001b[0m\u001b[0mdata\u001b[0m\u001b[1;33m)\u001b[0m\u001b[1;33m\u001b[0m\u001b[1;33m\u001b[0m\u001b[0m\n\u001b[0m\u001b[0;32m     13\u001b[0m \u001b[1;33m\u001b[0m\u001b[0m\n\u001b[0;32m     14\u001b[0m     \u001b[1;31m#here is where the magic happens\u001b[0m\u001b[1;33m\u001b[0m\u001b[1;33m\u001b[0m\u001b[1;33m\u001b[0m\u001b[0m\n",
      "\u001b[1;32m~\\miniconda3\\envs\\pytorch_examples\\lib\\site-packages\\torch\\nn\\modules\\module.py\u001b[0m in \u001b[0;36m_call_impl\u001b[1;34m(self, *input, **kwargs)\u001b[0m\n\u001b[0;32m    725\u001b[0m             \u001b[0mresult\u001b[0m \u001b[1;33m=\u001b[0m \u001b[0mself\u001b[0m\u001b[1;33m.\u001b[0m\u001b[0m_slow_forward\u001b[0m\u001b[1;33m(\u001b[0m\u001b[1;33m*\u001b[0m\u001b[0minput\u001b[0m\u001b[1;33m,\u001b[0m \u001b[1;33m**\u001b[0m\u001b[0mkwargs\u001b[0m\u001b[1;33m)\u001b[0m\u001b[1;33m\u001b[0m\u001b[1;33m\u001b[0m\u001b[0m\n\u001b[0;32m    726\u001b[0m         \u001b[1;32melse\u001b[0m\u001b[1;33m:\u001b[0m\u001b[1;33m\u001b[0m\u001b[1;33m\u001b[0m\u001b[0m\n\u001b[1;32m--> 727\u001b[1;33m             \u001b[0mresult\u001b[0m \u001b[1;33m=\u001b[0m \u001b[0mself\u001b[0m\u001b[1;33m.\u001b[0m\u001b[0mforward\u001b[0m\u001b[1;33m(\u001b[0m\u001b[1;33m*\u001b[0m\u001b[0minput\u001b[0m\u001b[1;33m,\u001b[0m \u001b[1;33m**\u001b[0m\u001b[0mkwargs\u001b[0m\u001b[1;33m)\u001b[0m\u001b[1;33m\u001b[0m\u001b[1;33m\u001b[0m\u001b[0m\n\u001b[0m\u001b[0;32m    728\u001b[0m         for hook in itertools.chain(\n\u001b[0;32m    729\u001b[0m                 \u001b[0m_global_forward_hooks\u001b[0m\u001b[1;33m.\u001b[0m\u001b[0mvalues\u001b[0m\u001b[1;33m(\u001b[0m\u001b[1;33m)\u001b[0m\u001b[1;33m,\u001b[0m\u001b[1;33m\u001b[0m\u001b[1;33m\u001b[0m\u001b[0m\n",
      "\u001b[1;32m<ipython-input-7-6c2218f37724>\u001b[0m in \u001b[0;36mforward\u001b[1;34m(self, x)\u001b[0m\n\u001b[0;32m      9\u001b[0m \u001b[1;33m\u001b[0m\u001b[0m\n\u001b[0;32m     10\u001b[0m     \u001b[1;32mdef\u001b[0m \u001b[0mforward\u001b[0m\u001b[1;33m(\u001b[0m\u001b[0mself\u001b[0m\u001b[1;33m,\u001b[0m \u001b[0mx\u001b[0m\u001b[1;33m)\u001b[0m\u001b[1;33m:\u001b[0m\u001b[1;33m\u001b[0m\u001b[1;33m\u001b[0m\u001b[0m\n\u001b[1;32m---> 11\u001b[1;33m         \u001b[0mx\u001b[0m \u001b[1;33m=\u001b[0m \u001b[0mF\u001b[0m\u001b[1;33m.\u001b[0m\u001b[0mrelu\u001b[0m\u001b[1;33m(\u001b[0m\u001b[0mF\u001b[0m\u001b[1;33m.\u001b[0m\u001b[0mmax_pool2d\u001b[0m\u001b[1;33m(\u001b[0m\u001b[0mself\u001b[0m\u001b[1;33m.\u001b[0m\u001b[0mconv1\u001b[0m\u001b[1;33m(\u001b[0m\u001b[0mx\u001b[0m\u001b[1;33m)\u001b[0m\u001b[1;33m,\u001b[0m \u001b[1;36m2\u001b[0m\u001b[1;33m)\u001b[0m\u001b[1;33m)\u001b[0m\u001b[1;33m\u001b[0m\u001b[1;33m\u001b[0m\u001b[0m\n\u001b[0m\u001b[0;32m     12\u001b[0m         \u001b[0mx\u001b[0m \u001b[1;33m=\u001b[0m \u001b[0mF\u001b[0m\u001b[1;33m.\u001b[0m\u001b[0mrelu\u001b[0m\u001b[1;33m(\u001b[0m\u001b[0mF\u001b[0m\u001b[1;33m.\u001b[0m\u001b[0mmax_pool2d\u001b[0m\u001b[1;33m(\u001b[0m\u001b[0mself\u001b[0m\u001b[1;33m.\u001b[0m\u001b[0mconv2_drop\u001b[0m\u001b[1;33m(\u001b[0m\u001b[0mself\u001b[0m\u001b[1;33m.\u001b[0m\u001b[0mconv2\u001b[0m\u001b[1;33m(\u001b[0m\u001b[0mx\u001b[0m\u001b[1;33m)\u001b[0m\u001b[1;33m)\u001b[0m\u001b[1;33m,\u001b[0m \u001b[1;36m2\u001b[0m\u001b[1;33m)\u001b[0m\u001b[1;33m)\u001b[0m\u001b[1;33m\u001b[0m\u001b[1;33m\u001b[0m\u001b[0m\n\u001b[0;32m     13\u001b[0m         \u001b[0mx\u001b[0m \u001b[1;33m=\u001b[0m \u001b[0mx\u001b[0m\u001b[1;33m.\u001b[0m\u001b[0mview\u001b[0m\u001b[1;33m(\u001b[0m\u001b[1;33m-\u001b[0m\u001b[1;36m1\u001b[0m\u001b[1;33m,\u001b[0m \u001b[1;36m320\u001b[0m\u001b[1;33m)\u001b[0m\u001b[1;33m\u001b[0m\u001b[1;33m\u001b[0m\u001b[0m\n",
      "\u001b[1;32m~\\miniconda3\\envs\\pytorch_examples\\lib\\site-packages\\torch\\nn\\modules\\module.py\u001b[0m in \u001b[0;36m_call_impl\u001b[1;34m(self, *input, **kwargs)\u001b[0m\n\u001b[0;32m    725\u001b[0m             \u001b[0mresult\u001b[0m \u001b[1;33m=\u001b[0m \u001b[0mself\u001b[0m\u001b[1;33m.\u001b[0m\u001b[0m_slow_forward\u001b[0m\u001b[1;33m(\u001b[0m\u001b[1;33m*\u001b[0m\u001b[0minput\u001b[0m\u001b[1;33m,\u001b[0m \u001b[1;33m**\u001b[0m\u001b[0mkwargs\u001b[0m\u001b[1;33m)\u001b[0m\u001b[1;33m\u001b[0m\u001b[1;33m\u001b[0m\u001b[0m\n\u001b[0;32m    726\u001b[0m         \u001b[1;32melse\u001b[0m\u001b[1;33m:\u001b[0m\u001b[1;33m\u001b[0m\u001b[1;33m\u001b[0m\u001b[0m\n\u001b[1;32m--> 727\u001b[1;33m             \u001b[0mresult\u001b[0m \u001b[1;33m=\u001b[0m \u001b[0mself\u001b[0m\u001b[1;33m.\u001b[0m\u001b[0mforward\u001b[0m\u001b[1;33m(\u001b[0m\u001b[1;33m*\u001b[0m\u001b[0minput\u001b[0m\u001b[1;33m,\u001b[0m \u001b[1;33m**\u001b[0m\u001b[0mkwargs\u001b[0m\u001b[1;33m)\u001b[0m\u001b[1;33m\u001b[0m\u001b[1;33m\u001b[0m\u001b[0m\n\u001b[0m\u001b[0;32m    728\u001b[0m         for hook in itertools.chain(\n\u001b[0;32m    729\u001b[0m                 \u001b[0m_global_forward_hooks\u001b[0m\u001b[1;33m.\u001b[0m\u001b[0mvalues\u001b[0m\u001b[1;33m(\u001b[0m\u001b[1;33m)\u001b[0m\u001b[1;33m,\u001b[0m\u001b[1;33m\u001b[0m\u001b[1;33m\u001b[0m\u001b[0m\n",
      "\u001b[1;32m~\\miniconda3\\envs\\pytorch_examples\\lib\\site-packages\\torch\\nn\\modules\\conv.py\u001b[0m in \u001b[0;36mforward\u001b[1;34m(self, input)\u001b[0m\n\u001b[0;32m    421\u001b[0m \u001b[1;33m\u001b[0m\u001b[0m\n\u001b[0;32m    422\u001b[0m     \u001b[1;32mdef\u001b[0m \u001b[0mforward\u001b[0m\u001b[1;33m(\u001b[0m\u001b[0mself\u001b[0m\u001b[1;33m,\u001b[0m \u001b[0minput\u001b[0m\u001b[1;33m:\u001b[0m \u001b[0mTensor\u001b[0m\u001b[1;33m)\u001b[0m \u001b[1;33m->\u001b[0m \u001b[0mTensor\u001b[0m\u001b[1;33m:\u001b[0m\u001b[1;33m\u001b[0m\u001b[1;33m\u001b[0m\u001b[0m\n\u001b[1;32m--> 423\u001b[1;33m         \u001b[1;32mreturn\u001b[0m \u001b[0mself\u001b[0m\u001b[1;33m.\u001b[0m\u001b[0m_conv_forward\u001b[0m\u001b[1;33m(\u001b[0m\u001b[0minput\u001b[0m\u001b[1;33m,\u001b[0m \u001b[0mself\u001b[0m\u001b[1;33m.\u001b[0m\u001b[0mweight\u001b[0m\u001b[1;33m)\u001b[0m\u001b[1;33m\u001b[0m\u001b[1;33m\u001b[0m\u001b[0m\n\u001b[0m\u001b[0;32m    424\u001b[0m \u001b[1;33m\u001b[0m\u001b[0m\n\u001b[0;32m    425\u001b[0m \u001b[1;32mclass\u001b[0m \u001b[0mConv3d\u001b[0m\u001b[1;33m(\u001b[0m\u001b[0m_ConvNd\u001b[0m\u001b[1;33m)\u001b[0m\u001b[1;33m:\u001b[0m\u001b[1;33m\u001b[0m\u001b[1;33m\u001b[0m\u001b[0m\n",
      "\u001b[1;32m~\\miniconda3\\envs\\pytorch_examples\\lib\\site-packages\\torch\\nn\\modules\\conv.py\u001b[0m in \u001b[0;36m_conv_forward\u001b[1;34m(self, input, weight)\u001b[0m\n\u001b[0;32m    418\u001b[0m                             _pair(0), self.dilation, self.groups)\n\u001b[0;32m    419\u001b[0m         return F.conv2d(input, weight, self.bias, self.stride,\n\u001b[1;32m--> 420\u001b[1;33m                         self.padding, self.dilation, self.groups)\n\u001b[0m\u001b[0;32m    421\u001b[0m \u001b[1;33m\u001b[0m\u001b[0m\n\u001b[0;32m    422\u001b[0m     \u001b[1;32mdef\u001b[0m \u001b[0mforward\u001b[0m\u001b[1;33m(\u001b[0m\u001b[0mself\u001b[0m\u001b[1;33m,\u001b[0m \u001b[0minput\u001b[0m\u001b[1;33m:\u001b[0m \u001b[0mTensor\u001b[0m\u001b[1;33m)\u001b[0m \u001b[1;33m->\u001b[0m \u001b[0mTensor\u001b[0m\u001b[1;33m:\u001b[0m\u001b[1;33m\u001b[0m\u001b[1;33m\u001b[0m\u001b[0m\n",
      "\u001b[1;31mRuntimeError\u001b[0m: cuda runtime error (209) : no kernel image is available for execution on the device at C:/cb/pytorch_1000000000000/work/aten/src\\THC/generic/THCTensorMath.cu:19"
     ]
    }
   ],
   "source": [
    "\n",
    "#Check accuaracy before training\n",
    "test()\n",
    "tic = time.perf_counter()\n",
    "\n",
    "for epoch in range(1, n_epochs + 1):\n",
    "  train_gpu(epoch)\n",
    "  test_gpu()\n",
    "    \n",
    "toc = time.perf_counter()\n",
    "\n",
    "print(f\"Time elapsed: {toc - tic:0.4f} seconds\")"
   ]
  },
  {
   "cell_type": "code",
   "execution_count": null,
   "id": "raised-hands",
   "metadata": {},
   "outputs": [],
   "source": []
  },
  {
   "cell_type": "code",
   "execution_count": null,
   "id": "referenced-humanitarian",
   "metadata": {},
   "outputs": [],
   "source": []
  }
 ],
 "metadata": {
  "kernelspec": {
   "display_name": "Python 3",
   "language": "python",
   "name": "python3"
  },
  "language_info": {
   "codemirror_mode": {
    "name": "ipython",
    "version": 3
   },
   "file_extension": ".py",
   "mimetype": "text/x-python",
   "name": "python",
   "nbconvert_exporter": "python",
   "pygments_lexer": "ipython3",
   "version": "3.7.9"
  }
 },
 "nbformat": 4,
 "nbformat_minor": 5
}
