{
 "cells": [
  {
   "cell_type": "code",
   "execution_count": 1,
   "id": "three-metallic",
   "metadata": {},
   "outputs": [],
   "source": [
    "%matplotlib inline\n",
    "%config InlineBackend.figure_format = 'retina'\n",
    "\n",
    "import torch\n",
    "import torchvision\n",
    "import matplotlib.pyplot as plt\n",
    "\n",
    "import torch.nn as nn\n",
    "import torch.nn.functional as F\n",
    "import torch.optim as optim\n",
    "\n",
    "import time"
   ]
  },
  {
   "cell_type": "markdown",
   "id": "incoming-sunday",
   "metadata": {},
   "source": [
    "Based on: https://nextjournal.com/gkoehler/pytorch-mnist"
   ]
  },
  {
   "cell_type": "markdown",
   "id": "regular-material",
   "metadata": {},
   "source": [
    "### Set hyperparameters\n",
    "\n",
    "Setting hyperparameters for training"
   ]
  },
  {
   "cell_type": "code",
   "execution_count": 2,
   "id": "suited-wagon",
   "metadata": {},
   "outputs": [
    {
     "data": {
      "text/plain": [
       "<torch._C.Generator at 0x198f5bf7090>"
      ]
     },
     "execution_count": 2,
     "metadata": {},
     "output_type": "execute_result"
    }
   ],
   "source": [
    "n_epochs = 3\n",
    "batch_size_train = 64\n",
    "batch_size_test = 1000\n",
    "learning_rate = 0.01\n",
    "momentum = 0.5\n",
    "log_interval = 10\n",
    "\n",
    "random_seed = 1\n",
    "torch.backends.cudnn.enabled = False\n",
    "torch.manual_seed(random_seed)"
   ]
  },
  {
   "cell_type": "markdown",
   "id": "earned-shelter",
   "metadata": {},
   "source": [
    "### Configure data loaders"
   ]
  },
  {
   "cell_type": "code",
   "execution_count": 3,
   "id": "stretch-degree",
   "metadata": {},
   "outputs": [
    {
     "data": {
      "text/plain": [
       "torch.utils.data.dataloader.DataLoader"
      ]
     },
     "execution_count": 3,
     "metadata": {},
     "output_type": "execute_result"
    }
   ],
   "source": [
    "data_dir = 'data/'\n",
    "\n",
    "train_loader = torch.utils.data.DataLoader(\n",
    "  torchvision.datasets.MNIST(data_dir, train=True, download=True,\n",
    "                             transform=torchvision.transforms.Compose([\n",
    "                               torchvision.transforms.ToTensor(),\n",
    "                               torchvision.transforms.Normalize(\n",
    "                                 (0.1307,), (0.3081,))\n",
    "                             ])),\n",
    "  batch_size=batch_size_train, shuffle=True)\n",
    "\n",
    "test_loader = torch.utils.data.DataLoader(\n",
    "  torchvision.datasets.MNIST(data_dir, train=False, download=True,\n",
    "                             transform=torchvision.transforms.Compose([\n",
    "                               torchvision.transforms.ToTensor(),\n",
    "                               torchvision.transforms.Normalize(\n",
    "                                 (0.1307,), (0.3081,))\n",
    "                                 ])),\n",
    "  batch_size=batch_size_test, shuffle=True)\n",
    "    \n",
    "type(test_loader)"
   ]
  },
  {
   "cell_type": "markdown",
   "id": "hispanic-daniel",
   "metadata": {},
   "source": [
    "Figuring out what the code is doing. Check what is inside test_loader"
   ]
  },
  {
   "cell_type": "code",
   "execution_count": 4,
   "id": "leading-spirit",
   "metadata": {},
   "outputs": [
    {
     "name": "stdout",
     "output_type": "stream",
     "text": [
      "<class 'torch.utils.data.dataloader._SingleProcessDataLoaderIter'>\n",
      "<class 'list'>\n",
      "lenght: 2\n",
      "<class 'torch.Tensor'>\n",
      "Shape:  torch.Size([1000, 1, 28, 28])\n",
      "<class 'torch.Tensor'>\n",
      "Shape:  torch.Size([1000])\n",
      "Shape:  torch.Size([1000, 1, 28, 28])\n",
      "Shape:  torch.Size([1000])\n"
     ]
    }
   ],
   "source": [
    "#testloader is an iterable object. Lets get the iterator\n",
    "test1 = iter(test_loader)\n",
    "print(type(test1))\n",
    "\n",
    "#use next to get the value which is a list of lenght 2 [val0, val1]\n",
    "val1 = next(test1)\n",
    "print(type(val1))\n",
    "print(\"lenght:\", len(val1))\n",
    "\n",
    "#List value 0 is a 1000 * 1 * 28 * 28 Tensor. The images\n",
    "print(type(val1[0]))\n",
    "print(\"Shape: \", val1[0].shape)\n",
    "\n",
    "#List value 1 is a 1000 Tensor. The labels\n",
    "print(type(val1[1]))\n",
    "print(\"Shape: \", val1[1].shape)\n",
    "\n",
    "#we can use two values when returning function, it works the same\n",
    "val1, val2 = next(test1)\n",
    "#images\n",
    "print(\"Shape: \", val1.shape)\n",
    "#labels\n",
    "print(\"Shape: \", val2.shape)\n"
   ]
  },
  {
   "cell_type": "markdown",
   "id": "cardiac-sheep",
   "metadata": {},
   "source": [
    "### Check how train_loader handles batch size"
   ]
  },
  {
   "cell_type": "code",
   "execution_count": 5,
   "id": "necessary-fleece",
   "metadata": {},
   "outputs": [
    {
     "name": "stdout",
     "output_type": "stream",
     "text": [
      "<class 'torch.utils.data.dataloader._SingleProcessDataLoaderIter'>\n",
      "Shape:  torch.Size([64, 1, 28, 28])\n",
      "Shape:  torch.Size([64])\n"
     ]
    }
   ],
   "source": [
    "#testloader is an iterable object. Lets get the iterator\n",
    "test1 = iter(train_loader)\n",
    "print(type(test1))\n",
    "\n",
    "#use next to get the value which is a list of lenght 2 [val0, val1]\n",
    "val1, val2 = next(test1)\n",
    "\n",
    "#When doing a next() in train_loader it returns 64 elements which is the batch size\n",
    "print(\"Shape: \", val1.shape)\n",
    "#We get also 64 corresponding labels\n",
    "print(\"Shape: \", val2.shape)"
   ]
  },
  {
   "cell_type": "markdown",
   "id": "parental-stretch",
   "metadata": {},
   "source": [
    "Either test_loader and train_loaders are DataLoader classes. This class is iterable."
   ]
  },
  {
   "cell_type": "code",
   "execution_count": 6,
   "id": "swiss-forge",
   "metadata": {},
   "outputs": [
    {
     "data": {
      "image/png": "[encoded data removed]",
      "text/plain": [
       "<Figure size 432x288 with 6 Axes>"
      ]
     },
     "metadata": {
      "image/png": {
       "height": 266,
       "width": 405
      }
     },
     "output_type": "display_data"
    }
   ],
   "source": [
    "#enumerate functions adds an index to the iterable objetct\n",
    "#using enumerate helps to add an index when using for, for example\n",
    "examples = enumerate(test_loader)\n",
    "\n",
    "#unpacking with parentesis because first return value is the index, second is a two values list. Check code below\n",
    "#li = [[1,2], [2,3]]\n",
    "#bla = enumerate(li)\n",
    "#idx, (x, y) = next(bla)\n",
    "##idx = 0, x = 1, y = 2\n",
    "\n",
    "batch_idx, (example_data, example_targets) = next(examples)\n",
    "\n",
    "\n",
    "#Print 6 images with their respective value\n",
    "for i in range(6):\n",
    "  plt.subplot(2,3,i+1)\n",
    "  plt.tight_layout()\n",
    "  plt.imshow(example_data[i][0], cmap='gray', interpolation='none')\n",
    "  plt.title(\"Ground Truth: {}\".format(example_targets[i]))\n",
    "  plt.xticks([])\n",
    "  plt.yticks([])"
   ]
  },
  {
   "cell_type": "code",
   "execution_count": 19,
   "id": "miniature-mortgage",
   "metadata": {},
   "outputs": [],
   "source": [
    "class Net(nn.Module):\n",
    "    def __init__(self):\n",
    "        super(Net, self).__init__()\n",
    "        self.conv1 = nn.Conv2d(1, 10, kernel_size=5)\n",
    "        self.conv2 = nn.Conv2d(10, 20, kernel_size=5)\n",
    "        self.conv2_drop = nn.Dropout2d()\n",
    "        self.fc1 = nn.Linear(320, 50)\n",
    "        self.fc2 = nn.Linear(50, 10)\n",
    "\n",
    "    def forward(self, x):\n",
    "        x = F.relu(F.max_pool2d(self.conv1(x), 2))\n",
    "        x = F.relu(F.max_pool2d(self.conv2_drop(self.conv2(x)), 2))\n",
    "        x = x.view(-1, 320)\n",
    "        x = F.relu(self.fc1(x))\n",
    "        x = F.dropout(x, training=self.training)\n",
    "        x = self.fc2(x)\n",
    "        return F.log_softmax(x)"
   ]
  },
  {
   "cell_type": "code",
   "execution_count": 20,
   "id": "republican-andrews",
   "metadata": {},
   "outputs": [],
   "source": [
    "#Network model\n",
    "network = Net()\n",
    "\n",
    "#Stochastic gradient decent\n",
    "optimizer = optim.SGD(network.parameters(), lr=learning_rate,\n",
    "                      momentum=momentum)"
   ]
  },
  {
   "cell_type": "code",
   "execution_count": 21,
   "id": "measured-sapphire",
   "metadata": {},
   "outputs": [],
   "source": [
    "train_losses = []\n",
    "train_counter = []\n",
    "test_losses = []\n",
    "test_counter = [i*len(train_loader.dataset) for i in range(n_epochs + 1)]"
   ]
  },
  {
   "cell_type": "code",
   "execution_count": 22,
   "id": "former-holly",
   "metadata": {},
   "outputs": [],
   "source": [
    "def train(epoch):\n",
    "  #\n",
    "  network.train()\n",
    "  for batch_idx, (data, target) in enumerate(train_loader):\n",
    "    \n",
    "    #set parameters gradients to 0\n",
    "    optimizer.zero_grad()\n",
    "    \n",
    "    #runs model with data and returns result in output\n",
    "    #here data contains a 64 * 1 * 28 * 28 tensor, 64 is batch size\n",
    "    output = network(data)\n",
    "    \n",
    "    #Use negative log likelihood loss.\n",
    "    loss = F.nll_loss(output, target)\n",
    "    \n",
    "    #with this gradients are calculated\n",
    "    loss.backward()\n",
    "    \n",
    "    #update gradients\n",
    "    optimizer.step()\n",
    "    \n",
    "    #Display iteration statistics\n",
    "    if batch_idx % log_interval == 0:\n",
    "      print('Train Epoch: {} [{}/{} ({:.0f}%)]\\tLoss: {:.6f}'.format(\n",
    "        epoch, batch_idx * len(data), len(train_loader.dataset),\n",
    "        100. * batch_idx / len(train_loader), loss.item()))\n",
    "      train_losses.append(loss.item())\n",
    "      train_counter.append(\n",
    "        (batch_idx*64) + ((epoch-1)*len(train_loader.dataset)))\n",
    "      torch.save(network.state_dict(), 'results/model.pth')\n",
    "      torch.save(optimizer.state_dict(), 'results/optimizer.pth')"
   ]
  },
  {
   "cell_type": "code",
   "execution_count": 23,
   "id": "received-dominant",
   "metadata": {},
   "outputs": [],
   "source": [
    "def test():\n",
    "  #Sets the module in evaluation mode\n",
    "  network.eval()\n",
    "  test_loss = 0\n",
    "  correct = 0\n",
    "    \n",
    "  #dont update dynamic computation graph\n",
    "  with torch.no_grad():\n",
    "    #for every example in test\n",
    "    for data, target in test_loader:\n",
    "      #evaluate the model\n",
    "      output = network(data)\n",
    "      #acumulate the loss\n",
    "      test_loss += F.nll_loss(output, target, size_average=False).item()\n",
    "      \n",
    "      pred = output.data.max(1, keepdim=True)[1]\n",
    "      correct += pred.eq(target.data.view_as(pred)).sum()\n",
    "  test_loss /= len(test_loader.dataset)\n",
    "  test_losses.append(test_loss)\n",
    "  print('\\nTest set: Avg. loss: {:.4f}, Accuracy: {}/{} ({:.0f}%)\\n'.format(\n",
    "    test_loss, correct, len(test_loader.dataset),\n",
    "    100. * correct / len(test_loader.dataset)))"
   ]
  },
  {
   "cell_type": "code",
   "execution_count": 24,
   "id": "grand-greek",
   "metadata": {},
   "outputs": [
    {
     "name": "stderr",
     "output_type": "stream",
     "text": [
      "C:\\Users\\Erick\\miniconda3\\envs\\pytorch_examples\\lib\\site-packages\\ipykernel_launcher.py:17: UserWarning: Implicit dimension choice for log_softmax has been deprecated. Change the call to include dim=X as an argument.\n",
      "C:\\Users\\Erick\\miniconda3\\envs\\pytorch_examples\\lib\\site-packages\\torch\\nn\\_reduction.py:44: UserWarning: size_average and reduce args will be deprecated, please use reduction='sum' instead.\n",
      "  warnings.warn(warning.format(ret))\n"
     ]
    },
    {
     "name": "stdout",
     "output_type": "stream",
     "text": [
      "\n",
      "Test set: Avg. loss: 2.3129, Accuracy: 1116/10000 (11%)\n",
      "\n",
      "Train Epoch: 1 [0/60000 (0%)]\tLoss: 2.254405\n",
      "Train Epoch: 1 [640/60000 (1%)]\tLoss: 2.338409\n",
      "Train Epoch: 1 [1280/60000 (2%)]\tLoss: 2.284854\n",
      "Train Epoch: 1 [1920/60000 (3%)]\tLoss: 2.274578\n",
      "Train Epoch: 1 [2560/60000 (4%)]\tLoss: 2.241212\n",
      "Train Epoch: 1 [3200/60000 (5%)]\tLoss: 2.234969\n",
      "Train Epoch: 1 [3840/60000 (6%)]\tLoss: 2.247115\n",
      "Train Epoch: 1 [4480/60000 (7%)]\tLoss: 2.211562\n",
      "Train Epoch: 1 [5120/60000 (9%)]\tLoss: 2.186545\n",
      "Train Epoch: 1 [5760/60000 (10%)]\tLoss: 2.130851\n",
      "Train Epoch: 1 [6400/60000 (11%)]\tLoss: 2.163237\n",
      "Train Epoch: 1 [7040/60000 (12%)]\tLoss: 2.122161\n",
      "Train Epoch: 1 [7680/60000 (13%)]\tLoss: 1.926689\n",
      "Train Epoch: 1 [8320/60000 (14%)]\tLoss: 1.822919\n",
      "Train Epoch: 1 [8960/60000 (15%)]\tLoss: 1.702276\n",
      "Train Epoch: 1 [9600/60000 (16%)]\tLoss: 1.804698\n",
      "Train Epoch: 1 [10240/60000 (17%)]\tLoss: 1.725125\n",
      "Train Epoch: 1 [10880/60000 (18%)]\tLoss: 1.431273\n",
      "Train Epoch: 1 [11520/60000 (19%)]\tLoss: 1.271049\n",
      "Train Epoch: 1 [12160/60000 (20%)]\tLoss: 1.323078\n",
      "Train Epoch: 1 [12800/60000 (21%)]\tLoss: 1.494572\n",
      "Train Epoch: 1 [13440/60000 (22%)]\tLoss: 1.261667\n",
      "Train Epoch: 1 [14080/60000 (23%)]\tLoss: 1.190940\n",
      "Train Epoch: 1 [14720/60000 (25%)]\tLoss: 1.065454\n",
      "Train Epoch: 1 [15360/60000 (26%)]\tLoss: 1.176089\n",
      "Train Epoch: 1 [16000/60000 (27%)]\tLoss: 1.009333\n",
      "Train Epoch: 1 [16640/60000 (28%)]\tLoss: 0.970183\n",
      "Train Epoch: 1 [17280/60000 (29%)]\tLoss: 0.972865\n",
      "Train Epoch: 1 [17920/60000 (30%)]\tLoss: 0.701923\n",
      "Train Epoch: 1 [18560/60000 (31%)]\tLoss: 0.806787\n",
      "Train Epoch: 1 [19200/60000 (32%)]\tLoss: 0.765125\n",
      "Train Epoch: 1 [19840/60000 (33%)]\tLoss: 1.039567\n",
      "Train Epoch: 1 [20480/60000 (34%)]\tLoss: 0.966951\n",
      "Train Epoch: 1 [21120/60000 (35%)]\tLoss: 1.148055\n",
      "Train Epoch: 1 [21760/60000 (36%)]\tLoss: 0.778865\n",
      "Train Epoch: 1 [22400/60000 (37%)]\tLoss: 0.449186\n",
      "Train Epoch: 1 [23040/60000 (38%)]\tLoss: 0.748071\n",
      "Train Epoch: 1 [23680/60000 (39%)]\tLoss: 0.826012\n",
      "Train Epoch: 1 [24320/60000 (41%)]\tLoss: 0.648052\n",
      "Train Epoch: 1 [24960/60000 (42%)]\tLoss: 0.954013\n",
      "Train Epoch: 1 [25600/60000 (43%)]\tLoss: 0.879268\n",
      "Train Epoch: 1 [26240/60000 (44%)]\tLoss: 0.555597\n",
      "Train Epoch: 1 [26880/60000 (45%)]\tLoss: 0.558329\n",
      "Train Epoch: 1 [27520/60000 (46%)]\tLoss: 0.937565\n",
      "Train Epoch: 1 [28160/60000 (47%)]\tLoss: 0.633459\n",
      "Train Epoch: 1 [28800/60000 (48%)]\tLoss: 0.664961\n",
      "Train Epoch: 1 [29440/60000 (49%)]\tLoss: 0.539315\n",
      "Train Epoch: 1 [30080/60000 (50%)]\tLoss: 0.655078\n",
      "Train Epoch: 1 [30720/60000 (51%)]\tLoss: 0.662606\n",
      "Train Epoch: 1 [31360/60000 (52%)]\tLoss: 0.732785\n",
      "Train Epoch: 1 [32000/60000 (53%)]\tLoss: 0.397353\n",
      "Train Epoch: 1 [32640/60000 (54%)]\tLoss: 0.523248\n",
      "Train Epoch: 1 [33280/60000 (55%)]\tLoss: 0.745167\n",
      "Train Epoch: 1 [33920/60000 (57%)]\tLoss: 0.549899\n",
      "Train Epoch: 1 [34560/60000 (58%)]\tLoss: 0.633127\n",
      "Train Epoch: 1 [35200/60000 (59%)]\tLoss: 0.719422\n",
      "Train Epoch: 1 [35840/60000 (60%)]\tLoss: 0.520711\n",
      "Train Epoch: 1 [36480/60000 (61%)]\tLoss: 0.435185\n",
      "Train Epoch: 1 [37120/60000 (62%)]\tLoss: 0.463662\n",
      "Train Epoch: 1 [37760/60000 (63%)]\tLoss: 0.435045\n",
      "Train Epoch: 1 [38400/60000 (64%)]\tLoss: 0.671600\n",
      "Train Epoch: 1 [39040/60000 (65%)]\tLoss: 0.545953\n",
      "Train Epoch: 1 [39680/60000 (66%)]\tLoss: 0.554635\n",
      "Train Epoch: 1 [40320/60000 (67%)]\tLoss: 0.639072\n",
      "Train Epoch: 1 [40960/60000 (68%)]\tLoss: 0.514594\n",
      "Train Epoch: 1 [41600/60000 (69%)]\tLoss: 0.834930\n",
      "Train Epoch: 1 [42240/60000 (70%)]\tLoss: 0.660590\n",
      "Train Epoch: 1 [42880/60000 (71%)]\tLoss: 0.418408\n",
      "Train Epoch: 1 [43520/60000 (72%)]\tLoss: 0.445889\n",
      "Train Epoch: 1 [44160/60000 (74%)]\tLoss: 0.406436\n",
      "Train Epoch: 1 [44800/60000 (75%)]\tLoss: 0.487851\n",
      "Train Epoch: 1 [45440/60000 (76%)]\tLoss: 0.584160\n",
      "Train Epoch: 1 [46080/60000 (77%)]\tLoss: 0.365649\n",
      "Train Epoch: 1 [46720/60000 (78%)]\tLoss: 0.333361\n",
      "Train Epoch: 1 [47360/60000 (79%)]\tLoss: 0.426287\n",
      "Train Epoch: 1 [48000/60000 (80%)]\tLoss: 0.517811\n",
      "Train Epoch: 1 [48640/60000 (81%)]\tLoss: 0.408715\n",
      "Train Epoch: 1 [49280/60000 (82%)]\tLoss: 0.603068\n",
      "Train Epoch: 1 [49920/60000 (83%)]\tLoss: 0.492557\n",
      "Train Epoch: 1 [50560/60000 (84%)]\tLoss: 0.464475\n",
      "Train Epoch: 1 [51200/60000 (85%)]\tLoss: 0.408780\n",
      "Train Epoch: 1 [51840/60000 (86%)]\tLoss: 0.700644\n",
      "Train Epoch: 1 [52480/60000 (87%)]\tLoss: 0.367370\n",
      "Train Epoch: 1 [53120/60000 (88%)]\tLoss: 0.533969\n",
      "Train Epoch: 1 [53760/60000 (90%)]\tLoss: 0.482980\n",
      "Train Epoch: 1 [54400/60000 (91%)]\tLoss: 0.835372\n",
      "Train Epoch: 1 [55040/60000 (92%)]\tLoss: 0.474370\n",
      "Train Epoch: 1 [55680/60000 (93%)]\tLoss: 0.647448\n",
      "Train Epoch: 1 [56320/60000 (94%)]\tLoss: 0.417895\n",
      "Train Epoch: 1 [56960/60000 (95%)]\tLoss: 0.373895\n",
      "Train Epoch: 1 [57600/60000 (96%)]\tLoss: 0.550186\n",
      "Train Epoch: 1 [58240/60000 (97%)]\tLoss: 0.467364\n",
      "Train Epoch: 1 [58880/60000 (98%)]\tLoss: 0.344755\n",
      "Train Epoch: 1 [59520/60000 (99%)]\tLoss: 0.563091\n",
      "\n",
      "Test set: Avg. loss: 0.1588, Accuracy: 9538/10000 (95%)\n",
      "\n",
      "Train Epoch: 2 [0/60000 (0%)]\tLoss: 0.496100\n",
      "Train Epoch: 2 [640/60000 (1%)]\tLoss: 0.289345\n",
      "Train Epoch: 2 [1280/60000 (2%)]\tLoss: 0.422793\n",
      "Train Epoch: 2 [1920/60000 (3%)]\tLoss: 0.444910\n",
      "Train Epoch: 2 [2560/60000 (4%)]\tLoss: 0.475315\n",
      "Train Epoch: 2 [3200/60000 (5%)]\tLoss: 0.539644\n",
      "Train Epoch: 2 [3840/60000 (6%)]\tLoss: 0.406247\n",
      "Train Epoch: 2 [4480/60000 (7%)]\tLoss: 0.441667\n",
      "Train Epoch: 2 [5120/60000 (9%)]\tLoss: 0.347469\n",
      "Train Epoch: 2 [5760/60000 (10%)]\tLoss: 0.721871\n",
      "Train Epoch: 2 [6400/60000 (11%)]\tLoss: 0.218940\n",
      "Train Epoch: 2 [7040/60000 (12%)]\tLoss: 0.496565\n",
      "Train Epoch: 2 [7680/60000 (13%)]\tLoss: 0.489442\n",
      "Train Epoch: 2 [8320/60000 (14%)]\tLoss: 0.714857\n",
      "Train Epoch: 2 [8960/60000 (15%)]\tLoss: 0.242225\n",
      "Train Epoch: 2 [9600/60000 (16%)]\tLoss: 0.283894\n",
      "Train Epoch: 2 [10240/60000 (17%)]\tLoss: 0.251844\n",
      "Train Epoch: 2 [10880/60000 (18%)]\tLoss: 0.515482\n",
      "Train Epoch: 2 [11520/60000 (19%)]\tLoss: 0.530801\n",
      "Train Epoch: 2 [12160/60000 (20%)]\tLoss: 0.368246\n",
      "Train Epoch: 2 [12800/60000 (21%)]\tLoss: 0.448162\n",
      "Train Epoch: 2 [13440/60000 (22%)]\tLoss: 0.305026\n",
      "Train Epoch: 2 [14080/60000 (23%)]\tLoss: 0.299644\n",
      "Train Epoch: 2 [14720/60000 (25%)]\tLoss: 0.321791\n",
      "Train Epoch: 2 [15360/60000 (26%)]\tLoss: 0.365091\n",
      "Train Epoch: 2 [16000/60000 (27%)]\tLoss: 0.340074\n",
      "Train Epoch: 2 [16640/60000 (28%)]\tLoss: 0.167693\n",
      "Train Epoch: 2 [17280/60000 (29%)]\tLoss: 0.358670\n",
      "Train Epoch: 2 [17920/60000 (30%)]\tLoss: 0.298563\n",
      "Train Epoch: 2 [18560/60000 (31%)]\tLoss: 0.269051\n",
      "Train Epoch: 2 [19200/60000 (32%)]\tLoss: 0.302549\n",
      "Train Epoch: 2 [19840/60000 (33%)]\tLoss: 0.318534\n",
      "Train Epoch: 2 [20480/60000 (34%)]\tLoss: 0.725621\n",
      "Train Epoch: 2 [21120/60000 (35%)]\tLoss: 0.553755\n",
      "Train Epoch: 2 [21760/60000 (36%)]\tLoss: 0.292519\n",
      "Train Epoch: 2 [22400/60000 (37%)]\tLoss: 0.265013\n",
      "Train Epoch: 2 [23040/60000 (38%)]\tLoss: 0.503229\n",
      "Train Epoch: 2 [23680/60000 (39%)]\tLoss: 0.491801\n",
      "Train Epoch: 2 [24320/60000 (41%)]\tLoss: 0.280539\n",
      "Train Epoch: 2 [24960/60000 (42%)]\tLoss: 0.364159\n",
      "Train Epoch: 2 [25600/60000 (43%)]\tLoss: 0.427118\n",
      "Train Epoch: 2 [26240/60000 (44%)]\tLoss: 0.269824\n",
      "Train Epoch: 2 [26880/60000 (45%)]\tLoss: 0.303887\n",
      "Train Epoch: 2 [27520/60000 (46%)]\tLoss: 0.449347\n",
      "Train Epoch: 2 [28160/60000 (47%)]\tLoss: 0.544526\n",
      "Train Epoch: 2 [28800/60000 (48%)]\tLoss: 0.206603\n",
      "Train Epoch: 2 [29440/60000 (49%)]\tLoss: 0.699019\n",
      "Train Epoch: 2 [30080/60000 (50%)]\tLoss: 0.382211\n",
      "Train Epoch: 2 [30720/60000 (51%)]\tLoss: 0.319420\n",
      "Train Epoch: 2 [31360/60000 (52%)]\tLoss: 0.281176\n",
      "Train Epoch: 2 [32000/60000 (53%)]\tLoss: 0.362394\n",
      "Train Epoch: 2 [32640/60000 (54%)]\tLoss: 0.322211\n",
      "Train Epoch: 2 [33280/60000 (55%)]\tLoss: 0.400865\n",
      "Train Epoch: 2 [33920/60000 (57%)]\tLoss: 0.284203\n",
      "Train Epoch: 2 [34560/60000 (58%)]\tLoss: 0.458281\n",
      "Train Epoch: 2 [35200/60000 (59%)]\tLoss: 0.389316\n",
      "Train Epoch: 2 [35840/60000 (60%)]\tLoss: 0.605603\n",
      "Train Epoch: 2 [36480/60000 (61%)]\tLoss: 0.383879\n",
      "Train Epoch: 2 [37120/60000 (62%)]\tLoss: 0.462832\n",
      "Train Epoch: 2 [37760/60000 (63%)]\tLoss: 0.201143\n",
      "Train Epoch: 2 [38400/60000 (64%)]\tLoss: 0.390244\n",
      "Train Epoch: 2 [39040/60000 (65%)]\tLoss: 0.568387\n",
      "Train Epoch: 2 [39680/60000 (66%)]\tLoss: 0.285909\n",
      "Train Epoch: 2 [40320/60000 (67%)]\tLoss: 0.626981\n",
      "Train Epoch: 2 [40960/60000 (68%)]\tLoss: 0.232497\n",
      "Train Epoch: 2 [41600/60000 (69%)]\tLoss: 0.183648\n",
      "Train Epoch: 2 [42240/60000 (70%)]\tLoss: 0.287408\n",
      "Train Epoch: 2 [42880/60000 (71%)]\tLoss: 0.242217\n",
      "Train Epoch: 2 [43520/60000 (72%)]\tLoss: 0.280286\n"
     ]
    },
    {
     "name": "stdout",
     "output_type": "stream",
     "text": [
      "Train Epoch: 2 [44160/60000 (74%)]\tLoss: 0.458138\n",
      "Train Epoch: 2 [44800/60000 (75%)]\tLoss: 0.282116\n",
      "Train Epoch: 2 [45440/60000 (76%)]\tLoss: 0.368507\n",
      "Train Epoch: 2 [46080/60000 (77%)]\tLoss: 0.445628\n",
      "Train Epoch: 2 [46720/60000 (78%)]\tLoss: 0.176315\n",
      "Train Epoch: 2 [47360/60000 (79%)]\tLoss: 0.295478\n",
      "Train Epoch: 2 [48000/60000 (80%)]\tLoss: 0.449393\n",
      "Train Epoch: 2 [48640/60000 (81%)]\tLoss: 0.315990\n",
      "Train Epoch: 2 [49280/60000 (82%)]\tLoss: 0.357134\n",
      "Train Epoch: 2 [49920/60000 (83%)]\tLoss: 0.503128\n",
      "Train Epoch: 2 [50560/60000 (84%)]\tLoss: 0.359457\n",
      "Train Epoch: 2 [51200/60000 (85%)]\tLoss: 0.296804\n",
      "Train Epoch: 2 [51840/60000 (86%)]\tLoss: 0.370088\n",
      "Train Epoch: 2 [52480/60000 (87%)]\tLoss: 0.484013\n",
      "Train Epoch: 2 [53120/60000 (88%)]\tLoss: 0.345805\n",
      "Train Epoch: 2 [53760/60000 (90%)]\tLoss: 0.179865\n",
      "Train Epoch: 2 [54400/60000 (91%)]\tLoss: 0.245931\n",
      "Train Epoch: 2 [55040/60000 (92%)]\tLoss: 0.504207\n",
      "Train Epoch: 2 [55680/60000 (93%)]\tLoss: 0.473693\n",
      "Train Epoch: 2 [56320/60000 (94%)]\tLoss: 0.290338\n",
      "Train Epoch: 2 [56960/60000 (95%)]\tLoss: 0.158263\n",
      "Train Epoch: 2 [57600/60000 (96%)]\tLoss: 0.394757\n",
      "Train Epoch: 2 [58240/60000 (97%)]\tLoss: 0.263828\n",
      "Train Epoch: 2 [58880/60000 (98%)]\tLoss: 0.245685\n",
      "Train Epoch: 2 [59520/60000 (99%)]\tLoss: 0.239019\n",
      "\n",
      "Test set: Avg. loss: 0.1090, Accuracy: 9665/10000 (97%)\n",
      "\n",
      "Train Epoch: 3 [0/60000 (0%)]\tLoss: 0.424703\n",
      "Train Epoch: 3 [640/60000 (1%)]\tLoss: 0.471874\n",
      "Train Epoch: 3 [1280/60000 (2%)]\tLoss: 0.366538\n",
      "Train Epoch: 3 [1920/60000 (3%)]\tLoss: 0.243199\n",
      "Train Epoch: 3 [2560/60000 (4%)]\tLoss: 0.243464\n",
      "Train Epoch: 3 [3200/60000 (5%)]\tLoss: 0.470756\n",
      "Train Epoch: 3 [3840/60000 (6%)]\tLoss: 0.204297\n",
      "Train Epoch: 3 [4480/60000 (7%)]\tLoss: 0.262944\n",
      "Train Epoch: 3 [5120/60000 (9%)]\tLoss: 0.254700\n",
      "Train Epoch: 3 [5760/60000 (10%)]\tLoss: 0.336025\n",
      "Train Epoch: 3 [6400/60000 (11%)]\tLoss: 0.163628\n",
      "Train Epoch: 3 [7040/60000 (12%)]\tLoss: 0.345104\n",
      "Train Epoch: 3 [7680/60000 (13%)]\tLoss: 0.243927\n",
      "Train Epoch: 3 [8320/60000 (14%)]\tLoss: 0.498759\n",
      "Train Epoch: 3 [8960/60000 (15%)]\tLoss: 0.387946\n",
      "Train Epoch: 3 [9600/60000 (16%)]\tLoss: 0.389787\n",
      "Train Epoch: 3 [10240/60000 (17%)]\tLoss: 0.314373\n",
      "Train Epoch: 3 [10880/60000 (18%)]\tLoss: 0.341189\n",
      "Train Epoch: 3 [11520/60000 (19%)]\tLoss: 0.483626\n",
      "Train Epoch: 3 [12160/60000 (20%)]\tLoss: 0.506416\n",
      "Train Epoch: 3 [12800/60000 (21%)]\tLoss: 0.435895\n",
      "Train Epoch: 3 [13440/60000 (22%)]\tLoss: 0.300280\n",
      "Train Epoch: 3 [14080/60000 (23%)]\tLoss: 0.271967\n",
      "Train Epoch: 3 [14720/60000 (25%)]\tLoss: 0.174457\n",
      "Train Epoch: 3 [15360/60000 (26%)]\tLoss: 0.257774\n",
      "Train Epoch: 3 [16000/60000 (27%)]\tLoss: 0.200785\n",
      "Train Epoch: 3 [16640/60000 (28%)]\tLoss: 0.291061\n",
      "Train Epoch: 3 [17280/60000 (29%)]\tLoss: 0.378591\n",
      "Train Epoch: 3 [17920/60000 (30%)]\tLoss: 0.166812\n",
      "Train Epoch: 3 [18560/60000 (31%)]\tLoss: 0.198374\n",
      "Train Epoch: 3 [19200/60000 (32%)]\tLoss: 0.165803\n",
      "Train Epoch: 3 [19840/60000 (33%)]\tLoss: 0.255795\n",
      "Train Epoch: 3 [20480/60000 (34%)]\tLoss: 0.170198\n",
      "Train Epoch: 3 [21120/60000 (35%)]\tLoss: 0.214228\n",
      "Train Epoch: 3 [21760/60000 (36%)]\tLoss: 0.223791\n",
      "Train Epoch: 3 [22400/60000 (37%)]\tLoss: 0.444105\n",
      "Train Epoch: 3 [23040/60000 (38%)]\tLoss: 0.124060\n",
      "Train Epoch: 3 [23680/60000 (39%)]\tLoss: 0.254790\n",
      "Train Epoch: 3 [24320/60000 (41%)]\tLoss: 0.242824\n",
      "Train Epoch: 3 [24960/60000 (42%)]\tLoss: 0.255628\n",
      "Train Epoch: 3 [25600/60000 (43%)]\tLoss: 0.236323\n",
      "Train Epoch: 3 [26240/60000 (44%)]\tLoss: 0.251771\n",
      "Train Epoch: 3 [26880/60000 (45%)]\tLoss: 0.436162\n",
      "Train Epoch: 3 [27520/60000 (46%)]\tLoss: 0.129430\n",
      "Train Epoch: 3 [28160/60000 (47%)]\tLoss: 0.159813\n",
      "Train Epoch: 3 [28800/60000 (48%)]\tLoss: 0.168632\n",
      "Train Epoch: 3 [29440/60000 (49%)]\tLoss: 0.134252\n",
      "Train Epoch: 3 [30080/60000 (50%)]\tLoss: 0.295858\n",
      "Train Epoch: 3 [30720/60000 (51%)]\tLoss: 0.256348\n",
      "Train Epoch: 3 [31360/60000 (52%)]\tLoss: 0.281182\n",
      "Train Epoch: 3 [32000/60000 (53%)]\tLoss: 0.113825\n",
      "Train Epoch: 3 [32640/60000 (54%)]\tLoss: 0.145766\n",
      "Train Epoch: 3 [33280/60000 (55%)]\tLoss: 0.250808\n",
      "Train Epoch: 3 [33920/60000 (57%)]\tLoss: 0.182919\n",
      "Train Epoch: 3 [34560/60000 (58%)]\tLoss: 0.272513\n",
      "Train Epoch: 3 [35200/60000 (59%)]\tLoss: 0.260730\n",
      "Train Epoch: 3 [35840/60000 (60%)]\tLoss: 0.198325\n",
      "Train Epoch: 3 [36480/60000 (61%)]\tLoss: 0.331648\n",
      "Train Epoch: 3 [37120/60000 (62%)]\tLoss: 0.249218\n",
      "Train Epoch: 3 [37760/60000 (63%)]\tLoss: 0.104100\n",
      "Train Epoch: 3 [38400/60000 (64%)]\tLoss: 0.202958\n",
      "Train Epoch: 3 [39040/60000 (65%)]\tLoss: 0.265113\n",
      "Train Epoch: 3 [39680/60000 (66%)]\tLoss: 0.335458\n",
      "Train Epoch: 3 [40320/60000 (67%)]\tLoss: 0.301864\n",
      "Train Epoch: 3 [40960/60000 (68%)]\tLoss: 0.423837\n",
      "Train Epoch: 3 [41600/60000 (69%)]\tLoss: 0.362864\n",
      "Train Epoch: 3 [42240/60000 (70%)]\tLoss: 0.245483\n",
      "Train Epoch: 3 [42880/60000 (71%)]\tLoss: 0.354737\n",
      "Train Epoch: 3 [43520/60000 (72%)]\tLoss: 0.183837\n",
      "Train Epoch: 3 [44160/60000 (74%)]\tLoss: 0.297090\n",
      "Train Epoch: 3 [44800/60000 (75%)]\tLoss: 0.333555\n",
      "Train Epoch: 3 [45440/60000 (76%)]\tLoss: 0.356465\n",
      "Train Epoch: 3 [46080/60000 (77%)]\tLoss: 0.308840\n",
      "Train Epoch: 3 [46720/60000 (78%)]\tLoss: 0.305045\n",
      "Train Epoch: 3 [47360/60000 (79%)]\tLoss: 0.401032\n",
      "Train Epoch: 3 [48000/60000 (80%)]\tLoss: 0.176731\n",
      "Train Epoch: 3 [48640/60000 (81%)]\tLoss: 0.242660\n",
      "Train Epoch: 3 [49280/60000 (82%)]\tLoss: 0.092019\n",
      "Train Epoch: 3 [49920/60000 (83%)]\tLoss: 0.350675\n",
      "Train Epoch: 3 [50560/60000 (84%)]\tLoss: 0.483111\n",
      "Train Epoch: 3 [51200/60000 (85%)]\tLoss: 0.298684\n",
      "Train Epoch: 3 [51840/60000 (86%)]\tLoss: 0.195547\n",
      "Train Epoch: 3 [52480/60000 (87%)]\tLoss: 0.403392\n",
      "Train Epoch: 3 [53120/60000 (88%)]\tLoss: 0.201891\n",
      "Train Epoch: 3 [53760/60000 (90%)]\tLoss: 0.276949\n",
      "Train Epoch: 3 [54400/60000 (91%)]\tLoss: 0.276834\n",
      "Train Epoch: 3 [55040/60000 (92%)]\tLoss: 0.171915\n",
      "Train Epoch: 3 [55680/60000 (93%)]\tLoss: 0.501003\n",
      "Train Epoch: 3 [56320/60000 (94%)]\tLoss: 0.177915\n",
      "Train Epoch: 3 [56960/60000 (95%)]\tLoss: 0.227608\n",
      "Train Epoch: 3 [57600/60000 (96%)]\tLoss: 0.180227\n",
      "Train Epoch: 3 [58240/60000 (97%)]\tLoss: 0.192636\n",
      "Train Epoch: 3 [58880/60000 (98%)]\tLoss: 0.189530\n",
      "Train Epoch: 3 [59520/60000 (99%)]\tLoss: 0.130523\n",
      "\n",
      "Test set: Avg. loss: 0.0892, Accuracy: 9723/10000 (97%)\n",
      "\n",
      "Time elapsed: 89.6708 seconds\n"
     ]
    }
   ],
   "source": [
    "#test\n",
    "#n_epochs = 1\n",
    "#Check accuaracy before training\n",
    "test()\n",
    "tic = time.perf_counter()\n",
    "\n",
    "for epoch in range(1, n_epochs + 1):\n",
    "  train(epoch)\n",
    "  test()\n",
    "    \n",
    "toc = time.perf_counter()\n",
    "\n",
    "print(f\"Time elapsed: {toc - tic:0.4f} seconds\")"
   ]
  },
  {
   "cell_type": "code",
   "execution_count": 26,
   "id": "static-heart",
   "metadata": {},
   "outputs": [
    {
     "data": {
      "text/plain": [
       "Text(0, 0.5, 'negative log likelihood loss')"
      ]
     },
     "execution_count": 26,
     "metadata": {},
     "output_type": "execute_result"
    },
    {
     "data": {
      "image/png": "[encoded data removed]",
      "text/plain": [
       "<Figure size 432x288 with 1 Axes>"
      ]
     },
     "metadata": {
      "image/png": {
       "height": 261,
       "width": 385
      },
      "needs_background": "light"
     },
     "output_type": "display_data"
    }
   ],
   "source": [
    "fig = plt.figure()\n",
    "plt.plot(train_counter, train_losses, color='blue')\n",
    "plt.scatter(test_counter, test_losses, color='red')\n",
    "plt.legend(['Train Loss', 'Test Loss'], loc='upper right')\n",
    "plt.xlabel('number of training examples seen')\n",
    "plt.ylabel('negative log likelihood loss')\n",
    "#fig"
   ]
  },
  {
   "cell_type": "code",
   "execution_count": 65,
   "id": "matched-vegetarian",
   "metadata": {},
   "outputs": [
    {
     "name": "stderr",
     "output_type": "stream",
     "text": [
      "C:\\Users\\Erick\\miniconda3\\envs\\pytorch_examples\\lib\\site-packages\\ipykernel_launcher.py:17: UserWarning: Implicit dimension choice for log_softmax has been deprecated. Change the call to include dim=X as an argument.\n"
     ]
    }
   ],
   "source": [
    "with torch.no_grad():\n",
    "  output = network(example_data)"
   ]
  },
  {
   "cell_type": "code",
   "execution_count": 66,
   "id": "complete-avenue",
   "metadata": {},
   "outputs": [
    {
     "data": {
      "image/png": "[encoded data removed]",
      "text/plain": [
       "<Figure size 432x288 with 6 Axes>"
      ]
     },
     "execution_count": 66,
     "metadata": {
      "image/png": {
       "height": 266,
       "width": 405
      }
     },
     "output_type": "execute_result"
    },
    {
     "data": {
      "image/png": "[encoded data removed]",
      "text/plain": [
       "<Figure size 432x288 with 6 Axes>"
      ]
     },
     "metadata": {
      "image/png": {
       "height": 266,
       "width": 405
      }
     },
     "output_type": "display_data"
    }
   ],
   "source": [
    "fig = plt.figure()\n",
    "for i in range(6):\n",
    "  plt.subplot(2,3,i+1)\n",
    "  plt.tight_layout()\n",
    "  plt.imshow(example_data[i][0], cmap='gray', interpolation='none')\n",
    "  plt.title(\"Prediction: {}\".format(\n",
    "    output.data.max(1, keepdim=True)[1][i].item()))\n",
    "  plt.xticks([])\n",
    "  plt.yticks([])\n",
    "fig"
   ]
  },
  {
   "cell_type": "markdown",
   "id": "consistent-vessel",
   "metadata": {},
   "source": [
    "### Train with GPU (this is not working yet)\n",
    "\n",
    "Enable cuda and train model to check time differences"
   ]
  },
  {
   "cell_type": "code",
   "execution_count": 29,
   "id": "interpreted-degree",
   "metadata": {},
   "outputs": [
    {
     "data": {
      "text/plain": [
       "Net(\n",
       "  (conv1): Conv2d(1, 10, kernel_size=(5, 5), stride=(1, 1))\n",
       "  (conv2): Conv2d(10, 20, kernel_size=(5, 5), stride=(1, 1))\n",
       "  (conv2_drop): Dropout2d(p=0.5, inplace=False)\n",
       "  (fc1): Linear(in_features=320, out_features=50, bias=True)\n",
       "  (fc2): Linear(in_features=50, out_features=10, bias=True)\n",
       ")"
      ]
     },
     "execution_count": 29,
     "metadata": {},
     "output_type": "execute_result"
    }
   ],
   "source": [
    "#check if gpu is available\n",
    "device = torch.device('cuda' if torch.cuda.is_available() else 'cpu')\n",
    "\n",
    "network_gpu = Net()\n",
    "network_gpu.to(device)"
   ]
  },
  {
   "cell_type": "code",
   "execution_count": 31,
   "id": "twelve-johnston",
   "metadata": {},
   "outputs": [],
   "source": [
    "\n",
    "def train_gpu(epoch):\n",
    "  #\n",
    "  network_gpu.train()\n",
    "  for batch_idx, (data, target) in enumerate(train_loader):\n",
    "    #send training data to GPU\n",
    "    data = data.to(device)\n",
    "    target = target.to(device)\n",
    "    \n",
    "    #set gradients to 0\n",
    "    optimizer.zero_grad()\n",
    "    #runs model with data and returns result in output\n",
    "    output = network_gpu(data)\n",
    "    \n",
    "    #here is where the magic happens\n",
    "    loss = F.nll_loss(output, target)\n",
    "    loss.backward()\n",
    "    optimizer.step()\n",
    "    \n",
    "    #Display iteration statistics\n",
    "    if batch_idx % log_interval == 0:\n",
    "      print('Train Epoch: {} [{}/{} ({:.0f}%)]\\tLoss: {:.6f}'.format(\n",
    "        epoch, batch_idx * len(data), len(train_loader.dataset),\n",
    "        100. * batch_idx / len(train_loader), loss.item()))\n",
    "      train_losses.append(loss.item())\n",
    "      train_counter.append(\n",
    "        (batch_idx*64) + ((epoch-1)*len(train_loader.dataset)))\n",
    "      torch.save(network_gpu.state_dict(), 'results/model.pth')\n",
    "      torch.save(optimizer.state_dict(), 'results/optimizer.pth')"
   ]
  },
  {
   "cell_type": "code",
   "execution_count": 34,
   "id": "subsequent-valuation",
   "metadata": {},
   "outputs": [],
   "source": [
    "def test_gpu():\n",
    "  #Sets the module in evaluation mode\n",
    "  network_gpu.eval()\n",
    "  test_loss = 0\n",
    "  correct = 0\n",
    "  with torch.no_grad():\n",
    "    for data, target in test_loader:\n",
    "      data = data.to(device)\n",
    "      target = target.to(device)  \n",
    "      output = network_gpu(data)\n",
    "      test_loss += F.nll_loss(output, target, size_average=False).item()\n",
    "      pred = output.data.max(1, keepdim=True)[1]\n",
    "      correct += pred.eq(target.data.view_as(pred)).sum()\n",
    "  test_loss /= len(test_loader.dataset)\n",
    "  test_losses.append(test_loss)\n",
    "  print('\\nTest set: Avg. loss: {:.4f}, Accuracy: {}/{} ({:.0f}%)\\n'.format(\n",
    "    test_loss, correct, len(test_loader.dataset),\n",
    "    100. * correct / len(test_loader.dataset)))"
   ]
  },
  {
   "cell_type": "markdown",
   "id": "quarterly-resort",
   "metadata": {},
   "source": [
    "### Train model with gpu (this is not working yet)"
   ]
  },
  {
   "cell_type": "code",
   "execution_count": 35,
   "id": "short-interim",
   "metadata": {},
   "outputs": [
    {
     "name": "stderr",
     "output_type": "stream",
     "text": [
      "C:\\Users\\Erick\\miniconda3\\envs\\pytorch_examples\\lib\\site-packages\\ipykernel_launcher.py:17: UserWarning: Implicit dimension choice for log_softmax has been deprecated. Change the call to include dim=X as an argument.\n"
     ]
    },
    {
     "name": "stdout",
     "output_type": "stream",
     "text": [
      "\n",
      "Test set: Avg. loss: 0.0949, Accuracy: 9690/10000 (97%)\n",
      "\n"
     ]
    },
    {
     "ename": "RuntimeError",
     "evalue": "cuda runtime error (209) : no kernel image is available for execution on the device at C:/cb/pytorch_1000000000000/work/aten/src\\THC/generic/THCTensorMath.cu:19",
     "output_type": "error",
     "traceback": [
      "\u001b[1;31m---------------------------------------------------------------------------\u001b[0m",
      "\u001b[1;31mRuntimeError\u001b[0m                              Traceback (most recent call last)",
      "\u001b[1;32m<ipython-input-35-1931a4a4fa6c>\u001b[0m in \u001b[0;36m<module>\u001b[1;34m\u001b[0m\n\u001b[0;32m      4\u001b[0m \u001b[1;33m\u001b[0m\u001b[0m\n\u001b[0;32m      5\u001b[0m \u001b[1;32mfor\u001b[0m \u001b[0mepoch\u001b[0m \u001b[1;32min\u001b[0m \u001b[0mrange\u001b[0m\u001b[1;33m(\u001b[0m\u001b[1;36m1\u001b[0m\u001b[1;33m,\u001b[0m \u001b[0mn_epochs\u001b[0m \u001b[1;33m+\u001b[0m \u001b[1;36m1\u001b[0m\u001b[1;33m)\u001b[0m\u001b[1;33m:\u001b[0m\u001b[1;33m\u001b[0m\u001b[1;33m\u001b[0m\u001b[0m\n\u001b[1;32m----> 6\u001b[1;33m   \u001b[0mtrain_gpu\u001b[0m\u001b[1;33m(\u001b[0m\u001b[0mepoch\u001b[0m\u001b[1;33m)\u001b[0m\u001b[1;33m\u001b[0m\u001b[1;33m\u001b[0m\u001b[0m\n\u001b[0m\u001b[0;32m      7\u001b[0m   \u001b[0mtest_gpu\u001b[0m\u001b[1;33m(\u001b[0m\u001b[1;33m)\u001b[0m\u001b[1;33m\u001b[0m\u001b[1;33m\u001b[0m\u001b[0m\n\u001b[0;32m      8\u001b[0m \u001b[1;33m\u001b[0m\u001b[0m\n",
      "\u001b[1;32m<ipython-input-31-660b5f05f4e6>\u001b[0m in \u001b[0;36mtrain_gpu\u001b[1;34m(epoch)\u001b[0m\n\u001b[0;32m     10\u001b[0m     \u001b[0moptimizer\u001b[0m\u001b[1;33m.\u001b[0m\u001b[0mzero_grad\u001b[0m\u001b[1;33m(\u001b[0m\u001b[1;33m)\u001b[0m\u001b[1;33m\u001b[0m\u001b[1;33m\u001b[0m\u001b[0m\n\u001b[0;32m     11\u001b[0m     \u001b[1;31m#runs model with data and returns result in output\u001b[0m\u001b[1;33m\u001b[0m\u001b[1;33m\u001b[0m\u001b[1;33m\u001b[0m\u001b[0m\n\u001b[1;32m---> 12\u001b[1;33m     \u001b[0moutput\u001b[0m \u001b[1;33m=\u001b[0m \u001b[0mnetwork_gpu\u001b[0m\u001b[1;33m(\u001b[0m\u001b[0mdata\u001b[0m\u001b[1;33m)\u001b[0m\u001b[1;33m\u001b[0m\u001b[1;33m\u001b[0m\u001b[0m\n\u001b[0m\u001b[0;32m     13\u001b[0m \u001b[1;33m\u001b[0m\u001b[0m\n\u001b[0;32m     14\u001b[0m     \u001b[1;31m#here is where the magic happens\u001b[0m\u001b[1;33m\u001b[0m\u001b[1;33m\u001b[0m\u001b[1;33m\u001b[0m\u001b[0m\n",
      "\u001b[1;32m~\\miniconda3\\envs\\pytorch_examples\\lib\\site-packages\\torch\\nn\\modules\\module.py\u001b[0m in \u001b[0;36m_call_impl\u001b[1;34m(self, *input, **kwargs)\u001b[0m\n\u001b[0;32m    725\u001b[0m             \u001b[0mresult\u001b[0m \u001b[1;33m=\u001b[0m \u001b[0mself\u001b[0m\u001b[1;33m.\u001b[0m\u001b[0m_slow_forward\u001b[0m\u001b[1;33m(\u001b[0m\u001b[1;33m*\u001b[0m\u001b[0minput\u001b[0m\u001b[1;33m,\u001b[0m \u001b[1;33m**\u001b[0m\u001b[0mkwargs\u001b[0m\u001b[1;33m)\u001b[0m\u001b[1;33m\u001b[0m\u001b[1;33m\u001b[0m\u001b[0m\n\u001b[0;32m    726\u001b[0m         \u001b[1;32melse\u001b[0m\u001b[1;33m:\u001b[0m\u001b[1;33m\u001b[0m\u001b[1;33m\u001b[0m\u001b[0m\n\u001b[1;32m--> 727\u001b[1;33m             \u001b[0mresult\u001b[0m \u001b[1;33m=\u001b[0m \u001b[0mself\u001b[0m\u001b[1;33m.\u001b[0m\u001b[0mforward\u001b[0m\u001b[1;33m(\u001b[0m\u001b[1;33m*\u001b[0m\u001b[0minput\u001b[0m\u001b[1;33m,\u001b[0m \u001b[1;33m**\u001b[0m\u001b[0mkwargs\u001b[0m\u001b[1;33m)\u001b[0m\u001b[1;33m\u001b[0m\u001b[1;33m\u001b[0m\u001b[0m\n\u001b[0m\u001b[0;32m    728\u001b[0m         for hook in itertools.chain(\n\u001b[0;32m    729\u001b[0m                 \u001b[0m_global_forward_hooks\u001b[0m\u001b[1;33m.\u001b[0m\u001b[0mvalues\u001b[0m\u001b[1;33m(\u001b[0m\u001b[1;33m)\u001b[0m\u001b[1;33m,\u001b[0m\u001b[1;33m\u001b[0m\u001b[1;33m\u001b[0m\u001b[0m\n",
      "\u001b[1;32m<ipython-input-7-6c2218f37724>\u001b[0m in \u001b[0;36mforward\u001b[1;34m(self, x)\u001b[0m\n\u001b[0;32m      9\u001b[0m \u001b[1;33m\u001b[0m\u001b[0m\n\u001b[0;32m     10\u001b[0m     \u001b[1;32mdef\u001b[0m \u001b[0mforward\u001b[0m\u001b[1;33m(\u001b[0m\u001b[0mself\u001b[0m\u001b[1;33m,\u001b[0m \u001b[0mx\u001b[0m\u001b[1;33m)\u001b[0m\u001b[1;33m:\u001b[0m\u001b[1;33m\u001b[0m\u001b[1;33m\u001b[0m\u001b[0m\n\u001b[1;32m---> 11\u001b[1;33m         \u001b[0mx\u001b[0m \u001b[1;33m=\u001b[0m \u001b[0mF\u001b[0m\u001b[1;33m.\u001b[0m\u001b[0mrelu\u001b[0m\u001b[1;33m(\u001b[0m\u001b[0mF\u001b[0m\u001b[1;33m.\u001b[0m\u001b[0mmax_pool2d\u001b[0m\u001b[1;33m(\u001b[0m\u001b[0mself\u001b[0m\u001b[1;33m.\u001b[0m\u001b[0mconv1\u001b[0m\u001b[1;33m(\u001b[0m\u001b[0mx\u001b[0m\u001b[1;33m)\u001b[0m\u001b[1;33m,\u001b[0m \u001b[1;36m2\u001b[0m\u001b[1;33m)\u001b[0m\u001b[1;33m)\u001b[0m\u001b[1;33m\u001b[0m\u001b[1;33m\u001b[0m\u001b[0m\n\u001b[0m\u001b[0;32m     12\u001b[0m         \u001b[0mx\u001b[0m \u001b[1;33m=\u001b[0m \u001b[0mF\u001b[0m\u001b[1;33m.\u001b[0m\u001b[0mrelu\u001b[0m\u001b[1;33m(\u001b[0m\u001b[0mF\u001b[0m\u001b[1;33m.\u001b[0m\u001b[0mmax_pool2d\u001b[0m\u001b[1;33m(\u001b[0m\u001b[0mself\u001b[0m\u001b[1;33m.\u001b[0m\u001b[0mconv2_drop\u001b[0m\u001b[1;33m(\u001b[0m\u001b[0mself\u001b[0m\u001b[1;33m.\u001b[0m\u001b[0mconv2\u001b[0m\u001b[1;33m(\u001b[0m\u001b[0mx\u001b[0m\u001b[1;33m)\u001b[0m\u001b[1;33m)\u001b[0m\u001b[1;33m,\u001b[0m \u001b[1;36m2\u001b[0m\u001b[1;33m)\u001b[0m\u001b[1;33m)\u001b[0m\u001b[1;33m\u001b[0m\u001b[1;33m\u001b[0m\u001b[0m\n\u001b[0;32m     13\u001b[0m         \u001b[0mx\u001b[0m \u001b[1;33m=\u001b[0m \u001b[0mx\u001b[0m\u001b[1;33m.\u001b[0m\u001b[0mview\u001b[0m\u001b[1;33m(\u001b[0m\u001b[1;33m-\u001b[0m\u001b[1;36m1\u001b[0m\u001b[1;33m,\u001b[0m \u001b[1;36m320\u001b[0m\u001b[1;33m)\u001b[0m\u001b[1;33m\u001b[0m\u001b[1;33m\u001b[0m\u001b[0m\n",
      "\u001b[1;32m~\\miniconda3\\envs\\pytorch_examples\\lib\\site-packages\\torch\\nn\\modules\\module.py\u001b[0m in \u001b[0;36m_call_impl\u001b[1;34m(self, *input, **kwargs)\u001b[0m\n\u001b[0;32m    725\u001b[0m             \u001b[0mresult\u001b[0m \u001b[1;33m=\u001b[0m \u001b[0mself\u001b[0m\u001b[1;33m.\u001b[0m\u001b[0m_slow_forward\u001b[0m\u001b[1;33m(\u001b[0m\u001b[1;33m*\u001b[0m\u001b[0minput\u001b[0m\u001b[1;33m,\u001b[0m \u001b[1;33m**\u001b[0m\u001b[0mkwargs\u001b[0m\u001b[1;33m)\u001b[0m\u001b[1;33m\u001b[0m\u001b[1;33m\u001b[0m\u001b[0m\n\u001b[0;32m    726\u001b[0m         \u001b[1;32melse\u001b[0m\u001b[1;33m:\u001b[0m\u001b[1;33m\u001b[0m\u001b[1;33m\u001b[0m\u001b[0m\n\u001b[1;32m--> 727\u001b[1;33m             \u001b[0mresult\u001b[0m \u001b[1;33m=\u001b[0m \u001b[0mself\u001b[0m\u001b[1;33m.\u001b[0m\u001b[0mforward\u001b[0m\u001b[1;33m(\u001b[0m\u001b[1;33m*\u001b[0m\u001b[0minput\u001b[0m\u001b[1;33m,\u001b[0m \u001b[1;33m**\u001b[0m\u001b[0mkwargs\u001b[0m\u001b[1;33m)\u001b[0m\u001b[1;33m\u001b[0m\u001b[1;33m\u001b[0m\u001b[0m\n\u001b[0m\u001b[0;32m    728\u001b[0m         for hook in itertools.chain(\n\u001b[0;32m    729\u001b[0m                 \u001b[0m_global_forward_hooks\u001b[0m\u001b[1;33m.\u001b[0m\u001b[0mvalues\u001b[0m\u001b[1;33m(\u001b[0m\u001b[1;33m)\u001b[0m\u001b[1;33m,\u001b[0m\u001b[1;33m\u001b[0m\u001b[1;33m\u001b[0m\u001b[0m\n",
      "\u001b[1;32m~\\miniconda3\\envs\\pytorch_examples\\lib\\site-packages\\torch\\nn\\modules\\conv.py\u001b[0m in \u001b[0;36mforward\u001b[1;34m(self, input)\u001b[0m\n\u001b[0;32m    421\u001b[0m \u001b[1;33m\u001b[0m\u001b[0m\n\u001b[0;32m    422\u001b[0m     \u001b[1;32mdef\u001b[0m \u001b[0mforward\u001b[0m\u001b[1;33m(\u001b[0m\u001b[0mself\u001b[0m\u001b[1;33m,\u001b[0m \u001b[0minput\u001b[0m\u001b[1;33m:\u001b[0m \u001b[0mTensor\u001b[0m\u001b[1;33m)\u001b[0m \u001b[1;33m->\u001b[0m \u001b[0mTensor\u001b[0m\u001b[1;33m:\u001b[0m\u001b[1;33m\u001b[0m\u001b[1;33m\u001b[0m\u001b[0m\n\u001b[1;32m--> 423\u001b[1;33m         \u001b[1;32mreturn\u001b[0m \u001b[0mself\u001b[0m\u001b[1;33m.\u001b[0m\u001b[0m_conv_forward\u001b[0m\u001b[1;33m(\u001b[0m\u001b[0minput\u001b[0m\u001b[1;33m,\u001b[0m \u001b[0mself\u001b[0m\u001b[1;33m.\u001b[0m\u001b[0mweight\u001b[0m\u001b[1;33m)\u001b[0m\u001b[1;33m\u001b[0m\u001b[1;33m\u001b[0m\u001b[0m\n\u001b[0m\u001b[0;32m    424\u001b[0m \u001b[1;33m\u001b[0m\u001b[0m\n\u001b[0;32m    425\u001b[0m \u001b[1;32mclass\u001b[0m \u001b[0mConv3d\u001b[0m\u001b[1;33m(\u001b[0m\u001b[0m_ConvNd\u001b[0m\u001b[1;33m)\u001b[0m\u001b[1;33m:\u001b[0m\u001b[1;33m\u001b[0m\u001b[1;33m\u001b[0m\u001b[0m\n",
      "\u001b[1;32m~\\miniconda3\\envs\\pytorch_examples\\lib\\site-packages\\torch\\nn\\modules\\conv.py\u001b[0m in \u001b[0;36m_conv_forward\u001b[1;34m(self, input, weight)\u001b[0m\n\u001b[0;32m    418\u001b[0m                             _pair(0), self.dilation, self.groups)\n\u001b[0;32m    419\u001b[0m         return F.conv2d(input, weight, self.bias, self.stride,\n\u001b[1;32m--> 420\u001b[1;33m                         self.padding, self.dilation, self.groups)\n\u001b[0m\u001b[0;32m    421\u001b[0m \u001b[1;33m\u001b[0m\u001b[0m\n\u001b[0;32m    422\u001b[0m     \u001b[1;32mdef\u001b[0m \u001b[0mforward\u001b[0m\u001b[1;33m(\u001b[0m\u001b[0mself\u001b[0m\u001b[1;33m,\u001b[0m \u001b[0minput\u001b[0m\u001b[1;33m:\u001b[0m \u001b[0mTensor\u001b[0m\u001b[1;33m)\u001b[0m \u001b[1;33m->\u001b[0m \u001b[0mTensor\u001b[0m\u001b[1;33m:\u001b[0m\u001b[1;33m\u001b[0m\u001b[1;33m\u001b[0m\u001b[0m\n",
      "\u001b[1;31mRuntimeError\u001b[0m: cuda runtime error (209) : no kernel image is available for execution on the device at C:/cb/pytorch_1000000000000/work/aten/src\\THC/generic/THCTensorMath.cu:19"
     ]
    }
   ],
   "source": [
    "\n",
    "#Check accuaracy before training\n",
    "test()\n",
    "tic = time.perf_counter()\n",
    "\n",
    "for epoch in range(1, n_epochs + 1):\n",
    "  train_gpu(epoch)\n",
    "  test_gpu()\n",
    "    \n",
    "toc = time.perf_counter()\n",
    "\n",
    "print(f\"Time elapsed: {toc - tic:0.4f} seconds\")"
   ]
  },
  {
   "cell_type": "code",
   "execution_count": null,
   "id": "experienced-fraction",
   "metadata": {},
   "outputs": [],
   "source": []
  },
  {
   "cell_type": "code",
   "execution_count": null,
   "id": "certified-homework",
   "metadata": {},
   "outputs": [],
   "source": []
  }
 ],
 "metadata": {
  "kernelspec": {
   "display_name": "Python 3",
   "language": "python",
   "name": "python3"
  },
  "language_info": {
   "codemirror_mode": {
    "name": "ipython",
    "version": 3
   },
   "file_extension": ".py",
   "mimetype": "text/x-python",
   "name": "python",
   "nbconvert_exporter": "python",
   "pygments_lexer": "ipython3",
   "version": "3.7.9"
  }
 },
 "nbformat": 4,
 "nbformat_minor": 5
}
