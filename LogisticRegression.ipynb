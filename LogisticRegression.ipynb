{
 "cells": [
  {
   "cell_type": "code",
   "execution_count": 2,
   "id": "unavailable-glance",
   "metadata": {},
   "outputs": [],
   "source": [
    "import torch\n",
    "import numpy as np\n",
    "from sklearn import datasets\n",
    "from sklearn.preprocessing import StandardScaler\n",
    "from sklearn.model_selection import train_test_split"
   ]
  },
  {
   "cell_type": "code",
   "execution_count": 3,
   "id": "blond-tulsa",
   "metadata": {},
   "outputs": [
    {
     "name": "stdout",
     "output_type": "stream",
     "text": [
      "epoch: 99 loss: 0.24010290205478668\n",
      "epoch: 199 loss: 0.18158398568630219\n",
      "epoch: 299 loss: 0.15417730808258057\n",
      "epoch: 399 loss: 0.13792960345745087\n",
      "epoch: 499 loss: 0.12704522907733917\n",
      "epoch: 599 loss: 0.11916771531105042\n",
      "epoch: 699 loss: 0.11315488815307617\n",
      "epoch: 799 loss: 0.10838492959737778\n",
      "epoch: 899 loss: 0.10448922961950302\n",
      "epoch: 999 loss: 0.101234570145607\n",
      "Accuracy: 0.9561403393745422\n"
     ]
    }
   ],
   "source": [
    "bc = datasets.load_breast_cancer()\n",
    "\n",
    "X, y = bc.data, bc.target\n",
    "\n",
    "n_samples, n_features = X.shape\n",
    "\n",
    "#split data, train and test\n",
    "\n",
    "X_train, X_test, y_train, y_test = train_test_split(X, y, test_size=0.2)\n",
    "\n",
    "#scale features, 0 mean\n",
    "sc = StandardScaler()\n",
    "\n",
    "X_train = sc.fit_transform(X_train)\n",
    "X_test = sc.fit_transform(X_test)\n",
    "\n",
    "#to tensor\n",
    "X_train = torch.from_numpy(X_train.astype(np.float32))\n",
    "X_test = torch.from_numpy(X_test.astype(np.float32))\n",
    "y_train = torch.from_numpy(y_train.astype(np.float32))\n",
    "y_test = torch.from_numpy(y_test.astype(np.float32))\n",
    "#reshape\n",
    "y_train = y_train.view(y_train.shape[0], 1)\n",
    "y_test = y_test.view(y_test.shape[0], 1)\n",
    "\n",
    "\n",
    "class LogRegModel(torch.nn.Module):\n",
    "  def __init__(self, n_input_features):\n",
    "    super(LogRegModel, self).__init__()\n",
    "    self.linear = torch.nn.Linear(n_input_features, 1)\n",
    "\n",
    "  def forward(self, x):\n",
    "    out = torch.sigmoid(self.linear(x))\n",
    "    return out\n",
    "\n",
    "l_rate = 0.01\n",
    "\n",
    "model = LogRegModel(n_features)\n",
    "\n",
    "criterion = torch.nn.BCELoss()\n",
    "\n",
    "optimizer = torch.optim.SGD(model.parameters(), lr=l_rate)\n",
    "\n",
    "n_epoch = 1000\n",
    "\n",
    "for epoch in range(n_epoch):\n",
    "\n",
    "  y_pred = model(X_train)\n",
    "\n",
    "  #calculate loss \n",
    "  loss = criterion(y_pred, y_train)\n",
    "\n",
    "  #calculate gradients\n",
    "  loss.backward()\n",
    "\n",
    "  #Update parameters\n",
    "  optimizer.step()\n",
    "\n",
    "  optimizer.zero_grad()\n",
    "\n",
    "  if (epoch + 1) % 100 == 0:\n",
    "    print(f'epoch: {epoch} loss: {loss.item()}')\n",
    "\n",
    "\n",
    "with torch.no_grad():\n",
    "  y_pred = model(X_test)\n",
    "  y_pred_cls = y_pred.round()\n",
    "\n",
    "  accuracy = y_pred_cls.eq(y_test).sum() / float(y_test.shape[0])\n",
    "\n",
    "  print(f'Accuracy: {accuracy}')"
   ]
  }
 ],
 "metadata": {
  "kernelspec": {
   "display_name": "Python 3",
   "language": "python",
   "name": "python3"
  },
  "language_info": {
   "codemirror_mode": {
    "name": "ipython",
    "version": 3
   },
   "file_extension": ".py",
   "mimetype": "text/x-python",
   "name": "python",
   "nbconvert_exporter": "python",
   "pygments_lexer": "ipython3",
   "version": "3.7.9"
  }
 },
 "nbformat": 4,
 "nbformat_minor": 5
}
