{
 "cells": [
  {
   "cell_type": "code",
   "execution_count": 1,
   "id": "nominated-cutting",
   "metadata": {},
   "outputs": [],
   "source": [
    "#from graphviz import Digraph\n",
    "#from torch.autograd import Variable\n",
    "\n",
    "import numpy as np\n",
    "import pandas as pd\n",
    "import torch\n",
    "import matplotlib.pyplot as plt\n",
    "\n",
    "#from utils import ALL_LETTERS, N_LETTERS\n",
    "#from utils import load_data, letter_to_tensor, line_to_tensor, random_training_example\n",
    "\n",
    "#import os\n",
    "#os.environ[\"PATH\"] += os.pathsep + 'C:/Users/Erick/miniconda3/envs/pytorch_examples/Library/bin/graphviz/'"
   ]
  },
  {
   "cell_type": "code",
   "execution_count": 2,
   "id": "derived-theta",
   "metadata": {},
   "outputs": [
    {
     "data": {
      "text/html": [
       "<div>\n",
       "<style scoped>\n",
       "    .dataframe tbody tr th:only-of-type {\n",
       "        vertical-align: middle;\n",
       "    }\n",
       "\n",
       "    .dataframe tbody tr th {\n",
       "        vertical-align: top;\n",
       "    }\n",
       "\n",
       "    .dataframe thead th {\n",
       "        text-align: right;\n",
       "    }\n",
       "</style>\n",
       "<table border=\"1\" class=\"dataframe\">\n",
       "  <thead>\n",
       "    <tr style=\"text-align: right;\">\n",
       "      <th></th>\n",
       "      <th>Date</th>\n",
       "      <th>Open</th>\n",
       "      <th>High</th>\n",
       "      <th>Low</th>\n",
       "      <th>Close</th>\n",
       "      <th>Volume</th>\n",
       "    </tr>\n",
       "  </thead>\n",
       "  <tbody>\n",
       "    <tr>\n",
       "      <th>0</th>\n",
       "      <td>1/3/2012</td>\n",
       "      <td>325.25</td>\n",
       "      <td>332.83</td>\n",
       "      <td>324.97</td>\n",
       "      <td>663.59</td>\n",
       "      <td>7,380,500</td>\n",
       "    </tr>\n",
       "    <tr>\n",
       "      <th>1</th>\n",
       "      <td>1/4/2012</td>\n",
       "      <td>331.27</td>\n",
       "      <td>333.87</td>\n",
       "      <td>329.08</td>\n",
       "      <td>666.45</td>\n",
       "      <td>5,749,400</td>\n",
       "    </tr>\n",
       "    <tr>\n",
       "      <th>2</th>\n",
       "      <td>1/5/2012</td>\n",
       "      <td>329.83</td>\n",
       "      <td>330.75</td>\n",
       "      <td>326.89</td>\n",
       "      <td>657.21</td>\n",
       "      <td>6,590,300</td>\n",
       "    </tr>\n",
       "    <tr>\n",
       "      <th>3</th>\n",
       "      <td>1/6/2012</td>\n",
       "      <td>328.34</td>\n",
       "      <td>328.77</td>\n",
       "      <td>323.68</td>\n",
       "      <td>648.24</td>\n",
       "      <td>5,405,900</td>\n",
       "    </tr>\n",
       "    <tr>\n",
       "      <th>4</th>\n",
       "      <td>1/9/2012</td>\n",
       "      <td>322.04</td>\n",
       "      <td>322.29</td>\n",
       "      <td>309.46</td>\n",
       "      <td>620.76</td>\n",
       "      <td>11,688,800</td>\n",
       "    </tr>\n",
       "  </tbody>\n",
       "</table>\n",
       "</div>"
      ],
      "text/plain": [
       "       Date    Open    High     Low   Close      Volume\n",
       "0  1/3/2012  325.25  332.83  324.97  663.59   7,380,500\n",
       "1  1/4/2012  331.27  333.87  329.08  666.45   5,749,400\n",
       "2  1/5/2012  329.83  330.75  326.89  657.21   6,590,300\n",
       "3  1/6/2012  328.34  328.77  323.68  648.24   5,405,900\n",
       "4  1/9/2012  322.04  322.29  309.46  620.76  11,688,800"
      ]
     },
     "execution_count": 2,
     "metadata": {},
     "output_type": "execute_result"
    }
   ],
   "source": [
    "#Get data from csv file\n",
    "pddata_train = pd.read_csv(\"data/stock_price/google/Google_Stock_Price_Train.csv\")\n",
    "pddata_test = pd.read_csv(\"data/stock_price/google/Google_Stock_Price_Test.csv\") \n",
    "# Preview the first 5 lines of the loaded data \n",
    "pddata_train.head()"
   ]
  },
  {
   "cell_type": "code",
   "execution_count": 3,
   "id": "southern-rebel",
   "metadata": {},
   "outputs": [],
   "source": [
    "data_train = pddata_train.loc[:, [\"Open\"]].values\n",
    "\n",
    "#data_train"
   ]
  },
  {
   "cell_type": "code",
   "execution_count": 4,
   "id": "technical-palmer",
   "metadata": {},
   "outputs": [
    {
     "data": {
      "image/png": "[encoded data removed]",
      "text/plain": [
       "<Figure size 432x288 with 1 Axes>"
      ]
     },
     "metadata": {
      "needs_background": "light"
     },
     "output_type": "display_data"
    }
   ],
   "source": [
    "# feature scalling\n",
    "from sklearn.preprocessing import MinMaxScaler\n",
    "\n",
    "scaler = MinMaxScaler(feature_range= (0,1)) # defining of Scaler\n",
    "data_train_scaled = scaler.fit_transform(data_train) # applying to Scaler to train\n",
    "\n",
    "plt.plot(data_train_scaled)\n",
    "plt.show()"
   ]
  },
  {
   "cell_type": "code",
   "execution_count": 34,
   "id": "sunrise-savage",
   "metadata": {},
   "outputs": [
    {
     "data": {
      "text/plain": [
       "0.08581367661284323"
      ]
     },
     "execution_count": 34,
     "metadata": {},
     "output_type": "execute_result"
    }
   ],
   "source": []
  },
  {
   "cell_type": "code",
   "execution_count": 228,
   "id": "accredited-training",
   "metadata": {},
   "outputs": [],
   "source": [
    "# We add first 50 locution to \"X_train\" and we 51. locution to \"y_train\" .\n",
    "X_train = []\n",
    "y_train = []\n",
    "timesteps = 50\n",
    "\n",
    "#This loop, makes X, Y trainings pairs from data_train_scaled list.\n",
    "#data_train_scaled has 1258 items, items from 0 to 49, will be X[0] and item 50 will be Y[0]\n",
    "#items 50 to 99 will be X[1], item 100 will be Y[1], and so on. This way previous 50 items will be\n",
    "#the input to estimate the next value.\n",
    "for i in range(timesteps, data_train_scaled.shape[0]):\n",
    "    X_train.append(data_train_scaled[i-timesteps:i,0])\n",
    "    y_train.append(data_train_scaled[i,0])\n",
    "\n",
    "X_train, y_train = np.array(X_train, dtype=np.float32), np.array(y_train, dtype=np.float32)\n",
    "\n",
    "\n",
    "# Reshaping\n",
    "#X_train = X_train.reshape(X_train.shape[0], X_train.shape[1], 1)  # Dimension of array is 3.\n",
    "y_train = y_train.reshape(y_train.shape[0], 1)  # Dimension of array is 3."
   ]
  },
  {
   "cell_type": "code",
   "execution_count": 208,
   "id": "coastal-tradition",
   "metadata": {},
   "outputs": [
    {
     "name": "stdout",
     "output_type": "stream",
     "text": [
      "(1208, 50)\n",
      "(1208,)\n"
     ]
    },
    {
     "data": {
      "text/plain": [
       "0.052143015"
      ]
     },
     "execution_count": 208,
     "metadata": {},
     "output_type": "execute_result"
    }
   ],
   "source": [
    "#this cell can be deleted\n",
    "\n",
    "print(np.shape(X_train))\n",
    "print(np.shape(y_train))\n",
    "\n",
    "#data_train_scaled[51 - 50: 51, 0]\n",
    "\n",
    "#print(np.shape(y_train))\n",
    "#print(X_train[1])\n",
    "#print(X_train[2])\n",
    "y_train[0]"
   ]
  },
  {
   "cell_type": "code",
   "execution_count": 209,
   "id": "insured-profit",
   "metadata": {},
   "outputs": [],
   "source": [
    "class LSTM(torch.nn.Module):\n",
    "\n",
    "    def __init__(self, input_size, output_size):\n",
    "        super(LSTM, self).__init__()\n",
    "        \n",
    "        self.input_size = input_size\n",
    "        self.hidden_size = output_size\n",
    "        self.output_size = output_size\n",
    "        \n",
    "        self.forget = torch.nn.Linear(input_size + self.hidden_size, output_size)\n",
    "        self.keep1 = torch.nn.Linear(input_size + self.hidden_size, output_size)\n",
    "        self.keep2 = torch.nn.Linear(input_size + self.hidden_size, output_size)\n",
    "        self.output = torch.nn.Linear(input_size + self.hidden_size, output_size)\n",
    "        self.outputPred = torch.nn.Linear(output_size, 1)\n",
    "        \n",
    "    def forward(self, input_tensor, hidden_tensor, cell_tensor):\n",
    "        \n",
    "        combined_input_hidden = torch.cat((input_tensor, hidden_tensor), 1)\n",
    "        \n",
    "        ft = torch.sigmoid(self.forget(combined_input_hidden))\n",
    "        it = torch.sigmoid(self.keep1(combined_input_hidden))\n",
    "        cell_candidate = torch.tanh(self.keep2(combined_input_hidden))\n",
    "        \n",
    "        new_cell = (ft * cell_tensor) + (it * cell_candidate)\n",
    "        \n",
    "        ot = torch.sigmoid(self.output(combined_input_hidden))\n",
    "        \n",
    "        new_hidden = ot * torch.tanh(new_cell)\n",
    "        \n",
    "        output = self.outputPred(new_hidden)\n",
    "        \n",
    "        return output, new_hidden, new_cell\n",
    "    \n",
    "    def init_hidden(self):\n",
    "        return torch.zeros(1, self.output_size)"
   ]
  },
  {
   "cell_type": "code",
   "execution_count": 226,
   "id": "collected-collar",
   "metadata": {},
   "outputs": [],
   "source": [
    "lstm = LSTM(1, 50)\n",
    "\n",
    "\n",
    "criterion = torch.nn.MSELoss()\n",
    "learning_rate = 0.01\n",
    "optimizer = torch.optim.SGD(lstm.parameters(), lr = learning_rate)"
   ]
  },
  {
   "cell_type": "code",
   "execution_count": 229,
   "id": "racial-disposal",
   "metadata": {},
   "outputs": [],
   "source": [
    "##This cell can be deleted\n",
    "\n",
    "\n",
    "hidden = lstm.init_hidden()\n",
    "cell = lstm.init_hidden()\n",
    "\n",
    "rand_index = np.random.choice(np.arange(0, X_train.shape[0]), 1)\n",
    "    \n",
    "torch_X_train = torch.from_numpy(X_train[rand_index])\n",
    "torch_y_train = torch.from_numpy(y_train[rand_index])\n",
    "\n",
    "\n",
    "output, hidden, cell = lstm(torch.reshape(torch_X_train[0][1], [1, 1]), hidden, cell)\n",
    "\n",
    "#torch_y_train.dtype\n",
    "loss = criterion(output, torch_y_train)\n",
    "#torch_y_train.shape"
   ]
  },
  {
   "cell_type": "code",
   "execution_count": 230,
   "id": "hazardous-independence",
   "metadata": {},
   "outputs": [],
   "source": [
    "def train(price_input_tensor, price_target_tensor):\n",
    "    hidden = lstm.init_hidden()\n",
    "    cell = lstm.init_hidden()\n",
    "    \n",
    "    for i in range(price_input_tensor.size()[0]):\n",
    "        \n",
    "        output, hidden, cell = lstm(torch.reshape(price_input_tensor[i], [1, 1]), hidden, cell)\n",
    "        \n",
    "    loss = criterion(output, price_target_tensor)\n",
    "    \n",
    "    optimizer.zero_grad()\n",
    "    loss.backward()\n",
    "    optimizer.step()\n",
    "    \n",
    "    return output, loss.item()"
   ]
  },
  {
   "cell_type": "code",
   "execution_count": 231,
   "id": "strong-florist",
   "metadata": {},
   "outputs": [
    {
     "name": "stdout",
     "output_type": "stream",
     "text": [
      "4999 50.0 0.0006\n",
      "9999 100.0 0.0001\n"
     ]
    },
    {
     "data": {
      "image/png": "[encoded data removed]",
      "text/plain": [
       "<Figure size 432x288 with 1 Axes>"
      ]
     },
     "metadata": {
      "needs_background": "light"
     },
     "output_type": "display_data"
    }
   ],
   "source": [
    "current_loss = 0\n",
    "all_losses = []\n",
    "plot_steps, print_steps = 1000, 5000\n",
    "n_iters = 10000\n",
    "\n",
    "for i in range(n_iters):\n",
    "    \n",
    "    rand_index = np.random.choice(np.arange(0, X_train.shape[0]), 1)\n",
    "    \n",
    "    torch_X_train = torch.from_numpy(X_train[rand_index])\n",
    "    torch_y_train = torch.from_numpy(y_train[rand_index])\n",
    "    \n",
    "    output, loss = train(torch_X_train[0], torch_y_train)\n",
    "    current_loss += loss\n",
    "    \n",
    "    if (i+1) % plot_steps == 0:\n",
    "        all_losses.append(current_loss / plot_steps)\n",
    "        current_loss = 0\n",
    "        \n",
    "    if (i+1) % print_steps == 0:\n",
    "        print(f\"{i} {i/n_iters*100:.1f} {loss:.4f}\")\n",
    "        \n",
    "plt.figure()\n",
    "plt.plot(all_losses)\n",
    "plt.show()"
   ]
  },
  {
   "cell_type": "code",
   "execution_count": 254,
   "id": "crazy-representative",
   "metadata": {},
   "outputs": [],
   "source": [
    "predictions = []\n",
    "\n",
    "with torch.no_grad():\n",
    "    \n",
    "    for i in range(X_train.shape[0]):\n",
    "        \n",
    "        hidden = lstm.init_hidden()\n",
    "        cell = lstm.init_hidden()\n",
    "        \n",
    "        torch_X_train = torch.from_numpy(X_train[i])\n",
    "\n",
    "\n",
    "        for i in range(torch_X_train.size()[0]):\n",
    "            output, hidden, cell = lstm(torch.reshape(torch_X_train[i], [1, 1]), hidden, cell)\n",
    "        \n",
    "        predictions.append(output[0])"
   ]
  },
  {
   "cell_type": "code",
   "execution_count": 259,
   "id": "oriental-regard",
   "metadata": {},
   "outputs": [
    {
     "data": {
      "image/png": "[encoded data removed]",
      "text/plain": [
       "<Figure size 432x288 with 1 Axes>"
      ]
     },
     "metadata": {
      "needs_background": "light"
     },
     "output_type": "display_data"
    }
   ],
   "source": [
    "plt.plot(data_train_scaled)\n",
    "plt.plot(predictions)\n",
    "plt.legend([\"real data\", \"prediction\"])\n",
    "plt.show()"
   ]
  },
  {
   "cell_type": "markdown",
   "id": "tracked-providence",
   "metadata": {},
   "source": [
    "### ToDo"
   ]
  },
  {
   "cell_type": "markdown",
   "id": "current-justice",
   "metadata": {},
   "source": [
    "* Split the original dataset in train and test, and make another example."
   ]
  },
  {
   "cell_type": "markdown",
   "id": "informative-screening",
   "metadata": {},
   "source": [
    "### Notes"
   ]
  },
  {
   "cell_type": "markdown",
   "id": "informative-boundary",
   "metadata": {},
   "source": [
    "* https://www.kaggle.com/tmtdmr/rnn-vs-lstm-on-google-stock-price-dataset"
   ]
  }
 ],
 "metadata": {
  "kernelspec": {
   "display_name": "Python 3",
   "language": "python",
   "name": "python3"
  },
  "language_info": {
   "codemirror_mode": {
    "name": "ipython",
    "version": 3
   },
   "file_extension": ".py",
   "mimetype": "text/x-python",
   "name": "python",
   "nbconvert_exporter": "python",
   "pygments_lexer": "ipython3",
   "version": "3.7.9"
  }
 },
 "nbformat": 4,
 "nbformat_minor": 5
}
