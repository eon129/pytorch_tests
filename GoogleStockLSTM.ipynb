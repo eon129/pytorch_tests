{
 "cells": [
  {
   "cell_type": "code",
   "execution_count": 1,
   "id": "nominated-cutting",
   "metadata": {},
   "outputs": [],
   "source": [
    "#from graphviz import Digraph\n",
    "#from torch.autograd import Variable\n",
    "\n",
    "import numpy as np\n",
    "import pandas as pd\n",
    "import torch\n",
    "import matplotlib.pyplot as plt\n",
    "\n",
    "#from utils import ALL_LETTERS, N_LETTERS\n",
    "#from utils import load_data, letter_to_tensor, line_to_tensor, random_training_example\n",
    "\n",
    "#import os\n",
    "#os.environ[\"PATH\"] += os.pathsep + 'C:/Users/Erick/miniconda3/envs/pytorch_examples/Library/bin/graphviz/'"
   ]
  },
  {
   "cell_type": "code",
   "execution_count": 5,
   "id": "derived-theta",
   "metadata": {},
   "outputs": [
    {
     "data": {
      "text/html": [
       "<div>\n",
       "<style scoped>\n",
       "    .dataframe tbody tr th:only-of-type {\n",
       "        vertical-align: middle;\n",
       "    }\n",
       "\n",
       "    .dataframe tbody tr th {\n",
       "        vertical-align: top;\n",
       "    }\n",
       "\n",
       "    .dataframe thead th {\n",
       "        text-align: right;\n",
       "    }\n",
       "</style>\n",
       "<table border=\"1\" class=\"dataframe\">\n",
       "  <thead>\n",
       "    <tr style=\"text-align: right;\">\n",
       "      <th></th>\n",
       "      <th>Date</th>\n",
       "      <th>Open</th>\n",
       "      <th>High</th>\n",
       "      <th>Low</th>\n",
       "      <th>Close</th>\n",
       "      <th>Volume</th>\n",
       "    </tr>\n",
       "  </thead>\n",
       "  <tbody>\n",
       "    <tr>\n",
       "      <th>0</th>\n",
       "      <td>1/3/2012</td>\n",
       "      <td>325.25</td>\n",
       "      <td>332.83</td>\n",
       "      <td>324.97</td>\n",
       "      <td>663.59</td>\n",
       "      <td>7,380,500</td>\n",
       "    </tr>\n",
       "    <tr>\n",
       "      <th>1</th>\n",
       "      <td>1/4/2012</td>\n",
       "      <td>331.27</td>\n",
       "      <td>333.87</td>\n",
       "      <td>329.08</td>\n",
       "      <td>666.45</td>\n",
       "      <td>5,749,400</td>\n",
       "    </tr>\n",
       "    <tr>\n",
       "      <th>2</th>\n",
       "      <td>1/5/2012</td>\n",
       "      <td>329.83</td>\n",
       "      <td>330.75</td>\n",
       "      <td>326.89</td>\n",
       "      <td>657.21</td>\n",
       "      <td>6,590,300</td>\n",
       "    </tr>\n",
       "    <tr>\n",
       "      <th>3</th>\n",
       "      <td>1/6/2012</td>\n",
       "      <td>328.34</td>\n",
       "      <td>328.77</td>\n",
       "      <td>323.68</td>\n",
       "      <td>648.24</td>\n",
       "      <td>5,405,900</td>\n",
       "    </tr>\n",
       "    <tr>\n",
       "      <th>4</th>\n",
       "      <td>1/9/2012</td>\n",
       "      <td>322.04</td>\n",
       "      <td>322.29</td>\n",
       "      <td>309.46</td>\n",
       "      <td>620.76</td>\n",
       "      <td>11,688,800</td>\n",
       "    </tr>\n",
       "  </tbody>\n",
       "</table>\n",
       "</div>"
      ],
      "text/plain": [
       "       Date    Open    High     Low   Close      Volume\n",
       "0  1/3/2012  325.25  332.83  324.97  663.59   7,380,500\n",
       "1  1/4/2012  331.27  333.87  329.08  666.45   5,749,400\n",
       "2  1/5/2012  329.83  330.75  326.89  657.21   6,590,300\n",
       "3  1/6/2012  328.34  328.77  323.68  648.24   5,405,900\n",
       "4  1/9/2012  322.04  322.29  309.46  620.76  11,688,800"
      ]
     },
     "execution_count": 5,
     "metadata": {},
     "output_type": "execute_result"
    }
   ],
   "source": [
    "#Get data from csv file\n",
    "pddata_train = pd.read_csv(\"data/stock_price/google/Google_Stock_Price_Train.csv\")\n",
    "pddata_test = pd.read_csv(\"data/stock_price/google/Google_Stock_Price_Test.csv\") \n",
    "# Preview the first 5 lines of the loaded data \n",
    "pddata_train.head()"
   ]
  },
  {
   "cell_type": "code",
   "execution_count": 21,
   "id": "southern-rebel",
   "metadata": {},
   "outputs": [],
   "source": [
    "data_train = pddata_train.loc[:, [\"Open\"]].values\n",
    "\n",
    "#data_train"
   ]
  },
  {
   "cell_type": "code",
   "execution_count": null,
   "id": "general-custody",
   "metadata": {},
   "outputs": [],
   "source": []
  },
  {
   "cell_type": "code",
   "execution_count": 23,
   "id": "technical-palmer",
   "metadata": {},
   "outputs": [
    {
     "data": {
      "image/png": "[encoded data removed]",
      "text/plain": [
       "<Figure size 432x288 with 1 Axes>"
      ]
     },
     "metadata": {
      "needs_background": "light"
     },
     "output_type": "display_data"
    }
   ],
   "source": [
    "# feature scalling\n",
    "from sklearn.preprocessing import MinMaxScaler\n",
    "\n",
    "scaler = MinMaxScaler(feature_range= (0,1)) # defining of Scaler\n",
    "data_train_scaled = scaler.fit_transform(data_train) # applying to Scaler to train\n",
    "\n",
    "plt.plot(data_train_scaled)\n",
    "plt.show()"
   ]
  },
  {
   "cell_type": "code",
   "execution_count": 34,
   "id": "sunrise-savage",
   "metadata": {},
   "outputs": [
    {
     "data": {
      "text/plain": [
       "0.08581367661284323"
      ]
     },
     "execution_count": 34,
     "metadata": {},
     "output_type": "execute_result"
    }
   ],
   "source": []
  },
  {
   "cell_type": "code",
   "execution_count": 55,
   "id": "accredited-training",
   "metadata": {},
   "outputs": [],
   "source": [
    "# We add first 50 locution to \"X_train\" and we 51. locution to \"y_train\" .\n",
    "X_train = []\n",
    "y_train = []\n",
    "timesteps = 50\n",
    "\n",
    "#This loop, makes X, Y trainings pairs from data_train_scaled list.\n",
    "#data_train_scaled has 1258 items, items from 0 to 49, will be X[0],  item 50 will be Y[0]\n",
    "#items 50 to 99 will be X[1], item 100 will be Y[1], and so on.\n",
    "for i in range(timesteps, data_train_scaled.shape[0]):\n",
    "    X_train.append(data_train_scaled[i-timesteps:i,0])\n",
    "    y_train.append(data_train_scaled[i,0])\n",
    "\n",
    "X_train, y_train = np.array(X_train), np.array(y_train)\n",
    "\n",
    "\n",
    "# Reshaping\n",
    "X_train = X_train.reshape(X_train.shape[0], X_train.shape[1], 1)  # Dimension of array is 3."
   ]
  },
  {
   "cell_type": "code",
   "execution_count": 52,
   "id": "coastal-tradition",
   "metadata": {},
   "outputs": [
    {
     "name": "stdout",
     "output_type": "stream",
     "text": [
      "(1208, 50)\n"
     ]
    }
   ],
   "source": [
    "#print(np.shape(X_train))\n",
    "print(np.shape(X_train))\n",
    "\n",
    "#data_train_scaled[51 - 50: 51, 0]\n",
    "\n",
    "#print(np.shape(y_train))\n",
    "#print(X_train[1])\n",
    "#print(X_train[2])"
   ]
  },
  {
   "cell_type": "code",
   "execution_count": 39,
   "id": "insured-profit",
   "metadata": {},
   "outputs": [],
   "source": [
    "class LSTM(torch.nn.Module):\n",
    "\n",
    "    def __init__(self, input_size, output_size):\n",
    "        super(LSTM, self).__init__()\n",
    "        \n",
    "        self.input_size = input_size\n",
    "        self.hidden_size = output_size\n",
    "        self.output_size = output_size\n",
    "        \n",
    "        self.forget = torch.nn.Linear(input_size + self.hidden_size, output_size)\n",
    "        self.keep1 = torch.nn.Linear(input_size + self.hidden_size, output_size)\n",
    "        self.keep2 = torch.nn.Linear(input_size + self.hidden_size, output_size)\n",
    "        self.output = torch.nn.Linear(input_size + self.hidden_size, output_size)\n",
    "        \n",
    "        self.softmax = torch.nn.LogSoftmax(dim=1)\n",
    "        \n",
    "    def forward(self, input_tensor, hidden_tensor, cell_tensor):\n",
    "        \n",
    "        combined_input_hidden = torch.cat((input_tensor, hidden_tensor), 1)\n",
    "        \n",
    "        ft = torch.sigmoid(self.forget(combined_input_hidden))\n",
    "        it = torch.sigmoid(self.keep1(combined_input_hidden))\n",
    "        cell_candidate = torch.tanh(self.keep2(combined_input_hidden))\n",
    "        \n",
    "        new_cell = (ft * cell_tensor) + (it * cell_candidate)\n",
    "        \n",
    "        ot = torch.sigmoid(self.output(combined_input_hidden))\n",
    "        \n",
    "        new_hidden = ot * torch.tanh(new_cell)\n",
    "        \n",
    "        output = self.softmax(new_hidden)\n",
    "        \n",
    "        return output, new_hidden, new_cell\n",
    "    \n",
    "    def init_hidden(self):\n",
    "        return torch.zeros(1, self.output_size)"
   ]
  },
  {
   "cell_type": "code",
   "execution_count": 35,
   "id": "smart-somerset",
   "metadata": {},
   "outputs": [],
   "source": [
    "category_lines, all_categories = load_data()\n",
    "\n",
    "def category_from_output(output):\n",
    "    category_idx = torch.argmax(output).item()\n",
    "    return all_categories[category_idx]"
   ]
  },
  {
   "cell_type": "code",
   "execution_count": 47,
   "id": "collected-collar",
   "metadata": {},
   "outputs": [],
   "source": [
    "n_categories = len(all_categories)\n",
    "\n",
    "#Hyperparameter, number of outputs in hidden layer \n",
    "n_hidden = n_categories\n",
    "\n",
    "lstm = LSTM(N_LETTERS, n_categories)\n",
    "\n",
    "\n",
    "criterion = torch.nn.NLLLoss()\n",
    "learning_rate = 0.01\n",
    "optimizer = torch.optim.SGD(lstm.parameters(), lr = learning_rate)"
   ]
  },
  {
   "cell_type": "code",
   "execution_count": 48,
   "id": "hazardous-independence",
   "metadata": {},
   "outputs": [],
   "source": [
    "def train(line_tensor, category_tensor):\n",
    "    hidden = lstm.init_hidden()\n",
    "    cell = lstm.init_hidden()\n",
    "    \n",
    "    for i in range(line_tensor.size()[0]):\n",
    "        output, hidden, cell = lstm(line_tensor[i], hidden, cell)\n",
    "        \n",
    "    loss = criterion(output, category_tensor)\n",
    "    \n",
    "    optimizer.zero_grad()\n",
    "    loss.backward()\n",
    "    optimizer.step()\n",
    "    \n",
    "    return output, loss.item()"
   ]
  },
  {
   "cell_type": "code",
   "execution_count": 49,
   "id": "strong-florist",
   "metadata": {},
   "outputs": [
    {
     "name": "stdout",
     "output_type": "stream",
     "text": [
      "4999 0.5 2.8762 O'Dowd / Greek WRONG (Irish)\n",
      "9999 1.0 2.8523 Antar / German WRONG (Arabic)\n",
      "14999 1.5 2.7429 Kijek / Czech WRONG (Polish)\n",
      "19999 2.0 2.8280 Cruz / Spanish WRONG (Portuguese)\n",
      "24999 2.5 2.3325 Vuong / Chinese WRONG (Vietnamese)\n",
      "29999 3.0 2.3875 Marquering / English WRONG (Dutch)\n",
      "34999 3.5 2.1949 Okanao / Japanese CORRECT\n",
      "39999 4.0 3.2947 Niemec / German WRONG (Polish)\n",
      "44999 4.5 3.2039 Moriguchi / Italian WRONG (Japanese)\n",
      "49999 5.0 2.2406 Hajkova / Japanese WRONG (Czech)\n",
      "54999 5.5 2.2485 Koziol / Japanese WRONG (Polish)\n",
      "59999 6.0 2.5126 Plamondon / Scottish WRONG (French)\n",
      "64999 6.5 2.5789 Fitzpatrick / Czech WRONG (English)\n",
      "69999 7.0 2.2971 Blanchet / English WRONG (French)\n",
      "74999 7.5 2.2385 Hirase / Japanese CORRECT\n",
      "79999 8.0 2.1723 Jelyabujsky / Polish WRONG (Russian)\n",
      "84999 8.5 1.4179 Moshnikov / Russian CORRECT\n",
      "89999 9.0 1.8403 Shim / Vietnamese WRONG (Korean)\n",
      "94999 9.5 1.4713 Abjaliloff / Russian CORRECT\n",
      "99999 10.0 2.2242 Ma / Vietnamese WRONG (Korean)\n",
      "104999 10.5 2.1921 Vogts / Portuguese WRONG (German)\n",
      "109999 11.0 2.7416 St martin / Scottish WRONG (French)\n",
      "114999 11.5 1.8150 Abbiati / Italian CORRECT\n",
      "119999 12.0 1.7456 Abboud / Arabic CORRECT\n",
      "124999 12.5 3.1550 Kan / Korean WRONG (Japanese)\n",
      "129999 13.0 1.6681 Watson / Scottish CORRECT\n",
      "134999 13.5 1.6244 Altoviti / Italian CORRECT\n",
      "139999 14.0 1.8746 Mcmillan / German WRONG (Scottish)\n",
      "144999 14.5 2.1370 Rana / Spanish WRONG (Italian)\n",
      "149999 15.0 1.5064 Trang / Vietnamese CORRECT\n",
      "154999 15.5 1.5735 Agaponoff / Russian CORRECT\n",
      "159999 16.0 1.5878 Zdunowski / Polish CORRECT\n",
      "164999 16.5 2.8511 Borovski / Polish WRONG (Czech)\n",
      "169999 17.0 1.7917 Gomolka / Czech WRONG (Polish)\n",
      "174999 17.5 1.6284 Czabal / Czech CORRECT\n",
      "179999 18.0 1.8646 Melo / Spanish WRONG (Portuguese)\n",
      "184999 18.5 3.1849 Gravari / Italian WRONG (Greek)\n",
      "189999 19.0 2.7344 Sze  / Korean WRONG (Chinese)\n",
      "194999 19.5 3.2279 Soler / Dutch WRONG (Spanish)\n",
      "199999 20.0 1.7868 Ribeiro / Italian WRONG (Portuguese)\n",
      "204999 20.5 2.4228 Fernandes / Dutch WRONG (Portuguese)\n",
      "209999 21.0 1.9381 Shula / Czech CORRECT\n",
      "214999 21.5 2.9287 Zhiril / Czech WRONG (Russian)\n",
      "219999 22.0 1.4498 Trinh / Vietnamese CORRECT\n",
      "224999 22.5 2.1341 Gerald / French WRONG (Irish)\n",
      "229999 23.0 1.6230 Jin / Korean WRONG (Chinese)\n",
      "234999 23.5 1.9311 Marek / Czech WRONG (Polish)\n",
      "239999 24.0 1.3042 Fujikage / Japanese CORRECT\n",
      "244999 24.5 1.7295 Tieu / Vietnamese CORRECT\n",
      "249999 25.0 1.9205 Marek / Czech WRONG (Polish)\n",
      "254999 25.5 2.4585 Suaird / Arabic WRONG (Irish)\n",
      "259999 26.0 1.5665 Germain / French CORRECT\n",
      "264999 26.5 1.4949 Forakis / Greek CORRECT\n",
      "269999 27.0 2.1511 Carver / French WRONG (German)\n",
      "274999 27.5 2.0555 Albuquerque / French WRONG (Portuguese)\n",
      "279999 28.0 1.7874 Sorrentino / Italian CORRECT\n",
      "284999 28.5 1.5910 Millington / English CORRECT\n",
      "289999 29.0 1.8158 Oursler / German CORRECT\n",
      "294999 29.5 3.1494 Ransom / Scottish WRONG (Czech)\n",
      "299999 30.0 1.5062 Vinh / Vietnamese CORRECT\n",
      "304999 30.5 1.8728 Favre / French CORRECT\n",
      "309999 31.0 1.6934 Chung / Vietnamese CORRECT\n",
      "314999 31.5 1.7075 Comtois / French CORRECT\n",
      "319999 32.0 1.6712 Than / Chinese WRONG (Vietnamese)\n",
      "324999 32.5 1.6374 Rzehak / Czech CORRECT\n",
      "329999 33.0 1.4928 Manoukarakis / Greek CORRECT\n",
      "334999 33.5 1.3262 Bukoski / Polish CORRECT\n",
      "339999 34.0 3.2111 Lyon / Korean WRONG (French)\n",
      "344999 34.5 1.5347 Wronski / Polish CORRECT\n",
      "349999 35.0 1.4037 O'Donoghue / Irish CORRECT\n",
      "354999 35.5 3.2730 Guirguis / Greek WRONG (Arabic)\n",
      "359999 36.0 2.1252 Porcher / German WRONG (French)\n",
      "364999 36.5 2.1073 Bauer / French WRONG (German)\n",
      "369999 37.0 1.5458 Vinh / Vietnamese CORRECT\n",
      "374999 37.5 1.7314 Macikova / Czech CORRECT\n",
      "379999 38.0 1.5313 Leclair / French CORRECT\n",
      "384999 38.5 2.4629 Gehrig / French WRONG (German)\n",
      "389999 39.0 1.3000 Oshima / Japanese CORRECT\n",
      "394999 39.5 1.3850 Youn / Korean CORRECT\n",
      "399999 40.0 1.4765 Petrakis / Greek CORRECT\n",
      "404999 40.5 3.2717 Soler / German WRONG (Spanish)\n",
      "409999 41.0 3.7000 Papageorge / Dutch WRONG (Greek)\n",
      "414999 41.5 1.5905 Moraitopoulos / Greek CORRECT\n",
      "419999 42.0 1.9168 Guerin / French CORRECT\n",
      "424999 42.5 1.4604 Yokokawa / Japanese CORRECT\n",
      "429999 43.0 3.1811 Kumiega / Japanese WRONG (Polish)\n",
      "434999 43.5 1.6363 Oursler / Dutch WRONG (German)\n",
      "439999 44.0 1.7091 Yu / Korean CORRECT\n",
      "444999 44.5 1.5942 Xing / Korean WRONG (Chinese)\n",
      "449999 45.0 2.0002 Machado / Italian WRONG (Portuguese)\n",
      "454999 45.5 1.3679 Ogura / Japanese CORRECT\n",
      "459999 46.0 2.0254 Ybarra / Czech WRONG (Spanish)\n",
      "464999 46.5 1.5166 Ferguson / Scottish CORRECT\n",
      "469999 47.0 1.5136 Telis / Greek CORRECT\n",
      "474999 47.5 1.9403 Asuhara / Arabic WRONG (Japanese)\n",
      "479999 48.0 3.1425 Siskin / Russian WRONG (German)\n",
      "484999 48.5 2.1080 Tremblay / Scottish WRONG (French)\n",
      "489999 49.0 1.9029 Vicario / Portuguese WRONG (Spanish)\n",
      "494999 49.5 1.4485 Aswad / Arabic CORRECT\n",
      "499999 50.0 1.7378 Santiago / Japanese WRONG (Portuguese)\n",
      "504999 50.5 2.5967 Kim / Korean WRONG (Vietnamese)\n",
      "509999 51.0 2.3762 Leone / Chinese WRONG (Italian)\n",
      "514999 51.5 1.9254 Heidl / English WRONG (Czech)\n",
      "519999 52.0 2.9486 AuYong / French WRONG (Chinese)\n",
      "524999 52.5 1.4919 Abboud / Arabic CORRECT\n",
      "529999 53.0 1.8340 Mazza / Italian CORRECT\n",
      "534999 53.5 1.5189 Abboud / Arabic CORRECT\n",
      "539999 54.0 2.0379 Gil / Chinese WRONG (Korean)\n",
      "544999 54.5 1.4740 Trinh / Vietnamese CORRECT\n",
      "549999 55.0 2.2891 Tosell / English WRONG (Spanish)\n",
      "554999 55.5 1.9279 Gu / Vietnamese WRONG (Korean)\n",
      "559999 56.0 1.4580 Koolen / Dutch CORRECT\n",
      "564999 56.5 1.6188 Samaha / Arabic CORRECT\n",
      "569999 57.0 1.5999 Martelli / Italian CORRECT\n",
      "574999 57.5 1.4283 Bobienski / Polish CORRECT\n",
      "579999 58.0 1.2488 Kinashita / Japanese CORRECT\n",
      "584999 58.5 1.6201 Shalmanov / Russian CORRECT\n",
      "589999 59.0 2.1108 Lee / Chinese WRONG (Korean)\n",
      "594999 59.5 3.1861 Koo / Korean WRONG (Chinese)\n",
      "599999 60.0 1.7109 Munro / Scottish CORRECT\n",
      "604999 60.5 1.5313 Jaskulski / Polish CORRECT\n",
      "609999 61.0 3.2311 Ross / Greek WRONG (Scottish)\n",
      "614999 61.5 2.0645 Hill / Czech WRONG (Scottish)\n",
      "619999 62.0 1.3099 Takimoto / Japanese CORRECT\n",
      "624999 62.5 1.5956 Choi / Korean CORRECT\n",
      "629999 63.0 1.5814 Morisue / Japanese CORRECT\n",
      "634999 63.5 1.6954 Attia / Arabic CORRECT\n",
      "639999 64.0 1.9192 Schoorel / German WRONG (Dutch)\n",
      "644999 64.5 1.8830 Sloan / Irish CORRECT\n",
      "649999 65.0 1.7221 Wildman / Scottish WRONG (English)\n",
      "654999 65.5 1.6875 Barros / Portuguese CORRECT\n",
      "659999 66.0 1.4398 Zouvelekis / Greek CORRECT\n",
      "664999 66.5 1.8299 Slepica / Czech CORRECT\n",
      "669999 67.0 1.5890 Moghadam / Irish WRONG (Arabic)\n",
      "674999 67.5 1.9077 Crespo / Dutch WRONG (Italian)\n",
      "679999 68.0 3.3384 Tsai  / Arabic WRONG (Korean)\n",
      "684999 68.5 2.3961 Mcguire / Scottish WRONG (Irish)\n",
      "689999 69.0 3.5060 Grec / German WRONG (Spanish)\n",
      "694999 69.5 1.9156 Rothbauer / German CORRECT\n",
      "699999 70.0 1.8024 Aldana / Italian WRONG (Spanish)\n",
      "704999 70.5 1.6405 Rigatos / Greek CORRECT\n",
      "709999 71.0 3.5740 Michel / Vietnamese WRONG (Polish)\n",
      "714999 71.5 2.9547 Mears / Portuguese WRONG (English)\n",
      "719999 72.0 1.4826 Haritopoulos / Greek CORRECT\n",
      "724999 72.5 2.4851 Mata / Arabic WRONG (Spanish)\n",
      "729999 73.0 1.8978 Guerra / Portuguese CORRECT\n",
      "734999 73.5 1.6484 Laurenz / German CORRECT\n",
      "739999 74.0 1.2365 Nakamoto / Japanese CORRECT\n",
      "744999 74.5 3.5642 King / Korean WRONG (Scottish)\n",
      "749999 75.0 1.6580 Mclain / Scottish WRONG (Irish)\n",
      "754999 75.5 1.5546 Mclean / Scottish CORRECT\n",
      "759999 76.0 1.4712 Deschamps / French CORRECT\n",
      "764999 76.5 1.7600 Mai / Chinese WRONG (Vietnamese)\n",
      "769999 77.0 1.5071 Shon / Korean CORRECT\n",
      "774999 77.5 2.3215 Cham / Korean WRONG (Arabic)\n",
      "779999 78.0 1.8333 Wexler / German CORRECT\n",
      "784999 78.5 1.8788 Vinton / Scottish WRONG (English)\n",
      "789999 79.0 2.1989 Paul / French WRONG (German)\n",
      "794999 79.5 1.2642 O'Reilly / Irish CORRECT\n",
      "799999 80.0 1.7797 Palmeiro / Portuguese CORRECT\n",
      "804999 80.5 1.4671 Paulissen / Dutch CORRECT\n",
      "809999 81.0 1.3298 Matsumoto / Japanese CORRECT\n",
      "814999 81.5 1.2510 O'Bree / Irish CORRECT\n",
      "819999 82.0 1.2247 O'Grady / Irish CORRECT\n",
      "824999 82.5 1.8049 Miller / Scottish CORRECT\n",
      "829999 83.0 2.2069 Campbell / German WRONG (Scottish)\n",
      "834999 83.5 1.4614 Seighin / Irish CORRECT\n",
      "839999 84.0 1.7020 Paisar / Czech CORRECT\n",
      "844999 84.5 1.9703 Srour / Czech WRONG (Arabic)\n",
      "849999 85.0 1.4950 Dalianis / Greek CORRECT\n",
      "854999 85.5 1.9841 Boesch / German CORRECT\n",
      "859999 86.0 1.4779 Pho / Vietnamese CORRECT\n"
     ]
    },
    {
     "name": "stdout",
     "output_type": "stream",
     "text": [
      "864999 86.5 2.6358 Koning / Dutch CORRECT\n",
      "869999 87.0 1.4537 Kvasnicka / Czech CORRECT\n",
      "874999 87.5 1.5915 Sarkis / Arabic CORRECT\n",
      "879999 88.0 1.9253 Wyrick / Czech WRONG (Polish)\n",
      "884999 88.5 1.5807 Rademaker / Dutch CORRECT\n",
      "889999 89.0 1.4919 Than / Vietnamese CORRECT\n",
      "894999 89.5 2.3976 Altham / English CORRECT\n",
      "899999 90.0 1.4758 Abboud / Arabic CORRECT\n",
      "904999 90.5 1.4448 Bach / Vietnamese CORRECT\n",
      "909999 91.0 1.6717 Ramirez / Spanish CORRECT\n",
      "914999 91.5 1.6410 Kloeten / German WRONG (Dutch)\n",
      "919999 92.0 1.6791 Tieu / Vietnamese CORRECT\n",
      "924999 92.5 1.8531 Holan / Czech CORRECT\n",
      "929999 93.0 1.8671 De sauveterre / Dutch WRONG (French)\n",
      "934999 93.5 2.0651 Gerald / French WRONG (Irish)\n",
      "939999 94.0 1.6345 Marshall / Scottish CORRECT\n",
      "944999 94.5 1.6373 Ding / Vietnamese WRONG (Chinese)\n",
      "949999 95.0 1.4127 Masuzoe / Japanese CORRECT\n",
      "954999 95.5 1.3212 Newby / English CORRECT\n",
      "959999 96.0 2.9687 Kunkel / Czech WRONG (German)\n",
      "964999 96.5 1.8641 Meeuwe / French WRONG (Dutch)\n",
      "969999 97.0 1.9475 Maria / Portuguese CORRECT\n",
      "974999 97.5 1.7332 Tsang / Arabic WRONG (Chinese)\n",
      "979999 98.0 1.9957 Ku / Korean CORRECT\n",
      "984999 98.5 1.6492 Seo / Korean CORRECT\n",
      "989999 99.0 3.2919 Fergus / Portuguese WRONG (Irish)\n",
      "994999 99.5 1.4856 Yang / Chinese WRONG (Korean)\n",
      "999999 100.0 1.9164 Noguerra / Czech WRONG (Spanish)\n"
     ]
    },
    {
     "data": {
      "image/png": "[encoded data removed]",
      "text/plain": [
       "<Figure size 432x288 with 1 Axes>"
      ]
     },
     "metadata": {
      "needs_background": "light"
     },
     "output_type": "display_data"
    }
   ],
   "source": [
    "current_loss = 0\n",
    "all_losses = []\n",
    "plot_steps, print_steps = 1000, 5000\n",
    "n_iters = 1000000\n",
    "\n",
    "for i in range(n_iters):\n",
    "    category, line, category_tensor, line_tensor = random_training_example(category_lines, all_categories)\n",
    "    \n",
    "    output, loss = train(line_tensor, category_tensor)\n",
    "    current_loss += loss\n",
    "    \n",
    "    if (i+1) % plot_steps == 0:\n",
    "        all_losses.append(current_loss / plot_steps)\n",
    "        current_loss = 0\n",
    "        \n",
    "    if (i+1) % print_steps == 0:\n",
    "        guess = category_from_output(output)\n",
    "        correct = \"CORRECT\" if guess == category else f\"WRONG ({category})\"\n",
    "        print(f\"{i} {i/n_iters*100:.1f} {loss:.4f} {line} / {guess} {correct}\")\n",
    "        \n",
    "plt.figure()\n",
    "plt.plot(all_losses)\n",
    "plt.show()"
   ]
  },
  {
   "cell_type": "code",
   "execution_count": 51,
   "id": "crazy-representative",
   "metadata": {},
   "outputs": [],
   "source": [
    "def predict(input_line):\n",
    "    with torch.no_grad():\n",
    "        line_tensor = line_to_tensor(input_line)\n",
    "        \n",
    "        hidden = lstm.init_hidden()\n",
    "        cell = lstm.init_hidden()\n",
    "        for i in range(line_tensor.size()[0]):\n",
    "            output, hidden, cell = lstm(line_tensor[i], hidden, cell)\n",
    "            \n",
    "        gess = category_from_output(output)\n",
    "        return gess"
   ]
  },
  {
   "cell_type": "code",
   "execution_count": 54,
   "id": "little-windsor",
   "metadata": {},
   "outputs": [
    {
     "data": {
      "text/plain": [
       "'Spanish'"
      ]
     },
     "execution_count": 54,
     "metadata": {},
     "output_type": "execute_result"
    }
   ],
   "source": [
    "predict('Srinivasa')"
   ]
  },
  {
   "cell_type": "markdown",
   "id": "tracked-providence",
   "metadata": {},
   "source": [
    "### ToDo"
   ]
  },
  {
   "cell_type": "markdown",
   "id": "current-justice",
   "metadata": {},
   "source": [
    "* What is locution?"
   ]
  },
  {
   "cell_type": "markdown",
   "id": "informative-screening",
   "metadata": {},
   "source": [
    "### Notes"
   ]
  },
  {
   "cell_type": "markdown",
   "id": "informative-boundary",
   "metadata": {},
   "source": [
    "* https://www.kaggle.com/tmtdmr/rnn-vs-lstm-on-google-stock-price-dataset"
   ]
  }
 ],
 "metadata": {
  "kernelspec": {
   "display_name": "Python 3",
   "language": "python",
   "name": "python3"
  },
  "language_info": {
   "codemirror_mode": {
    "name": "ipython",
    "version": 3
   },
   "file_extension": ".py",
   "mimetype": "text/x-python",
   "name": "python",
   "nbconvert_exporter": "python",
   "pygments_lexer": "ipython3",
   "version": "3.8.5"
  }
 },
 "nbformat": 4,
 "nbformat_minor": 5
}
