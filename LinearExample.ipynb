{
 "cells": [
  {
   "cell_type": "markdown",
   "id": "further-sponsorship",
   "metadata": {},
   "source": [
    "# Linear regression example"
   ]
  },
  {
   "cell_type": "code",
   "execution_count": 1,
   "id": "medical-circuit",
   "metadata": {},
   "outputs": [],
   "source": [
    "import matplotlib.pyplot as plt\n",
    "import pandas as pd\n",
    "import numpy as np\n",
    "from torch.utils.data import TensorDataset, DataLoader\n",
    "import time"
   ]
  },
  {
   "cell_type": "code",
   "execution_count": 2,
   "id": "subjective-break",
   "metadata": {},
   "outputs": [
    {
     "data": {
      "text/html": [
       "<div>\n",
       "<style scoped>\n",
       "    .dataframe tbody tr th:only-of-type {\n",
       "        vertical-align: middle;\n",
       "    }\n",
       "\n",
       "    .dataframe tbody tr th {\n",
       "        vertical-align: top;\n",
       "    }\n",
       "\n",
       "    .dataframe thead th {\n",
       "        text-align: right;\n",
       "    }\n",
       "</style>\n",
       "<table border=\"1\" class=\"dataframe\">\n",
       "  <thead>\n",
       "    <tr style=\"text-align: right;\">\n",
       "      <th></th>\n",
       "      <th>age</th>\n",
       "      <th>sex</th>\n",
       "      <th>bmi</th>\n",
       "      <th>children</th>\n",
       "      <th>smoker</th>\n",
       "      <th>region</th>\n",
       "      <th>charges</th>\n",
       "    </tr>\n",
       "  </thead>\n",
       "  <tbody>\n",
       "    <tr>\n",
       "      <th>0</th>\n",
       "      <td>19</td>\n",
       "      <td>female</td>\n",
       "      <td>27.900</td>\n",
       "      <td>0</td>\n",
       "      <td>yes</td>\n",
       "      <td>southwest</td>\n",
       "      <td>16884.92400</td>\n",
       "    </tr>\n",
       "    <tr>\n",
       "      <th>1</th>\n",
       "      <td>18</td>\n",
       "      <td>male</td>\n",
       "      <td>33.770</td>\n",
       "      <td>1</td>\n",
       "      <td>no</td>\n",
       "      <td>southeast</td>\n",
       "      <td>1725.55230</td>\n",
       "    </tr>\n",
       "    <tr>\n",
       "      <th>2</th>\n",
       "      <td>28</td>\n",
       "      <td>male</td>\n",
       "      <td>33.000</td>\n",
       "      <td>3</td>\n",
       "      <td>no</td>\n",
       "      <td>southeast</td>\n",
       "      <td>4449.46200</td>\n",
       "    </tr>\n",
       "    <tr>\n",
       "      <th>3</th>\n",
       "      <td>33</td>\n",
       "      <td>male</td>\n",
       "      <td>22.705</td>\n",
       "      <td>0</td>\n",
       "      <td>no</td>\n",
       "      <td>northwest</td>\n",
       "      <td>21984.47061</td>\n",
       "    </tr>\n",
       "    <tr>\n",
       "      <th>4</th>\n",
       "      <td>32</td>\n",
       "      <td>male</td>\n",
       "      <td>28.880</td>\n",
       "      <td>0</td>\n",
       "      <td>no</td>\n",
       "      <td>northwest</td>\n",
       "      <td>3866.85520</td>\n",
       "    </tr>\n",
       "  </tbody>\n",
       "</table>\n",
       "</div>"
      ],
      "text/plain": [
       "   age     sex     bmi  children smoker     region      charges\n",
       "0   19  female  27.900         0    yes  southwest  16884.92400\n",
       "1   18    male  33.770         1     no  southeast   1725.55230\n",
       "2   28    male  33.000         3     no  southeast   4449.46200\n",
       "3   33    male  22.705         0     no  northwest  21984.47061\n",
       "4   32    male  28.880         0     no  northwest   3866.85520"
      ]
     },
     "execution_count": 2,
     "metadata": {},
     "output_type": "execute_result"
    }
   ],
   "source": [
    "#Get data from csv file\n",
    "data = pd.read_csv(\"LinearExample/insurance.csv\") \n",
    "# Preview the first 5 lines of the loaded data \n",
    "data.head()"
   ]
  },
  {
   "cell_type": "markdown",
   "id": "instrumental-currency",
   "metadata": {},
   "source": [
    "### Check bmi distribution"
   ]
  },
  {
   "cell_type": "code",
   "execution_count": 3,
   "id": "juvenile-strip",
   "metadata": {},
   "outputs": [
    {
     "data": {
      "image/png": "[encoded data removed]",
      "text/plain": [
       "<Figure size 432x288 with 1 Axes>"
      ]
     },
     "metadata": {
      "needs_background": "light"
     },
     "output_type": "display_data"
    }
   ],
   "source": [
    "dataNp = data.to_numpy()\n",
    "bmi = dataNp[:,2]\n",
    "bmi = bmi.astype('float64')\n",
    "\n",
    "plt.hist(bmi, bins=15)\n",
    "plt.show()"
   ]
  },
  {
   "cell_type": "markdown",
   "id": "judicial-relaxation",
   "metadata": {},
   "source": [
    "### Check charges distribution"
   ]
  },
  {
   "cell_type": "code",
   "execution_count": 4,
   "id": "excess-novelty",
   "metadata": {},
   "outputs": [
    {
     "data": {
      "image/png": "[encoded data removed]",
      "text/plain": [
       "<Figure size 432x288 with 1 Axes>"
      ]
     },
     "metadata": {
      "needs_background": "light"
     },
     "output_type": "display_data"
    }
   ],
   "source": [
    "dataNp = data.to_numpy()\n",
    "\n",
    "age = dataNp[:, 0]\n",
    "age = age.astype('float64')\n",
    "sex = dataNp[:, 1]\n",
    "children = dataNp[:, 3]\n",
    "charges = dataNp[:, 6]\n",
    "charges = charges.astype('float64')\n",
    "\n",
    "\n",
    "plt.hist(charges, bins=20)\n",
    "plt.show()"
   ]
  },
  {
   "cell_type": "markdown",
   "id": "infinite-windows",
   "metadata": {},
   "source": [
    "### Checking relationship between age and charges"
   ]
  },
  {
   "cell_type": "code",
   "execution_count": 5,
   "id": "bored-benchmark",
   "metadata": {},
   "outputs": [
    {
     "data": {
      "image/png": "[encoded data removed]",
      "text/plain": [
       "<Figure size 432x288 with 1 Axes>"
      ]
     },
     "metadata": {
      "needs_background": "light"
     },
     "output_type": "display_data"
    }
   ],
   "source": [
    "plt.plot(age, charges, 'x');"
   ]
  },
  {
   "cell_type": "markdown",
   "id": "variable-solution",
   "metadata": {},
   "source": [
    "Checking plot, seems that there is a linear relation between these variables. It's very spreaded though.\n",
    "\n",
    "Let's try to find a linear equation that fits this data just for fun.\n",
    "\n",
    "With this visualization, 3 clusters are visible.\n",
    "How do they relate with other variables?\n",
    "How can I find the relation between a cluster and another variable(s)?"
   ]
  },
  {
   "cell_type": "markdown",
   "id": "secondary-nothing",
   "metadata": {},
   "source": [
    "### Train the model with pytorch"
   ]
  },
  {
   "cell_type": "code",
   "execution_count": 6,
   "id": "monthly-chicken",
   "metadata": {},
   "outputs": [],
   "source": [
    "from sklearn.model_selection import train_test_split\n",
    "import torch\n",
    "import torch.nn as nn\n",
    "import torch.nn.functional as F\n",
    "import torch.optim as optim"
   ]
  },
  {
   "cell_type": "code",
   "execution_count": 7,
   "id": "earlier-update",
   "metadata": {},
   "outputs": [],
   "source": [
    "#Get normalize values before spliting sets\n",
    "ageNorm = np.linalg.norm(age)\n",
    "chargesNorm = np.linalg.norm(charges)\n",
    "\n",
    "#divide train and test dataset\n",
    "X_train, X_test, y_train, y_test = train_test_split(age, charges, train_size=0.65,test_size=0.35)\n",
    "\n",
    "#Get data sample sizes\n",
    "trainDataSize = X_train.size\n",
    "testDataSize = y_test.size\n",
    "\n",
    "#normalize data\n",
    "X_train =  X_train / ageNorm\n",
    "X_test =  X_test / ageNorm\n",
    "y_train = y_train / chargesNorm\n",
    "y_test = y_test / chargesNorm"
   ]
  },
  {
   "cell_type": "markdown",
   "id": "beautiful-penalty",
   "metadata": {},
   "source": [
    "### Plot after normalization"
   ]
  },
  {
   "cell_type": "code",
   "execution_count": 8,
   "id": "solved-enclosure",
   "metadata": {},
   "outputs": [
    {
     "data": {
      "image/png": "[encoded data removed]",
      "text/plain": [
       "<Figure size 432x288 with 1 Axes>"
      ]
     },
     "metadata": {
      "needs_background": "light"
     },
     "output_type": "display_data"
    }
   ],
   "source": [
    "plt.plot(X_train, y_train, 'x');"
   ]
  },
  {
   "cell_type": "markdown",
   "id": "organized-general",
   "metadata": {},
   "source": [
    "### Use sklearn to train model and then plot calculated function and train data together"
   ]
  },
  {
   "cell_type": "code",
   "execution_count": 9,
   "id": "downtown-mirror",
   "metadata": {},
   "outputs": [
    {
     "data": {
      "image/png": "[encoded data removed]",
      "text/plain": [
       "<Figure size 432x288 with 1 Axes>"
      ]
     },
     "metadata": {
      "needs_background": "light"
     },
     "output_type": "display_data"
    },
    {
     "name": "stdout",
     "output_type": "stream",
     "text": [
      "B0: [0.00381401], B1: [0.64505069]\n"
     ]
    }
   ],
   "source": [
    "from sklearn.linear_model import LinearRegression\n",
    "linr = LinearRegression()\n",
    "linr.fit(X_train.reshape(-1,1), y_train.reshape(-1,1))\n",
    "\n",
    "beta0 = linr.intercept_\n",
    "beta1 = linr.coef_[0]\n",
    "\n",
    "yplot = X_train * beta1 + beta0\n",
    "\n",
    "plt.plot(X_train, y_train, 'x');\n",
    "plt.plot(X_train, yplot, 'g')\n",
    "plt.show()\n",
    "\n",
    "print(f'B0: {beta0}, B1: {beta1}')"
   ]
  },
  {
   "cell_type": "markdown",
   "id": "serious-father",
   "metadata": {},
   "source": [
    "### Evaluate model with coeficients provided by sklearn, Plot error distribution"
   ]
  },
  {
   "cell_type": "code",
   "execution_count": 10,
   "id": "amazing-structure",
   "metadata": {},
   "outputs": [
    {
     "data": {
      "image/png": "[encoded data removed]",
      "text/plain": [
       "<Figure size 432x288 with 1 Axes>"
      ]
     },
     "metadata": {
      "needs_background": "light"
     },
     "output_type": "display_data"
    }
   ],
   "source": [
    "yhat = X_train * beta1 + beta0\n",
    "error = y_train - yhat\n",
    "\n",
    "error.size\n",
    "plt.hist(error, bins=50)\n",
    "plt.show()"
   ]
  },
  {
   "cell_type": "markdown",
   "id": "grave-commonwealth",
   "metadata": {},
   "source": [
    "Error distribution shows 3 kernels, leftmost (negative) shows where most of the data is present."
   ]
  },
  {
   "cell_type": "markdown",
   "id": "vocal-botswana",
   "metadata": {},
   "source": [
    "### Use pytorch to train model"
   ]
  },
  {
   "cell_type": "code",
   "execution_count": 11,
   "id": "exterior-civilian",
   "metadata": {},
   "outputs": [],
   "source": [
    "n_epochs = 400\n",
    "batch_size_train = round(trainDataSize / 4)\n",
    "batch_size_test = testDataSize\n",
    "learning_rate = 0.1\n",
    "momentum = 0.5\n",
    "log_interval = 10\n",
    "\n",
    "# transform to torch tensor\n",
    "tensor_train_x = torch.Tensor(X_train.reshape(-1, 1))\n",
    "tensor_train_y = torch.Tensor(y_train.reshape(-1, 1))\n",
    "\n",
    "# create your datset\n",
    "train_data = TensorDataset(tensor_train_x, tensor_train_y)\n",
    "\n",
    "#Create loader using data\n",
    "train_loader = torch.utils.data.DataLoader(\n",
    "    train_data,\n",
    "    batch_size=batch_size_train,\n",
    "    shuffle=True)\n",
    "\n",
    "# transform to torch tensor\n",
    "tensor_test_x = torch.Tensor(X_test.reshape(-1, 1))\n",
    "tensor_test_y = torch.Tensor(y_test.reshape(-1, 1))\n",
    "\n",
    "# create your datset\n",
    "test_data = TensorDataset(tensor_test_x, tensor_test_y)\n",
    "\n",
    "#Create loader using data\n",
    "test_loader = torch.utils.data.DataLoader(\n",
    "    test_data,\n",
    "    batch_size=batch_size_test,\n",
    "    shuffle=True)"
   ]
  },
  {
   "cell_type": "code",
   "execution_count": 12,
   "id": "brief-producer",
   "metadata": {},
   "outputs": [],
   "source": [
    "class LayerLinearRegression(nn.Module):\n",
    "    def __init__(self):\n",
    "        super().__init__()\n",
    "        # Instead of our custom parameters, we use a Linear layer with single input and single output\n",
    "        self.linear = nn.Linear(1, 1)\n",
    "                \n",
    "    def forward(self, x):\n",
    "        # Now it only takes a call to the layer to make predictions\n",
    "        return self.linear(x)\n",
    "    \n",
    "#Network model\n",
    "network = LayerLinearRegression()\n",
    "\n",
    "#Configure loss function\n",
    "LossFunction = nn.MSELoss(reduction='mean')\n",
    "\n",
    "#Stochastic gradient decent\n",
    "optimizer = optim.SGD(network.parameters(), lr=learning_rate, momentum=momentum)\n",
    "#optimizer = optim.SGD(network.parameters(), lr=learning_rate)"
   ]
  },
  {
   "cell_type": "code",
   "execution_count": 13,
   "id": "understood-sapphire",
   "metadata": {},
   "outputs": [],
   "source": [
    "train_losses = []\n",
    "train_counter = []\n",
    "test_losses = []\n",
    "test_counter = [i*len(train_loader.dataset) for i in range(n_epochs + 1)]"
   ]
  },
  {
   "cell_type": "code",
   "execution_count": 14,
   "id": "effective-finland",
   "metadata": {},
   "outputs": [],
   "source": [
    "def train(epoch):\n",
    "  #Configure network for training\n",
    "  network.train()\n",
    "\n",
    "  for batch_idx, (data, target) in enumerate(train_loader):\n",
    "    \n",
    "    #set parameters gradients to 0\n",
    "    optimizer.zero_grad()\n",
    "    \n",
    "    #runs model with data and returns result in output\n",
    "    output = network(data)\n",
    "    \n",
    "    #Calculate loss.\n",
    "    loss = LossFunction(output, target)\n",
    "    \n",
    "    #Gradients are calculated\n",
    "    loss.backward()\n",
    "    \n",
    "    #update gradients\n",
    "    optimizer.step()\n",
    "    \n",
    "    #Display iteration statistics\n",
    "    if batch_idx % log_interval == 0:\n",
    "      print('Train Epoch: {} \\tLoss: {:.6f}'.format(epoch, loss.item()))\n",
    "      train_losses.append(loss.item())\n",
    "      train_counter.append((batch_idx*64) + ((epoch-1)*len(train_loader.dataset)))"
   ]
  },
  {
   "cell_type": "code",
   "execution_count": 15,
   "id": "rotary-malawi",
   "metadata": {},
   "outputs": [],
   "source": [
    "def test():\n",
    "  #Sets the module in evaluation mode\n",
    "  network.eval()\n",
    "  test_loss = 0\n",
    "  correct = 0\n",
    "    \n",
    "  #dont update dynamic computation graph\n",
    "  with torch.no_grad():\n",
    "    #for every example in test\n",
    "    for data, target in test_loader:\n",
    "      #evaluate the model\n",
    "      output = network(data)\n",
    "        \n",
    "      #acumulate the loss\n",
    "      test_loss += LossFunction(output, target).item()\n",
    "      test_loss /= len(test_loader.dataset)\n",
    "      test_losses.append(test_loss)\n",
    "      #print('\\nTest set: Avg. loss: {:.6f}\\n'.format(test_loss))"
   ]
  },
  {
   "cell_type": "code",
   "execution_count": 16,
   "id": "organized-atlas",
   "metadata": {},
   "outputs": [
    {
     "name": "stdout",
     "output_type": "stream",
     "text": [
      "Train Epoch: 1 \tLoss: 0.503267\n",
      "Train Epoch: 2 \tLoss: 0.000518\n",
      "Train Epoch: 3 \tLoss: 0.001060\n",
      "Train Epoch: 4 \tLoss: 0.000452\n",
      "Train Epoch: 5 \tLoss: 0.000563\n",
      "Train Epoch: 6 \tLoss: 0.000516\n",
      "Train Epoch: 7 \tLoss: 0.000569\n",
      "Train Epoch: 8 \tLoss: 0.000467\n",
      "Train Epoch: 9 \tLoss: 0.000566\n",
      "Train Epoch: 10 \tLoss: 0.000543\n",
      "Train Epoch: 11 \tLoss: 0.000508\n",
      "Train Epoch: 12 \tLoss: 0.000532\n",
      "Train Epoch: 13 \tLoss: 0.000489\n",
      "Train Epoch: 14 \tLoss: 0.000507\n",
      "Train Epoch: 15 \tLoss: 0.000564\n",
      "Train Epoch: 16 \tLoss: 0.000547\n",
      "Train Epoch: 17 \tLoss: 0.000646\n",
      "Train Epoch: 18 \tLoss: 0.000587\n",
      "Train Epoch: 19 \tLoss: 0.000428\n",
      "Train Epoch: 20 \tLoss: 0.000462\n",
      "Train Epoch: 21 \tLoss: 0.000515\n",
      "Train Epoch: 22 \tLoss: 0.000510\n",
      "Train Epoch: 23 \tLoss: 0.000497\n",
      "Train Epoch: 24 \tLoss: 0.000516\n",
      "Train Epoch: 25 \tLoss: 0.000434\n",
      "Train Epoch: 26 \tLoss: 0.000553\n",
      "Train Epoch: 27 \tLoss: 0.000464\n",
      "Train Epoch: 28 \tLoss: 0.000447\n",
      "Train Epoch: 29 \tLoss: 0.000418\n",
      "Train Epoch: 30 \tLoss: 0.000489\n",
      "Train Epoch: 31 \tLoss: 0.000534\n",
      "Train Epoch: 32 \tLoss: 0.000609\n",
      "Train Epoch: 33 \tLoss: 0.000544\n",
      "Train Epoch: 34 \tLoss: 0.000520\n",
      "Train Epoch: 35 \tLoss: 0.000440\n",
      "Train Epoch: 36 \tLoss: 0.000496\n",
      "Train Epoch: 37 \tLoss: 0.000561\n",
      "Train Epoch: 38 \tLoss: 0.000547\n",
      "Train Epoch: 39 \tLoss: 0.000420\n",
      "Train Epoch: 40 \tLoss: 0.000519\n",
      "Train Epoch: 41 \tLoss: 0.000574\n",
      "Train Epoch: 42 \tLoss: 0.000403\n",
      "Train Epoch: 43 \tLoss: 0.000444\n",
      "Train Epoch: 44 \tLoss: 0.000520\n",
      "Train Epoch: 45 \tLoss: 0.000507\n",
      "Train Epoch: 46 \tLoss: 0.000458\n",
      "Train Epoch: 47 \tLoss: 0.000595\n",
      "Train Epoch: 48 \tLoss: 0.000483\n",
      "Train Epoch: 49 \tLoss: 0.000479\n",
      "Train Epoch: 50 \tLoss: 0.000577\n",
      "Train Epoch: 51 \tLoss: 0.000587\n",
      "Train Epoch: 52 \tLoss: 0.000673\n",
      "Train Epoch: 53 \tLoss: 0.000440\n",
      "Train Epoch: 54 \tLoss: 0.000478\n",
      "Train Epoch: 55 \tLoss: 0.000511\n",
      "Train Epoch: 56 \tLoss: 0.000490\n",
      "Train Epoch: 57 \tLoss: 0.000501\n",
      "Train Epoch: 58 \tLoss: 0.000514\n",
      "Train Epoch: 59 \tLoss: 0.000486\n",
      "Train Epoch: 60 \tLoss: 0.000474\n",
      "Train Epoch: 61 \tLoss: 0.000566\n",
      "Train Epoch: 62 \tLoss: 0.000391\n",
      "Train Epoch: 63 \tLoss: 0.000460\n",
      "Train Epoch: 64 \tLoss: 0.000518\n",
      "Train Epoch: 65 \tLoss: 0.000446\n",
      "Train Epoch: 66 \tLoss: 0.000470\n",
      "Train Epoch: 67 \tLoss: 0.000457\n",
      "Train Epoch: 68 \tLoss: 0.000557\n",
      "Train Epoch: 69 \tLoss: 0.000491\n",
      "Train Epoch: 70 \tLoss: 0.000588\n",
      "Train Epoch: 71 \tLoss: 0.000502\n",
      "Train Epoch: 72 \tLoss: 0.000508\n",
      "Train Epoch: 73 \tLoss: 0.000477\n",
      "Train Epoch: 74 \tLoss: 0.000582\n",
      "Train Epoch: 75 \tLoss: 0.000433\n",
      "Train Epoch: 76 \tLoss: 0.000578\n",
      "Train Epoch: 77 \tLoss: 0.000513\n",
      "Train Epoch: 78 \tLoss: 0.000444\n",
      "Train Epoch: 79 \tLoss: 0.000485\n",
      "Train Epoch: 80 \tLoss: 0.000546\n",
      "Train Epoch: 81 \tLoss: 0.000422\n",
      "Train Epoch: 82 \tLoss: 0.000507\n",
      "Train Epoch: 83 \tLoss: 0.000464\n",
      "Train Epoch: 84 \tLoss: 0.000534\n",
      "Train Epoch: 85 \tLoss: 0.000604\n",
      "Train Epoch: 86 \tLoss: 0.000691\n",
      "Train Epoch: 87 \tLoss: 0.000419\n",
      "Train Epoch: 88 \tLoss: 0.000575\n",
      "Train Epoch: 89 \tLoss: 0.000474\n",
      "Train Epoch: 90 \tLoss: 0.000452\n",
      "Train Epoch: 91 \tLoss: 0.000439\n",
      "Train Epoch: 92 \tLoss: 0.000536\n",
      "Train Epoch: 93 \tLoss: 0.000401\n",
      "Train Epoch: 94 \tLoss: 0.000541\n",
      "Train Epoch: 95 \tLoss: 0.000605\n",
      "Train Epoch: 96 \tLoss: 0.000481\n",
      "Train Epoch: 97 \tLoss: 0.000523\n",
      "Train Epoch: 98 \tLoss: 0.000422\n",
      "Train Epoch: 99 \tLoss: 0.000493\n",
      "Train Epoch: 100 \tLoss: 0.000509\n",
      "Train Epoch: 101 \tLoss: 0.000551\n",
      "Train Epoch: 102 \tLoss: 0.000498\n",
      "Train Epoch: 103 \tLoss: 0.000454\n",
      "Train Epoch: 104 \tLoss: 0.000495\n",
      "Train Epoch: 105 \tLoss: 0.000538\n",
      "Train Epoch: 106 \tLoss: 0.000451\n",
      "Train Epoch: 107 \tLoss: 0.000578\n",
      "Train Epoch: 108 \tLoss: 0.000564\n",
      "Train Epoch: 109 \tLoss: 0.000661\n",
      "Train Epoch: 110 \tLoss: 0.000584\n",
      "Train Epoch: 111 \tLoss: 0.000508\n",
      "Train Epoch: 112 \tLoss: 0.000532\n",
      "Train Epoch: 113 \tLoss: 0.000427\n",
      "Train Epoch: 114 \tLoss: 0.000400\n",
      "Train Epoch: 115 \tLoss: 0.000491\n",
      "Train Epoch: 116 \tLoss: 0.000511\n",
      "Train Epoch: 117 \tLoss: 0.000433\n",
      "Train Epoch: 118 \tLoss: 0.000600\n",
      "Train Epoch: 119 \tLoss: 0.000482\n",
      "Train Epoch: 120 \tLoss: 0.000657\n",
      "Train Epoch: 121 \tLoss: 0.000455\n",
      "Train Epoch: 122 \tLoss: 0.000520\n",
      "Train Epoch: 123 \tLoss: 0.000432\n",
      "Train Epoch: 124 \tLoss: 0.000538\n",
      "Train Epoch: 125 \tLoss: 0.000463\n",
      "Train Epoch: 126 \tLoss: 0.000521\n",
      "Train Epoch: 127 \tLoss: 0.000491\n",
      "Train Epoch: 128 \tLoss: 0.000525\n",
      "Train Epoch: 129 \tLoss: 0.000494\n",
      "Train Epoch: 130 \tLoss: 0.000468\n",
      "Train Epoch: 131 \tLoss: 0.000519\n",
      "Train Epoch: 132 \tLoss: 0.000394\n",
      "Train Epoch: 133 \tLoss: 0.000544\n",
      "Train Epoch: 134 \tLoss: 0.000580\n",
      "Train Epoch: 135 \tLoss: 0.000462\n",
      "Train Epoch: 136 \tLoss: 0.000446\n",
      "Train Epoch: 137 \tLoss: 0.000536\n",
      "Train Epoch: 138 \tLoss: 0.000520\n",
      "Train Epoch: 139 \tLoss: 0.000607\n",
      "Train Epoch: 140 \tLoss: 0.000483\n",
      "Train Epoch: 141 \tLoss: 0.000472\n",
      "Train Epoch: 142 \tLoss: 0.000528\n",
      "Train Epoch: 143 \tLoss: 0.000511\n",
      "Train Epoch: 144 \tLoss: 0.000561\n",
      "Train Epoch: 145 \tLoss: 0.000516\n",
      "Train Epoch: 146 \tLoss: 0.000562\n",
      "Train Epoch: 147 \tLoss: 0.000514\n",
      "Train Epoch: 148 \tLoss: 0.000491\n",
      "Train Epoch: 149 \tLoss: 0.000488\n",
      "Train Epoch: 150 \tLoss: 0.000479\n",
      "Train Epoch: 151 \tLoss: 0.000493\n",
      "Train Epoch: 152 \tLoss: 0.000513\n",
      "Train Epoch: 153 \tLoss: 0.000555\n",
      "Train Epoch: 154 \tLoss: 0.000462\n",
      "Train Epoch: 155 \tLoss: 0.000442\n",
      "Train Epoch: 156 \tLoss: 0.000706\n",
      "Train Epoch: 157 \tLoss: 0.000475\n",
      "Train Epoch: 158 \tLoss: 0.000470\n",
      "Train Epoch: 159 \tLoss: 0.000526\n",
      "Train Epoch: 160 \tLoss: 0.000492\n",
      "Train Epoch: 161 \tLoss: 0.000633\n",
      "Train Epoch: 162 \tLoss: 0.000591\n",
      "Train Epoch: 163 \tLoss: 0.000533\n",
      "Train Epoch: 164 \tLoss: 0.000537\n",
      "Train Epoch: 165 \tLoss: 0.000498\n",
      "Train Epoch: 166 \tLoss: 0.000765\n",
      "Train Epoch: 167 \tLoss: 0.000494\n",
      "Train Epoch: 168 \tLoss: 0.000620\n",
      "Train Epoch: 169 \tLoss: 0.000524\n",
      "Train Epoch: 170 \tLoss: 0.000519\n",
      "Train Epoch: 171 \tLoss: 0.000581\n",
      "Train Epoch: 172 \tLoss: 0.000520\n",
      "Train Epoch: 173 \tLoss: 0.000503\n",
      "Train Epoch: 174 \tLoss: 0.000473\n",
      "Train Epoch: 175 \tLoss: 0.000410\n",
      "Train Epoch: 176 \tLoss: 0.000460\n",
      "Train Epoch: 177 \tLoss: 0.000576\n",
      "Train Epoch: 178 \tLoss: 0.000484\n",
      "Train Epoch: 179 \tLoss: 0.000528\n",
      "Train Epoch: 180 \tLoss: 0.000501\n",
      "Train Epoch: 181 \tLoss: 0.000537\n",
      "Train Epoch: 182 \tLoss: 0.000430\n",
      "Train Epoch: 183 \tLoss: 0.000439\n",
      "Train Epoch: 184 \tLoss: 0.000536\n",
      "Train Epoch: 185 \tLoss: 0.000489\n",
      "Train Epoch: 186 \tLoss: 0.000460\n",
      "Train Epoch: 187 \tLoss: 0.000438\n",
      "Train Epoch: 188 \tLoss: 0.000445\n",
      "Train Epoch: 189 \tLoss: 0.000455\n",
      "Train Epoch: 190 \tLoss: 0.000492\n",
      "Train Epoch: 191 \tLoss: 0.000511\n",
      "Train Epoch: 192 \tLoss: 0.000460\n",
      "Train Epoch: 193 \tLoss: 0.000439\n",
      "Train Epoch: 194 \tLoss: 0.000478\n",
      "Train Epoch: 195 \tLoss: 0.000536\n",
      "Train Epoch: 196 \tLoss: 0.000433\n",
      "Train Epoch: 197 \tLoss: 0.000495\n",
      "Train Epoch: 198 \tLoss: 0.000459\n",
      "Train Epoch: 199 \tLoss: 0.000434\n",
      "Train Epoch: 200 \tLoss: 0.000567\n",
      "Train Epoch: 201 \tLoss: 0.000518\n",
      "Train Epoch: 202 \tLoss: 0.000523\n",
      "Train Epoch: 203 \tLoss: 0.000580\n",
      "Train Epoch: 204 \tLoss: 0.000551\n",
      "Train Epoch: 205 \tLoss: 0.000484\n",
      "Train Epoch: 206 \tLoss: 0.000631\n",
      "Train Epoch: 207 \tLoss: 0.000567\n",
      "Train Epoch: 208 \tLoss: 0.000464\n",
      "Train Epoch: 209 \tLoss: 0.000476\n",
      "Train Epoch: 210 \tLoss: 0.000616\n",
      "Train Epoch: 211 \tLoss: 0.000445\n",
      "Train Epoch: 212 \tLoss: 0.000423\n",
      "Train Epoch: 213 \tLoss: 0.000452\n",
      "Train Epoch: 214 \tLoss: 0.000439\n",
      "Train Epoch: 215 \tLoss: 0.000503\n",
      "Train Epoch: 216 \tLoss: 0.000535\n",
      "Train Epoch: 217 \tLoss: 0.000492\n",
      "Train Epoch: 218 \tLoss: 0.000512\n",
      "Train Epoch: 219 \tLoss: 0.000517\n",
      "Train Epoch: 220 \tLoss: 0.000445\n",
      "Train Epoch: 221 \tLoss: 0.000471\n",
      "Train Epoch: 222 \tLoss: 0.000400\n",
      "Train Epoch: 223 \tLoss: 0.000572\n",
      "Train Epoch: 224 \tLoss: 0.000536\n",
      "Train Epoch: 225 \tLoss: 0.000532\n",
      "Train Epoch: 226 \tLoss: 0.000512\n",
      "Train Epoch: 227 \tLoss: 0.000512\n",
      "Train Epoch: 228 \tLoss: 0.000451\n",
      "Train Epoch: 229 \tLoss: 0.000596\n",
      "Train Epoch: 230 \tLoss: 0.000475\n",
      "Train Epoch: 231 \tLoss: 0.000460\n",
      "Train Epoch: 232 \tLoss: 0.000450\n",
      "Train Epoch: 233 \tLoss: 0.000486\n",
      "Train Epoch: 234 \tLoss: 0.000460\n",
      "Train Epoch: 235 \tLoss: 0.000449\n",
      "Train Epoch: 236 \tLoss: 0.000564\n",
      "Train Epoch: 237 \tLoss: 0.000531\n",
      "Train Epoch: 238 \tLoss: 0.000406\n",
      "Train Epoch: 239 \tLoss: 0.000523\n",
      "Train Epoch: 240 \tLoss: 0.000498\n",
      "Train Epoch: 241 \tLoss: 0.000621\n",
      "Train Epoch: 242 \tLoss: 0.000477\n",
      "Train Epoch: 243 \tLoss: 0.000458\n",
      "Train Epoch: 244 \tLoss: 0.000542\n",
      "Train Epoch: 245 \tLoss: 0.000485\n",
      "Train Epoch: 246 \tLoss: 0.000587\n",
      "Train Epoch: 247 \tLoss: 0.000501\n",
      "Train Epoch: 248 \tLoss: 0.000728\n",
      "Train Epoch: 249 \tLoss: 0.000459\n",
      "Train Epoch: 250 \tLoss: 0.000599\n",
      "Train Epoch: 251 \tLoss: 0.000561\n",
      "Train Epoch: 252 \tLoss: 0.000512\n",
      "Train Epoch: 253 \tLoss: 0.000454\n"
     ]
    },
    {
     "name": "stdout",
     "output_type": "stream",
     "text": [
      "Train Epoch: 254 \tLoss: 0.000445\n",
      "Train Epoch: 255 \tLoss: 0.000478\n",
      "Train Epoch: 256 \tLoss: 0.000557\n",
      "Train Epoch: 257 \tLoss: 0.000380\n",
      "Train Epoch: 258 \tLoss: 0.000416\n",
      "Train Epoch: 259 \tLoss: 0.000482\n",
      "Train Epoch: 260 \tLoss: 0.000500\n",
      "Train Epoch: 261 \tLoss: 0.000437\n",
      "Train Epoch: 262 \tLoss: 0.000477\n",
      "Train Epoch: 263 \tLoss: 0.000494\n",
      "Train Epoch: 264 \tLoss: 0.000542\n",
      "Train Epoch: 265 \tLoss: 0.000494\n",
      "Train Epoch: 266 \tLoss: 0.000467\n",
      "Train Epoch: 267 \tLoss: 0.000459\n",
      "Train Epoch: 268 \tLoss: 0.000363\n",
      "Train Epoch: 269 \tLoss: 0.000471\n",
      "Train Epoch: 270 \tLoss: 0.000580\n",
      "Train Epoch: 271 \tLoss: 0.000523\n",
      "Train Epoch: 272 \tLoss: 0.000482\n",
      "Train Epoch: 273 \tLoss: 0.000458\n",
      "Train Epoch: 274 \tLoss: 0.000453\n",
      "Train Epoch: 275 \tLoss: 0.000428\n",
      "Train Epoch: 276 \tLoss: 0.000458\n",
      "Train Epoch: 277 \tLoss: 0.000518\n",
      "Train Epoch: 278 \tLoss: 0.000469\n",
      "Train Epoch: 279 \tLoss: 0.000381\n",
      "Train Epoch: 280 \tLoss: 0.000401\n",
      "Train Epoch: 281 \tLoss: 0.000432\n",
      "Train Epoch: 282 \tLoss: 0.000504\n",
      "Train Epoch: 283 \tLoss: 0.000565\n",
      "Train Epoch: 284 \tLoss: 0.000542\n",
      "Train Epoch: 285 \tLoss: 0.000461\n",
      "Train Epoch: 286 \tLoss: 0.000451\n",
      "Train Epoch: 287 \tLoss: 0.000484\n",
      "Train Epoch: 288 \tLoss: 0.000534\n",
      "Train Epoch: 289 \tLoss: 0.000488\n",
      "Train Epoch: 290 \tLoss: 0.000494\n",
      "Train Epoch: 291 \tLoss: 0.000542\n",
      "Train Epoch: 292 \tLoss: 0.000450\n",
      "Train Epoch: 293 \tLoss: 0.000522\n",
      "Train Epoch: 294 \tLoss: 0.000504\n",
      "Train Epoch: 295 \tLoss: 0.000414\n",
      "Train Epoch: 296 \tLoss: 0.000461\n",
      "Train Epoch: 297 \tLoss: 0.000597\n",
      "Train Epoch: 298 \tLoss: 0.000418\n",
      "Train Epoch: 299 \tLoss: 0.000563\n",
      "Train Epoch: 300 \tLoss: 0.000517\n",
      "Train Epoch: 301 \tLoss: 0.000530\n",
      "Train Epoch: 302 \tLoss: 0.000443\n",
      "Train Epoch: 303 \tLoss: 0.000430\n",
      "Train Epoch: 304 \tLoss: 0.000514\n",
      "Train Epoch: 305 \tLoss: 0.000547\n",
      "Train Epoch: 306 \tLoss: 0.000572\n",
      "Train Epoch: 307 \tLoss: 0.000617\n",
      "Train Epoch: 308 \tLoss: 0.000529\n",
      "Train Epoch: 309 \tLoss: 0.000493\n",
      "Train Epoch: 310 \tLoss: 0.000459\n",
      "Train Epoch: 311 \tLoss: 0.000517\n",
      "Train Epoch: 312 \tLoss: 0.000486\n",
      "Train Epoch: 313 \tLoss: 0.000465\n",
      "Train Epoch: 314 \tLoss: 0.000433\n",
      "Train Epoch: 315 \tLoss: 0.000496\n",
      "Train Epoch: 316 \tLoss: 0.000505\n",
      "Train Epoch: 317 \tLoss: 0.000436\n",
      "Train Epoch: 318 \tLoss: 0.000460\n",
      "Train Epoch: 319 \tLoss: 0.000506\n",
      "Train Epoch: 320 \tLoss: 0.000520\n",
      "Train Epoch: 321 \tLoss: 0.000484\n",
      "Train Epoch: 322 \tLoss: 0.000514\n",
      "Train Epoch: 323 \tLoss: 0.000512\n",
      "Train Epoch: 324 \tLoss: 0.000547\n",
      "Train Epoch: 325 \tLoss: 0.000389\n",
      "Train Epoch: 326 \tLoss: 0.000463\n",
      "Train Epoch: 327 \tLoss: 0.000519\n",
      "Train Epoch: 328 \tLoss: 0.000393\n",
      "Train Epoch: 329 \tLoss: 0.000450\n",
      "Train Epoch: 330 \tLoss: 0.000452\n",
      "Train Epoch: 331 \tLoss: 0.000415\n",
      "Train Epoch: 332 \tLoss: 0.000615\n",
      "Train Epoch: 333 \tLoss: 0.000547\n",
      "Train Epoch: 334 \tLoss: 0.000449\n",
      "Train Epoch: 335 \tLoss: 0.000398\n",
      "Train Epoch: 336 \tLoss: 0.000470\n",
      "Train Epoch: 337 \tLoss: 0.000449\n",
      "Train Epoch: 338 \tLoss: 0.000480\n",
      "Train Epoch: 339 \tLoss: 0.000518\n",
      "Train Epoch: 340 \tLoss: 0.000428\n",
      "Train Epoch: 341 \tLoss: 0.000474\n",
      "Train Epoch: 342 \tLoss: 0.000420\n",
      "Train Epoch: 343 \tLoss: 0.000513\n",
      "Train Epoch: 344 \tLoss: 0.000503\n",
      "Train Epoch: 345 \tLoss: 0.000498\n",
      "Train Epoch: 346 \tLoss: 0.000414\n",
      "Train Epoch: 347 \tLoss: 0.000497\n",
      "Train Epoch: 348 \tLoss: 0.000471\n",
      "Train Epoch: 349 \tLoss: 0.000725\n",
      "Train Epoch: 350 \tLoss: 0.000445\n",
      "Train Epoch: 351 \tLoss: 0.000453\n",
      "Train Epoch: 352 \tLoss: 0.000496\n",
      "Train Epoch: 353 \tLoss: 0.000593\n",
      "Train Epoch: 354 \tLoss: 0.000572\n",
      "Train Epoch: 355 \tLoss: 0.000453\n",
      "Train Epoch: 356 \tLoss: 0.000557\n",
      "Train Epoch: 357 \tLoss: 0.000570\n",
      "Train Epoch: 358 \tLoss: 0.000465\n",
      "Train Epoch: 359 \tLoss: 0.000511\n",
      "Train Epoch: 360 \tLoss: 0.000465\n",
      "Train Epoch: 361 \tLoss: 0.000562\n",
      "Train Epoch: 362 \tLoss: 0.000439\n",
      "Train Epoch: 363 \tLoss: 0.000509\n",
      "Train Epoch: 364 \tLoss: 0.000491\n",
      "Train Epoch: 365 \tLoss: 0.000466\n",
      "Train Epoch: 366 \tLoss: 0.000488\n",
      "Train Epoch: 367 \tLoss: 0.000501\n",
      "Train Epoch: 368 \tLoss: 0.000522\n",
      "Train Epoch: 369 \tLoss: 0.000542\n",
      "Train Epoch: 370 \tLoss: 0.000481\n",
      "Train Epoch: 371 \tLoss: 0.000406\n",
      "Train Epoch: 372 \tLoss: 0.000458\n",
      "Train Epoch: 373 \tLoss: 0.000507\n",
      "Train Epoch: 374 \tLoss: 0.000485\n",
      "Train Epoch: 375 \tLoss: 0.000521\n",
      "Train Epoch: 376 \tLoss: 0.000527\n",
      "Train Epoch: 377 \tLoss: 0.000500\n",
      "Train Epoch: 378 \tLoss: 0.000533\n",
      "Train Epoch: 379 \tLoss: 0.000497\n",
      "Train Epoch: 380 \tLoss: 0.000507\n",
      "Train Epoch: 381 \tLoss: 0.000424\n",
      "Train Epoch: 382 \tLoss: 0.000462\n",
      "Train Epoch: 383 \tLoss: 0.000514\n",
      "Train Epoch: 384 \tLoss: 0.000438\n",
      "Train Epoch: 385 \tLoss: 0.000422\n",
      "Train Epoch: 386 \tLoss: 0.000620\n",
      "Train Epoch: 387 \tLoss: 0.000493\n",
      "Train Epoch: 388 \tLoss: 0.000429\n",
      "Train Epoch: 389 \tLoss: 0.000497\n",
      "Train Epoch: 390 \tLoss: 0.000538\n",
      "Train Epoch: 391 \tLoss: 0.000416\n",
      "Train Epoch: 392 \tLoss: 0.000522\n",
      "Train Epoch: 393 \tLoss: 0.000570\n",
      "Train Epoch: 394 \tLoss: 0.000495\n",
      "Train Epoch: 395 \tLoss: 0.000687\n",
      "Train Epoch: 396 \tLoss: 0.000570\n",
      "Train Epoch: 397 \tLoss: 0.000411\n",
      "Train Epoch: 398 \tLoss: 0.000572\n",
      "Train Epoch: 399 \tLoss: 0.000491\n",
      "Train Epoch: 400 \tLoss: 0.000398\n",
      "Time elapsed: 7.9850 seconds\n"
     ]
    }
   ],
   "source": [
    "#Check accuaracy before training\n",
    "test()\n",
    "tic = time.perf_counter()\n",
    "\n",
    "for epoch in range(1, n_epochs + 1):\n",
    "  train(epoch)\n",
    "  test()\n",
    "    \n",
    "toc = time.perf_counter()\n",
    "\n",
    "print(f\"Time elapsed: {toc - tic:0.4f} seconds\")"
   ]
  },
  {
   "cell_type": "markdown",
   "id": "sealed-cover",
   "metadata": {},
   "source": [
    "### Plot training result with pytorch"
   ]
  },
  {
   "cell_type": "code",
   "execution_count": 17,
   "id": "supported-shark",
   "metadata": {},
   "outputs": [
    {
     "data": {
      "image/png": "[encoded data removed]",
      "text/plain": [
       "<Figure size 432x288 with 1 Axes>"
      ]
     },
     "metadata": {
      "needs_background": "light"
     },
     "output_type": "display_data"
    },
    {
     "name": "stdout",
     "output_type": "stream",
     "text": [
      "B0: [0.03506151], B1: [[-0.689587]]\n"
     ]
    }
   ],
   "source": [
    "beta1, beta0 = network.parameters()\n",
    "\n",
    "beta0 = beta0.data.numpy()\n",
    "beta1 = beta1.data.numpy()\n",
    "\n",
    "yplot = X_train * beta1 + beta0\n",
    "plt.plot(X_train, y_train, 'x');\n",
    "plt.plot(X_train, yplot.reshape(-1, 1), 'g')\n",
    "plt.show()\n",
    "\n",
    "print(f'B0: {beta0}, B1: {beta1}')"
   ]
  },
  {
   "cell_type": "code",
   "execution_count": null,
   "id": "modular-product",
   "metadata": {},
   "outputs": [],
   "source": [
    "with torch.no_grad():\n",
    "    yhat = X_train * beta1 + beta0\n",
    "    error = y_train - yhat\n",
    "\n",
    "    plt.hist(error, bins=50)\n",
    "    plt.show()"
   ]
  },
  {
   "cell_type": "markdown",
   "id": "affecting-surgeon",
   "metadata": {},
   "source": [
    "### Plot loss curve"
   ]
  },
  {
   "cell_type": "code",
   "execution_count": null,
   "id": "wound-mobility",
   "metadata": {},
   "outputs": [],
   "source": [
    "fig = plt.figure()\n",
    "plt.plot(train_counter, train_losses, color='blue')\n",
    "plt.scatter(test_counter, test_losses, color='red')\n",
    "plt.legend(['Train Loss', 'Test Loss'], loc='upper right')\n",
    "plt.xlabel('number of training examples seen')\n",
    "plt.ylabel('negative log likelihood loss')"
   ]
  },
  {
   "cell_type": "markdown",
   "id": "developing-vocabulary",
   "metadata": {},
   "source": [
    "# References"
   ]
  },
  {
   "cell_type": "markdown",
   "id": "gothic-theta",
   "metadata": {},
   "source": [
    "- https://stackoverflow.com/questions/44429199/how-to-load-a-list-of-numpy-arrays-to-pytorch-dataset-loader\n",
    "- https://towardsdatascience.com/linear-regression-with-pytorch-eb6dedead817\n",
    "- Data was taken from: https://www.kaggle.com/mirichoi0218/insurance"
   ]
  },
  {
   "cell_type": "markdown",
   "id": "logical-arbor",
   "metadata": {},
   "source": [
    "# ToDo"
   ]
  },
  {
   "cell_type": "markdown",
   "id": "intellectual-butler",
   "metadata": {},
   "source": [
    "- Sometimes model is not converging, how can I fix this?\n",
    "- What is the difference between a model and nn.Linear? nn.Module is a neural network containers. Linear is a type of layer\n",
    "- Check other parameters to tune in the model to improve model converging."
   ]
  },
  {
   "cell_type": "markdown",
   "id": "periodic-anatomy",
   "metadata": {},
   "source": [
    "# Notes"
   ]
  },
  {
   "cell_type": "markdown",
   "id": "liquid-checkout",
   "metadata": {},
   "source": [
    "Since data is very spread, using an small batch size the model doesn't seems to converge, if I use a bigger batch size, it does better."
   ]
  }
 ],
 "metadata": {
  "kernelspec": {
   "display_name": "Python 3",
   "language": "python",
   "name": "python3"
  },
  "language_info": {
   "codemirror_mode": {
    "name": "ipython",
    "version": 3
   },
   "file_extension": ".py",
   "mimetype": "text/x-python",
   "name": "python",
   "nbconvert_exporter": "python",
   "pygments_lexer": "ipython3",
   "version": "3.7.9"
  }
 },
 "nbformat": 4,
 "nbformat_minor": 5
}
