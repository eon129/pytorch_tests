{
 "cells": [
  {
   "cell_type": "markdown",
   "id": "further-sponsorship",
   "metadata": {},
   "source": [
    "# Linear regression example"
   ]
  },
  {
   "cell_type": "markdown",
   "id": "federal-citation",
   "metadata": {},
   "source": [
    "Data was taken from: https://www.kaggle.com/mirichoi0218/insurance"
   ]
  },
  {
   "cell_type": "code",
   "execution_count": 1,
   "id": "medical-circuit",
   "metadata": {},
   "outputs": [],
   "source": [
    "import matplotlib.pyplot as plt\n",
    "import pandas as pd\n",
    "import numpy as np\n",
    "from torch.utils.data import TensorDataset, DataLoader\n",
    "import time"
   ]
  },
  {
   "cell_type": "code",
   "execution_count": 2,
   "id": "subjective-break",
   "metadata": {},
   "outputs": [
    {
     "data": {
      "text/html": [
       "<div>\n",
       "<style scoped>\n",
       "    .dataframe tbody tr th:only-of-type {\n",
       "        vertical-align: middle;\n",
       "    }\n",
       "\n",
       "    .dataframe tbody tr th {\n",
       "        vertical-align: top;\n",
       "    }\n",
       "\n",
       "    .dataframe thead th {\n",
       "        text-align: right;\n",
       "    }\n",
       "</style>\n",
       "<table border=\"1\" class=\"dataframe\">\n",
       "  <thead>\n",
       "    <tr style=\"text-align: right;\">\n",
       "      <th></th>\n",
       "      <th>age</th>\n",
       "      <th>sex</th>\n",
       "      <th>bmi</th>\n",
       "      <th>children</th>\n",
       "      <th>smoker</th>\n",
       "      <th>region</th>\n",
       "      <th>charges</th>\n",
       "    </tr>\n",
       "  </thead>\n",
       "  <tbody>\n",
       "    <tr>\n",
       "      <th>0</th>\n",
       "      <td>19</td>\n",
       "      <td>female</td>\n",
       "      <td>27.900</td>\n",
       "      <td>0</td>\n",
       "      <td>yes</td>\n",
       "      <td>southwest</td>\n",
       "      <td>16884.92400</td>\n",
       "    </tr>\n",
       "    <tr>\n",
       "      <th>1</th>\n",
       "      <td>18</td>\n",
       "      <td>male</td>\n",
       "      <td>33.770</td>\n",
       "      <td>1</td>\n",
       "      <td>no</td>\n",
       "      <td>southeast</td>\n",
       "      <td>1725.55230</td>\n",
       "    </tr>\n",
       "    <tr>\n",
       "      <th>2</th>\n",
       "      <td>28</td>\n",
       "      <td>male</td>\n",
       "      <td>33.000</td>\n",
       "      <td>3</td>\n",
       "      <td>no</td>\n",
       "      <td>southeast</td>\n",
       "      <td>4449.46200</td>\n",
       "    </tr>\n",
       "    <tr>\n",
       "      <th>3</th>\n",
       "      <td>33</td>\n",
       "      <td>male</td>\n",
       "      <td>22.705</td>\n",
       "      <td>0</td>\n",
       "      <td>no</td>\n",
       "      <td>northwest</td>\n",
       "      <td>21984.47061</td>\n",
       "    </tr>\n",
       "    <tr>\n",
       "      <th>4</th>\n",
       "      <td>32</td>\n",
       "      <td>male</td>\n",
       "      <td>28.880</td>\n",
       "      <td>0</td>\n",
       "      <td>no</td>\n",
       "      <td>northwest</td>\n",
       "      <td>3866.85520</td>\n",
       "    </tr>\n",
       "  </tbody>\n",
       "</table>\n",
       "</div>"
      ],
      "text/plain": [
       "   age     sex     bmi  children smoker     region      charges\n",
       "0   19  female  27.900         0    yes  southwest  16884.92400\n",
       "1   18    male  33.770         1     no  southeast   1725.55230\n",
       "2   28    male  33.000         3     no  southeast   4449.46200\n",
       "3   33    male  22.705         0     no  northwest  21984.47061\n",
       "4   32    male  28.880         0     no  northwest   3866.85520"
      ]
     },
     "execution_count": 2,
     "metadata": {},
     "output_type": "execute_result"
    }
   ],
   "source": [
    "data = pd.read_csv(\"LinearExample/insurance.csv\") \n",
    "# Preview the first 5 lines of the loaded data \n",
    "data.head()"
   ]
  },
  {
   "cell_type": "markdown",
   "id": "instrumental-currency",
   "metadata": {},
   "source": [
    "### Check bmi distribution"
   ]
  },
  {
   "cell_type": "code",
   "execution_count": 3,
   "id": "juvenile-strip",
   "metadata": {},
   "outputs": [
    {
     "data": {
      "image/png": "[encoded data removed]",
      "text/plain": [
       "<Figure size 432x288 with 1 Axes>"
      ]
     },
     "metadata": {
      "needs_background": "light"
     },
     "output_type": "display_data"
    }
   ],
   "source": [
    "dataNp = data.to_numpy()\n",
    "bmi = dataNp[:,2]\n",
    "bmi = bmi.astype('float64')\n",
    "\n",
    "plt.hist(bmi, bins=15)\n",
    "plt.show()"
   ]
  },
  {
   "cell_type": "markdown",
   "id": "judicial-relaxation",
   "metadata": {},
   "source": [
    "### Check charges distribution"
   ]
  },
  {
   "cell_type": "code",
   "execution_count": 4,
   "id": "excess-novelty",
   "metadata": {},
   "outputs": [
    {
     "data": {
      "image/png": "[encoded data removed]",
      "text/plain": [
       "<Figure size 432x288 with 1 Axes>"
      ]
     },
     "metadata": {
      "needs_background": "light"
     },
     "output_type": "display_data"
    }
   ],
   "source": [
    "dataNp = data.to_numpy()\n",
    "\n",
    "age = dataNp[:, 0]\n",
    "age = age.astype('float64')\n",
    "sex = dataNp[:, 1]\n",
    "children = dataNp[:, 3]\n",
    "charges = dataNp[:, 6]\n",
    "charges = charges.astype('float64')\n",
    "\n",
    "\n",
    "plt.hist(charges, bins=20)\n",
    "plt.show()"
   ]
  },
  {
   "cell_type": "markdown",
   "id": "infinite-windows",
   "metadata": {},
   "source": [
    "### Checking relationship between age and charges"
   ]
  },
  {
   "cell_type": "code",
   "execution_count": 5,
   "id": "bored-benchmark",
   "metadata": {},
   "outputs": [
    {
     "data": {
      "image/png": "[encoded data removed]",
      "text/plain": [
       "<Figure size 432x288 with 1 Axes>"
      ]
     },
     "metadata": {
      "needs_background": "light"
     },
     "output_type": "display_data"
    }
   ],
   "source": [
    "plt.plot(age, charges, 'x');"
   ]
  },
  {
   "cell_type": "markdown",
   "id": "variable-solution",
   "metadata": {},
   "source": [
    "Checking plot, seems that there is a linear relation between these variables. It's very spreaded though.\n",
    "\n",
    "Let's try to find a linear equation that fits this data just for fun."
   ]
  },
  {
   "cell_type": "markdown",
   "id": "secondary-nothing",
   "metadata": {},
   "source": [
    "### Train the model with pytorch"
   ]
  },
  {
   "cell_type": "code",
   "execution_count": 6,
   "id": "monthly-chicken",
   "metadata": {},
   "outputs": [],
   "source": [
    "from sklearn.model_selection import train_test_split\n",
    "import torch\n",
    "import torch.nn as nn\n",
    "import torch.nn.functional as F\n",
    "import torch.optim as optim"
   ]
  },
  {
   "cell_type": "code",
   "execution_count": 63,
   "id": "earlier-update",
   "metadata": {},
   "outputs": [],
   "source": [
    "#divide train and test dataset\n",
    "X_train, X_test, y_train, y_test = train_test_split(age, charges, train_size=0.65,test_size=0.35)\n",
    "\n",
    "#normalize data\n",
    "norm = np.linalg.norm(X_train)\n",
    "X_train =  X_train / norm\n",
    "norm = np.linalg.norm(X_test)\n",
    "X_test =  X_test / norm"
   ]
  },
  {
   "cell_type": "code",
   "execution_count": 43,
   "id": "failing-popularity",
   "metadata": {},
   "outputs": [
    {
     "data": {
      "image/png": "[encoded data removed]",
      "text/plain": [
       "<Figure size 432x288 with 1 Axes>"
      ]
     },
     "metadata": {
      "needs_background": "light"
     },
     "output_type": "display_data"
    }
   ],
   "source": [
    "plt.plot(X_test, y_test, 'x');"
   ]
  },
  {
   "cell_type": "code",
   "execution_count": 51,
   "id": "exterior-civilian",
   "metadata": {},
   "outputs": [],
   "source": [
    "n_epochs = 3\n",
    "batch_size_train = 64\n",
    "batch_size_test = 1000\n",
    "learning_rate = 0.0001\n",
    "momentum = 0.5\n",
    "log_interval = 10\n",
    "\n",
    "# transform to torch tensor\n",
    "tensor_train_x = torch.Tensor(X_train.reshape(-1, 1))\n",
    "tensor_train_y = torch.Tensor(y_train.reshape(-1, 1))\n",
    "#tensor_test_y = tensor_test_y.type(torch.LongTensor)\n",
    "# create your datset\n",
    "train_data = TensorDataset(tensor_train_x, tensor_train_y)\n",
    "\n",
    "#Create loader using data\n",
    "train_loader = torch.utils.data.DataLoader(\n",
    "    train_data,\n",
    "    batch_size=batch_size_train,\n",
    "    shuffle=True)\n",
    "\n",
    "# transform to torch tensor\n",
    "tensor_test_x = torch.Tensor(X_test.reshape(-1, 1))\n",
    "tensor_test_y = torch.Tensor(y_test.reshape(-1, 1))\n",
    "#tensor_test_y = tensor_test_y.type(torch.LongTensor)\n",
    "# create your datset\n",
    "test_data = TensorDataset(tensor_test_x, tensor_test_y)\n",
    "\n",
    "#Create loader using data\n",
    "test_loader = torch.utils.data.DataLoader(\n",
    "    test_data,\n",
    "    batch_size=batch_size_test,\n",
    "    shuffle=True)"
   ]
  },
  {
   "cell_type": "code",
   "execution_count": 52,
   "id": "brief-producer",
   "metadata": {},
   "outputs": [],
   "source": [
    "class LayerLinearRegression(nn.Module):\n",
    "    def __init__(self):\n",
    "        super().__init__()\n",
    "        # Instead of our custom parameters, we use a Linear layer with single input and single output\n",
    "        self.linear = nn.Linear(1, 1)\n",
    "                \n",
    "    def forward(self, x):\n",
    "        # Now it only takes a call to the layer to make predictions\n",
    "        return self.linear(x)\n",
    "    \n",
    "#Network model\n",
    "network = LayerLinearRegression()\n",
    "\n",
    "#Configure loss function\n",
    "LossFunction = nn.MSELoss(reduction='mean')\n",
    "\n",
    "#Stochastic gradient decent\n",
    "optimizer = optim.SGD(network.parameters(), lr=learning_rate,\n",
    "                      momentum=momentum)"
   ]
  },
  {
   "cell_type": "code",
   "execution_count": 53,
   "id": "understood-sapphire",
   "metadata": {},
   "outputs": [],
   "source": [
    "train_losses = []\n",
    "train_counter = []\n",
    "test_losses = []\n",
    "test_counter = [i*len(train_loader.dataset) for i in range(n_epochs + 1)]"
   ]
  },
  {
   "cell_type": "code",
   "execution_count": 55,
   "id": "effective-finland",
   "metadata": {},
   "outputs": [],
   "source": [
    "def train(epoch):\n",
    "  #Configure network for training\n",
    "  network.train()\n",
    "  for batch_idx, (data, target) in enumerate(train_loader):\n",
    "    \n",
    "    #set parameters gradients to 0\n",
    "    optimizer.zero_grad()\n",
    "    \n",
    "    #runs model with data and returns result in output\n",
    "    #here data contains a 64 * 1 * 28 * 28 tensor, 64 is batch size\n",
    "    output = network(data)\n",
    "    \n",
    "    #Use negative log likelihood loss.\n",
    "    loss = LossFunction(output, target)\n",
    "    \n",
    "    #with this gradients are calculated\n",
    "    loss.backward()\n",
    "    \n",
    "    #update gradients\n",
    "    optimizer.step()\n",
    "    \n",
    "    #Display iteration statistics\n",
    "    if batch_idx % log_interval == 0:\n",
    "      print('Train Epoch: {} [{}/{} ({:.0f}%)]\\tLoss: {:.6f}'.format(\n",
    "        epoch, batch_idx * len(data), len(train_loader.dataset),\n",
    "        100. * batch_idx / len(train_loader), loss.item()))\n",
    "      train_losses.append(loss.item())\n",
    "      train_counter.append(\n",
    "        (batch_idx*64) + ((epoch-1)*len(train_loader.dataset)))\n",
    "      torch.save(network.state_dict(), 'results/model.pth')\n",
    "      torch.save(optimizer.state_dict(), 'results/optimizer.pth')"
   ]
  },
  {
   "cell_type": "code",
   "execution_count": 56,
   "id": "rotary-malawi",
   "metadata": {},
   "outputs": [],
   "source": [
    "def test():\n",
    "  #Sets the module in evaluation mode\n",
    "  network.eval()\n",
    "  test_loss = 0\n",
    "  correct = 0\n",
    "    \n",
    "  #dont update dynamic computation graph\n",
    "  with torch.no_grad():\n",
    "    #for every example in test\n",
    "    for data, target in test_loader:\n",
    "      #evaluate the model\n",
    "      output = network(data)\n",
    "      #acumulate the loss\n",
    "      test_loss += LossFunction(output, target).item()\n",
    "      \n",
    "      pred = output.data.max(1, keepdim=True)[1]\n",
    "      correct += pred.eq(target.data.view_as(pred)).sum()\n",
    "  test_loss /= len(test_loader.dataset)\n",
    "  test_losses.append(test_loss)\n",
    "  print('\\nTest set: Avg. loss: {:.4f}, Accuracy: {}/{} ({:.0f}%)\\n'.format(\n",
    "    test_loss, correct, len(test_loader.dataset),\n",
    "    100. * correct / len(test_loader.dataset)))"
   ]
  },
  {
   "cell_type": "code",
   "execution_count": 57,
   "id": "organized-atlas",
   "metadata": {},
   "outputs": [
    {
     "name": "stdout",
     "output_type": "stream",
     "text": [
      "\n",
      "Test set: Avg. loss: 693300.8102, Accuracy: 0/469 (0%)\n",
      "\n",
      "Train Epoch: 1 [0/869 (0%)]\tLoss: 278144096.000000\n",
      "Train Epoch: 1 [640/869 (71%)]\tLoss: 307422784.000000\n",
      "\n",
      "Test set: Avg. loss: 689382.6183, Accuracy: 0/469 (0%)\n",
      "\n",
      "Train Epoch: 2 [0/869 (0%)]\tLoss: 422207072.000000\n",
      "Train Epoch: 2 [640/869 (71%)]\tLoss: 348991232.000000\n",
      "\n",
      "Test set: Avg. loss: 685220.6397, Accuracy: 0/469 (0%)\n",
      "\n",
      "Train Epoch: 3 [0/869 (0%)]\tLoss: 275288128.000000\n",
      "Train Epoch: 3 [640/869 (71%)]\tLoss: 243314944.000000\n",
      "\n",
      "Test set: Avg. loss: 681117.2026, Accuracy: 0/469 (0%)\n",
      "\n",
      "Time elapsed: 0.0850 seconds\n"
     ]
    }
   ],
   "source": [
    "\n",
    "#test\n",
    "#n_epochs = 1\n",
    "\n",
    "#Check accuaracy before training\n",
    "test()\n",
    "tic = time.perf_counter()\n",
    "\n",
    "for epoch in range(1, n_epochs + 1):\n",
    "  train(epoch)\n",
    "  test()\n",
    "    \n",
    "toc = time.perf_counter()\n",
    "\n",
    "print(f\"Time elapsed: {toc - tic:0.4f} seconds\")"
   ]
  },
  {
   "cell_type": "markdown",
   "id": "developing-vocabulary",
   "metadata": {},
   "source": [
    "# References"
   ]
  },
  {
   "cell_type": "markdown",
   "id": "gothic-theta",
   "metadata": {},
   "source": [
    "https://stackoverflow.com/questions/44429199/how-to-load-a-list-of-numpy-arrays-to-pytorch-dataset-loader\n",
    "https://towardsdatascience.com/linear-regression-with-pytorch-eb6dedead817"
   ]
  },
  {
   "cell_type": "markdown",
   "id": "intellectual-butler",
   "metadata": {},
   "source": [
    "Loss is not being reduced. This might be because the input is not normalized."
   ]
  }
 ],
 "metadata": {
  "kernelspec": {
   "display_name": "Python 3",
   "language": "python",
   "name": "python3"
  },
  "language_info": {
   "codemirror_mode": {
    "name": "ipython",
    "version": 3
   },
   "file_extension": ".py",
   "mimetype": "text/x-python",
   "name": "python",
   "nbconvert_exporter": "python",
   "pygments_lexer": "ipython3",
   "version": "3.7.9"
  }
 },
 "nbformat": 4,
 "nbformat_minor": 5
}
