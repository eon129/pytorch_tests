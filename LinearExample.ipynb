{
 "cells": [
  {
   "cell_type": "markdown",
   "id": "further-sponsorship",
   "metadata": {},
   "source": [
    "# Linear regression example"
   ]
  },
  {
   "cell_type": "markdown",
   "id": "federal-citation",
   "metadata": {},
   "source": [
    "Data was taken from: https://www.kaggle.com/mirichoi0218/insurance"
   ]
  },
  {
   "cell_type": "code",
   "execution_count": 1,
   "id": "medical-circuit",
   "metadata": {},
   "outputs": [],
   "source": [
    "import matplotlib.pyplot as plt\n",
    "import pandas as pd\n",
    "import numpy as np\n",
    "from torch.utils.data import TensorDataset, DataLoader\n",
    "import time"
   ]
  },
  {
   "cell_type": "code",
   "execution_count": 2,
   "id": "subjective-break",
   "metadata": {},
   "outputs": [
    {
     "data": {
      "text/html": [
       "<div>\n",
       "<style scoped>\n",
       "    .dataframe tbody tr th:only-of-type {\n",
       "        vertical-align: middle;\n",
       "    }\n",
       "\n",
       "    .dataframe tbody tr th {\n",
       "        vertical-align: top;\n",
       "    }\n",
       "\n",
       "    .dataframe thead th {\n",
       "        text-align: right;\n",
       "    }\n",
       "</style>\n",
       "<table border=\"1\" class=\"dataframe\">\n",
       "  <thead>\n",
       "    <tr style=\"text-align: right;\">\n",
       "      <th></th>\n",
       "      <th>age</th>\n",
       "      <th>sex</th>\n",
       "      <th>bmi</th>\n",
       "      <th>children</th>\n",
       "      <th>smoker</th>\n",
       "      <th>region</th>\n",
       "      <th>charges</th>\n",
       "    </tr>\n",
       "  </thead>\n",
       "  <tbody>\n",
       "    <tr>\n",
       "      <th>0</th>\n",
       "      <td>19</td>\n",
       "      <td>female</td>\n",
       "      <td>27.900</td>\n",
       "      <td>0</td>\n",
       "      <td>yes</td>\n",
       "      <td>southwest</td>\n",
       "      <td>16884.92400</td>\n",
       "    </tr>\n",
       "    <tr>\n",
       "      <th>1</th>\n",
       "      <td>18</td>\n",
       "      <td>male</td>\n",
       "      <td>33.770</td>\n",
       "      <td>1</td>\n",
       "      <td>no</td>\n",
       "      <td>southeast</td>\n",
       "      <td>1725.55230</td>\n",
       "    </tr>\n",
       "    <tr>\n",
       "      <th>2</th>\n",
       "      <td>28</td>\n",
       "      <td>male</td>\n",
       "      <td>33.000</td>\n",
       "      <td>3</td>\n",
       "      <td>no</td>\n",
       "      <td>southeast</td>\n",
       "      <td>4449.46200</td>\n",
       "    </tr>\n",
       "    <tr>\n",
       "      <th>3</th>\n",
       "      <td>33</td>\n",
       "      <td>male</td>\n",
       "      <td>22.705</td>\n",
       "      <td>0</td>\n",
       "      <td>no</td>\n",
       "      <td>northwest</td>\n",
       "      <td>21984.47061</td>\n",
       "    </tr>\n",
       "    <tr>\n",
       "      <th>4</th>\n",
       "      <td>32</td>\n",
       "      <td>male</td>\n",
       "      <td>28.880</td>\n",
       "      <td>0</td>\n",
       "      <td>no</td>\n",
       "      <td>northwest</td>\n",
       "      <td>3866.85520</td>\n",
       "    </tr>\n",
       "  </tbody>\n",
       "</table>\n",
       "</div>"
      ],
      "text/plain": [
       "   age     sex     bmi  children smoker     region      charges\n",
       "0   19  female  27.900         0    yes  southwest  16884.92400\n",
       "1   18    male  33.770         1     no  southeast   1725.55230\n",
       "2   28    male  33.000         3     no  southeast   4449.46200\n",
       "3   33    male  22.705         0     no  northwest  21984.47061\n",
       "4   32    male  28.880         0     no  northwest   3866.85520"
      ]
     },
     "execution_count": 2,
     "metadata": {},
     "output_type": "execute_result"
    }
   ],
   "source": [
    "#Get data from csv file\n",
    "data = pd.read_csv(\"LinearExample/insurance.csv\") \n",
    "# Preview the first 5 lines of the loaded data \n",
    "data.head()"
   ]
  },
  {
   "cell_type": "markdown",
   "id": "instrumental-currency",
   "metadata": {},
   "source": [
    "### Check bmi distribution"
   ]
  },
  {
   "cell_type": "code",
   "execution_count": 4,
   "id": "juvenile-strip",
   "metadata": {},
   "outputs": [
    {
     "data": {
      "image/png": "[encoded data removed]",
      "text/plain": [
       "<Figure size 432x288 with 1 Axes>"
      ]
     },
     "metadata": {
      "needs_background": "light"
     },
     "output_type": "display_data"
    }
   ],
   "source": [
    "dataNp = data.to_numpy()\n",
    "bmi = dataNp[:,2]\n",
    "bmi = bmi.astype('float64')\n",
    "\n",
    "plt.hist(bmi, bins=15)\n",
    "plt.show()"
   ]
  },
  {
   "cell_type": "markdown",
   "id": "judicial-relaxation",
   "metadata": {},
   "source": [
    "### Check charges distribution"
   ]
  },
  {
   "cell_type": "code",
   "execution_count": 5,
   "id": "excess-novelty",
   "metadata": {},
   "outputs": [
    {
     "data": {
      "image/png": "[encoded data removed]",
      "text/plain": [
       "<Figure size 432x288 with 1 Axes>"
      ]
     },
     "metadata": {
      "needs_background": "light"
     },
     "output_type": "display_data"
    }
   ],
   "source": [
    "dataNp = data.to_numpy()\n",
    "\n",
    "age = dataNp[:, 0]\n",
    "age = age.astype('float64')\n",
    "sex = dataNp[:, 1]\n",
    "children = dataNp[:, 3]\n",
    "charges = dataNp[:, 6]\n",
    "charges = charges.astype('float64')\n",
    "\n",
    "\n",
    "plt.hist(charges, bins=20)\n",
    "plt.show()"
   ]
  },
  {
   "cell_type": "markdown",
   "id": "infinite-windows",
   "metadata": {},
   "source": [
    "### Checking relationship between age and charges"
   ]
  },
  {
   "cell_type": "code",
   "execution_count": 6,
   "id": "bored-benchmark",
   "metadata": {},
   "outputs": [
    {
     "data": {
      "image/png": "[encoded data removed]",
      "text/plain": [
       "<Figure size 432x288 with 1 Axes>"
      ]
     },
     "metadata": {
      "needs_background": "light"
     },
     "output_type": "display_data"
    }
   ],
   "source": [
    "plt.plot(age, charges, 'x');"
   ]
  },
  {
   "cell_type": "markdown",
   "id": "variable-solution",
   "metadata": {},
   "source": [
    "Checking plot, seems that there is a linear relation between these variables. It's very spreaded though.\n",
    "\n",
    "Let's try to find a linear equation that fits this data just for fun."
   ]
  },
  {
   "cell_type": "markdown",
   "id": "secondary-nothing",
   "metadata": {},
   "source": [
    "### Train the model with pytorch"
   ]
  },
  {
   "cell_type": "code",
   "execution_count": 7,
   "id": "monthly-chicken",
   "metadata": {},
   "outputs": [],
   "source": [
    "from sklearn.model_selection import train_test_split\n",
    "import torch\n",
    "import torch.nn as nn\n",
    "import torch.nn.functional as F\n",
    "import torch.optim as optim"
   ]
  },
  {
   "cell_type": "code",
   "execution_count": 37,
   "id": "earlier-update",
   "metadata": {},
   "outputs": [],
   "source": [
    "#Get normalize values before spliting sets\n",
    "ageNorm = np.linalg.norm(age)\n",
    "\n",
    "#divide train and test dataset\n",
    "X_train, X_test, y_train, y_test = train_test_split(age, charges, train_size=0.65,test_size=0.35)\n",
    "\n",
    "#Get data sample sizes\n",
    "trainDataSize = X_train.size\n",
    "testDataSize = y_test.size\n",
    "\n",
    "#normalize data\n",
    "X_train =  X_train / ageNorm\n",
    "X_test =  X_test / ageNorm"
   ]
  },
  {
   "cell_type": "markdown",
   "id": "beautiful-penalty",
   "metadata": {},
   "source": [
    "### Plot after normalization"
   ]
  },
  {
   "cell_type": "code",
   "execution_count": 38,
   "id": "solved-enclosure",
   "metadata": {},
   "outputs": [
    {
     "data": {
      "image/png": "[encoded data removed]",
      "text/plain": [
       "<Figure size 432x288 with 1 Axes>"
      ]
     },
     "metadata": {
      "needs_background": "light"
     },
     "output_type": "display_data"
    }
   ],
   "source": [
    "plt.plot(X_train, y_train, 'x');"
   ]
  },
  {
   "cell_type": "markdown",
   "id": "organized-general",
   "metadata": {},
   "source": [
    "### Use sklearn to train model and then plot calculated function and train data together"
   ]
  },
  {
   "cell_type": "code",
   "execution_count": 44,
   "id": "downtown-mirror",
   "metadata": {},
   "outputs": [
    {
     "data": {
      "image/png": "[encoded data removed]",
      "text/plain": [
       "<Figure size 432x288 with 1 Axes>"
      ]
     },
     "metadata": {
      "needs_background": "light"
     },
     "output_type": "display_data"
    },
    {
     "name": "stdout",
     "output_type": "stream",
     "text": [
      "B0: [3805.15610746], B1: [365606.99355427]\n"
     ]
    }
   ],
   "source": [
    "from sklearn.linear_model import LinearRegression\n",
    "linr = LinearRegression()\n",
    "linr.fit(X_train.reshape(-1,1), y_train.reshape(-1,1))\n",
    "\n",
    "beta0 = linr.intercept_\n",
    "beta1 = linr.coef_[0]\n",
    "\n",
    "yplot = X_train * beta1 + beta0\n",
    "\n",
    "plt.plot(X_train, y_train, 'x');\n",
    "plt.plot(X_train, yplot, 'g')\n",
    "plt.show()\n",
    "\n",
    "print(f'B0: {beta0}, B1: {beta1}')"
   ]
  },
  {
   "cell_type": "markdown",
   "id": "vocal-botswana",
   "metadata": {},
   "source": [
    "### Use pytorch to train model"
   ]
  },
  {
   "cell_type": "code",
   "execution_count": 47,
   "id": "exterior-civilian",
   "metadata": {},
   "outputs": [],
   "source": [
    "n_epochs = 90\n",
    "batch_size_train = testDataSize\n",
    "batch_size_test = testDataSize\n",
    "learning_rate = 0.01\n",
    "momentum = 0.5\n",
    "log_interval = 10\n",
    "\n",
    "# transform to torch tensor\n",
    "tensor_train_x = torch.Tensor(X_train.reshape(-1, 1))\n",
    "tensor_train_y = torch.Tensor(y_train.reshape(-1, 1))\n",
    "\n",
    "# create your datset\n",
    "train_data = TensorDataset(tensor_train_x, tensor_train_y)\n",
    "\n",
    "#Create loader using data\n",
    "train_loader = torch.utils.data.DataLoader(\n",
    "    train_data,\n",
    "    batch_size=batch_size_train,\n",
    "    shuffle=True)\n",
    "\n",
    "# transform to torch tensor\n",
    "tensor_test_x = torch.Tensor(X_test.reshape(-1, 1))\n",
    "tensor_test_y = torch.Tensor(y_test.reshape(-1, 1))\n",
    "\n",
    "# create your datset\n",
    "test_data = TensorDataset(tensor_test_x, tensor_test_y)\n",
    "\n",
    "#Create loader using data\n",
    "test_loader = torch.utils.data.DataLoader(\n",
    "    test_data,\n",
    "    batch_size=batch_size_test,\n",
    "    shuffle=True)"
   ]
  },
  {
   "cell_type": "code",
   "execution_count": 48,
   "id": "brief-producer",
   "metadata": {},
   "outputs": [],
   "source": [
    "class LayerLinearRegression(nn.Module):\n",
    "    def __init__(self):\n",
    "        super().__init__()\n",
    "        # Instead of our custom parameters, we use a Linear layer with single input and single output\n",
    "        self.linear = nn.Linear(1, 1)\n",
    "                \n",
    "    def forward(self, x):\n",
    "        # Now it only takes a call to the layer to make predictions\n",
    "        return self.linear(x)\n",
    "    \n",
    "#Network model\n",
    "network = LayerLinearRegression()\n",
    "\n",
    "#Configure loss function\n",
    "LossFunction = nn.MSELoss(reduction='mean')\n",
    "\n",
    "#Stochastic gradient decent\n",
    "optimizer = optim.SGD(network.parameters(), lr=learning_rate,\n",
    "                      momentum=momentum)"
   ]
  },
  {
   "cell_type": "code",
   "execution_count": 49,
   "id": "understood-sapphire",
   "metadata": {},
   "outputs": [],
   "source": [
    "train_losses = []\n",
    "train_counter = []\n",
    "test_losses = []\n",
    "test_counter = [i*len(train_loader.dataset) for i in range(n_epochs + 1)]"
   ]
  },
  {
   "cell_type": "code",
   "execution_count": 50,
   "id": "effective-finland",
   "metadata": {},
   "outputs": [],
   "source": [
    "def train(epoch):\n",
    "  #Configure network for training\n",
    "  network.train()\n",
    "  for batch_idx, (data, target) in enumerate(train_loader):\n",
    "    \n",
    "    #set parameters gradients to 0\n",
    "    optimizer.zero_grad()\n",
    "    \n",
    "    #runs model with data and returns result in output\n",
    "    #here data contains a 64 * 1 * 28 * 28 tensor, 64 is batch size\n",
    "    output = network(data)\n",
    "    \n",
    "    #Use negative log likelihood loss.\n",
    "    loss = LossFunction(output, target)\n",
    "    \n",
    "    #with this gradients are calculated\n",
    "    loss.backward()\n",
    "    \n",
    "    #update gradients\n",
    "    optimizer.step()\n",
    "    \n",
    "    #Display iteration statistics\n",
    "    if batch_idx % log_interval == 0:\n",
    "      print('Train Epoch: {} [{}/{} ({:.0f}%)]\\tLoss: {:.6f}'.format(\n",
    "        epoch, batch_idx * len(data), len(train_loader.dataset),\n",
    "        100. * batch_idx / len(train_loader), loss.item()))\n",
    "      train_losses.append(loss.item())\n",
    "      train_counter.append(\n",
    "        (batch_idx*64) + ((epoch-1)*len(train_loader.dataset)))\n",
    "      torch.save(network.state_dict(), 'results/model.pth')\n",
    "      torch.save(optimizer.state_dict(), 'results/optimizer.pth')"
   ]
  },
  {
   "cell_type": "code",
   "execution_count": 51,
   "id": "rotary-malawi",
   "metadata": {},
   "outputs": [],
   "source": [
    "def test():\n",
    "  #Sets the module in evaluation mode\n",
    "  network.eval()\n",
    "  test_loss = 0\n",
    "  correct = 0\n",
    "    \n",
    "  #dont update dynamic computation graph\n",
    "  with torch.no_grad():\n",
    "    #for every example in test\n",
    "    for data, target in test_loader:\n",
    "      #evaluate the model\n",
    "      output = network(data)\n",
    "        \n",
    "      #acumulate the loss\n",
    "      test_loss += LossFunction(output, target).item()\n",
    "      \n",
    "      pred = output.data.max(1, keepdim=True)[1]\n",
    "      correct += pred.eq(target.data.view_as(pred)).sum()\n",
    "  test_loss /= len(test_loader.dataset)\n",
    "  test_losses.append(test_loss)\n",
    "  print('\\nTest set: Avg. loss: {:.4f}, Accuracy: {}/{} ({:.0f}%)\\n'.format(\n",
    "    test_loss, correct, len(test_loader.dataset),\n",
    "    100. * correct / len(test_loader.dataset)))"
   ]
  },
  {
   "cell_type": "code",
   "execution_count": 53,
   "id": "organized-atlas",
   "metadata": {},
   "outputs": [
    {
     "name": "stdout",
     "output_type": "stream",
     "text": [
      "\n",
      "Test set: Avg. loss: 326718.9765, Accuracy: 0/469 (0%)\n",
      "\n",
      "Train Epoch: 1 [0/869 (0%)]\tLoss: 147280880.000000\n",
      "\n",
      "Test set: Avg. loss: 326711.9488, Accuracy: 0/469 (0%)\n",
      "\n",
      "Train Epoch: 2 [0/869 (0%)]\tLoss: 151068912.000000\n",
      "\n",
      "Test set: Avg. loss: 326714.1663, Accuracy: 0/469 (0%)\n",
      "\n",
      "Train Epoch: 3 [0/869 (0%)]\tLoss: 141793680.000000\n",
      "\n",
      "Test set: Avg. loss: 326715.3262, Accuracy: 0/469 (0%)\n",
      "\n",
      "Train Epoch: 4 [0/869 (0%)]\tLoss: 130750768.000000\n",
      "\n",
      "Test set: Avg. loss: 326720.1365, Accuracy: 0/469 (0%)\n",
      "\n",
      "Train Epoch: 5 [0/869 (0%)]\tLoss: 145983536.000000\n",
      "\n",
      "Test set: Avg. loss: 326713.4499, Accuracy: 0/469 (0%)\n",
      "\n",
      "Train Epoch: 6 [0/869 (0%)]\tLoss: 156990368.000000\n",
      "\n",
      "Test set: Avg. loss: 326709.8678, Accuracy: 0/469 (0%)\n",
      "\n",
      "Train Epoch: 7 [0/869 (0%)]\tLoss: 153306528.000000\n",
      "\n",
      "Test set: Avg. loss: 326712.8699, Accuracy: 0/469 (0%)\n",
      "\n",
      "Train Epoch: 8 [0/869 (0%)]\tLoss: 131407280.000000\n",
      "\n",
      "Test set: Avg. loss: 326718.6695, Accuracy: 0/469 (0%)\n",
      "\n",
      "Train Epoch: 9 [0/869 (0%)]\tLoss: 133061280.000000\n",
      "\n",
      "Test set: Avg. loss: 326711.5394, Accuracy: 0/469 (0%)\n",
      "\n",
      "Train Epoch: 10 [0/869 (0%)]\tLoss: 146587504.000000\n",
      "\n",
      "Test set: Avg. loss: 326709.1173, Accuracy: 0/469 (0%)\n",
      "\n",
      "Train Epoch: 11 [0/869 (0%)]\tLoss: 139277952.000000\n",
      "\n",
      "Test set: Avg. loss: 326706.8316, Accuracy: 0/469 (0%)\n",
      "\n",
      "Train Epoch: 12 [0/869 (0%)]\tLoss: 141806608.000000\n",
      "\n",
      "Test set: Avg. loss: 326708.3667, Accuracy: 0/469 (0%)\n",
      "\n",
      "Train Epoch: 13 [0/869 (0%)]\tLoss: 157884992.000000\n",
      "\n",
      "Test set: Avg. loss: 326702.9424, Accuracy: 0/469 (0%)\n",
      "\n",
      "Train Epoch: 14 [0/869 (0%)]\tLoss: 143240144.000000\n",
      "\n",
      "Test set: Avg. loss: 326710.8571, Accuracy: 0/469 (0%)\n",
      "\n",
      "Train Epoch: 15 [0/869 (0%)]\tLoss: 155373008.000000\n",
      "\n",
      "Test set: Avg. loss: 326704.3412, Accuracy: 0/469 (0%)\n",
      "\n",
      "Train Epoch: 16 [0/869 (0%)]\tLoss: 144166400.000000\n",
      "\n",
      "Test set: Avg. loss: 326709.1855, Accuracy: 0/469 (0%)\n",
      "\n",
      "Train Epoch: 17 [0/869 (0%)]\tLoss: 153757040.000000\n",
      "\n",
      "Test set: Avg. loss: 326711.6759, Accuracy: 0/469 (0%)\n",
      "\n",
      "Train Epoch: 18 [0/869 (0%)]\tLoss: 136568832.000000\n",
      "\n",
      "Test set: Avg. loss: 326716.9296, Accuracy: 0/469 (0%)\n",
      "\n",
      "Train Epoch: 19 [0/869 (0%)]\tLoss: 141107392.000000\n",
      "\n",
      "Test set: Avg. loss: 326710.5160, Accuracy: 0/469 (0%)\n",
      "\n",
      "Train Epoch: 20 [0/869 (0%)]\tLoss: 144270624.000000\n",
      "\n",
      "Test set: Avg. loss: 326709.0490, Accuracy: 0/469 (0%)\n",
      "\n",
      "Train Epoch: 21 [0/869 (0%)]\tLoss: 137756112.000000\n",
      "\n",
      "Test set: Avg. loss: 326707.8891, Accuracy: 0/469 (0%)\n",
      "\n",
      "Train Epoch: 22 [0/869 (0%)]\tLoss: 139448688.000000\n",
      "\n",
      "Test set: Avg. loss: 326706.5586, Accuracy: 0/469 (0%)\n",
      "\n",
      "Train Epoch: 23 [0/869 (0%)]\tLoss: 155908096.000000\n",
      "\n",
      "Test set: Avg. loss: 326703.3859, Accuracy: 0/469 (0%)\n",
      "\n",
      "Train Epoch: 24 [0/869 (0%)]\tLoss: 127900496.000000\n",
      "\n",
      "Test set: Avg. loss: 326716.8955, Accuracy: 0/469 (0%)\n",
      "\n",
      "Train Epoch: 25 [0/869 (0%)]\tLoss: 147121040.000000\n",
      "\n",
      "Test set: Avg. loss: 326705.8422, Accuracy: 0/469 (0%)\n",
      "\n",
      "Train Epoch: 26 [0/869 (0%)]\tLoss: 148919808.000000\n",
      "\n",
      "Test set: Avg. loss: 326701.0320, Accuracy: 0/469 (0%)\n",
      "\n",
      "Train Epoch: 27 [0/869 (0%)]\tLoss: 146097168.000000\n",
      "\n",
      "Test set: Avg. loss: 326699.4627, Accuracy: 0/469 (0%)\n",
      "\n",
      "Train Epoch: 28 [0/869 (0%)]\tLoss: 150311600.000000\n",
      "\n",
      "Test set: Avg. loss: 326696.9723, Accuracy: 0/469 (0%)\n",
      "\n",
      "Train Epoch: 29 [0/869 (0%)]\tLoss: 151921616.000000\n",
      "\n",
      "Test set: Avg. loss: 326696.5629, Accuracy: 0/469 (0%)\n",
      "\n",
      "Train Epoch: 30 [0/869 (0%)]\tLoss: 150722720.000000\n",
      "\n",
      "Test set: Avg. loss: 326697.8252, Accuracy: 0/469 (0%)\n",
      "\n",
      "Train Epoch: 31 [0/869 (0%)]\tLoss: 134420240.000000\n",
      "\n",
      "Test set: Avg. loss: 326699.8038, Accuracy: 0/469 (0%)\n",
      "\n",
      "Train Epoch: 32 [0/869 (0%)]\tLoss: 137174448.000000\n",
      "\n",
      "Test set: Avg. loss: 326698.2004, Accuracy: 0/469 (0%)\n",
      "\n",
      "Train Epoch: 33 [0/869 (0%)]\tLoss: 140455584.000000\n",
      "\n",
      "Test set: Avg. loss: 326699.0533, Accuracy: 0/469 (0%)\n",
      "\n",
      "Train Epoch: 34 [0/869 (0%)]\tLoss: 129769856.000000\n",
      "\n",
      "Test set: Avg. loss: 326701.7825, Accuracy: 0/469 (0%)\n",
      "\n",
      "Train Epoch: 35 [0/869 (0%)]\tLoss: 123786160.000000\n",
      "\n",
      "Test set: Avg. loss: 326699.6674, Accuracy: 0/469 (0%)\n",
      "\n",
      "Train Epoch: 36 [0/869 (0%)]\tLoss: 141127408.000000\n",
      "\n",
      "Test set: Avg. loss: 326692.1620, Accuracy: 0/469 (0%)\n",
      "\n",
      "Train Epoch: 37 [0/869 (0%)]\tLoss: 154543376.000000\n",
      "\n",
      "Test set: Avg. loss: 326684.6908, Accuracy: 0/469 (0%)\n",
      "\n",
      "Train Epoch: 38 [0/869 (0%)]\tLoss: 135111856.000000\n",
      "\n",
      "Test set: Avg. loss: 326688.6823, Accuracy: 0/469 (0%)\n",
      "\n",
      "Train Epoch: 39 [0/869 (0%)]\tLoss: 145368896.000000\n",
      "\n",
      "Test set: Avg. loss: 326682.5757, Accuracy: 0/469 (0%)\n",
      "\n",
      "Train Epoch: 40 [0/869 (0%)]\tLoss: 152244768.000000\n",
      "\n",
      "Test set: Avg. loss: 326683.6674, Accuracy: 0/469 (0%)\n",
      "\n",
      "Train Epoch: 41 [0/869 (0%)]\tLoss: 134120936.000000\n",
      "\n",
      "Test set: Avg. loss: 326688.7846, Accuracy: 0/469 (0%)\n",
      "\n",
      "Train Epoch: 42 [0/869 (0%)]\tLoss: 138505872.000000\n",
      "\n",
      "Test set: Avg. loss: 326684.6567, Accuracy: 0/469 (0%)\n",
      "\n",
      "Train Epoch: 43 [0/869 (0%)]\tLoss: 143858864.000000\n",
      "\n",
      "Test set: Avg. loss: 326684.3497, Accuracy: 0/469 (0%)\n",
      "\n",
      "Train Epoch: 44 [0/869 (0%)]\tLoss: 170102192.000000\n",
      "\n",
      "Test set: Avg. loss: 326678.2431, Accuracy: 0/469 (0%)\n",
      "\n",
      "Train Epoch: 45 [0/869 (0%)]\tLoss: 130192496.000000\n",
      "\n",
      "Test set: Avg. loss: 326690.5928, Accuracy: 0/469 (0%)\n",
      "\n",
      "Train Epoch: 46 [0/869 (0%)]\tLoss: 139733952.000000\n",
      "\n",
      "Test set: Avg. loss: 326688.9552, Accuracy: 0/469 (0%)\n",
      "\n",
      "Train Epoch: 47 [0/869 (0%)]\tLoss: 128494128.000000\n",
      "\n",
      "Test set: Avg. loss: 326688.4776, Accuracy: 0/469 (0%)\n",
      "\n",
      "Train Epoch: 48 [0/869 (0%)]\tLoss: 137524448.000000\n",
      "\n",
      "Test set: Avg. loss: 326682.6439, Accuracy: 0/469 (0%)\n",
      "\n",
      "Train Epoch: 49 [0/869 (0%)]\tLoss: 148841376.000000\n",
      "\n",
      "Test set: Avg. loss: 326676.5373, Accuracy: 0/469 (0%)\n",
      "\n",
      "Train Epoch: 50 [0/869 (0%)]\tLoss: 150167744.000000\n",
      "\n",
      "Test set: Avg. loss: 326680.3923, Accuracy: 0/469 (0%)\n",
      "\n",
      "Train Epoch: 51 [0/869 (0%)]\tLoss: 144386976.000000\n",
      "\n",
      "Test set: Avg. loss: 326677.7313, Accuracy: 0/469 (0%)\n",
      "\n",
      "Train Epoch: 52 [0/869 (0%)]\tLoss: 152798528.000000\n",
      "\n",
      "Test set: Avg. loss: 326678.0043, Accuracy: 0/469 (0%)\n",
      "\n",
      "Train Epoch: 53 [0/869 (0%)]\tLoss: 133002568.000000\n",
      "\n",
      "Test set: Avg. loss: 326682.0640, Accuracy: 0/469 (0%)\n",
      "\n",
      "Train Epoch: 54 [0/869 (0%)]\tLoss: 127485560.000000\n",
      "\n",
      "Test set: Avg. loss: 326679.8124, Accuracy: 0/469 (0%)\n",
      "\n",
      "Train Epoch: 55 [0/869 (0%)]\tLoss: 139377856.000000\n",
      "\n",
      "Test set: Avg. loss: 326675.4456, Accuracy: 0/469 (0%)\n",
      "\n",
      "Train Epoch: 56 [0/869 (0%)]\tLoss: 143796080.000000\n",
      "\n",
      "Test set: Avg. loss: 326672.6141, Accuracy: 0/469 (0%)\n",
      "\n",
      "Train Epoch: 57 [0/869 (0%)]\tLoss: 146650512.000000\n",
      "\n",
      "Test set: Avg. loss: 326672.2047, Accuracy: 0/469 (0%)\n",
      "\n",
      "Train Epoch: 58 [0/869 (0%)]\tLoss: 150539936.000000\n",
      "\n",
      "Test set: Avg. loss: 326674.2516, Accuracy: 0/469 (0%)\n",
      "\n",
      "Train Epoch: 59 [0/869 (0%)]\tLoss: 133801664.000000\n",
      "\n",
      "Test set: Avg. loss: 326682.5075, Accuracy: 0/469 (0%)\n",
      "\n",
      "Train Epoch: 60 [0/869 (0%)]\tLoss: 142085744.000000\n",
      "\n",
      "Test set: Avg. loss: 326684.7932, Accuracy: 0/469 (0%)\n",
      "\n",
      "Train Epoch: 61 [0/869 (0%)]\tLoss: 135809392.000000\n",
      "\n",
      "Test set: Avg. loss: 326682.1322, Accuracy: 0/469 (0%)\n",
      "\n",
      "Train Epoch: 62 [0/869 (0%)]\tLoss: 157066992.000000\n",
      "\n",
      "Test set: Avg. loss: 326678.1748, Accuracy: 0/469 (0%)\n",
      "\n",
      "Train Epoch: 63 [0/869 (0%)]\tLoss: 145453984.000000\n",
      "\n",
      "Test set: Avg. loss: 326681.9616, Accuracy: 0/469 (0%)\n",
      "\n",
      "Train Epoch: 64 [0/869 (0%)]\tLoss: 137463456.000000\n",
      "\n",
      "Test set: Avg. loss: 326685.3049, Accuracy: 0/469 (0%)\n",
      "\n",
      "Train Epoch: 65 [0/869 (0%)]\tLoss: 144442688.000000\n",
      "\n",
      "Test set: Avg. loss: 326683.8038, Accuracy: 0/469 (0%)\n",
      "\n",
      "Train Epoch: 66 [0/869 (0%)]\tLoss: 145175424.000000\n",
      "\n",
      "Test set: Avg. loss: 326686.6695, Accuracy: 0/469 (0%)\n",
      "\n",
      "Train Epoch: 67 [0/869 (0%)]\tLoss: 127300960.000000\n",
      "\n",
      "Test set: Avg. loss: 326684.9638, Accuracy: 0/469 (0%)\n",
      "\n",
      "Train Epoch: 68 [0/869 (0%)]\tLoss: 139929376.000000\n",
      "\n",
      "Test set: Avg. loss: 326678.8571, Accuracy: 0/469 (0%)\n",
      "\n",
      "Train Epoch: 69 [0/869 (0%)]\tLoss: 143822704.000000\n",
      "\n",
      "Test set: Avg. loss: 326676.1962, Accuracy: 0/469 (0%)\n",
      "\n",
      "Train Epoch: 70 [0/869 (0%)]\tLoss: 144283600.000000\n",
      "\n",
      "Test set: Avg. loss: 326677.7313, Accuracy: 0/469 (0%)\n",
      "\n",
      "Train Epoch: 71 [0/869 (0%)]\tLoss: 146111360.000000\n",
      "\n",
      "Test set: Avg. loss: 326677.7313, Accuracy: 0/469 (0%)\n",
      "\n",
      "Train Epoch: 72 [0/869 (0%)]\tLoss: 137883536.000000\n",
      "\n",
      "Test set: Avg. loss: 326682.2687, Accuracy: 0/469 (0%)\n",
      "\n",
      "Train Epoch: 73 [0/869 (0%)]\tLoss: 146421664.000000\n",
      "\n",
      "Test set: Avg. loss: 326680.2217, Accuracy: 0/469 (0%)\n",
      "\n",
      "Train Epoch: 74 [0/869 (0%)]\tLoss: 146641200.000000\n",
      "\n",
      "Test set: Avg. loss: 326681.1087, Accuracy: 0/469 (0%)\n",
      "\n",
      "Train Epoch: 75 [0/869 (0%)]\tLoss: 127893904.000000\n",
      "\n",
      "Test set: Avg. loss: 326683.1557, Accuracy: 0/469 (0%)\n",
      "\n"
     ]
    },
    {
     "name": "stdout",
     "output_type": "stream",
     "text": [
      "Train Epoch: 76 [0/869 (0%)]\tLoss: 133666360.000000\n",
      "\n",
      "Test set: Avg. loss: 326678.3795, Accuracy: 0/469 (0%)\n",
      "\n",
      "Train Epoch: 77 [0/869 (0%)]\tLoss: 157647552.000000\n",
      "\n",
      "Test set: Avg. loss: 326673.8763, Accuracy: 0/469 (0%)\n",
      "\n",
      "Train Epoch: 78 [0/869 (0%)]\tLoss: 131389016.000000\n",
      "\n",
      "Test set: Avg. loss: 326679.1983, Accuracy: 0/469 (0%)\n",
      "\n",
      "Train Epoch: 79 [0/869 (0%)]\tLoss: 156227168.000000\n",
      "\n",
      "Test set: Avg. loss: 326677.2196, Accuracy: 0/469 (0%)\n",
      "\n",
      "Train Epoch: 80 [0/869 (0%)]\tLoss: 132160080.000000\n",
      "\n",
      "Test set: Avg. loss: 326682.0299, Accuracy: 0/469 (0%)\n",
      "\n",
      "Train Epoch: 81 [0/869 (0%)]\tLoss: 151099920.000000\n",
      "\n",
      "Test set: Avg. loss: 326676.8443, Accuracy: 0/469 (0%)\n",
      "\n",
      "Train Epoch: 82 [0/869 (0%)]\tLoss: 142534208.000000\n",
      "\n",
      "Test set: Avg. loss: 326680.1876, Accuracy: 0/469 (0%)\n",
      "\n",
      "Train Epoch: 83 [0/869 (0%)]\tLoss: 146971872.000000\n",
      "\n",
      "Test set: Avg. loss: 326679.5394, Accuracy: 0/469 (0%)\n",
      "\n",
      "Train Epoch: 84 [0/869 (0%)]\tLoss: 148721824.000000\n",
      "\n",
      "Test set: Avg. loss: 326679.2324, Accuracy: 0/469 (0%)\n",
      "\n",
      "Train Epoch: 85 [0/869 (0%)]\tLoss: 153355632.000000\n",
      "\n",
      "Test set: Avg. loss: 326677.0832, Accuracy: 0/469 (0%)\n",
      "\n",
      "Train Epoch: 86 [0/869 (0%)]\tLoss: 147803248.000000\n",
      "\n",
      "Test set: Avg. loss: 326679.7441, Accuracy: 0/469 (0%)\n",
      "\n",
      "Train Epoch: 87 [0/869 (0%)]\tLoss: 141884480.000000\n",
      "\n",
      "Test set: Avg. loss: 326684.1109, Accuracy: 0/469 (0%)\n",
      "\n",
      "Train Epoch: 88 [0/869 (0%)]\tLoss: 149969760.000000\n",
      "\n",
      "Test set: Avg. loss: 326683.7015, Accuracy: 0/469 (0%)\n",
      "\n",
      "Train Epoch: 89 [0/869 (0%)]\tLoss: 147843520.000000\n",
      "\n",
      "Test set: Avg. loss: 326677.4925, Accuracy: 0/469 (0%)\n",
      "\n",
      "Train Epoch: 90 [0/869 (0%)]\tLoss: 121267880.000000\n",
      "\n",
      "Test set: Avg. loss: 326685.6119, Accuracy: 0/469 (0%)\n",
      "\n",
      "Time elapsed: 1.8621 seconds\n"
     ]
    },
    {
     "ename": "ModuleAttributeError",
     "evalue": "'LayerLinearRegression' object has no attribute 'weight'",
     "output_type": "error",
     "traceback": [
      "\u001b[1;31m---------------------------------------------------------------------------\u001b[0m",
      "\u001b[1;31mModuleAttributeError\u001b[0m                      Traceback (most recent call last)",
      "\u001b[1;32m<ipython-input-53-64d8bdb18d8d>\u001b[0m in \u001b[0;36m<module>\u001b[1;34m\u001b[0m\n\u001b[0;32m     14\u001b[0m \u001b[0mprint\u001b[0m\u001b[1;33m(\u001b[0m\u001b[1;34mf\"Time elapsed: {toc - tic:0.4f} seconds\"\u001b[0m\u001b[1;33m)\u001b[0m\u001b[1;33m\u001b[0m\u001b[1;33m\u001b[0m\u001b[0m\n\u001b[0;32m     15\u001b[0m \u001b[1;33m\u001b[0m\u001b[0m\n\u001b[1;32m---> 16\u001b[1;33m \u001b[0mnetwork\u001b[0m\u001b[1;33m.\u001b[0m\u001b[0mweight\u001b[0m\u001b[1;33m\u001b[0m\u001b[1;33m\u001b[0m\u001b[0m\n\u001b[0m",
      "\u001b[1;32m~\\miniconda3\\envs\\pytorch_examples\\lib\\site-packages\\torch\\nn\\modules\\module.py\u001b[0m in \u001b[0;36m__getattr__\u001b[1;34m(self, name)\u001b[0m\n\u001b[0;32m    777\u001b[0m                 \u001b[1;32mreturn\u001b[0m \u001b[0mmodules\u001b[0m\u001b[1;33m[\u001b[0m\u001b[0mname\u001b[0m\u001b[1;33m]\u001b[0m\u001b[1;33m\u001b[0m\u001b[1;33m\u001b[0m\u001b[0m\n\u001b[0;32m    778\u001b[0m         raise ModuleAttributeError(\"'{}' object has no attribute '{}'\".format(\n\u001b[1;32m--> 779\u001b[1;33m             type(self).__name__, name))\n\u001b[0m\u001b[0;32m    780\u001b[0m \u001b[1;33m\u001b[0m\u001b[0m\n\u001b[0;32m    781\u001b[0m     \u001b[1;32mdef\u001b[0m \u001b[0m__setattr__\u001b[0m\u001b[1;33m(\u001b[0m\u001b[0mself\u001b[0m\u001b[1;33m,\u001b[0m \u001b[0mname\u001b[0m\u001b[1;33m:\u001b[0m \u001b[0mstr\u001b[0m\u001b[1;33m,\u001b[0m \u001b[0mvalue\u001b[0m\u001b[1;33m:\u001b[0m \u001b[0mUnion\u001b[0m\u001b[1;33m[\u001b[0m\u001b[0mTensor\u001b[0m\u001b[1;33m,\u001b[0m \u001b[1;34m'Module'\u001b[0m\u001b[1;33m]\u001b[0m\u001b[1;33m)\u001b[0m \u001b[1;33m->\u001b[0m \u001b[1;32mNone\u001b[0m\u001b[1;33m:\u001b[0m\u001b[1;33m\u001b[0m\u001b[1;33m\u001b[0m\u001b[0m\n",
      "\u001b[1;31mModuleAttributeError\u001b[0m: 'LayerLinearRegression' object has no attribute 'weight'"
     ]
    }
   ],
   "source": [
    "\n",
    "#test\n",
    "#n_epochs = 1\n",
    "\n",
    "#Check accuaracy before training\n",
    "test()\n",
    "tic = time.perf_counter()\n",
    "\n",
    "for epoch in range(1, n_epochs + 1):\n",
    "  train(epoch)\n",
    "  test()\n",
    "    \n",
    "toc = time.perf_counter()\n",
    "\n",
    "print(f\"Time elapsed: {toc - tic:0.4f} seconds\")"
   ]
  },
  {
   "cell_type": "markdown",
   "id": "sealed-cover",
   "metadata": {},
   "source": [
    "### Plot training result with pytorch"
   ]
  },
  {
   "cell_type": "code",
   "execution_count": 70,
   "id": "supported-shark",
   "metadata": {},
   "outputs": [
    {
     "data": {
      "image/png": "[encoded data removed]",
      "text/plain": [
       "<Figure size 432x288 with 1 Axes>"
      ]
     },
     "metadata": {
      "needs_background": "light"
     },
     "output_type": "display_data"
    },
    {
     "name": "stdout",
     "output_type": "stream",
     "text": [
      "B0: [13160.917], B1: [[775.93256]]\n"
     ]
    }
   ],
   "source": [
    "beta0 = network.linear.bias.detach().numpy()\n",
    "beta1 = network.linear.weight.detach().numpy()\n",
    "\n",
    "yplot = X_train * beta1 + beta0\n",
    "plt.plot(X_train, y_train, 'x');\n",
    "plt.plot(X_train, yplot.reshape(-1, 1), 'g')\n",
    "plt.show()\n",
    "\n",
    "print(f'B0: {beta0}, B1: {beta1}')"
   ]
  },
  {
   "cell_type": "markdown",
   "id": "developing-vocabulary",
   "metadata": {},
   "source": [
    "# References"
   ]
  },
  {
   "cell_type": "markdown",
   "id": "gothic-theta",
   "metadata": {},
   "source": [
    "https://stackoverflow.com/questions/44429199/how-to-load-a-list-of-numpy-arrays-to-pytorch-dataset-loader\n",
    "https://towardsdatascience.com/linear-regression-with-pytorch-eb6dedead817"
   ]
  },
  {
   "cell_type": "markdown",
   "id": "logical-arbor",
   "metadata": {},
   "source": [
    "# ToDo"
   ]
  },
  {
   "cell_type": "markdown",
   "id": "intellectual-butler",
   "metadata": {},
   "source": [
    "Loss is high, but this might be because output values are high too.\n",
    "Options to do\n",
    "-Normalize outputs and train model again. Might no needed.\n",
    "-Check ohter examples using nn.Linear, how they train their models"
   ]
  },
  {
   "cell_type": "code",
   "execution_count": null,
   "id": "bright-showcase",
   "metadata": {},
   "outputs": [],
   "source": []
  }
 ],
 "metadata": {
  "kernelspec": {
   "display_name": "Python 3",
   "language": "python",
   "name": "python3"
  },
  "language_info": {
   "codemirror_mode": {
    "name": "ipython",
    "version": 3
   },
   "file_extension": ".py",
   "mimetype": "text/x-python",
   "name": "python",
   "nbconvert_exporter": "python",
   "pygments_lexer": "ipython3",
   "version": "3.7.9"
  }
 },
 "nbformat": 4,
 "nbformat_minor": 5
}
