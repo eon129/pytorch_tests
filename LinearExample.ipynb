{
 "cells": [
  {
   "cell_type": "markdown",
   "id": "further-sponsorship",
   "metadata": {},
   "source": [
    "# Linear regression example"
   ]
  },
  {
   "cell_type": "code",
   "execution_count": 3,
   "id": "medical-circuit",
   "metadata": {},
   "outputs": [],
   "source": [
    "import matplotlib.pyplot as plt\n",
    "#from mpl_toolkits import mplot3d\n",
    "import pandas as pd\n",
    "import numpy as np\n",
    "from torch.utils.data import TensorDataset, DataLoader\n",
    "import time"
   ]
  },
  {
   "cell_type": "code",
   "execution_count": 4,
   "id": "subjective-break",
   "metadata": {},
   "outputs": [
    {
     "data": {
      "text/html": [
       "<div>\n",
       "<style scoped>\n",
       "    .dataframe tbody tr th:only-of-type {\n",
       "        vertical-align: middle;\n",
       "    }\n",
       "\n",
       "    .dataframe tbody tr th {\n",
       "        vertical-align: top;\n",
       "    }\n",
       "\n",
       "    .dataframe thead th {\n",
       "        text-align: right;\n",
       "    }\n",
       "</style>\n",
       "<table border=\"1\" class=\"dataframe\">\n",
       "  <thead>\n",
       "    <tr style=\"text-align: right;\">\n",
       "      <th></th>\n",
       "      <th>age</th>\n",
       "      <th>sex</th>\n",
       "      <th>bmi</th>\n",
       "      <th>children</th>\n",
       "      <th>smoker</th>\n",
       "      <th>region</th>\n",
       "      <th>charges</th>\n",
       "    </tr>\n",
       "  </thead>\n",
       "  <tbody>\n",
       "    <tr>\n",
       "      <th>0</th>\n",
       "      <td>19</td>\n",
       "      <td>female</td>\n",
       "      <td>27.900</td>\n",
       "      <td>0</td>\n",
       "      <td>yes</td>\n",
       "      <td>southwest</td>\n",
       "      <td>16884.92400</td>\n",
       "    </tr>\n",
       "    <tr>\n",
       "      <th>1</th>\n",
       "      <td>18</td>\n",
       "      <td>male</td>\n",
       "      <td>33.770</td>\n",
       "      <td>1</td>\n",
       "      <td>no</td>\n",
       "      <td>southeast</td>\n",
       "      <td>1725.55230</td>\n",
       "    </tr>\n",
       "    <tr>\n",
       "      <th>2</th>\n",
       "      <td>28</td>\n",
       "      <td>male</td>\n",
       "      <td>33.000</td>\n",
       "      <td>3</td>\n",
       "      <td>no</td>\n",
       "      <td>southeast</td>\n",
       "      <td>4449.46200</td>\n",
       "    </tr>\n",
       "    <tr>\n",
       "      <th>3</th>\n",
       "      <td>33</td>\n",
       "      <td>male</td>\n",
       "      <td>22.705</td>\n",
       "      <td>0</td>\n",
       "      <td>no</td>\n",
       "      <td>northwest</td>\n",
       "      <td>21984.47061</td>\n",
       "    </tr>\n",
       "    <tr>\n",
       "      <th>4</th>\n",
       "      <td>32</td>\n",
       "      <td>male</td>\n",
       "      <td>28.880</td>\n",
       "      <td>0</td>\n",
       "      <td>no</td>\n",
       "      <td>northwest</td>\n",
       "      <td>3866.85520</td>\n",
       "    </tr>\n",
       "  </tbody>\n",
       "</table>\n",
       "</div>"
      ],
      "text/plain": [
       "   age     sex     bmi  children smoker     region      charges\n",
       "0   19  female  27.900         0    yes  southwest  16884.92400\n",
       "1   18    male  33.770         1     no  southeast   1725.55230\n",
       "2   28    male  33.000         3     no  southeast   4449.46200\n",
       "3   33    male  22.705         0     no  northwest  21984.47061\n",
       "4   32    male  28.880         0     no  northwest   3866.85520"
      ]
     },
     "execution_count": 4,
     "metadata": {},
     "output_type": "execute_result"
    }
   ],
   "source": [
    "#Get data from csv file\n",
    "data = pd.read_csv(\"LinearExample/insurance.csv\") \n",
    "# Preview the first 5 lines of the loaded data \n",
    "data.head()"
   ]
  },
  {
   "cell_type": "code",
   "execution_count": 5,
   "id": "traditional-mozambique",
   "metadata": {},
   "outputs": [
    {
     "name": "stdout",
     "output_type": "stream",
     "text": [
      "Rows     :  1338\n",
      "Columns  :  7\n",
      "\n",
      "Features : \n",
      " ['age', 'sex', 'bmi', 'children', 'smoker', 'region', 'charges']\n",
      "\n",
      "Missing values :   0\n",
      "\n",
      "Unique values :  \n",
      " age           47\n",
      "sex            2\n",
      "bmi          548\n",
      "children       6\n",
      "smoker         2\n",
      "region         4\n",
      "charges     1337\n",
      "dtype: int64\n"
     ]
    }
   ],
   "source": [
    "#Explore data\n",
    "print (\"Rows     : \" , data.shape[0])\n",
    "print (\"Columns  : \" , data.shape[1])\n",
    "print (\"\\nFeatures : \\n\", data.columns.tolist())\n",
    "print (\"\\nMissing values :  \", data.isnull().sum().values.sum())\n",
    "print (\"\\nUnique values :  \\n\", data.nunique())"
   ]
  },
  {
   "cell_type": "code",
   "execution_count": 6,
   "id": "intense-distributor",
   "metadata": {},
   "outputs": [
    {
     "name": "stdout",
     "output_type": "stream",
     "text": [
      "<class 'pandas.core.frame.DataFrame'>\n",
      "RangeIndex: 1338 entries, 0 to 1337\n",
      "Data columns (total 7 columns):\n",
      " #   Column    Non-Null Count  Dtype  \n",
      "---  ------    --------------  -----  \n",
      " 0   age       1338 non-null   int64  \n",
      " 1   sex       1338 non-null   object \n",
      " 2   bmi       1338 non-null   float64\n",
      " 3   children  1338 non-null   int64  \n",
      " 4   smoker    1338 non-null   object \n",
      " 5   region    1338 non-null   object \n",
      " 6   charges   1338 non-null   float64\n",
      "dtypes: float64(2), int64(2), object(3)\n",
      "memory usage: 73.3+ KB\n"
     ]
    }
   ],
   "source": [
    "data.info()"
   ]
  },
  {
   "cell_type": "code",
   "execution_count": 7,
   "id": "documented-replication",
   "metadata": {},
   "outputs": [
    {
     "data": {
      "text/html": [
       "<div>\n",
       "<style scoped>\n",
       "    .dataframe tbody tr th:only-of-type {\n",
       "        vertical-align: middle;\n",
       "    }\n",
       "\n",
       "    .dataframe tbody tr th {\n",
       "        vertical-align: top;\n",
       "    }\n",
       "\n",
       "    .dataframe thead th {\n",
       "        text-align: right;\n",
       "    }\n",
       "</style>\n",
       "<table border=\"1\" class=\"dataframe\">\n",
       "  <thead>\n",
       "    <tr style=\"text-align: right;\">\n",
       "      <th></th>\n",
       "      <th>age</th>\n",
       "      <th>bmi</th>\n",
       "      <th>children</th>\n",
       "      <th>charges</th>\n",
       "    </tr>\n",
       "  </thead>\n",
       "  <tbody>\n",
       "    <tr>\n",
       "      <th>count</th>\n",
       "      <td>1338.000000</td>\n",
       "      <td>1338.000000</td>\n",
       "      <td>1338.000000</td>\n",
       "      <td>1338.000000</td>\n",
       "    </tr>\n",
       "    <tr>\n",
       "      <th>mean</th>\n",
       "      <td>39.207025</td>\n",
       "      <td>30.663397</td>\n",
       "      <td>1.094918</td>\n",
       "      <td>13270.422265</td>\n",
       "    </tr>\n",
       "    <tr>\n",
       "      <th>std</th>\n",
       "      <td>14.049960</td>\n",
       "      <td>6.098187</td>\n",
       "      <td>1.205493</td>\n",
       "      <td>12110.011237</td>\n",
       "    </tr>\n",
       "    <tr>\n",
       "      <th>min</th>\n",
       "      <td>18.000000</td>\n",
       "      <td>15.960000</td>\n",
       "      <td>0.000000</td>\n",
       "      <td>1121.873900</td>\n",
       "    </tr>\n",
       "    <tr>\n",
       "      <th>25%</th>\n",
       "      <td>27.000000</td>\n",
       "      <td>26.296250</td>\n",
       "      <td>0.000000</td>\n",
       "      <td>4740.287150</td>\n",
       "    </tr>\n",
       "    <tr>\n",
       "      <th>50%</th>\n",
       "      <td>39.000000</td>\n",
       "      <td>30.400000</td>\n",
       "      <td>1.000000</td>\n",
       "      <td>9382.033000</td>\n",
       "    </tr>\n",
       "    <tr>\n",
       "      <th>75%</th>\n",
       "      <td>51.000000</td>\n",
       "      <td>34.693750</td>\n",
       "      <td>2.000000</td>\n",
       "      <td>16639.912515</td>\n",
       "    </tr>\n",
       "    <tr>\n",
       "      <th>max</th>\n",
       "      <td>64.000000</td>\n",
       "      <td>53.130000</td>\n",
       "      <td>5.000000</td>\n",
       "      <td>63770.428010</td>\n",
       "    </tr>\n",
       "  </tbody>\n",
       "</table>\n",
       "</div>"
      ],
      "text/plain": [
       "               age          bmi     children       charges\n",
       "count  1338.000000  1338.000000  1338.000000   1338.000000\n",
       "mean     39.207025    30.663397     1.094918  13270.422265\n",
       "std      14.049960     6.098187     1.205493  12110.011237\n",
       "min      18.000000    15.960000     0.000000   1121.873900\n",
       "25%      27.000000    26.296250     0.000000   4740.287150\n",
       "50%      39.000000    30.400000     1.000000   9382.033000\n",
       "75%      51.000000    34.693750     2.000000  16639.912515\n",
       "max      64.000000    53.130000     5.000000  63770.428010"
      ]
     },
     "execution_count": 7,
     "metadata": {},
     "output_type": "execute_result"
    }
   ],
   "source": [
    "data.describe()"
   ]
  },
  {
   "cell_type": "markdown",
   "id": "instrumental-currency",
   "metadata": {},
   "source": [
    "### Check bmi distribution"
   ]
  },
  {
   "cell_type": "code",
   "execution_count": 8,
   "id": "amber-neutral",
   "metadata": {},
   "outputs": [],
   "source": [
    "dataNp = data.to_numpy()\n",
    "\n",
    "age = dataNp[:, 0]\n",
    "age = age.astype('float64')\n",
    "sex = dataNp[:, 1]\n",
    "bmi = dataNp[:,2]\n",
    "bmi = bmi.astype('float64')\n",
    "children = dataNp[:, 3]\n",
    "smoker = dataNp[:, 4]\n",
    "region = dataNp[:, 5]\n",
    "charges = dataNp[:, 6]\n",
    "charges = charges.astype('float64')"
   ]
  },
  {
   "cell_type": "code",
   "execution_count": 9,
   "id": "tight-graham",
   "metadata": {},
   "outputs": [
    {
     "data": {
      "image/png": "[encoded data removed]",
      "text/plain": [
       "<Figure size 432x288 with 1 Axes>"
      ]
     },
     "metadata": {
      "needs_background": "light"
     },
     "output_type": "display_data"
    }
   ],
   "source": [
    "#plt.hist(charges, bins=15)\n",
    "#plt.show()\n",
    "plt.plot(smoker, bmi, 'x');"
   ]
  },
  {
   "cell_type": "markdown",
   "id": "judicial-relaxation",
   "metadata": {},
   "source": [
    "### Check charges distribution"
   ]
  },
  {
   "cell_type": "code",
   "execution_count": 10,
   "id": "excess-novelty",
   "metadata": {},
   "outputs": [
    {
     "data": {
      "image/png": "[encoded data removed]",
      "text/plain": [
       "<Figure size 432x288 with 1 Axes>"
      ]
     },
     "metadata": {
      "needs_background": "light"
     },
     "output_type": "display_data"
    }
   ],
   "source": [
    "plt.hist(charges, bins=50)\n",
    "plt.show()"
   ]
  },
  {
   "cell_type": "markdown",
   "id": "massive-found",
   "metadata": {},
   "source": [
    "Charges distribution has 3 clusters, most of the cases fall in the range 0 - 10000 aprox"
   ]
  },
  {
   "cell_type": "markdown",
   "id": "infinite-windows",
   "metadata": {},
   "source": [
    "### Checking relationship between age and charges"
   ]
  },
  {
   "cell_type": "code",
   "execution_count": 11,
   "id": "bored-benchmark",
   "metadata": {},
   "outputs": [
    {
     "data": {
      "image/png": "[encoded data removed]",
      "text/plain": [
       "<Figure size 432x288 with 1 Axes>"
      ]
     },
     "metadata": {
      "needs_background": "light"
     },
     "output_type": "display_data"
    }
   ],
   "source": [
    "plt.plot(age, charges, 'x');"
   ]
  },
  {
   "cell_type": "markdown",
   "id": "variable-solution",
   "metadata": {},
   "source": [
    "Checking plot, seems that there is a linear relation between these variables. It's very spreaded though.\n",
    "\n",
    "Let's try to find a linear equation that fits this data just for fun.\n",
    "\n",
    "With this visualization, 3 clusters are visible.\n",
    "How do they relate with other variables?\n",
    "How can I find the relation between a cluster and another variable(s)?"
   ]
  },
  {
   "cell_type": "markdown",
   "id": "secondary-nothing",
   "metadata": {},
   "source": [
    "### Training the model to predict charges uisng age"
   ]
  },
  {
   "cell_type": "code",
   "execution_count": 12,
   "id": "monthly-chicken",
   "metadata": {},
   "outputs": [],
   "source": [
    "from sklearn.model_selection import train_test_split\n",
    "import torch\n",
    "import torch.nn as nn\n",
    "import torch.nn.functional as F\n",
    "import torch.optim as optim"
   ]
  },
  {
   "cell_type": "markdown",
   "id": "floppy-declaration",
   "metadata": {},
   "source": [
    "### Normalize data"
   ]
  },
  {
   "cell_type": "code",
   "execution_count": 13,
   "id": "earlier-update",
   "metadata": {},
   "outputs": [],
   "source": [
    "#Get normalize values before spliting sets\n",
    "ageNorm = np.linalg.norm(age)\n",
    "chargesNorm = np.linalg.norm(charges)\n",
    "\n",
    "#divide train and test dataset\n",
    "X_train, X_test, y_train, y_test = train_test_split(age, charges, train_size=0.65,test_size=0.35)\n",
    "\n",
    "#Get data sample sizes\n",
    "trainDataSize = X_train.size\n",
    "testDataSize = y_test.size\n",
    "\n",
    "#normalize data\n",
    "X_train =  X_train / ageNorm\n",
    "X_test =  X_test / ageNorm\n",
    "y_train = y_train / chargesNorm\n",
    "y_test = y_test / chargesNorm"
   ]
  },
  {
   "cell_type": "markdown",
   "id": "beautiful-penalty",
   "metadata": {},
   "source": [
    "### Plot after normalization"
   ]
  },
  {
   "cell_type": "code",
   "execution_count": 14,
   "id": "solved-enclosure",
   "metadata": {},
   "outputs": [
    {
     "data": {
      "image/png": "[encoded data removed]",
      "text/plain": [
       "<Figure size 432x288 with 1 Axes>"
      ]
     },
     "metadata": {
      "needs_background": "light"
     },
     "output_type": "display_data"
    }
   ],
   "source": [
    "plt.plot(X_train, y_train, 'x');"
   ]
  },
  {
   "cell_type": "markdown",
   "id": "organized-general",
   "metadata": {},
   "source": [
    "### Use sklearn to train model and then plot calculated function and train data together"
   ]
  },
  {
   "cell_type": "code",
   "execution_count": 15,
   "id": "downtown-mirror",
   "metadata": {},
   "outputs": [
    {
     "data": {
      "image/png": "[encoded data removed]",
      "text/plain": [
       "<Figure size 432x288 with 1 Axes>"
      ]
     },
     "metadata": {
      "needs_background": "light"
     },
     "output_type": "display_data"
    },
    {
     "name": "stdout",
     "output_type": "stream",
     "text": [
      "B0: [0.00574152], B1: [0.58467172]\n"
     ]
    }
   ],
   "source": [
    "from sklearn.linear_model import LinearRegression\n",
    "linr = LinearRegression()\n",
    "linr.fit(X_train.reshape(-1,1), y_train.reshape(-1,1))\n",
    "\n",
    "slbeta0 = linr.intercept_\n",
    "slbeta1 = linr.coef_[0]\n",
    "\n",
    "yplot = X_train * slbeta1 + slbeta0\n",
    "\n",
    "plt.plot(X_train, y_train, 'x');\n",
    "plt.plot(X_train, yplot, 'g')\n",
    "plt.show()\n",
    "\n",
    "print(f'B0: {slbeta0}, B1: {slbeta1}')"
   ]
  },
  {
   "cell_type": "markdown",
   "id": "renewable-creator",
   "metadata": {},
   "source": [
    "### Evaluate model with coeficients provided by sklearn, Plot error distribution"
   ]
  },
  {
   "cell_type": "code",
   "execution_count": 16,
   "id": "outdoor-ticket",
   "metadata": {},
   "outputs": [
    {
     "data": {
      "image/png": "[encoded data removed]",
      "text/plain": [
       "<Figure size 432x288 with 1 Axes>"
      ]
     },
     "metadata": {
      "needs_background": "light"
     },
     "output_type": "display_data"
    }
   ],
   "source": [
    "slyhat = X_train * slbeta1 + slbeta0\n",
    "error = y_train - slyhat\n",
    "\n",
    "plt.hist(error, bins=50)\n",
    "plt.show()"
   ]
  },
  {
   "cell_type": "markdown",
   "id": "boxed-press",
   "metadata": {},
   "source": [
    "Error distribution shows 3 kernels, leftmost (negative) shows where most of the data is present."
   ]
  },
  {
   "cell_type": "markdown",
   "id": "vocal-botswana",
   "metadata": {},
   "source": [
    "### Use pytorch to train model"
   ]
  },
  {
   "cell_type": "code",
   "execution_count": 17,
   "id": "exterior-civilian",
   "metadata": {},
   "outputs": [],
   "source": [
    "n_epochs = 100\n",
    "#batch_size_train = round(trainDataSize / 2)\n",
    "batch_size_train = trainDataSize\n",
    "batch_size_test = testDataSize\n",
    "learning_rate = 0.01\n",
    "momentum = 0.9\n",
    "log_interval = 10\n",
    "\n",
    "# transform to torch tensor\n",
    "tensor_train_x = torch.Tensor(X_train.reshape(-1, 1))\n",
    "tensor_train_y = torch.Tensor(y_train.reshape(-1, 1))\n",
    "\n",
    "# create your datset\n",
    "train_data = TensorDataset(tensor_train_x, tensor_train_y)\n",
    "\n",
    "#Create loader using data\n",
    "train_loader = torch.utils.data.DataLoader(\n",
    "    train_data,\n",
    "    batch_size=batch_size_train,\n",
    "    shuffle=True)\n",
    "\n",
    "# transform to torch tensor\n",
    "tensor_test_x = torch.Tensor(X_test.reshape(-1, 1))\n",
    "tensor_test_y = torch.Tensor(y_test.reshape(-1, 1))\n",
    "\n",
    "# create your datset\n",
    "test_data = TensorDataset(tensor_test_x, tensor_test_y)\n",
    "\n",
    "#Create loader using data\n",
    "test_loader = torch.utils.data.DataLoader(\n",
    "    test_data,\n",
    "    batch_size=batch_size_test,\n",
    "    shuffle=True)"
   ]
  },
  {
   "cell_type": "code",
   "execution_count": 18,
   "id": "brief-producer",
   "metadata": {},
   "outputs": [],
   "source": [
    "class LayerLinearRegression(nn.Module):\n",
    "    def __init__(self):\n",
    "        super().__init__()\n",
    "        # Instead of our custom parameters, we use a Linear layer with single input and single output\n",
    "        self.linear = nn.Linear(1, 1)\n",
    "                \n",
    "    def forward(self, x):\n",
    "        # Now it only takes a call to the layer to make predictions\n",
    "        return self.linear(x)\n",
    "    \n",
    "#Network model\n",
    "network = LayerLinearRegression()\n",
    "\n",
    "#Configure loss function\n",
    "LossFunction = nn.MSELoss(reduction='mean')\n",
    "\n",
    "#Stochastic gradient decent\n",
    "optimizer = optim.SGD(network.parameters(), lr=learning_rate, momentum=momentum)\n",
    "#optimizer = optim.SGD(network.parameters(), lr=learning_rate)"
   ]
  },
  {
   "cell_type": "code",
   "execution_count": 19,
   "id": "understood-sapphire",
   "metadata": {},
   "outputs": [],
   "source": [
    "train_losses = []\n",
    "train_counter = []\n",
    "test_losses = []\n",
    "test_counter = [i*len(train_loader.dataset) for i in range(n_epochs + 1)]"
   ]
  },
  {
   "cell_type": "code",
   "execution_count": 20,
   "id": "effective-finland",
   "metadata": {},
   "outputs": [],
   "source": [
    "def train(epoch):\n",
    "  #Configure network for training\n",
    "  network.train()\n",
    "\n",
    "  for batch_idx, (data, target) in enumerate(train_loader):\n",
    "       \n",
    "    #set parameters gradients to 0\n",
    "    optimizer.zero_grad()\n",
    "    \n",
    "    #runs model with data and returns result in output\n",
    "    output = network(data)\n",
    "    \n",
    "    #Calculate loss.\n",
    "    loss = LossFunction(output, target)\n",
    "    \n",
    "    #Gradients are calculated\n",
    "    loss.backward()\n",
    "    \n",
    "    #update gradients\n",
    "    optimizer.step()\n",
    "    \n",
    "    #Display iteration statistics\n",
    "    #if batch_idx % log_interval == 0:\n",
    "    print('Train Epoch: {} \\tLoss: {:.6f}'.format(epoch, loss.item()))\n",
    "    train_losses.append(loss.item())\n",
    "    train_counter.append((batch_idx*batch_size_train) + ((epoch-1)*len(train_loader.dataset)))"
   ]
  },
  {
   "cell_type": "code",
   "execution_count": 21,
   "id": "rotary-malawi",
   "metadata": {},
   "outputs": [],
   "source": [
    "def test():\n",
    "    #Sets the module in evaluation mode\n",
    "    network.eval()\n",
    "    test_loss = 0\n",
    "    correct = 0\n",
    "    \n",
    "    #dont update dynamic computation graph\n",
    "    with torch.no_grad():\n",
    "        #for every example in test\n",
    "        for data, target in test_loader:\n",
    "            #evaluate the model\n",
    "            output = network(data)\n",
    "            #acumulate the loss\n",
    "            test_loss += LossFunction(output, target).item()\n",
    "            test_loss /= len(test_loader.dataset)\n",
    "            test_losses.append(test_loss)\n",
    "            print('\\nTest set: Avg. loss: {:.6f}\\n'.format(test_loss))"
   ]
  },
  {
   "cell_type": "code",
   "execution_count": 22,
   "id": "organized-atlas",
   "metadata": {},
   "outputs": [
    {
     "name": "stdout",
     "output_type": "stream",
     "text": [
      "\n",
      "Test set: Avg. loss: 0.001094\n",
      "\n",
      "Train Epoch: 1 \tLoss: 0.510774\n",
      "\n",
      "Test set: Avg. loss: 0.001051\n",
      "\n",
      "Train Epoch: 2 \tLoss: 0.490547\n",
      "\n",
      "Test set: Avg. loss: 0.000972\n",
      "\n",
      "Train Epoch: 3 \tLoss: 0.453628\n",
      "\n",
      "Test set: Avg. loss: 0.000866\n",
      "\n",
      "Train Epoch: 4 \tLoss: 0.404326\n",
      "\n",
      "Test set: Avg. loss: 0.000744\n",
      "\n",
      "Train Epoch: 5 \tLoss: 0.347234\n",
      "\n",
      "Test set: Avg. loss: 0.000615\n",
      "\n",
      "Train Epoch: 6 \tLoss: 0.286811\n",
      "\n",
      "Test set: Avg. loss: 0.000487\n",
      "\n",
      "Train Epoch: 7 \tLoss: 0.227053\n",
      "\n",
      "Test set: Avg. loss: 0.000368\n",
      "\n",
      "Train Epoch: 8 \tLoss: 0.171270\n",
      "\n",
      "Test set: Avg. loss: 0.000262\n",
      "\n",
      "Train Epoch: 9 \tLoss: 0.121949\n",
      "\n",
      "Test set: Avg. loss: 0.000174\n",
      "\n",
      "Train Epoch: 10 \tLoss: 0.080714\n",
      "\n",
      "Test set: Avg. loss: 0.000105\n",
      "\n",
      "Train Epoch: 11 \tLoss: 0.048356\n",
      "\n",
      "Test set: Avg. loss: 0.000054\n",
      "\n",
      "Train Epoch: 12 \tLoss: 0.024924\n",
      "\n",
      "Test set: Avg. loss: 0.000022\n",
      "\n",
      "Train Epoch: 13 \tLoss: 0.009854\n",
      "\n",
      "Test set: Avg. loss: 0.000005\n",
      "\n",
      "Train Epoch: 14 \tLoss: 0.002120\n",
      "\n",
      "Test set: Avg. loss: 0.000001\n",
      "\n",
      "Train Epoch: 15 \tLoss: 0.000393\n",
      "\n",
      "Test set: Avg. loss: 0.000006\n",
      "\n",
      "Train Epoch: 16 \tLoss: 0.003196\n",
      "\n",
      "Test set: Avg. loss: 0.000019\n",
      "\n",
      "Train Epoch: 17 \tLoss: 0.009035\n",
      "\n",
      "Test set: Avg. loss: 0.000034\n",
      "\n",
      "Train Epoch: 18 \tLoss: 0.016513\n",
      "\n",
      "Test set: Avg. loss: 0.000051\n",
      "\n",
      "Train Epoch: 19 \tLoss: 0.024413\n",
      "\n",
      "Test set: Avg. loss: 0.000066\n",
      "\n",
      "Train Epoch: 20 \tLoss: 0.031749\n",
      "\n",
      "Test set: Avg. loss: 0.000079\n",
      "\n",
      "Train Epoch: 21 \tLoss: 0.037798\n",
      "\n",
      "Test set: Avg. loss: 0.000088\n",
      "\n",
      "Train Epoch: 22 \tLoss: 0.042099\n",
      "\n",
      "Test set: Avg. loss: 0.000093\n",
      "\n",
      "Train Epoch: 23 \tLoss: 0.044434\n",
      "\n",
      "Test set: Avg. loss: 0.000094\n",
      "\n",
      "Train Epoch: 24 \tLoss: 0.044800\n",
      "\n",
      "Test set: Avg. loss: 0.000091\n",
      "\n",
      "Train Epoch: 25 \tLoss: 0.043361\n",
      "\n",
      "Test set: Avg. loss: 0.000085\n",
      "\n",
      "Train Epoch: 26 \tLoss: 0.040407\n",
      "\n",
      "Test set: Avg. loss: 0.000076\n",
      "\n",
      "Train Epoch: 27 \tLoss: 0.036302\n",
      "\n",
      "Test set: Avg. loss: 0.000066\n",
      "\n",
      "Train Epoch: 28 \tLoss: 0.031444\n",
      "\n",
      "Test set: Avg. loss: 0.000055\n",
      "\n",
      "Train Epoch: 29 \tLoss: 0.026224\n",
      "\n",
      "Test set: Avg. loss: 0.000044\n",
      "\n",
      "Train Epoch: 30 \tLoss: 0.020999\n",
      "\n",
      "Test set: Avg. loss: 0.000033\n",
      "\n",
      "Train Epoch: 31 \tLoss: 0.016068\n",
      "\n",
      "Test set: Avg. loss: 0.000024\n",
      "\n",
      "Train Epoch: 32 \tLoss: 0.011663\n",
      "\n",
      "Test set: Avg. loss: 0.000016\n",
      "\n",
      "Train Epoch: 33 \tLoss: 0.007939\n",
      "\n",
      "Test set: Avg. loss: 0.000010\n",
      "\n",
      "Train Epoch: 34 \tLoss: 0.004978\n",
      "\n",
      "Test set: Avg. loss: 0.000006\n",
      "\n",
      "Train Epoch: 35 \tLoss: 0.002796\n",
      "\n",
      "Test set: Avg. loss: 0.000003\n",
      "\n",
      "Train Epoch: 36 \tLoss: 0.001353\n",
      "\n",
      "Test set: Avg. loss: 0.000001\n",
      "\n",
      "Train Epoch: 37 \tLoss: 0.000566\n",
      "\n",
      "Test set: Avg. loss: 0.000001\n",
      "\n",
      "Train Epoch: 38 \tLoss: 0.000326\n",
      "\n",
      "Test set: Avg. loss: 0.000001\n",
      "\n",
      "Train Epoch: 39 \tLoss: 0.000503\n",
      "\n",
      "Test set: Avg. loss: 0.000002\n",
      "\n",
      "Train Epoch: 40 \tLoss: 0.000969\n",
      "\n",
      "Test set: Avg. loss: 0.000004\n",
      "\n",
      "Train Epoch: 41 \tLoss: 0.001600\n",
      "\n",
      "Test set: Avg. loss: 0.000005\n",
      "\n",
      "Train Epoch: 42 \tLoss: 0.002286\n",
      "\n",
      "Test set: Avg. loss: 0.000007\n",
      "\n",
      "Train Epoch: 43 \tLoss: 0.002938\n",
      "\n",
      "Test set: Avg. loss: 0.000008\n",
      "\n",
      "Train Epoch: 44 \tLoss: 0.003489\n",
      "\n",
      "Test set: Avg. loss: 0.000009\n",
      "\n",
      "Train Epoch: 45 \tLoss: 0.003894\n",
      "\n",
      "Test set: Avg. loss: 0.000009\n",
      "\n",
      "Train Epoch: 46 \tLoss: 0.004130\n",
      "\n",
      "Test set: Avg. loss: 0.000009\n",
      "\n",
      "Train Epoch: 47 \tLoss: 0.004195\n",
      "\n",
      "Test set: Avg. loss: 0.000009\n",
      "\n",
      "Train Epoch: 48 \tLoss: 0.004098\n",
      "\n",
      "Test set: Avg. loss: 0.000009\n",
      "\n",
      "Train Epoch: 49 \tLoss: 0.003865\n",
      "\n",
      "Test set: Avg. loss: 0.000008\n",
      "\n",
      "Train Epoch: 50 \tLoss: 0.003525\n",
      "\n",
      "Test set: Avg. loss: 0.000007\n",
      "\n",
      "Train Epoch: 51 \tLoss: 0.003113\n",
      "\n",
      "Test set: Avg. loss: 0.000006\n",
      "\n",
      "Train Epoch: 52 \tLoss: 0.002663\n",
      "\n",
      "Test set: Avg. loss: 0.000005\n",
      "\n",
      "Train Epoch: 53 \tLoss: 0.002207\n",
      "\n",
      "Test set: Avg. loss: 0.000004\n",
      "\n",
      "Train Epoch: 54 \tLoss: 0.001772\n",
      "\n",
      "Test set: Avg. loss: 0.000003\n",
      "\n",
      "Train Epoch: 55 \tLoss: 0.001380\n",
      "\n",
      "Test set: Avg. loss: 0.000002\n",
      "\n",
      "Train Epoch: 56 \tLoss: 0.001044\n",
      "\n",
      "Test set: Avg. loss: 0.000002\n",
      "\n",
      "Train Epoch: 57 \tLoss: 0.000774\n",
      "\n",
      "Test set: Avg. loss: 0.000001\n",
      "\n",
      "Train Epoch: 58 \tLoss: 0.000571\n",
      "\n",
      "Test set: Avg. loss: 0.000001\n",
      "\n",
      "Train Epoch: 59 \tLoss: 0.000434\n",
      "\n",
      "Test set: Avg. loss: 0.000001\n",
      "\n",
      "Train Epoch: 60 \tLoss: 0.000356\n",
      "\n",
      "Test set: Avg. loss: 0.000001\n",
      "\n",
      "Train Epoch: 61 \tLoss: 0.000326\n",
      "\n",
      "Test set: Avg. loss: 0.000001\n",
      "\n",
      "Train Epoch: 62 \tLoss: 0.000336\n",
      "\n",
      "Test set: Avg. loss: 0.000001\n",
      "\n",
      "Train Epoch: 63 \tLoss: 0.000372\n",
      "\n",
      "Test set: Avg. loss: 0.000001\n",
      "\n",
      "Train Epoch: 64 \tLoss: 0.000425\n",
      "\n",
      "Test set: Avg. loss: 0.000001\n",
      "\n",
      "Train Epoch: 65 \tLoss: 0.000484\n",
      "\n",
      "Test set: Avg. loss: 0.000001\n",
      "\n",
      "Train Epoch: 66 \tLoss: 0.000542\n",
      "\n",
      "Test set: Avg. loss: 0.000001\n",
      "\n",
      "Train Epoch: 67 \tLoss: 0.000592\n",
      "\n",
      "Test set: Avg. loss: 0.000001\n",
      "\n",
      "Train Epoch: 68 \tLoss: 0.000630\n",
      "\n",
      "Test set: Avg. loss: 0.000001\n",
      "\n",
      "Train Epoch: 69 \tLoss: 0.000653\n",
      "\n",
      "Test set: Avg. loss: 0.000001\n",
      "\n",
      "Train Epoch: 70 \tLoss: 0.000662\n",
      "\n",
      "Test set: Avg. loss: 0.000001\n",
      "\n",
      "Train Epoch: 71 \tLoss: 0.000656\n",
      "\n",
      "Test set: Avg. loss: 0.000001\n",
      "\n",
      "Train Epoch: 72 \tLoss: 0.000638\n",
      "\n",
      "Test set: Avg. loss: 0.000001\n",
      "\n",
      "Train Epoch: 73 \tLoss: 0.000610\n",
      "\n",
      "Test set: Avg. loss: 0.000001\n",
      "\n",
      "Train Epoch: 74 \tLoss: 0.000575\n",
      "\n",
      "Test set: Avg. loss: 0.000001\n",
      "\n",
      "Train Epoch: 75 \tLoss: 0.000536\n",
      "\n",
      "Test set: Avg. loss: 0.000001\n",
      "\n",
      "Train Epoch: 76 \tLoss: 0.000496\n",
      "\n",
      "Test set: Avg. loss: 0.000001\n",
      "\n",
      "Train Epoch: 77 \tLoss: 0.000458\n",
      "\n",
      "Test set: Avg. loss: 0.000001\n",
      "\n",
      "Train Epoch: 78 \tLoss: 0.000423\n",
      "\n",
      "Test set: Avg. loss: 0.000001\n",
      "\n",
      "Train Epoch: 79 \tLoss: 0.000393\n",
      "\n",
      "Test set: Avg. loss: 0.000001\n",
      "\n",
      "Train Epoch: 80 \tLoss: 0.000368\n",
      "\n",
      "Test set: Avg. loss: 0.000001\n",
      "\n",
      "Train Epoch: 81 \tLoss: 0.000350\n",
      "\n",
      "Test set: Avg. loss: 0.000001\n",
      "\n",
      "Train Epoch: 82 \tLoss: 0.000337\n",
      "\n",
      "Test set: Avg. loss: 0.000001\n",
      "\n",
      "Train Epoch: 83 \tLoss: 0.000329\n",
      "\n",
      "Test set: Avg. loss: 0.000001\n",
      "\n",
      "Train Epoch: 84 \tLoss: 0.000326\n",
      "\n",
      "Test set: Avg. loss: 0.000001\n",
      "\n",
      "Train Epoch: 85 \tLoss: 0.000326\n",
      "\n",
      "Test set: Avg. loss: 0.000001\n",
      "\n",
      "Train Epoch: 86 \tLoss: 0.000329\n",
      "\n",
      "Test set: Avg. loss: 0.000001\n",
      "\n",
      "Train Epoch: 87 \tLoss: 0.000333\n",
      "\n",
      "Test set: Avg. loss: 0.000001\n",
      "\n",
      "Train Epoch: 88 \tLoss: 0.000338\n",
      "\n",
      "Test set: Avg. loss: 0.000001\n",
      "\n",
      "Train Epoch: 89 \tLoss: 0.000343\n",
      "\n",
      "Test set: Avg. loss: 0.000001\n",
      "\n",
      "Train Epoch: 90 \tLoss: 0.000348\n",
      "\n",
      "Test set: Avg. loss: 0.000001\n",
      "\n",
      "Train Epoch: 91 \tLoss: 0.000351\n",
      "\n",
      "Test set: Avg. loss: 0.000001\n",
      "\n",
      "Train Epoch: 92 \tLoss: 0.000354\n",
      "\n",
      "Test set: Avg. loss: 0.000001\n",
      "\n",
      "Train Epoch: 93 \tLoss: 0.000355\n",
      "\n",
      "Test set: Avg. loss: 0.000001\n",
      "\n",
      "Train Epoch: 94 \tLoss: 0.000354\n",
      "\n",
      "Test set: Avg. loss: 0.000001\n",
      "\n",
      "Train Epoch: 95 \tLoss: 0.000353\n",
      "\n",
      "Test set: Avg. loss: 0.000001\n",
      "\n",
      "Train Epoch: 96 \tLoss: 0.000351\n",
      "\n",
      "Test set: Avg. loss: 0.000001\n",
      "\n",
      "Train Epoch: 97 \tLoss: 0.000348\n",
      "\n",
      "Test set: Avg. loss: 0.000001\n",
      "\n",
      "Train Epoch: 98 \tLoss: 0.000344\n",
      "\n",
      "Test set: Avg. loss: 0.000001\n",
      "\n",
      "Train Epoch: 99 \tLoss: 0.000341\n",
      "\n",
      "Test set: Avg. loss: 0.000001\n",
      "\n",
      "Train Epoch: 100 \tLoss: 0.000338\n",
      "\n",
      "Test set: Avg. loss: 0.000001\n",
      "\n",
      "Time elapsed: 2.4442 seconds\n"
     ]
    }
   ],
   "source": [
    "#Check accuaracy before training\n",
    "test()\n",
    "tic = time.perf_counter()\n",
    "\n",
    "for epoch in range(1, n_epochs + 1):\n",
    "  train(epoch)\n",
    "  test()\n",
    "    \n",
    "toc = time.perf_counter()\n",
    "\n",
    "print(f\"Time elapsed: {toc - tic:0.4f} seconds\")"
   ]
  },
  {
   "cell_type": "markdown",
   "id": "sealed-cover",
   "metadata": {},
   "source": [
    "### Plot training result with pytorch"
   ]
  },
  {
   "cell_type": "code",
   "execution_count": 23,
   "id": "supported-shark",
   "metadata": {},
   "outputs": [
    {
     "data": {
      "image/png": "[encoded data removed]",
      "text/plain": [
       "<Figure size 432x288 with 1 Axes>"
      ]
     },
     "metadata": {
      "needs_background": "light"
     },
     "output_type": "display_data"
    },
    {
     "name": "stdout",
     "output_type": "stream",
     "text": [
      "B0: [0.01239151], B1: [[0.44207612]]\n"
     ]
    }
   ],
   "source": [
    "beta1, beta0 = network.parameters()\n",
    "\n",
    "beta0 = beta0.data.numpy()\n",
    "beta1 = beta1.data.numpy()\n",
    "\n",
    "yplot = X_train * beta1 + beta0\n",
    "plt.plot(X_train, y_train, 'x');\n",
    "plt.plot(X_train, yplot.reshape(-1, 1), 'g')\n",
    "plt.show()\n",
    "\n",
    "print(f'B0: {beta0}, B1: {beta1}')"
   ]
  },
  {
   "cell_type": "code",
   "execution_count": 24,
   "id": "modern-intervention",
   "metadata": {},
   "outputs": [
    {
     "data": {
      "image/png": "[encoded data removed]",
      "text/plain": [
       "<Figure size 432x288 with 1 Axes>"
      ]
     },
     "metadata": {
      "needs_background": "light"
     },
     "output_type": "display_data"
    }
   ],
   "source": [
    "with torch.no_grad():\n",
    "    yhat = X_train * beta1 + beta0\n",
    "    error = y_train - yhat\n",
    "\n",
    "    plt.hist(error.reshape(-1, 1), bins=50)\n",
    "    plt.show()"
   ]
  },
  {
   "cell_type": "markdown",
   "id": "checked-recycling",
   "metadata": {},
   "source": [
    "### Plot test loss curve"
   ]
  },
  {
   "cell_type": "code",
   "execution_count": 25,
   "id": "solved-confidence",
   "metadata": {},
   "outputs": [
    {
     "data": {
      "image/png": "[encoded data removed]",
      "text/plain": [
       "<Figure size 432x288 with 1 Axes>"
      ]
     },
     "metadata": {
      "needs_background": "light"
     },
     "output_type": "display_data"
    }
   ],
   "source": [
    "#fig = plt.figure()\n",
    "#plt.plot(train_counter, train_losses, color='blue')\n",
    "plt.scatter(test_counter, test_losses, color='red')\n",
    "plt.legend(['Test Loss'], loc='upper right')\n",
    "plt.xlabel('number of training examples seen')\n",
    "plt.ylabel('Mean squared error loss')\n",
    "plt.show()"
   ]
  },
  {
   "cell_type": "code",
   "execution_count": 26,
   "id": "enabling-story",
   "metadata": {},
   "outputs": [
    {
     "data": {
      "image/png": "[encoded data removed]",
      "text/plain": [
       "<Figure size 432x288 with 1 Axes>"
      ]
     },
     "metadata": {
      "needs_background": "light"
     },
     "output_type": "display_data"
    }
   ],
   "source": [
    "plt.plot(train_counter, train_losses, color='blue')\n",
    "plt.legend(['Train Loss'], loc='upper right')\n",
    "plt.xlabel('number of training examples seen')\n",
    "plt.ylabel('Mean squared error loss')\n",
    "plt.show()"
   ]
  },
  {
   "cell_type": "markdown",
   "id": "unlikely-clinton",
   "metadata": {},
   "source": [
    "### Result analysis"
   ]
  },
  {
   "cell_type": "markdown",
   "id": "incoming-scholar",
   "metadata": {},
   "source": [
    "As shown below, model gets stuck with a local minimum resulting in a predicted line which doesn't fit very well the data. Why sklearn always gets a good result?\n",
    "This are te configuration used,\n",
    "epochs = 400\n",
    "batch size = sample / 4\n",
    "learning_rate = 0.01\n",
    "momentum = 0.9"
   ]
  },
  {
   "attachments": {
    "image.png": {
     "image/png": "[encoded data removed]"
    }
   },
   "cell_type": "markdown",
   "id": "architectural-subscriber",
   "metadata": {},
   "source": [
    "![image.png](attachment:image.png)"
   ]
  },
  {
   "cell_type": "markdown",
   "id": "uniform-nylon",
   "metadata": {},
   "source": [
    "n_epochs = 400\n",
    "batch_size_train = round(trainDataSize / 2)\n",
    "batch_size_test = testDataSize\n",
    "learning_rate = 0.01\n",
    "momentum = 0.9\n",
    "log_interval = 10"
   ]
  },
  {
   "cell_type": "markdown",
   "id": "initial-exhibit",
   "metadata": {},
   "source": [
    "Error plot from example below, result in a distribution very different from the optimum result"
   ]
  },
  {
   "attachments": {
    "image.png": {
     "image/png": "[encoded data removed]"
    }
   },
   "cell_type": "markdown",
   "id": "lovely-requirement",
   "metadata": {},
   "source": [
    "![image.png](attachment:image.png)"
   ]
  },
  {
   "attachments": {
    "image.png": {
     "image/png": "[encoded data removed]"
    }
   },
   "cell_type": "markdown",
   "id": "literary-authority",
   "metadata": {},
   "source": [
    "![image.png](attachment:image.png)"
   ]
  },
  {
   "cell_type": "markdown",
   "id": "intelligent-brunswick",
   "metadata": {},
   "source": [
    "As shown below. data has a cluster with a large number of data, very close eachother with a linear shape, and two less dense more disperse clusters. In the error distribution we can see first a thin but high distribution corresponding to the first cluster, and two more disperse after."
   ]
  },
  {
   "attachments": {
    "image.png": {
     "image/png": "[encoded data removed]"
    }
   },
   "cell_type": "markdown",
   "id": "refined-industry",
   "metadata": {},
   "source": [
    "![image.png](attachment:image.png)"
   ]
  },
  {
   "attachments": {
    "image.png": {
     "image/png": "[encoded data removed]"
    }
   },
   "cell_type": "markdown",
   "id": "operational-premium",
   "metadata": {},
   "source": [
    "![image.png](attachment:image.png)"
   ]
  },
  {
   "attachments": {
    "image.png": {
     "image/png": "[encoded data removed]"
    }
   },
   "cell_type": "markdown",
   "id": "international-medicine",
   "metadata": {},
   "source": [
    "![image.png](attachment:image.png)"
   ]
  },
  {
   "attachments": {
    "image.png": {
     "image/png": "[encoded data removed]"
    }
   },
   "cell_type": "markdown",
   "id": "useful-appearance",
   "metadata": {},
   "source": [
    "![image.png](attachment:image.png)"
   ]
  },
  {
   "cell_type": "code",
   "execution_count": 32,
   "id": "robust-matthew",
   "metadata": {},
   "outputs": [
    {
     "data": {
      "text/html": [
       "<div>\n",
       "<style scoped>\n",
       "    .dataframe tbody tr th:only-of-type {\n",
       "        vertical-align: middle;\n",
       "    }\n",
       "\n",
       "    .dataframe tbody tr th {\n",
       "        vertical-align: top;\n",
       "    }\n",
       "\n",
       "    .dataframe thead th {\n",
       "        text-align: right;\n",
       "    }\n",
       "</style>\n",
       "<table border=\"1\" class=\"dataframe\">\n",
       "  <thead>\n",
       "    <tr style=\"text-align: right;\">\n",
       "      <th></th>\n",
       "      <th>age</th>\n",
       "      <th>bmi</th>\n",
       "      <th>children</th>\n",
       "      <th>charges</th>\n",
       "    </tr>\n",
       "  </thead>\n",
       "  <tbody>\n",
       "    <tr>\n",
       "      <th>count</th>\n",
       "      <td>144.000000</td>\n",
       "      <td>144.000000</td>\n",
       "      <td>144.000000</td>\n",
       "      <td>144.000000</td>\n",
       "    </tr>\n",
       "    <tr>\n",
       "      <th>mean</th>\n",
       "      <td>39.104167</td>\n",
       "      <td>35.544757</td>\n",
       "      <td>1.104167</td>\n",
       "      <td>41692.808992</td>\n",
       "    </tr>\n",
       "    <tr>\n",
       "      <th>std</th>\n",
       "      <td>14.361331</td>\n",
       "      <td>4.184624</td>\n",
       "      <td>1.113922</td>\n",
       "      <td>5829.158699</td>\n",
       "    </tr>\n",
       "    <tr>\n",
       "      <th>min</th>\n",
       "      <td>18.000000</td>\n",
       "      <td>30.020000</td>\n",
       "      <td>0.000000</td>\n",
       "      <td>32548.340500</td>\n",
       "    </tr>\n",
       "    <tr>\n",
       "      <th>25%</th>\n",
       "      <td>25.750000</td>\n",
       "      <td>32.275000</td>\n",
       "      <td>0.000000</td>\n",
       "      <td>37243.904350</td>\n",
       "    </tr>\n",
       "    <tr>\n",
       "      <th>50%</th>\n",
       "      <td>37.500000</td>\n",
       "      <td>34.960000</td>\n",
       "      <td>1.000000</td>\n",
       "      <td>40918.314500</td>\n",
       "    </tr>\n",
       "    <tr>\n",
       "      <th>75%</th>\n",
       "      <td>51.000000</td>\n",
       "      <td>37.207500</td>\n",
       "      <td>2.000000</td>\n",
       "      <td>45704.068725</td>\n",
       "    </tr>\n",
       "    <tr>\n",
       "      <th>max</th>\n",
       "      <td>64.000000</td>\n",
       "      <td>52.580000</td>\n",
       "      <td>4.000000</td>\n",
       "      <td>63770.428010</td>\n",
       "    </tr>\n",
       "  </tbody>\n",
       "</table>\n",
       "</div>"
      ],
      "text/plain": [
       "              age         bmi    children       charges\n",
       "count  144.000000  144.000000  144.000000    144.000000\n",
       "mean    39.104167   35.544757    1.104167  41692.808992\n",
       "std     14.361331    4.184624    1.113922   5829.158699\n",
       "min     18.000000   30.020000    0.000000  32548.340500\n",
       "25%     25.750000   32.275000    0.000000  37243.904350\n",
       "50%     37.500000   34.960000    1.000000  40918.314500\n",
       "75%     51.000000   37.207500    2.000000  45704.068725\n",
       "max     64.000000   52.580000    4.000000  63770.428010"
      ]
     },
     "execution_count": 32,
     "metadata": {},
     "output_type": "execute_result"
    }
   ],
   "source": [
    "#Check charges in obese and smokers\n",
    "data[(data['bmi'] > 30) & (data['smoker'] == 'yes')].describe()"
   ]
  },
  {
   "cell_type": "code",
   "execution_count": 31,
   "id": "romantic-feeding",
   "metadata": {},
   "outputs": [
    {
     "data": {
      "text/html": [
       "<div>\n",
       "<style scoped>\n",
       "    .dataframe tbody tr th:only-of-type {\n",
       "        vertical-align: middle;\n",
       "    }\n",
       "\n",
       "    .dataframe tbody tr th {\n",
       "        vertical-align: top;\n",
       "    }\n",
       "\n",
       "    .dataframe thead th {\n",
       "        text-align: right;\n",
       "    }\n",
       "</style>\n",
       "<table border=\"1\" class=\"dataframe\">\n",
       "  <thead>\n",
       "    <tr style=\"text-align: right;\">\n",
       "      <th></th>\n",
       "      <th>age</th>\n",
       "      <th>bmi</th>\n",
       "      <th>children</th>\n",
       "      <th>charges</th>\n",
       "    </tr>\n",
       "  </thead>\n",
       "  <tbody>\n",
       "    <tr>\n",
       "      <th>count</th>\n",
       "      <td>502.000000</td>\n",
       "      <td>502.000000</td>\n",
       "      <td>502.000000</td>\n",
       "      <td>502.00000</td>\n",
       "    </tr>\n",
       "    <tr>\n",
       "      <th>mean</th>\n",
       "      <td>37.960159</td>\n",
       "      <td>25.555548</td>\n",
       "      <td>1.069721</td>\n",
       "      <td>7977.02952</td>\n",
       "    </tr>\n",
       "    <tr>\n",
       "      <th>std</th>\n",
       "      <td>13.575486</td>\n",
       "      <td>3.145819</td>\n",
       "      <td>1.227236</td>\n",
       "      <td>5839.22811</td>\n",
       "    </tr>\n",
       "    <tr>\n",
       "      <th>min</th>\n",
       "      <td>18.000000</td>\n",
       "      <td>15.960000</td>\n",
       "      <td>0.000000</td>\n",
       "      <td>1121.87390</td>\n",
       "    </tr>\n",
       "    <tr>\n",
       "      <th>25%</th>\n",
       "      <td>26.000000</td>\n",
       "      <td>23.465000</td>\n",
       "      <td>0.000000</td>\n",
       "      <td>3733.58500</td>\n",
       "    </tr>\n",
       "    <tr>\n",
       "      <th>50%</th>\n",
       "      <td>37.000000</td>\n",
       "      <td>26.030000</td>\n",
       "      <td>1.000000</td>\n",
       "      <td>6761.61525</td>\n",
       "    </tr>\n",
       "    <tr>\n",
       "      <th>75%</th>\n",
       "      <td>49.000000</td>\n",
       "      <td>28.087500</td>\n",
       "      <td>2.000000</td>\n",
       "      <td>10905.68660</td>\n",
       "    </tr>\n",
       "    <tr>\n",
       "      <th>max</th>\n",
       "      <td>64.000000</td>\n",
       "      <td>29.925000</td>\n",
       "      <td>5.000000</td>\n",
       "      <td>35160.13457</td>\n",
       "    </tr>\n",
       "  </tbody>\n",
       "</table>\n",
       "</div>"
      ],
      "text/plain": [
       "              age         bmi    children      charges\n",
       "count  502.000000  502.000000  502.000000    502.00000\n",
       "mean    37.960159   25.555548    1.069721   7977.02952\n",
       "std     13.575486    3.145819    1.227236   5839.22811\n",
       "min     18.000000   15.960000    0.000000   1121.87390\n",
       "25%     26.000000   23.465000    0.000000   3733.58500\n",
       "50%     37.000000   26.030000    1.000000   6761.61525\n",
       "75%     49.000000   28.087500    2.000000  10905.68660\n",
       "max     64.000000   29.925000    5.000000  35160.13457"
      ]
     },
     "execution_count": 31,
     "metadata": {},
     "output_type": "execute_result"
    }
   ],
   "source": [
    "#Check charges in obese and smokers\n",
    "data[(data['bmi'] < 30) & (data['smoker'] == 'no')].describe()"
   ]
  },
  {
   "cell_type": "code",
   "execution_count": 33,
   "id": "adopted-seating",
   "metadata": {},
   "outputs": [
    {
     "data": {
      "text/plain": [
       "<AxesSubplot:>"
      ]
     },
     "execution_count": 33,
     "metadata": {},
     "output_type": "execute_result"
    },
    {
     "data": {
      "image/png": "[encoded data removed]",
      "text/plain": [
       "<Figure size 432x288 with 1 Axes>"
      ]
     },
     "metadata": {
      "needs_background": "light"
     },
     "output_type": "display_data"
    }
   ],
   "source": [
    "#Check charges in obese and smokers\n",
    "data[(data['bmi'] > 30) & (data['smoker'] == 'yes')]['charges'].hist()"
   ]
  },
  {
   "cell_type": "code",
   "execution_count": 34,
   "id": "religious-museum",
   "metadata": {},
   "outputs": [
    {
     "data": {
      "text/plain": [
       "<AxesSubplot:>"
      ]
     },
     "execution_count": 34,
     "metadata": {},
     "output_type": "execute_result"
    },
    {
     "data": {
      "image/png": "[encoded data removed]",
      "text/plain": [
       "<Figure size 432x288 with 1 Axes>"
      ]
     },
     "metadata": {
      "needs_background": "light"
     },
     "output_type": "display_data"
    }
   ],
   "source": [
    "#Check charges in obese and smokers\n",
    "data[(data['bmi'] > 30) & (data['smoker'] == 'no')]['charges'].hist()"
   ]
  },
  {
   "cell_type": "markdown",
   "id": "developing-vocabulary",
   "metadata": {},
   "source": [
    "# References"
   ]
  },
  {
   "cell_type": "markdown",
   "id": "gothic-theta",
   "metadata": {},
   "source": [
    "- https://stackoverflow.com/questions/44429199/how-to-load-a-list-of-numpy-arrays-to-pytorch-dataset-loader\n",
    "- https://towardsdatascience.com/linear-regression-with-pytorch-eb6dedead817\n",
    "- Data was taken from: https://www.kaggle.com/mirichoi0218/insurance\n",
    "- https://www.kaggle.com/yogidsba/insurance-claims-eda-hypothesis-testing"
   ]
  },
  {
   "cell_type": "markdown",
   "id": "logical-arbor",
   "metadata": {},
   "source": [
    "# ToDo"
   ]
  },
  {
   "cell_type": "markdown",
   "id": "intellectual-butler",
   "metadata": {},
   "source": [
    "- Sometimes model is not converging, how can I fix this?\n",
    "- Check other parameters to tune in the model to improve model converging.\n",
    "- When data is very spread, what is the best approach to get a better result?\n",
    "- Analize other characteristic from data to check how to better predict charges\n",
    "- Check how data is saved in train_counter\n",
    "- Check relation with smoker and charges\n",
    "- Check the following implementations\n",
    "- https://www.kaggle.com/sudhirnl7/linear-regression-tutorial\n",
    "- https://www.kaggle.com/janiobachmann/patient-charges-clustering-and-regression\n",
    "- https://www.kaggle.com/hely333/eda-regression\n",
    "- It seems that there is a big impact in charges when person is obese\n",
    "Under Weight: Body Mass Index (BMI)  <  18.5\n",
    "Normal Weight: Body Mass Index (BMI)  ≥  18.5 and Body Mass Index (BMI)  <  24.9\n",
    "Overweight: Body Mass Index (BMI)  ≥  25 and Body Mass Index (BMI)  <  29.9\n",
    "Obese: Body Mass Index (BMI)  >  30\n",
    "- Since no smokers are charged very similar, but being obese and being smoker takes more impact, perhaps create a new field taking into account somokers, and obese."
   ]
  },
  {
   "cell_type": "markdown",
   "id": "periodic-anatomy",
   "metadata": {},
   "source": [
    "# Notes"
   ]
  },
  {
   "cell_type": "markdown",
   "id": "liquid-checkout",
   "metadata": {},
   "source": [
    "- Since data is very spread, using an small batch size the model doesn't seems to converge, if I use a bigger batch size, it does better.\n",
    "- What is the difference between a model and nn.Linear? nn.Module is a neural network containers. Linear is a type of layer"
   ]
  }
 ],
 "metadata": {
  "kernelspec": {
   "display_name": "Python 3",
   "language": "python",
   "name": "python3"
  },
  "language_info": {
   "codemirror_mode": {
    "name": "ipython",
    "version": 3
   },
   "file_extension": ".py",
   "mimetype": "text/x-python",
   "name": "python",
   "nbconvert_exporter": "python",
   "pygments_lexer": "ipython3",
   "version": "3.7.9"
  }
 },
 "nbformat": 4,
 "nbformat_minor": 5
}
