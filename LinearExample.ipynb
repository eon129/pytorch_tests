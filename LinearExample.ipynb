{
 "cells": [
  {
   "cell_type": "markdown",
   "id": "further-sponsorship",
   "metadata": {},
   "source": [
    "# Linear regression example"
   ]
  },
  {
   "cell_type": "markdown",
   "id": "federal-citation",
   "metadata": {},
   "source": [
    "Data was taken from: https://www.kaggle.com/mirichoi0218/insurance"
   ]
  },
  {
   "cell_type": "code",
   "execution_count": 1,
   "id": "medical-circuit",
   "metadata": {},
   "outputs": [],
   "source": [
    "import matplotlib.pyplot as plt\n",
    "import pandas as pd\n",
    "import numpy as np\n",
    "from torch.utils.data import TensorDataset, DataLoader\n",
    "import time"
   ]
  },
  {
   "cell_type": "code",
   "execution_count": 2,
   "id": "subjective-break",
   "metadata": {},
   "outputs": [
    {
     "data": {
      "text/html": [
       "<div>\n",
       "<style scoped>\n",
       "    .dataframe tbody tr th:only-of-type {\n",
       "        vertical-align: middle;\n",
       "    }\n",
       "\n",
       "    .dataframe tbody tr th {\n",
       "        vertical-align: top;\n",
       "    }\n",
       "\n",
       "    .dataframe thead th {\n",
       "        text-align: right;\n",
       "    }\n",
       "</style>\n",
       "<table border=\"1\" class=\"dataframe\">\n",
       "  <thead>\n",
       "    <tr style=\"text-align: right;\">\n",
       "      <th></th>\n",
       "      <th>age</th>\n",
       "      <th>sex</th>\n",
       "      <th>bmi</th>\n",
       "      <th>children</th>\n",
       "      <th>smoker</th>\n",
       "      <th>region</th>\n",
       "      <th>charges</th>\n",
       "    </tr>\n",
       "  </thead>\n",
       "  <tbody>\n",
       "    <tr>\n",
       "      <th>0</th>\n",
       "      <td>19</td>\n",
       "      <td>female</td>\n",
       "      <td>27.900</td>\n",
       "      <td>0</td>\n",
       "      <td>yes</td>\n",
       "      <td>southwest</td>\n",
       "      <td>16884.92400</td>\n",
       "    </tr>\n",
       "    <tr>\n",
       "      <th>1</th>\n",
       "      <td>18</td>\n",
       "      <td>male</td>\n",
       "      <td>33.770</td>\n",
       "      <td>1</td>\n",
       "      <td>no</td>\n",
       "      <td>southeast</td>\n",
       "      <td>1725.55230</td>\n",
       "    </tr>\n",
       "    <tr>\n",
       "      <th>2</th>\n",
       "      <td>28</td>\n",
       "      <td>male</td>\n",
       "      <td>33.000</td>\n",
       "      <td>3</td>\n",
       "      <td>no</td>\n",
       "      <td>southeast</td>\n",
       "      <td>4449.46200</td>\n",
       "    </tr>\n",
       "    <tr>\n",
       "      <th>3</th>\n",
       "      <td>33</td>\n",
       "      <td>male</td>\n",
       "      <td>22.705</td>\n",
       "      <td>0</td>\n",
       "      <td>no</td>\n",
       "      <td>northwest</td>\n",
       "      <td>21984.47061</td>\n",
       "    </tr>\n",
       "    <tr>\n",
       "      <th>4</th>\n",
       "      <td>32</td>\n",
       "      <td>male</td>\n",
       "      <td>28.880</td>\n",
       "      <td>0</td>\n",
       "      <td>no</td>\n",
       "      <td>northwest</td>\n",
       "      <td>3866.85520</td>\n",
       "    </tr>\n",
       "  </tbody>\n",
       "</table>\n",
       "</div>"
      ],
      "text/plain": [
       "   age     sex     bmi  children smoker     region      charges\n",
       "0   19  female  27.900         0    yes  southwest  16884.92400\n",
       "1   18    male  33.770         1     no  southeast   1725.55230\n",
       "2   28    male  33.000         3     no  southeast   4449.46200\n",
       "3   33    male  22.705         0     no  northwest  21984.47061\n",
       "4   32    male  28.880         0     no  northwest   3866.85520"
      ]
     },
     "execution_count": 2,
     "metadata": {},
     "output_type": "execute_result"
    }
   ],
   "source": [
    "#Get data from csv file\n",
    "data = pd.read_csv(\"LinearExample/insurance.csv\") \n",
    "# Preview the first 5 lines of the loaded data \n",
    "data.head()"
   ]
  },
  {
   "cell_type": "markdown",
   "id": "instrumental-currency",
   "metadata": {},
   "source": [
    "### Check bmi distribution"
   ]
  },
  {
   "cell_type": "code",
   "execution_count": 3,
   "id": "juvenile-strip",
   "metadata": {},
   "outputs": [
    {
     "data": {
      "image/png": "[encoded data removed]",
      "text/plain": [
       "<Figure size 432x288 with 1 Axes>"
      ]
     },
     "metadata": {
      "needs_background": "light"
     },
     "output_type": "display_data"
    }
   ],
   "source": [
    "dataNp = data.to_numpy()\n",
    "bmi = dataNp[:,2]\n",
    "bmi = bmi.astype('float64')\n",
    "\n",
    "plt.hist(bmi, bins=15)\n",
    "plt.show()"
   ]
  },
  {
   "cell_type": "markdown",
   "id": "judicial-relaxation",
   "metadata": {},
   "source": [
    "### Check charges distribution"
   ]
  },
  {
   "cell_type": "code",
   "execution_count": 4,
   "id": "excess-novelty",
   "metadata": {},
   "outputs": [
    {
     "data": {
      "image/png": "[encoded data removed]",
      "text/plain": [
       "<Figure size 432x288 with 1 Axes>"
      ]
     },
     "metadata": {
      "needs_background": "light"
     },
     "output_type": "display_data"
    }
   ],
   "source": [
    "dataNp = data.to_numpy()\n",
    "\n",
    "age = dataNp[:, 0]\n",
    "age = age.astype('float64')\n",
    "sex = dataNp[:, 1]\n",
    "children = dataNp[:, 3]\n",
    "charges = dataNp[:, 6]\n",
    "charges = charges.astype('float64')\n",
    "\n",
    "\n",
    "plt.hist(charges, bins=20)\n",
    "plt.show()"
   ]
  },
  {
   "cell_type": "markdown",
   "id": "infinite-windows",
   "metadata": {},
   "source": [
    "### Checking relationship between age and charges"
   ]
  },
  {
   "cell_type": "code",
   "execution_count": 5,
   "id": "bored-benchmark",
   "metadata": {},
   "outputs": [
    {
     "data": {
      "image/png": "[encoded data removed]",
      "text/plain": [
       "<Figure size 432x288 with 1 Axes>"
      ]
     },
     "metadata": {
      "needs_background": "light"
     },
     "output_type": "display_data"
    }
   ],
   "source": [
    "plt.plot(age, charges, 'x');"
   ]
  },
  {
   "cell_type": "markdown",
   "id": "variable-solution",
   "metadata": {},
   "source": [
    "Checking plot, seems that there is a linear relation between these variables. It's very spreaded though.\n",
    "\n",
    "Let's try to find a linear equation that fits this data just for fun.\n",
    "\n",
    "With this visualization, 3 clusters are visible.\n",
    "How do they relate with other variables?\n",
    "How can I find the relation between a cluster and another variable(s)?"
   ]
  },
  {
   "cell_type": "markdown",
   "id": "secondary-nothing",
   "metadata": {},
   "source": [
    "### Train the model with pytorch"
   ]
  },
  {
   "cell_type": "code",
   "execution_count": 6,
   "id": "monthly-chicken",
   "metadata": {},
   "outputs": [],
   "source": [
    "from sklearn.model_selection import train_test_split\n",
    "import torch\n",
    "import torch.nn as nn\n",
    "import torch.nn.functional as F\n",
    "import torch.optim as optim"
   ]
  },
  {
   "cell_type": "code",
   "execution_count": 7,
   "id": "earlier-update",
   "metadata": {},
   "outputs": [],
   "source": [
    "#Get normalize values before spliting sets\n",
    "ageNorm = np.linalg.norm(age)\n",
    "chargesNorm = np.linalg.norm(charges)\n",
    "\n",
    "#divide train and test dataset\n",
    "X_train, X_test, y_train, y_test = train_test_split(age, charges, train_size=0.65,test_size=0.35)\n",
    "\n",
    "#Get data sample sizes\n",
    "trainDataSize = X_train.size\n",
    "testDataSize = y_test.size\n",
    "\n",
    "#normalize data\n",
    "X_train =  X_train / ageNorm\n",
    "X_test =  X_test / ageNorm\n",
    "y_train = y_train / chargesNorm\n",
    "y_test = y_test / chargesNorm"
   ]
  },
  {
   "cell_type": "markdown",
   "id": "beautiful-penalty",
   "metadata": {},
   "source": [
    "### Plot after normalization"
   ]
  },
  {
   "cell_type": "code",
   "execution_count": 8,
   "id": "solved-enclosure",
   "metadata": {},
   "outputs": [
    {
     "data": {
      "image/png": "[encoded data removed]",
      "text/plain": [
       "<Figure size 432x288 with 1 Axes>"
      ]
     },
     "metadata": {
      "needs_background": "light"
     },
     "output_type": "display_data"
    }
   ],
   "source": [
    "plt.plot(X_train, y_train, 'x');"
   ]
  },
  {
   "cell_type": "markdown",
   "id": "organized-general",
   "metadata": {},
   "source": [
    "### Use sklearn to train model and then plot calculated function and train data together"
   ]
  },
  {
   "cell_type": "code",
   "execution_count": 9,
   "id": "downtown-mirror",
   "metadata": {},
   "outputs": [
    {
     "data": {
      "image/png": "[encoded data removed]",
      "text/plain": [
       "<Figure size 432x288 with 1 Axes>"
      ]
     },
     "metadata": {
      "needs_background": "light"
     },
     "output_type": "display_data"
    },
    {
     "name": "stdout",
     "output_type": "stream",
     "text": [
      "B0: [0.00602734], B1: [0.55501434]\n"
     ]
    }
   ],
   "source": [
    "from sklearn.linear_model import LinearRegression\n",
    "linr = LinearRegression()\n",
    "linr.fit(X_train.reshape(-1,1), y_train.reshape(-1,1))\n",
    "\n",
    "beta0 = linr.intercept_\n",
    "beta1 = linr.coef_[0]\n",
    "\n",
    "yplot = X_train * beta1 + beta0\n",
    "\n",
    "plt.plot(X_train, y_train, 'x');\n",
    "plt.plot(X_train, yplot, 'g')\n",
    "plt.show()\n",
    "\n",
    "print(f'B0: {beta0}, B1: {beta1}')"
   ]
  },
  {
   "cell_type": "markdown",
   "id": "vocal-botswana",
   "metadata": {},
   "source": [
    "### Use pytorch to train model"
   ]
  },
  {
   "cell_type": "code",
   "execution_count": 45,
   "id": "exterior-civilian",
   "metadata": {},
   "outputs": [],
   "source": [
    "n_epochs = 400\n",
    "batch_size_train = trainDataSize\n",
    "batch_size_test = testDataSize\n",
    "learning_rate = 0.01\n",
    "momentum = 0.5\n",
    "log_interval = 10\n",
    "\n",
    "# transform to torch tensor\n",
    "tensor_train_x = torch.Tensor(X_train.reshape(-1, 1))\n",
    "tensor_train_y = torch.Tensor(y_train.reshape(-1, 1))\n",
    "\n",
    "# create your datset\n",
    "train_data = TensorDataset(tensor_train_x, tensor_train_y)\n",
    "\n",
    "#Create loader using data\n",
    "train_loader = torch.utils.data.DataLoader(\n",
    "    train_data,\n",
    "    batch_size=batch_size_train,\n",
    "    shuffle=True)\n",
    "\n",
    "# transform to torch tensor\n",
    "tensor_test_x = torch.Tensor(X_test.reshape(-1, 1))\n",
    "tensor_test_y = torch.Tensor(y_test.reshape(-1, 1))\n",
    "\n",
    "# create your datset\n",
    "test_data = TensorDataset(tensor_test_x, tensor_test_y)\n",
    "\n",
    "#Create loader using data\n",
    "test_loader = torch.utils.data.DataLoader(\n",
    "    test_data,\n",
    "    batch_size=batch_size_test,\n",
    "    shuffle=True)"
   ]
  },
  {
   "cell_type": "code",
   "execution_count": 46,
   "id": "brief-producer",
   "metadata": {},
   "outputs": [],
   "source": [
    "class LayerLinearRegression(nn.Module):\n",
    "    def __init__(self):\n",
    "        super().__init__()\n",
    "        # Instead of our custom parameters, we use a Linear layer with single input and single output\n",
    "        self.linear = nn.Linear(1, 1)\n",
    "                \n",
    "    def forward(self, x):\n",
    "        # Now it only takes a call to the layer to make predictions\n",
    "        return self.linear(x)\n",
    "    \n",
    "#Network model\n",
    "network = LayerLinearRegression()\n",
    "\n",
    "#Configure loss function\n",
    "LossFunction = nn.MSELoss(reduction='mean')\n",
    "\n",
    "#Stochastic gradient decent\n",
    "optimizer = optim.SGD(network.parameters(), lr=learning_rate, momentum=momentum)\n",
    "#optimizer = optim.SGD(network.parameters(), lr=learning_rate)"
   ]
  },
  {
   "cell_type": "code",
   "execution_count": 47,
   "id": "understood-sapphire",
   "metadata": {},
   "outputs": [],
   "source": [
    "train_losses = []\n",
    "train_counter = []\n",
    "test_losses = []\n",
    "test_counter = [i*len(train_loader.dataset) for i in range(n_epochs + 1)]"
   ]
  },
  {
   "cell_type": "code",
   "execution_count": 48,
   "id": "effective-finland",
   "metadata": {},
   "outputs": [],
   "source": [
    "def train(epoch):\n",
    "  #Configure network for training\n",
    "  network.train()\n",
    "  for batch_idx, (data, target) in enumerate(train_loader):\n",
    "    \n",
    "    #set parameters gradients to 0\n",
    "    optimizer.zero_grad()\n",
    "    \n",
    "    #runs model with data and returns result in output\n",
    "    #here data contains a 64 * 1 * 28 * 28 tensor, 64 is batch size\n",
    "    output = network(data)\n",
    "    \n",
    "    #Use negative log likelihood loss.\n",
    "    loss = LossFunction(output, target)\n",
    "    \n",
    "    #with this gradients are calculated\n",
    "    loss.backward()\n",
    "    \n",
    "    #update gradients\n",
    "    optimizer.step()\n",
    "    \n",
    "    #Display iteration statistics\n",
    "    if batch_idx % log_interval == 0:\n",
    "      print('Train Epoch: {} [{}/{} ({:.0f}%)]\\tLoss: {:.6f}'.format(\n",
    "        epoch, batch_idx * len(data), len(train_loader.dataset),\n",
    "        100. * batch_idx / len(train_loader), loss.item()))\n",
    "      train_losses.append(loss.item())\n",
    "      train_counter.append(\n",
    "        (batch_idx*64) + ((epoch-1)*len(train_loader.dataset)))\n",
    "      #torch.save(network.state_dict(), 'results/model.pth')\n",
    "      #torch.save(optimizer.state_dict(), 'results/optimizer.pth')"
   ]
  },
  {
   "cell_type": "code",
   "execution_count": 49,
   "id": "rotary-malawi",
   "metadata": {},
   "outputs": [],
   "source": [
    "def test():\n",
    "  #Sets the module in evaluation mode\n",
    "  network.eval()\n",
    "  test_loss = 0\n",
    "  correct = 0\n",
    "    \n",
    "  #dont update dynamic computation graph\n",
    "  with torch.no_grad():\n",
    "    #for every example in test\n",
    "    for data, target in test_loader:\n",
    "      #evaluate the model\n",
    "      output = network(data)\n",
    "        \n",
    "      #acumulate the loss\n",
    "      test_loss += LossFunction(output, target).item()\n",
    "      test_loss /= len(test_loader.dataset)\n",
    "      test_losses.append(test_loss)\n",
    "      #print('\\nTest set: Avg. loss: {:.6f}\\n'.format(test_loss))"
   ]
  },
  {
   "cell_type": "code",
   "execution_count": 50,
   "id": "organized-atlas",
   "metadata": {},
   "outputs": [
    {
     "name": "stdout",
     "output_type": "stream",
     "text": [
      "Train Epoch: 1 [0/869 (0%)]\tLoss: 0.898456\n",
      "Train Epoch: 2 [0/869 (0%)]\tLoss: 0.862867\n",
      "Train Epoch: 3 [0/869 (0%)]\tLoss: 0.811516\n",
      "Train Epoch: 4 [0/869 (0%)]\tLoss: 0.754794\n",
      "Train Epoch: 5 [0/869 (0%)]\tLoss: 0.697864\n",
      "Train Epoch: 6 [0/869 (0%)]\tLoss: 0.643155\n",
      "Train Epoch: 7 [0/869 (0%)]\tLoss: 0.591702\n",
      "Train Epoch: 8 [0/869 (0%)]\tLoss: 0.543851\n",
      "Train Epoch: 9 [0/869 (0%)]\tLoss: 0.499613\n",
      "Train Epoch: 10 [0/869 (0%)]\tLoss: 0.458847\n",
      "Train Epoch: 11 [0/869 (0%)]\tLoss: 0.421345\n",
      "Train Epoch: 12 [0/869 (0%)]\tLoss: 0.386878\n",
      "Train Epoch: 13 [0/869 (0%)]\tLoss: 0.355217\n",
      "Train Epoch: 14 [0/869 (0%)]\tLoss: 0.326141\n",
      "Train Epoch: 15 [0/869 (0%)]\tLoss: 0.299442\n",
      "Train Epoch: 16 [0/869 (0%)]\tLoss: 0.274930\n",
      "Train Epoch: 17 [0/869 (0%)]\tLoss: 0.252425\n",
      "Train Epoch: 18 [0/869 (0%)]\tLoss: 0.231764\n",
      "Train Epoch: 19 [0/869 (0%)]\tLoss: 0.212796\n",
      "Train Epoch: 20 [0/869 (0%)]\tLoss: 0.195383\n",
      "Train Epoch: 21 [0/869 (0%)]\tLoss: 0.179396\n",
      "Train Epoch: 22 [0/869 (0%)]\tLoss: 0.164720\n",
      "Train Epoch: 23 [0/869 (0%)]\tLoss: 0.151247\n",
      "Train Epoch: 24 [0/869 (0%)]\tLoss: 0.138877\n",
      "Train Epoch: 25 [0/869 (0%)]\tLoss: 0.127522\n",
      "Train Epoch: 26 [0/869 (0%)]\tLoss: 0.117097\n",
      "Train Epoch: 27 [0/869 (0%)]\tLoss: 0.107527\n",
      "Train Epoch: 28 [0/869 (0%)]\tLoss: 0.098741\n",
      "Train Epoch: 29 [0/869 (0%)]\tLoss: 0.090675\n",
      "Train Epoch: 30 [0/869 (0%)]\tLoss: 0.083270\n",
      "Train Epoch: 31 [0/869 (0%)]\tLoss: 0.076471\n",
      "Train Epoch: 32 [0/869 (0%)]\tLoss: 0.070231\n",
      "Train Epoch: 33 [0/869 (0%)]\tLoss: 0.064501\n",
      "Train Epoch: 34 [0/869 (0%)]\tLoss: 0.059241\n",
      "Train Epoch: 35 [0/869 (0%)]\tLoss: 0.054412\n",
      "Train Epoch: 36 [0/869 (0%)]\tLoss: 0.049979\n",
      "Train Epoch: 37 [0/869 (0%)]\tLoss: 0.045910\n",
      "Train Epoch: 38 [0/869 (0%)]\tLoss: 0.042173\n",
      "Train Epoch: 39 [0/869 (0%)]\tLoss: 0.038743\n",
      "Train Epoch: 40 [0/869 (0%)]\tLoss: 0.035595\n",
      "Train Epoch: 41 [0/869 (0%)]\tLoss: 0.032704\n",
      "Train Epoch: 42 [0/869 (0%)]\tLoss: 0.030050\n",
      "Train Epoch: 43 [0/869 (0%)]\tLoss: 0.027613\n",
      "Train Epoch: 44 [0/869 (0%)]\tLoss: 0.025377\n",
      "Train Epoch: 45 [0/869 (0%)]\tLoss: 0.023323\n",
      "Train Epoch: 46 [0/869 (0%)]\tLoss: 0.021438\n",
      "Train Epoch: 47 [0/869 (0%)]\tLoss: 0.019708\n",
      "Train Epoch: 48 [0/869 (0%)]\tLoss: 0.018119\n",
      "Train Epoch: 49 [0/869 (0%)]\tLoss: 0.016660\n",
      "Train Epoch: 50 [0/869 (0%)]\tLoss: 0.015321\n",
      "Train Epoch: 51 [0/869 (0%)]\tLoss: 0.014092\n",
      "Train Epoch: 52 [0/869 (0%)]\tLoss: 0.012963\n",
      "Train Epoch: 53 [0/869 (0%)]\tLoss: 0.011927\n",
      "Train Epoch: 54 [0/869 (0%)]\tLoss: 0.010976\n",
      "Train Epoch: 55 [0/869 (0%)]\tLoss: 0.010103\n",
      "Train Epoch: 56 [0/869 (0%)]\tLoss: 0.009301\n",
      "Train Epoch: 57 [0/869 (0%)]\tLoss: 0.008566\n",
      "Train Epoch: 58 [0/869 (0%)]\tLoss: 0.007890\n",
      "Train Epoch: 59 [0/869 (0%)]\tLoss: 0.007270\n",
      "Train Epoch: 60 [0/869 (0%)]\tLoss: 0.006700\n",
      "Train Epoch: 61 [0/869 (0%)]\tLoss: 0.006178\n",
      "Train Epoch: 62 [0/869 (0%)]\tLoss: 0.005698\n",
      "Train Epoch: 63 [0/869 (0%)]\tLoss: 0.005257\n",
      "Train Epoch: 64 [0/869 (0%)]\tLoss: 0.004853\n",
      "Train Epoch: 65 [0/869 (0%)]\tLoss: 0.004481\n",
      "Train Epoch: 66 [0/869 (0%)]\tLoss: 0.004140\n",
      "Train Epoch: 67 [0/869 (0%)]\tLoss: 0.003827\n",
      "Train Epoch: 68 [0/869 (0%)]\tLoss: 0.003540\n",
      "Train Epoch: 69 [0/869 (0%)]\tLoss: 0.003276\n",
      "Train Epoch: 70 [0/869 (0%)]\tLoss: 0.003034\n",
      "Train Epoch: 71 [0/869 (0%)]\tLoss: 0.002812\n",
      "Train Epoch: 72 [0/869 (0%)]\tLoss: 0.002608\n",
      "Train Epoch: 73 [0/869 (0%)]\tLoss: 0.002421\n",
      "Train Epoch: 74 [0/869 (0%)]\tLoss: 0.002249\n",
      "Train Epoch: 75 [0/869 (0%)]\tLoss: 0.002091\n",
      "Train Epoch: 76 [0/869 (0%)]\tLoss: 0.001946\n",
      "Train Epoch: 77 [0/869 (0%)]\tLoss: 0.001813\n",
      "Train Epoch: 78 [0/869 (0%)]\tLoss: 0.001691\n",
      "Train Epoch: 79 [0/869 (0%)]\tLoss: 0.001578\n",
      "Train Epoch: 80 [0/869 (0%)]\tLoss: 0.001475\n",
      "Train Epoch: 81 [0/869 (0%)]\tLoss: 0.001381\n",
      "Train Epoch: 82 [0/869 (0%)]\tLoss: 0.001294\n",
      "Train Epoch: 83 [0/869 (0%)]\tLoss: 0.001214\n",
      "Train Epoch: 84 [0/869 (0%)]\tLoss: 0.001141\n",
      "Train Epoch: 85 [0/869 (0%)]\tLoss: 0.001074\n",
      "Train Epoch: 86 [0/869 (0%)]\tLoss: 0.001013\n",
      "Train Epoch: 87 [0/869 (0%)]\tLoss: 0.000956\n",
      "Train Epoch: 88 [0/869 (0%)]\tLoss: 0.000904\n",
      "Train Epoch: 89 [0/869 (0%)]\tLoss: 0.000856\n",
      "Train Epoch: 90 [0/869 (0%)]\tLoss: 0.000812\n",
      "Train Epoch: 91 [0/869 (0%)]\tLoss: 0.000772\n",
      "Train Epoch: 92 [0/869 (0%)]\tLoss: 0.000735\n",
      "Train Epoch: 93 [0/869 (0%)]\tLoss: 0.000702\n",
      "Train Epoch: 94 [0/869 (0%)]\tLoss: 0.000670\n",
      "Train Epoch: 95 [0/869 (0%)]\tLoss: 0.000642\n",
      "Train Epoch: 96 [0/869 (0%)]\tLoss: 0.000616\n",
      "Train Epoch: 97 [0/869 (0%)]\tLoss: 0.000592\n",
      "Train Epoch: 98 [0/869 (0%)]\tLoss: 0.000569\n",
      "Train Epoch: 99 [0/869 (0%)]\tLoss: 0.000549\n",
      "Train Epoch: 100 [0/869 (0%)]\tLoss: 0.000531\n",
      "Train Epoch: 101 [0/869 (0%)]\tLoss: 0.000513\n",
      "Train Epoch: 102 [0/869 (0%)]\tLoss: 0.000498\n",
      "Train Epoch: 103 [0/869 (0%)]\tLoss: 0.000483\n",
      "Train Epoch: 104 [0/869 (0%)]\tLoss: 0.000470\n",
      "Train Epoch: 105 [0/869 (0%)]\tLoss: 0.000458\n",
      "Train Epoch: 106 [0/869 (0%)]\tLoss: 0.000447\n",
      "Train Epoch: 107 [0/869 (0%)]\tLoss: 0.000437\n",
      "Train Epoch: 108 [0/869 (0%)]\tLoss: 0.000427\n",
      "Train Epoch: 109 [0/869 (0%)]\tLoss: 0.000419\n",
      "Train Epoch: 110 [0/869 (0%)]\tLoss: 0.000411\n",
      "Train Epoch: 111 [0/869 (0%)]\tLoss: 0.000403\n",
      "Train Epoch: 112 [0/869 (0%)]\tLoss: 0.000397\n",
      "Train Epoch: 113 [0/869 (0%)]\tLoss: 0.000391\n",
      "Train Epoch: 114 [0/869 (0%)]\tLoss: 0.000385\n",
      "Train Epoch: 115 [0/869 (0%)]\tLoss: 0.000380\n",
      "Train Epoch: 116 [0/869 (0%)]\tLoss: 0.000375\n",
      "Train Epoch: 117 [0/869 (0%)]\tLoss: 0.000371\n",
      "Train Epoch: 118 [0/869 (0%)]\tLoss: 0.000367\n",
      "Train Epoch: 119 [0/869 (0%)]\tLoss: 0.000363\n",
      "Train Epoch: 120 [0/869 (0%)]\tLoss: 0.000360\n",
      "Train Epoch: 121 [0/869 (0%)]\tLoss: 0.000357\n",
      "Train Epoch: 122 [0/869 (0%)]\tLoss: 0.000354\n",
      "Train Epoch: 123 [0/869 (0%)]\tLoss: 0.000351\n",
      "Train Epoch: 124 [0/869 (0%)]\tLoss: 0.000349\n",
      "Train Epoch: 125 [0/869 (0%)]\tLoss: 0.000347\n",
      "Train Epoch: 126 [0/869 (0%)]\tLoss: 0.000345\n",
      "Train Epoch: 127 [0/869 (0%)]\tLoss: 0.000343\n",
      "Train Epoch: 128 [0/869 (0%)]\tLoss: 0.000341\n",
      "Train Epoch: 129 [0/869 (0%)]\tLoss: 0.000339\n",
      "Train Epoch: 130 [0/869 (0%)]\tLoss: 0.000338\n",
      "Train Epoch: 131 [0/869 (0%)]\tLoss: 0.000337\n",
      "Train Epoch: 132 [0/869 (0%)]\tLoss: 0.000336\n",
      "Train Epoch: 133 [0/869 (0%)]\tLoss: 0.000334\n",
      "Train Epoch: 134 [0/869 (0%)]\tLoss: 0.000333\n",
      "Train Epoch: 135 [0/869 (0%)]\tLoss: 0.000332\n",
      "Train Epoch: 136 [0/869 (0%)]\tLoss: 0.000332\n",
      "Train Epoch: 137 [0/869 (0%)]\tLoss: 0.000331\n",
      "Train Epoch: 138 [0/869 (0%)]\tLoss: 0.000330\n",
      "Train Epoch: 139 [0/869 (0%)]\tLoss: 0.000329\n",
      "Train Epoch: 140 [0/869 (0%)]\tLoss: 0.000329\n",
      "Train Epoch: 141 [0/869 (0%)]\tLoss: 0.000328\n",
      "Train Epoch: 142 [0/869 (0%)]\tLoss: 0.000328\n",
      "Train Epoch: 143 [0/869 (0%)]\tLoss: 0.000327\n",
      "Train Epoch: 144 [0/869 (0%)]\tLoss: 0.000327\n",
      "Train Epoch: 145 [0/869 (0%)]\tLoss: 0.000326\n",
      "Train Epoch: 146 [0/869 (0%)]\tLoss: 0.000326\n",
      "Train Epoch: 147 [0/869 (0%)]\tLoss: 0.000326\n",
      "Train Epoch: 148 [0/869 (0%)]\tLoss: 0.000325\n",
      "Train Epoch: 149 [0/869 (0%)]\tLoss: 0.000325\n",
      "Train Epoch: 150 [0/869 (0%)]\tLoss: 0.000325\n",
      "Train Epoch: 151 [0/869 (0%)]\tLoss: 0.000325\n",
      "Train Epoch: 152 [0/869 (0%)]\tLoss: 0.000324\n",
      "Train Epoch: 153 [0/869 (0%)]\tLoss: 0.000324\n",
      "Train Epoch: 154 [0/869 (0%)]\tLoss: 0.000324\n",
      "Train Epoch: 155 [0/869 (0%)]\tLoss: 0.000324\n",
      "Train Epoch: 156 [0/869 (0%)]\tLoss: 0.000324\n",
      "Train Epoch: 157 [0/869 (0%)]\tLoss: 0.000324\n",
      "Train Epoch: 158 [0/869 (0%)]\tLoss: 0.000323\n",
      "Train Epoch: 159 [0/869 (0%)]\tLoss: 0.000323\n",
      "Train Epoch: 160 [0/869 (0%)]\tLoss: 0.000323\n",
      "Train Epoch: 161 [0/869 (0%)]\tLoss: 0.000323\n",
      "Train Epoch: 162 [0/869 (0%)]\tLoss: 0.000323\n",
      "Train Epoch: 163 [0/869 (0%)]\tLoss: 0.000323\n",
      "Train Epoch: 164 [0/869 (0%)]\tLoss: 0.000323\n",
      "Train Epoch: 165 [0/869 (0%)]\tLoss: 0.000323\n",
      "Train Epoch: 166 [0/869 (0%)]\tLoss: 0.000323\n",
      "Train Epoch: 167 [0/869 (0%)]\tLoss: 0.000323\n",
      "Train Epoch: 168 [0/869 (0%)]\tLoss: 0.000323\n",
      "Train Epoch: 169 [0/869 (0%)]\tLoss: 0.000323\n",
      "Train Epoch: 170 [0/869 (0%)]\tLoss: 0.000323\n",
      "Train Epoch: 171 [0/869 (0%)]\tLoss: 0.000323\n",
      "Train Epoch: 172 [0/869 (0%)]\tLoss: 0.000322\n",
      "Train Epoch: 173 [0/869 (0%)]\tLoss: 0.000322\n",
      "Train Epoch: 174 [0/869 (0%)]\tLoss: 0.000322\n",
      "Train Epoch: 175 [0/869 (0%)]\tLoss: 0.000322\n",
      "Train Epoch: 176 [0/869 (0%)]\tLoss: 0.000322\n",
      "Train Epoch: 177 [0/869 (0%)]\tLoss: 0.000322\n",
      "Train Epoch: 178 [0/869 (0%)]\tLoss: 0.000322\n",
      "Train Epoch: 179 [0/869 (0%)]\tLoss: 0.000322\n",
      "Train Epoch: 180 [0/869 (0%)]\tLoss: 0.000322\n",
      "Train Epoch: 181 [0/869 (0%)]\tLoss: 0.000322\n",
      "Train Epoch: 182 [0/869 (0%)]\tLoss: 0.000322\n",
      "Train Epoch: 183 [0/869 (0%)]\tLoss: 0.000322\n",
      "Train Epoch: 184 [0/869 (0%)]\tLoss: 0.000322\n",
      "Train Epoch: 185 [0/869 (0%)]\tLoss: 0.000322\n",
      "Train Epoch: 186 [0/869 (0%)]\tLoss: 0.000322\n",
      "Train Epoch: 187 [0/869 (0%)]\tLoss: 0.000322\n",
      "Train Epoch: 188 [0/869 (0%)]\tLoss: 0.000322\n",
      "Train Epoch: 189 [0/869 (0%)]\tLoss: 0.000322\n",
      "Train Epoch: 190 [0/869 (0%)]\tLoss: 0.000322\n",
      "Train Epoch: 191 [0/869 (0%)]\tLoss: 0.000322\n",
      "Train Epoch: 192 [0/869 (0%)]\tLoss: 0.000322\n"
     ]
    },
    {
     "name": "stdout",
     "output_type": "stream",
     "text": [
      "Train Epoch: 193 [0/869 (0%)]\tLoss: 0.000322\n",
      "Train Epoch: 194 [0/869 (0%)]\tLoss: 0.000322\n",
      "Train Epoch: 195 [0/869 (0%)]\tLoss: 0.000322\n",
      "Train Epoch: 196 [0/869 (0%)]\tLoss: 0.000322\n",
      "Train Epoch: 197 [0/869 (0%)]\tLoss: 0.000322\n",
      "Train Epoch: 198 [0/869 (0%)]\tLoss: 0.000322\n",
      "Train Epoch: 199 [0/869 (0%)]\tLoss: 0.000322\n",
      "Train Epoch: 200 [0/869 (0%)]\tLoss: 0.000322\n",
      "Train Epoch: 201 [0/869 (0%)]\tLoss: 0.000322\n",
      "Train Epoch: 202 [0/869 (0%)]\tLoss: 0.000322\n",
      "Train Epoch: 203 [0/869 (0%)]\tLoss: 0.000322\n",
      "Train Epoch: 204 [0/869 (0%)]\tLoss: 0.000322\n",
      "Train Epoch: 205 [0/869 (0%)]\tLoss: 0.000322\n",
      "Train Epoch: 206 [0/869 (0%)]\tLoss: 0.000322\n",
      "Train Epoch: 207 [0/869 (0%)]\tLoss: 0.000322\n",
      "Train Epoch: 208 [0/869 (0%)]\tLoss: 0.000322\n",
      "Train Epoch: 209 [0/869 (0%)]\tLoss: 0.000322\n",
      "Train Epoch: 210 [0/869 (0%)]\tLoss: 0.000322\n",
      "Train Epoch: 211 [0/869 (0%)]\tLoss: 0.000322\n",
      "Train Epoch: 212 [0/869 (0%)]\tLoss: 0.000322\n",
      "Train Epoch: 213 [0/869 (0%)]\tLoss: 0.000322\n",
      "Train Epoch: 214 [0/869 (0%)]\tLoss: 0.000322\n",
      "Train Epoch: 215 [0/869 (0%)]\tLoss: 0.000322\n",
      "Train Epoch: 216 [0/869 (0%)]\tLoss: 0.000322\n",
      "Train Epoch: 217 [0/869 (0%)]\tLoss: 0.000322\n",
      "Train Epoch: 218 [0/869 (0%)]\tLoss: 0.000322\n",
      "Train Epoch: 219 [0/869 (0%)]\tLoss: 0.000322\n",
      "Train Epoch: 220 [0/869 (0%)]\tLoss: 0.000322\n",
      "Train Epoch: 221 [0/869 (0%)]\tLoss: 0.000322\n",
      "Train Epoch: 222 [0/869 (0%)]\tLoss: 0.000322\n",
      "Train Epoch: 223 [0/869 (0%)]\tLoss: 0.000322\n",
      "Train Epoch: 224 [0/869 (0%)]\tLoss: 0.000322\n",
      "Train Epoch: 225 [0/869 (0%)]\tLoss: 0.000322\n",
      "Train Epoch: 226 [0/869 (0%)]\tLoss: 0.000322\n",
      "Train Epoch: 227 [0/869 (0%)]\tLoss: 0.000322\n",
      "Train Epoch: 228 [0/869 (0%)]\tLoss: 0.000322\n",
      "Train Epoch: 229 [0/869 (0%)]\tLoss: 0.000322\n",
      "Train Epoch: 230 [0/869 (0%)]\tLoss: 0.000322\n",
      "Train Epoch: 231 [0/869 (0%)]\tLoss: 0.000322\n",
      "Train Epoch: 232 [0/869 (0%)]\tLoss: 0.000322\n",
      "Train Epoch: 233 [0/869 (0%)]\tLoss: 0.000322\n",
      "Train Epoch: 234 [0/869 (0%)]\tLoss: 0.000322\n",
      "Train Epoch: 235 [0/869 (0%)]\tLoss: 0.000322\n",
      "Train Epoch: 236 [0/869 (0%)]\tLoss: 0.000322\n",
      "Train Epoch: 237 [0/869 (0%)]\tLoss: 0.000322\n",
      "Train Epoch: 238 [0/869 (0%)]\tLoss: 0.000322\n",
      "Train Epoch: 239 [0/869 (0%)]\tLoss: 0.000322\n",
      "Train Epoch: 240 [0/869 (0%)]\tLoss: 0.000322\n",
      "Train Epoch: 241 [0/869 (0%)]\tLoss: 0.000322\n",
      "Train Epoch: 242 [0/869 (0%)]\tLoss: 0.000322\n",
      "Train Epoch: 243 [0/869 (0%)]\tLoss: 0.000322\n",
      "Train Epoch: 244 [0/869 (0%)]\tLoss: 0.000322\n",
      "Train Epoch: 245 [0/869 (0%)]\tLoss: 0.000322\n",
      "Train Epoch: 246 [0/869 (0%)]\tLoss: 0.000322\n",
      "Train Epoch: 247 [0/869 (0%)]\tLoss: 0.000322\n",
      "Train Epoch: 248 [0/869 (0%)]\tLoss: 0.000322\n",
      "Train Epoch: 249 [0/869 (0%)]\tLoss: 0.000322\n",
      "Train Epoch: 250 [0/869 (0%)]\tLoss: 0.000322\n",
      "Train Epoch: 251 [0/869 (0%)]\tLoss: 0.000322\n",
      "Train Epoch: 252 [0/869 (0%)]\tLoss: 0.000322\n",
      "Train Epoch: 253 [0/869 (0%)]\tLoss: 0.000322\n",
      "Train Epoch: 254 [0/869 (0%)]\tLoss: 0.000322\n",
      "Train Epoch: 255 [0/869 (0%)]\tLoss: 0.000322\n",
      "Train Epoch: 256 [0/869 (0%)]\tLoss: 0.000322\n",
      "Train Epoch: 257 [0/869 (0%)]\tLoss: 0.000322\n",
      "Train Epoch: 258 [0/869 (0%)]\tLoss: 0.000322\n",
      "Train Epoch: 259 [0/869 (0%)]\tLoss: 0.000322\n",
      "Train Epoch: 260 [0/869 (0%)]\tLoss: 0.000322\n",
      "Train Epoch: 261 [0/869 (0%)]\tLoss: 0.000322\n",
      "Train Epoch: 262 [0/869 (0%)]\tLoss: 0.000322\n",
      "Train Epoch: 263 [0/869 (0%)]\tLoss: 0.000322\n",
      "Train Epoch: 264 [0/869 (0%)]\tLoss: 0.000322\n",
      "Train Epoch: 265 [0/869 (0%)]\tLoss: 0.000322\n",
      "Train Epoch: 266 [0/869 (0%)]\tLoss: 0.000322\n",
      "Train Epoch: 267 [0/869 (0%)]\tLoss: 0.000322\n",
      "Train Epoch: 268 [0/869 (0%)]\tLoss: 0.000322\n",
      "Train Epoch: 269 [0/869 (0%)]\tLoss: 0.000322\n",
      "Train Epoch: 270 [0/869 (0%)]\tLoss: 0.000322\n",
      "Train Epoch: 271 [0/869 (0%)]\tLoss: 0.000322\n",
      "Train Epoch: 272 [0/869 (0%)]\tLoss: 0.000322\n",
      "Train Epoch: 273 [0/869 (0%)]\tLoss: 0.000322\n",
      "Train Epoch: 274 [0/869 (0%)]\tLoss: 0.000322\n",
      "Train Epoch: 275 [0/869 (0%)]\tLoss: 0.000322\n",
      "Train Epoch: 276 [0/869 (0%)]\tLoss: 0.000322\n",
      "Train Epoch: 277 [0/869 (0%)]\tLoss: 0.000322\n",
      "Train Epoch: 278 [0/869 (0%)]\tLoss: 0.000322\n",
      "Train Epoch: 279 [0/869 (0%)]\tLoss: 0.000322\n",
      "Train Epoch: 280 [0/869 (0%)]\tLoss: 0.000322\n",
      "Train Epoch: 281 [0/869 (0%)]\tLoss: 0.000322\n",
      "Train Epoch: 282 [0/869 (0%)]\tLoss: 0.000322\n",
      "Train Epoch: 283 [0/869 (0%)]\tLoss: 0.000322\n",
      "Train Epoch: 284 [0/869 (0%)]\tLoss: 0.000322\n",
      "Train Epoch: 285 [0/869 (0%)]\tLoss: 0.000322\n",
      "Train Epoch: 286 [0/869 (0%)]\tLoss: 0.000322\n",
      "Train Epoch: 287 [0/869 (0%)]\tLoss: 0.000322\n",
      "Train Epoch: 288 [0/869 (0%)]\tLoss: 0.000322\n",
      "Train Epoch: 289 [0/869 (0%)]\tLoss: 0.000322\n",
      "Train Epoch: 290 [0/869 (0%)]\tLoss: 0.000322\n",
      "Train Epoch: 291 [0/869 (0%)]\tLoss: 0.000322\n",
      "Train Epoch: 292 [0/869 (0%)]\tLoss: 0.000322\n",
      "Train Epoch: 293 [0/869 (0%)]\tLoss: 0.000322\n",
      "Train Epoch: 294 [0/869 (0%)]\tLoss: 0.000322\n",
      "Train Epoch: 295 [0/869 (0%)]\tLoss: 0.000322\n",
      "Train Epoch: 296 [0/869 (0%)]\tLoss: 0.000322\n",
      "Train Epoch: 297 [0/869 (0%)]\tLoss: 0.000322\n",
      "Train Epoch: 298 [0/869 (0%)]\tLoss: 0.000322\n",
      "Train Epoch: 299 [0/869 (0%)]\tLoss: 0.000322\n",
      "Train Epoch: 300 [0/869 (0%)]\tLoss: 0.000322\n",
      "Train Epoch: 301 [0/869 (0%)]\tLoss: 0.000322\n",
      "Train Epoch: 302 [0/869 (0%)]\tLoss: 0.000322\n",
      "Train Epoch: 303 [0/869 (0%)]\tLoss: 0.000322\n",
      "Train Epoch: 304 [0/869 (0%)]\tLoss: 0.000322\n",
      "Train Epoch: 305 [0/869 (0%)]\tLoss: 0.000322\n",
      "Train Epoch: 306 [0/869 (0%)]\tLoss: 0.000322\n",
      "Train Epoch: 307 [0/869 (0%)]\tLoss: 0.000322\n",
      "Train Epoch: 308 [0/869 (0%)]\tLoss: 0.000322\n",
      "Train Epoch: 309 [0/869 (0%)]\tLoss: 0.000322\n",
      "Train Epoch: 310 [0/869 (0%)]\tLoss: 0.000322\n",
      "Train Epoch: 311 [0/869 (0%)]\tLoss: 0.000322\n",
      "Train Epoch: 312 [0/869 (0%)]\tLoss: 0.000322\n",
      "Train Epoch: 313 [0/869 (0%)]\tLoss: 0.000322\n",
      "Train Epoch: 314 [0/869 (0%)]\tLoss: 0.000322\n",
      "Train Epoch: 315 [0/869 (0%)]\tLoss: 0.000322\n",
      "Train Epoch: 316 [0/869 (0%)]\tLoss: 0.000322\n",
      "Train Epoch: 317 [0/869 (0%)]\tLoss: 0.000322\n",
      "Train Epoch: 318 [0/869 (0%)]\tLoss: 0.000322\n",
      "Train Epoch: 319 [0/869 (0%)]\tLoss: 0.000322\n",
      "Train Epoch: 320 [0/869 (0%)]\tLoss: 0.000322\n",
      "Train Epoch: 321 [0/869 (0%)]\tLoss: 0.000322\n",
      "Train Epoch: 322 [0/869 (0%)]\tLoss: 0.000322\n",
      "Train Epoch: 323 [0/869 (0%)]\tLoss: 0.000322\n",
      "Train Epoch: 324 [0/869 (0%)]\tLoss: 0.000322\n",
      "Train Epoch: 325 [0/869 (0%)]\tLoss: 0.000322\n",
      "Train Epoch: 326 [0/869 (0%)]\tLoss: 0.000322\n",
      "Train Epoch: 327 [0/869 (0%)]\tLoss: 0.000322\n",
      "Train Epoch: 328 [0/869 (0%)]\tLoss: 0.000322\n",
      "Train Epoch: 329 [0/869 (0%)]\tLoss: 0.000322\n",
      "Train Epoch: 330 [0/869 (0%)]\tLoss: 0.000322\n",
      "Train Epoch: 331 [0/869 (0%)]\tLoss: 0.000322\n",
      "Train Epoch: 332 [0/869 (0%)]\tLoss: 0.000322\n",
      "Train Epoch: 333 [0/869 (0%)]\tLoss: 0.000322\n",
      "Train Epoch: 334 [0/869 (0%)]\tLoss: 0.000322\n",
      "Train Epoch: 335 [0/869 (0%)]\tLoss: 0.000322\n",
      "Train Epoch: 336 [0/869 (0%)]\tLoss: 0.000322\n",
      "Train Epoch: 337 [0/869 (0%)]\tLoss: 0.000322\n",
      "Train Epoch: 338 [0/869 (0%)]\tLoss: 0.000322\n",
      "Train Epoch: 339 [0/869 (0%)]\tLoss: 0.000322\n",
      "Train Epoch: 340 [0/869 (0%)]\tLoss: 0.000322\n",
      "Train Epoch: 341 [0/869 (0%)]\tLoss: 0.000322\n",
      "Train Epoch: 342 [0/869 (0%)]\tLoss: 0.000322\n",
      "Train Epoch: 343 [0/869 (0%)]\tLoss: 0.000322\n",
      "Train Epoch: 344 [0/869 (0%)]\tLoss: 0.000322\n",
      "Train Epoch: 345 [0/869 (0%)]\tLoss: 0.000322\n",
      "Train Epoch: 346 [0/869 (0%)]\tLoss: 0.000322\n",
      "Train Epoch: 347 [0/869 (0%)]\tLoss: 0.000322\n",
      "Train Epoch: 348 [0/869 (0%)]\tLoss: 0.000322\n",
      "Train Epoch: 349 [0/869 (0%)]\tLoss: 0.000322\n",
      "Train Epoch: 350 [0/869 (0%)]\tLoss: 0.000322\n",
      "Train Epoch: 351 [0/869 (0%)]\tLoss: 0.000322\n",
      "Train Epoch: 352 [0/869 (0%)]\tLoss: 0.000322\n",
      "Train Epoch: 353 [0/869 (0%)]\tLoss: 0.000322\n",
      "Train Epoch: 354 [0/869 (0%)]\tLoss: 0.000322\n",
      "Train Epoch: 355 [0/869 (0%)]\tLoss: 0.000322\n",
      "Train Epoch: 356 [0/869 (0%)]\tLoss: 0.000322\n",
      "Train Epoch: 357 [0/869 (0%)]\tLoss: 0.000322\n",
      "Train Epoch: 358 [0/869 (0%)]\tLoss: 0.000322\n",
      "Train Epoch: 359 [0/869 (0%)]\tLoss: 0.000322\n",
      "Train Epoch: 360 [0/869 (0%)]\tLoss: 0.000322\n",
      "Train Epoch: 361 [0/869 (0%)]\tLoss: 0.000322\n",
      "Train Epoch: 362 [0/869 (0%)]\tLoss: 0.000322\n",
      "Train Epoch: 363 [0/869 (0%)]\tLoss: 0.000322\n",
      "Train Epoch: 364 [0/869 (0%)]\tLoss: 0.000322\n",
      "Train Epoch: 365 [0/869 (0%)]\tLoss: 0.000322\n",
      "Train Epoch: 366 [0/869 (0%)]\tLoss: 0.000322\n",
      "Train Epoch: 367 [0/869 (0%)]\tLoss: 0.000322\n",
      "Train Epoch: 368 [0/869 (0%)]\tLoss: 0.000322\n",
      "Train Epoch: 369 [0/869 (0%)]\tLoss: 0.000322\n",
      "Train Epoch: 370 [0/869 (0%)]\tLoss: 0.000322\n",
      "Train Epoch: 371 [0/869 (0%)]\tLoss: 0.000322\n",
      "Train Epoch: 372 [0/869 (0%)]\tLoss: 0.000322\n",
      "Train Epoch: 373 [0/869 (0%)]\tLoss: 0.000322\n",
      "Train Epoch: 374 [0/869 (0%)]\tLoss: 0.000322\n",
      "Train Epoch: 375 [0/869 (0%)]\tLoss: 0.000322\n",
      "Train Epoch: 376 [0/869 (0%)]\tLoss: 0.000322\n",
      "Train Epoch: 377 [0/869 (0%)]\tLoss: 0.000322\n",
      "Train Epoch: 378 [0/869 (0%)]\tLoss: 0.000322\n",
      "Train Epoch: 379 [0/869 (0%)]\tLoss: 0.000322\n"
     ]
    },
    {
     "name": "stdout",
     "output_type": "stream",
     "text": [
      "Train Epoch: 380 [0/869 (0%)]\tLoss: 0.000322\n",
      "Train Epoch: 381 [0/869 (0%)]\tLoss: 0.000322\n",
      "Train Epoch: 382 [0/869 (0%)]\tLoss: 0.000322\n",
      "Train Epoch: 383 [0/869 (0%)]\tLoss: 0.000322\n",
      "Train Epoch: 384 [0/869 (0%)]\tLoss: 0.000322\n",
      "Train Epoch: 385 [0/869 (0%)]\tLoss: 0.000322\n",
      "Train Epoch: 386 [0/869 (0%)]\tLoss: 0.000322\n",
      "Train Epoch: 387 [0/869 (0%)]\tLoss: 0.000322\n",
      "Train Epoch: 388 [0/869 (0%)]\tLoss: 0.000322\n",
      "Train Epoch: 389 [0/869 (0%)]\tLoss: 0.000322\n",
      "Train Epoch: 390 [0/869 (0%)]\tLoss: 0.000322\n",
      "Train Epoch: 391 [0/869 (0%)]\tLoss: 0.000322\n",
      "Train Epoch: 392 [0/869 (0%)]\tLoss: 0.000322\n",
      "Train Epoch: 393 [0/869 (0%)]\tLoss: 0.000322\n",
      "Train Epoch: 394 [0/869 (0%)]\tLoss: 0.000322\n",
      "Train Epoch: 395 [0/869 (0%)]\tLoss: 0.000322\n",
      "Train Epoch: 396 [0/869 (0%)]\tLoss: 0.000322\n",
      "Train Epoch: 397 [0/869 (0%)]\tLoss: 0.000322\n",
      "Train Epoch: 398 [0/869 (0%)]\tLoss: 0.000322\n",
      "Train Epoch: 399 [0/869 (0%)]\tLoss: 0.000322\n",
      "Train Epoch: 400 [0/869 (0%)]\tLoss: 0.000322\n",
      "Time elapsed: 7.9059 seconds\n"
     ]
    }
   ],
   "source": [
    "#Check accuaracy before training\n",
    "test()\n",
    "tic = time.perf_counter()\n",
    "\n",
    "for epoch in range(1, n_epochs + 1):\n",
    "  train(epoch)\n",
    "  test()\n",
    "    \n",
    "toc = time.perf_counter()\n",
    "\n",
    "print(f\"Time elapsed: {toc - tic:0.4f} seconds\")"
   ]
  },
  {
   "cell_type": "markdown",
   "id": "sealed-cover",
   "metadata": {},
   "source": [
    "### Plot training result with pytorch"
   ]
  },
  {
   "cell_type": "code",
   "execution_count": 51,
   "id": "supported-shark",
   "metadata": {},
   "outputs": [
    {
     "data": {
      "image/png": "[encoded data removed]",
      "text/plain": [
       "<Figure size 432x288 with 1 Axes>"
      ]
     },
     "metadata": {
      "needs_background": "light"
     },
     "output_type": "display_data"
    },
    {
     "name": "stdout",
     "output_type": "stream",
     "text": [
      "B0: [-0.00112463], B1: [[0.83635604]]\n"
     ]
    }
   ],
   "source": [
    "beta1, beta0 = network.parameters()\n",
    "\n",
    "beta0 = beta0.data.numpy()\n",
    "beta1 = beta1.data.numpy()\n",
    "\n",
    "yplot = X_train * beta1 + beta0\n",
    "plt.plot(X_train, y_train, 'x');\n",
    "plt.plot(X_train, yplot.reshape(-1, 1), 'g')\n",
    "plt.show()\n",
    "\n",
    "print(f'B0: {beta0}, B1: {beta1}')"
   ]
  },
  {
   "cell_type": "markdown",
   "id": "developing-vocabulary",
   "metadata": {},
   "source": [
    "# References"
   ]
  },
  {
   "cell_type": "markdown",
   "id": "gothic-theta",
   "metadata": {},
   "source": [
    "https://stackoverflow.com/questions/44429199/how-to-load-a-list-of-numpy-arrays-to-pytorch-dataset-loader\n",
    "https://towardsdatascience.com/linear-regression-with-pytorch-eb6dedead817"
   ]
  },
  {
   "cell_type": "markdown",
   "id": "logical-arbor",
   "metadata": {},
   "source": [
    "# ToDo"
   ]
  },
  {
   "cell_type": "markdown",
   "id": "intellectual-butler",
   "metadata": {},
   "source": [
    "- Loss is high, check if normalizing output helps.\n",
    "- Model is converging now, but is still little bit different from sklearn\n",
    "Options to do:\n",
    "- Normalize outputs and train model again. Might no needed.\n",
    "- What is the difference between a model and nn.Linear?\n",
    "- Repair log output to display meaningful data"
   ]
  },
  {
   "cell_type": "markdown",
   "id": "periodic-anatomy",
   "metadata": {},
   "source": [
    "# Notes"
   ]
  },
  {
   "cell_type": "markdown",
   "id": "liquid-checkout",
   "metadata": {},
   "source": [
    "Since data is very spread, using an small batch size the model doesn't seems to converge, if I use a bigger batch size, it does better."
   ]
  },
  {
   "cell_type": "code",
   "execution_count": null,
   "id": "sacred-woman",
   "metadata": {},
   "outputs": [],
   "source": []
  }
 ],
 "metadata": {
  "kernelspec": {
   "display_name": "Python 3",
   "language": "python",
   "name": "python3"
  },
  "language_info": {
   "codemirror_mode": {
    "name": "ipython",
    "version": 3
   },
   "file_extension": ".py",
   "mimetype": "text/x-python",
   "name": "python",
   "nbconvert_exporter": "python",
   "pygments_lexer": "ipython3",
   "version": "3.7.9"
  }
 },
 "nbformat": 4,
 "nbformat_minor": 5
}
