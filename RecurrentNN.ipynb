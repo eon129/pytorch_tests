{
 "cells": [
  {
   "cell_type": "code",
   "execution_count": 55,
   "id": "literary-regulation",
   "metadata": {},
   "outputs": [],
   "source": [
    "import numpy as np\n",
    "import torch\n",
    "import matplotlib.pyplot as plt\n",
    "\n",
    "from utils import ALL_LETTERS, N_LETTERS\n",
    "from utils import load_data, letter_to_tensor, line_to_tensor, random_training_example"
   ]
  },
  {
   "cell_type": "code",
   "execution_count": 27,
   "id": "broadband-tuner",
   "metadata": {},
   "outputs": [],
   "source": [
    "class RNN(torch.nn.Module):\n",
    "\n",
    "    def __init__(self, input_size, hidden_size, output_size):\n",
    "        super(RNN, self).__init__()\n",
    "        \n",
    "        self.hidden_size = hidden_size\n",
    "        self.i2h = torch.nn.Linear(input_size + hidden_size, hidden_size)\n",
    "        self.i2o = torch.nn.Linear(input_size + hidden_size, output_size)\n",
    "        \n",
    "        self.softmax = torch.nn.LogSoftmax(dim=1)\n",
    "        \n",
    "    def forward(self, input_tensor, hidden_tensor):\n",
    "        \n",
    "        combined = torch.cat((input_tensor, hidden_tensor), 1)\n",
    "        \n",
    "        hidden = self.i2h(combined)\n",
    "        output = self.i2o(combined)\n",
    "        output = self.softmax(output)\n",
    "        \n",
    "        return output, hidden\n",
    "    \n",
    "    def init_hidden(self):\n",
    "        return torch.zeros(1, self.hidden_size)"
   ]
  },
  {
   "cell_type": "code",
   "execution_count": 41,
   "id": "vocal-coordinate",
   "metadata": {},
   "outputs": [],
   "source": [
    "category_lines, all_categories = load_data()\n",
    "\n",
    "def category_from_output(output):\n",
    "    category_idx = torch.argmax(output).item()\n",
    "    return all_categories[category_idx]"
   ]
  },
  {
   "cell_type": "code",
   "execution_count": null,
   "id": "related-story",
   "metadata": {},
   "outputs": [],
   "source": []
  },
  {
   "cell_type": "code",
   "execution_count": 63,
   "id": "pursuant-little",
   "metadata": {},
   "outputs": [],
   "source": [
    "n_categories = len(all_categories)\n",
    "\n",
    "#Hyperparameter, number of outputs in hidden layer \n",
    "n_hidden = 128\n",
    "\n",
    "rnn = RNN(N_LETTERS, n_hidden, n_categories)\n",
    "\n",
    "\n",
    "criterion = torch.nn.NLLLoss()\n",
    "learning_rate = 0.01\n",
    "optimizer = torch.optim.SGD(rnn.parameters(), lr = learning_rate)"
   ]
  },
  {
   "cell_type": "code",
   "execution_count": 64,
   "id": "rubber-question",
   "metadata": {},
   "outputs": [],
   "source": [
    "def train(line_tensor, category_tensor):\n",
    "    hidden = rnn.init_hidden()\n",
    "    \n",
    "    for i in range(line_tensor.size()[0]):\n",
    "        output, hidden = rnn(line_tensor[i], hidden)\n",
    "        \n",
    "    loss = criterion(output, category_tensor)\n",
    "    \n",
    "    optimizer.zero_grad()\n",
    "    loss.backward()\n",
    "    optimizer.step()\n",
    "    \n",
    "    return output, loss.item()"
   ]
  },
  {
   "cell_type": "code",
   "execution_count": 65,
   "id": "parental-supervisor",
   "metadata": {},
   "outputs": [
    {
     "name": "stdout",
     "output_type": "stream",
     "text": [
      "4999 5.0 2.3536 Peisar / German WRONG (Czech)\n",
      "9999 10.0 3.1783 Buck / Korean WRONG (English)\n",
      "14999 15.0 1.2919 Guo / Korean WRONG (Chinese)\n",
      "19999 20.0 1.6496 Rim / Korean CORRECT\n",
      "24999 25.0 1.7795 Gordon / Scottish CORRECT\n",
      "29999 30.0 2.9757 Ashdown / Japanese WRONG (English)\n",
      "34999 35.0 1.4294 Ruiz / Spanish CORRECT\n",
      "39999 40.0 2.0213 Lauwens / Scottish WRONG (Dutch)\n",
      "44999 45.0 3.1382 Medina / Irish WRONG (Spanish)\n",
      "49999 50.0 2.1872 Siegel / Czech WRONG (German)\n",
      "54999 55.0 1.6838 Bawin / Irish WRONG (Russian)\n",
      "59999 60.0 0.5918 Perez / Spanish CORRECT\n",
      "64999 65.0 0.8085 Mei / Chinese CORRECT\n",
      "69999 70.0 0.4607 Mazaki / Japanese CORRECT\n",
      "74999 75.0 0.2022 Coelho / Portuguese CORRECT\n",
      "79999 80.0 0.9824 Slazak / Czech WRONG (Polish)\n",
      "84999 85.0 4.2001 Aodha / Arabic WRONG (Irish)\n",
      "89999 90.0 0.5406 Atshushi / Japanese CORRECT\n",
      "94999 95.0 1.3365 Nelms / English CORRECT\n",
      "99999 100.0 1.6670 Burn / German WRONG (English)\n"
     ]
    },
    {
     "data": {
      "image/png": "[encoded data removed]",
      "text/plain": [
       "<Figure size 432x288 with 1 Axes>"
      ]
     },
     "metadata": {
      "needs_background": "light"
     },
     "output_type": "display_data"
    }
   ],
   "source": [
    "current_loss = 0\n",
    "all_losses = []\n",
    "plot_steps, print_steps = 1000, 5000\n",
    "n_iters = 100000\n",
    "\n",
    "for i in range(n_iters):\n",
    "    category, line, category_tensor, line_tensor = random_training_example(category_lines, all_categories)\n",
    "    \n",
    "    output, loss = train(line_tensor, category_tensor)\n",
    "    current_loss += loss\n",
    "    \n",
    "    if (i+1) % plot_steps == 0:\n",
    "        all_losses.append(current_loss / plot_steps)\n",
    "        current_loss = 0\n",
    "        \n",
    "    if (i+1) % print_steps == 0:\n",
    "        guess = category_from_output(output)\n",
    "        correct = \"CORRECT\" if guess == category else f\"WRONG ({category})\"\n",
    "        print(f\"{i} {i/n_iters*100:.1f} {loss:.4f} {line} / {guess} {correct}\")\n",
    "        \n",
    "plt.figure()\n",
    "plt.plot(all_losses)\n",
    "plt.show()"
   ]
  },
  {
   "cell_type": "code",
   "execution_count": 57,
   "id": "nominated-ethnic",
   "metadata": {},
   "outputs": [],
   "source": [
    "def predict(input_line):\n",
    "    with torch.no_grad():\n",
    "        line_tensor = line_to_tensor(input_line)\n",
    "        \n",
    "        hidden = rnn.init_hidden()\n",
    "        for i in range(line_tensor.size()[0]):\n",
    "            output, hidden = rnn(line_tensor[i], hidden)\n",
    "            \n",
    "        gess = category_from_output(output)\n",
    "        return gess"
   ]
  },
  {
   "cell_type": "code",
   "execution_count": 66,
   "id": "empirical-adaptation",
   "metadata": {},
   "outputs": [
    {
     "data": {
      "text/plain": [
       "'Japanese'"
      ]
     },
     "execution_count": 66,
     "metadata": {},
     "output_type": "execute_result"
    }
   ],
   "source": [
    "predict('Sara')"
   ]
  },
  {
   "cell_type": "code",
   "execution_count": null,
   "id": "spatial-melbourne",
   "metadata": {},
   "outputs": [],
   "source": []
  }
 ],
 "metadata": {
  "kernelspec": {
   "display_name": "Python 3",
   "language": "python",
   "name": "python3"
  },
  "language_info": {
   "codemirror_mode": {
    "name": "ipython",
    "version": 3
   },
   "file_extension": ".py",
   "mimetype": "text/x-python",
   "name": "python",
   "nbconvert_exporter": "python",
   "pygments_lexer": "ipython3",
   "version": "3.7.9"
  }
 },
 "nbformat": 4,
 "nbformat_minor": 5
}
