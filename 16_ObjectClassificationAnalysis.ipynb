{
 "cells": [
  {
   "cell_type": "code",
   "execution_count": 1,
   "id": "c6622be2",
   "metadata": {},
   "outputs": [],
   "source": [
    "%matplotlib inline\n",
    "\n",
    "import torch\n",
    "import matplotlib.pyplot as plt\n",
    "import torchvision\n",
    "from torchvision import transforms\n",
    "import torch.nn.functional as F\n",
    "import torch.optim as optim"
   ]
  },
  {
   "cell_type": "code",
   "execution_count": 2,
   "id": "0dc6b551",
   "metadata": {},
   "outputs": [],
   "source": [
    "# Hyper parameters\n",
    "num_epochs = 3\n",
    "batchsize = 64\n",
    "batchsize_test = 500\n",
    "learning_rate = 0.001\n",
    "momentum = 0.5\n",
    "log_interval = 20\n",
    "TRAIN_DATA_PATH = \"../Data/CATS_DOGS/train\"\n",
    "TEST_DATA_PATH = \"../Data/CATS_DOGS/test\"\n",
    "\n",
    "TRANSFORM_IMG = transforms.Compose([\n",
    "    transforms.Resize(32),\n",
    "    transforms.CenterCrop(32),\n",
    "    transforms.ToTensor(),\n",
    "    transforms.Normalize(mean=[0.485, 0.456, 0.406],\n",
    "                         std=[0.229, 0.224, 0.225] )\n",
    "    ])\n",
    "\n",
    "train_data = torchvision.datasets.ImageFolder(root=TRAIN_DATA_PATH, transform=TRANSFORM_IMG)\n",
    "train_data_loader = torch.utils.data.DataLoader(train_data, batch_size=batchsize, shuffle=True,  num_workers=4)\n",
    "\n",
    "test_data = torchvision.datasets.ImageFolder(root=TEST_DATA_PATH, transform=TRANSFORM_IMG)\n",
    "test_data_loader  = torch.utils.data.DataLoader(test_data, batch_size=batchsize_test, shuffle=True, num_workers=4) \n",
    "\n"
   ]
  },
  {
   "cell_type": "code",
   "execution_count": 3,
   "id": "2e686c3e",
   "metadata": {},
   "outputs": [],
   "source": [
    "class Network(torch.nn.Module):\n",
    "    def __init__(self):\n",
    "        super(Network, self).__init__()\n",
    "        self.conv1 = torch.nn.Conv2d(3, 10, kernel_size=5)\n",
    "        self.conv2 = torch.nn.Conv2d(10, 20, kernel_size=5)\n",
    "        self.conv2_drop = torch.nn.Dropout2d()\n",
    "        self.fc1 = torch.nn.Linear(500, 50)\n",
    "        self.fc2 = torch.nn.Linear(50, 1)\n",
    "\n",
    "    def forward(self, x):\n",
    "        x = F.relu(F.max_pool2d(self.conv1(x), 2))\n",
    "        x = F.relu(F.max_pool2d(self.conv2_drop(self.conv2(x)), 2))\n",
    "        x = x.view(-1, 500)\n",
    "        x = F.relu(self.fc1(x))\n",
    "        x = F.dropout(x, training=self.training)\n",
    "        x = self.fc2(x)\n",
    "        return F.sigmoid(x)"
   ]
  },
  {
   "cell_type": "code",
   "execution_count": 4,
   "id": "a2171406",
   "metadata": {},
   "outputs": [],
   "source": [
    "#Network model\n",
    "network = Network()\n",
    "\n",
    "#Stochastic gradient decent\n",
    "optimizer = optim.SGD(network.parameters(), lr=learning_rate,\n",
    "                      momentum=momentum)\n",
    "\n",
    "criterion = torch.nn.BCELoss()"
   ]
  },
  {
   "cell_type": "code",
   "execution_count": 10,
   "id": "3088bc49",
   "metadata": {},
   "outputs": [
    {
     "data": {
      "text/plain": [
       "torch.Size([64, 1])"
      ]
     },
     "execution_count": 10,
     "metadata": {},
     "output_type": "execute_result"
    }
   ],
   "source": [
    "##Just for testign\n",
    "\n",
    "test = iter(train_data_loader)\n",
    "img, target= next(test)\n",
    "\n",
    "out = network(img)\n",
    "\n",
    "#test_loss += F.binary_cross_entropy(output, target).item()\n",
    "\n",
    "out.shape"
   ]
  },
  {
   "cell_type": "code",
   "execution_count": 12,
   "id": "7f7eef77",
   "metadata": {},
   "outputs": [
    {
     "data": {
      "text/plain": [
       "torch.Size([64, 1])"
      ]
     },
     "execution_count": 12,
     "metadata": {},
     "output_type": "execute_result"
    }
   ],
   "source": [
    "target.view(-1, 1).shape"
   ]
  },
  {
   "cell_type": "code",
   "execution_count": 37,
   "id": "00f817a3",
   "metadata": {},
   "outputs": [
    {
     "data": {
      "text/plain": [
       "torch.Size([64, 1])"
      ]
     },
     "execution_count": 37,
     "metadata": {},
     "output_type": "execute_result"
    }
   ],
   "source": [
    "#just for testing\n",
    "conv1 = torch.nn.Conv2d(3, 10, kernel_size=5)\n",
    "conv2 = torch.nn.Conv2d(10, 20, kernel_size=5)\n",
    "conv2_drop = torch.nn.Dropout2d()\n",
    "fc1 = torch.nn.Linear(500, 50)\n",
    "fc2 = torch.nn.Linear(50, 1)\n",
    "\n",
    "x = F.relu(F.max_pool2d(conv1(img), 2))\n",
    "x = F.relu(F.max_pool2d(conv2_drop(conv2(x)), 2))\n",
    "x = x.view(-1, 500)\n",
    "x = F.relu(fc1(x))\n",
    "x = F.dropout(x)\n",
    "x = fc2(x)\n",
    "x = F.sigmoid(x)\n",
    "\n",
    "x.shape"
   ]
  },
  {
   "cell_type": "code",
   "execution_count": 20,
   "id": "5fcb86f2",
   "metadata": {},
   "outputs": [],
   "source": [
    "train_losses = []\n",
    "train_counter = []\n",
    "test_losses = []\n",
    "test_counter = [i*len(train_data_loader.dataset) for i in range(num_epochs + 1)]"
   ]
  },
  {
   "cell_type": "code",
   "execution_count": 21,
   "id": "59bc98de",
   "metadata": {},
   "outputs": [],
   "source": [
    "def test():\n",
    "    #Sets the module in evaluation mode\n",
    "    network.eval()\n",
    "    test_loss = 0\n",
    "    correct = 0\n",
    "    \n",
    "    #dont update dynamic computation graph\n",
    "    with torch.no_grad():\n",
    "        #for every example in test\n",
    "        for data, target in test_data_loader:\n",
    "            #evaluate the model\n",
    "            output = network(data)\n",
    "            \n",
    "            #acumulate the loss\n",
    "            test_loss += F.binary_cross_entropy(output, target.view(-1, 1).float()).item()\n",
    "      \n",
    "            pred = output.data.max(1, keepdim=True)[1]\n",
    "            correct += pred.eq(target.data.view_as(pred)).sum()\n",
    "        \n",
    "    test_loss /= len(test_data_loader.dataset)\n",
    "    test_losses.append(test_loss)\n",
    "    print('\\nTest set: Avg. loss: {:.4f}, Accuracy: {}/{} ({:.0f}%)\\n'.format(\n",
    "    test_loss, correct, len(test_data_loader.dataset),\n",
    "    100. * correct / len(test_data_loader.dataset)))"
   ]
  },
  {
   "cell_type": "code",
   "execution_count": 22,
   "id": "a4dbc03d",
   "metadata": {},
   "outputs": [
    {
     "name": "stdout",
     "output_type": "stream",
     "text": [
      "\n",
      "Test set: Avg. loss: 0.0014, Accuracy: 3126/6251 (50%)\n",
      "\n",
      "Train Epoch: 1 [0/18743 (0%)]\tLoss: 0.694885\n",
      "Train Epoch: 1 [1280/18743 (7%)]\tLoss: 0.694191\n",
      "Train Epoch: 1 [2560/18743 (14%)]\tLoss: 0.693920\n",
      "Train Epoch: 1 [3840/18743 (20%)]\tLoss: 0.695292\n"
     ]
    },
    {
     "name": "stderr",
     "output_type": "stream",
     "text": [
      "/opt/conda/lib/python3.8/site-packages/PIL/TiffImagePlugin.py:822: UserWarning: Truncated File Read\n",
      "  warnings.warn(str(msg))\n"
     ]
    },
    {
     "name": "stdout",
     "output_type": "stream",
     "text": [
      "Train Epoch: 1 [5120/18743 (27%)]\tLoss: 0.679002\n",
      "Train Epoch: 1 [6400/18743 (34%)]\tLoss: 0.689648\n",
      "Train Epoch: 1 [7680/18743 (41%)]\tLoss: 0.692204\n",
      "Train Epoch: 1 [8960/18743 (48%)]\tLoss: 0.686528\n",
      "Train Epoch: 1 [10240/18743 (55%)]\tLoss: 0.697720\n",
      "Train Epoch: 1 [11520/18743 (61%)]\tLoss: 0.684658\n",
      "Train Epoch: 1 [12800/18743 (68%)]\tLoss: 0.678048\n",
      "Train Epoch: 1 [14080/18743 (75%)]\tLoss: 0.682777\n",
      "Train Epoch: 1 [15360/18743 (82%)]\tLoss: 0.685756\n",
      "Train Epoch: 1 [16640/18743 (89%)]\tLoss: 0.682699\n",
      "Train Epoch: 1 [17920/18743 (96%)]\tLoss: 0.630836\n",
      "\n",
      "Test set: Avg. loss: 0.0013, Accuracy: 3126/6251 (50%)\n",
      "\n",
      "Train Epoch: 2 [0/18743 (0%)]\tLoss: 0.660320\n",
      "Train Epoch: 2 [1280/18743 (7%)]\tLoss: 0.813720\n",
      "Train Epoch: 2 [2560/18743 (14%)]\tLoss: 0.788505\n",
      "Train Epoch: 2 [3840/18743 (20%)]\tLoss: 0.740200\n",
      "Train Epoch: 2 [5120/18743 (27%)]\tLoss: 0.673212\n",
      "Train Epoch: 2 [6400/18743 (34%)]\tLoss: 0.691867\n",
      "Train Epoch: 2 [7680/18743 (41%)]\tLoss: 0.711369\n",
      "Train Epoch: 2 [8960/18743 (48%)]\tLoss: 0.737683\n",
      "Train Epoch: 2 [10240/18743 (55%)]\tLoss: 0.699437\n",
      "Train Epoch: 2 [11520/18743 (61%)]\tLoss: 0.726275\n",
      "Train Epoch: 2 [12800/18743 (68%)]\tLoss: 0.671864\n"
     ]
    },
    {
     "name": "stderr",
     "output_type": "stream",
     "text": [
      "/opt/conda/lib/python3.8/site-packages/PIL/TiffImagePlugin.py:822: UserWarning: Truncated File Read\n",
      "  warnings.warn(str(msg))\n"
     ]
    },
    {
     "name": "stdout",
     "output_type": "stream",
     "text": [
      "Train Epoch: 2 [14080/18743 (75%)]\tLoss: 0.720357\n",
      "Train Epoch: 2 [15360/18743 (82%)]\tLoss: 0.682992\n",
      "Train Epoch: 2 [16640/18743 (89%)]\tLoss: 0.669009\n",
      "Train Epoch: 2 [17920/18743 (96%)]\tLoss: 0.661801\n",
      "\n",
      "Test set: Avg. loss: 0.0014, Accuracy: 3126/6251 (50%)\n",
      "\n",
      "Train Epoch: 3 [0/18743 (0%)]\tLoss: 0.697383\n",
      "Train Epoch: 3 [1280/18743 (7%)]\tLoss: 0.692753\n"
     ]
    },
    {
     "name": "stderr",
     "output_type": "stream",
     "text": [
      "/opt/conda/lib/python3.8/site-packages/PIL/TiffImagePlugin.py:822: UserWarning: Truncated File Read\n",
      "  warnings.warn(str(msg))\n"
     ]
    },
    {
     "name": "stdout",
     "output_type": "stream",
     "text": [
      "Train Epoch: 3 [2560/18743 (14%)]\tLoss: 0.659104\n",
      "Train Epoch: 3 [3840/18743 (20%)]\tLoss: 0.695865\n",
      "Train Epoch: 3 [5120/18743 (27%)]\tLoss: 0.720312\n",
      "Train Epoch: 3 [6400/18743 (34%)]\tLoss: 0.666602\n",
      "Train Epoch: 3 [7680/18743 (41%)]\tLoss: 0.713859\n",
      "Train Epoch: 3 [8960/18743 (48%)]\tLoss: 0.696500\n",
      "Train Epoch: 3 [10240/18743 (55%)]\tLoss: 0.691055\n",
      "Train Epoch: 3 [11520/18743 (61%)]\tLoss: 0.723630\n",
      "Train Epoch: 3 [12800/18743 (68%)]\tLoss: 0.730478\n",
      "Train Epoch: 3 [14080/18743 (75%)]\tLoss: 0.687728\n",
      "Train Epoch: 3 [15360/18743 (82%)]\tLoss: 0.702145\n",
      "Train Epoch: 3 [16640/18743 (89%)]\tLoss: 0.700803\n",
      "Train Epoch: 3 [17920/18743 (96%)]\tLoss: 0.779970\n",
      "\n",
      "Test set: Avg. loss: 0.0015, Accuracy: 3126/6251 (50%)\n",
      "\n"
     ]
    }
   ],
   "source": [
    "#train\n",
    "\n",
    "test()\n",
    "\n",
    "for epoch in range(1, num_epochs+1):\n",
    "    \n",
    "    for batch_idx, (data, target) in enumerate(train_data_loader):\n",
    "        \n",
    "        #print(f'b {batch}')\n",
    "        \n",
    "        #forward pass\n",
    "        out = network(data)\n",
    "        \n",
    "        #Use negative log likelihood loss.\n",
    "        loss = criterion(out, target.view(-1, 1).float())\n",
    "        \n",
    "        #with this gradients are calculated\n",
    "        loss.backward()\n",
    "    \n",
    "        #update gradients\n",
    "        optimizer.step()\n",
    "\n",
    "        #Display iteration statistics\n",
    "        if batch_idx % log_interval == 0:\n",
    "          print('Train Epoch: {} [{}/{} ({:.0f}%)]\\tLoss: {:.6f}'.format(\n",
    "            epoch, batch_idx * len(data), len(train_data_loader.dataset),\n",
    "            100. * batch_idx / len(train_data_loader), loss.item()))\n",
    "        \n",
    "    test()\n",
    "    \n",
    "    "
   ]
  },
  {
   "cell_type": "markdown",
   "id": "7195d52d",
   "metadata": {},
   "source": [
    "### ToDo"
   ]
  },
  {
   "cell_type": "markdown",
   "id": "1635469c",
   "metadata": {},
   "source": [
    "- Checar porque en la validacion del dataset de prueba, parece no estar funcionando\n",
    "- Checar como se calcula el acuaracy"
   ]
  }
 ],
 "metadata": {
  "kernelspec": {
   "display_name": "Python 3 (ipykernel)",
   "language": "python",
   "name": "python3"
  },
  "language_info": {
   "codemirror_mode": {
    "name": "ipython",
    "version": 3
   },
   "file_extension": ".py",
   "mimetype": "text/x-python",
   "name": "python",
   "nbconvert_exporter": "python",
   "pygments_lexer": "ipython3",
   "version": "3.8.12"
  }
 },
 "nbformat": 4,
 "nbformat_minor": 5
}
