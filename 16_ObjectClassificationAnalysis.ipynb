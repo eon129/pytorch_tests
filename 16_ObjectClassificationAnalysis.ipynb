{
 "cells": [
  {
   "cell_type": "code",
   "execution_count": 25,
   "id": "c6622be2",
   "metadata": {},
   "outputs": [],
   "source": [
    "%matplotlib inline\n",
    "\n",
    "import torch\n",
    "import matplotlib.pyplot as plt\n",
    "import torchvision\n",
    "from torchvision import transforms\n",
    "import torch.nn.functional as F\n",
    "import torch.optim as optim\n",
    "from torchsummary import summary\n",
    "import time"
   ]
  },
  {
   "cell_type": "code",
   "execution_count": 39,
   "id": "0dc6b551",
   "metadata": {},
   "outputs": [],
   "source": [
    "#Select device\n",
    "device = torch.device('cuda' if torch.cuda.is_available() else 'cpu')\n",
    "\n",
    "# Hyper parameters\n",
    "num_epochs = 1\n",
    "batchsize = 200\n",
    "batchsize_test = 128\n",
    "learning_rate = 0.01\n",
    "momentum = 0.5\n",
    "log_interval = 60\n",
    "TRAIN_DATA_PATH = \"../Data/CATS_DOGS/train\"\n",
    "TEST_DATA_PATH = \"../Data/CATS_DOGS/test\"\n",
    "\n",
    "TRANSFORM_IMG = transforms.Compose([\n",
    "    transforms.Resize(150),\n",
    "    transforms.CenterCrop(150),\n",
    "    transforms.ToTensor(),\n",
    "    transforms.Normalize(mean=[0.485, 0.456, 0.406],\n",
    "                         std=[0.229, 0.224, 0.225] )\n",
    "    ])\n",
    "\n",
    "train_data = torchvision.datasets.ImageFolder(root=TRAIN_DATA_PATH, transform=TRANSFORM_IMG)\n",
    "train_data_loader = torch.utils.data.DataLoader(train_data, batch_size=batchsize, shuffle=True,  num_workers=16)\n",
    "\n",
    "test_data = torchvision.datasets.ImageFolder(root=TEST_DATA_PATH, transform=TRANSFORM_IMG)\n",
    "test_data_loader  = torch.utils.data.DataLoader(test_data, batch_size=batchsize_test, shuffle=True, num_workers=16) \n",
    "\n"
   ]
  },
  {
   "cell_type": "code",
   "execution_count": 27,
   "id": "2e686c3e",
   "metadata": {},
   "outputs": [],
   "source": [
    "class Network(torch.nn.Module):\n",
    "    def __init__(self):\n",
    "        super(Network, self).__init__()\n",
    "        self.conv1 = torch.nn.Conv2d(3, 20, kernel_size=3)\n",
    "        self.conv2 = torch.nn.Conv2d(20, 32, kernel_size=3)\n",
    "        self.conv3 = torch.nn.Conv2d(32, 64, kernel_size=3)\n",
    "        self.fc1 = torch.nn.Linear((64*17*17), 50)\n",
    "        self.fc2 = torch.nn.Linear(50, 1)\n",
    "\n",
    "    def forward(self, x):\n",
    "        x = F.relu(F.max_pool2d(self.conv1(x), 2))\n",
    "        x = F.relu(F.max_pool2d(self.conv2(x), 2))\n",
    "        x = F.relu(F.max_pool2d(self.conv3(x), 2))\n",
    "        x = x.view(-1, (64*17*17))\n",
    "        x = F.relu(self.fc1(x))\n",
    "        x = F.dropout(x, training=self.training)\n",
    "        x = self.fc2(x)\n",
    "        return F.sigmoid(x)"
   ]
  },
  {
   "cell_type": "code",
   "execution_count": 28,
   "id": "a2171406",
   "metadata": {},
   "outputs": [],
   "source": [
    "#Network model\n",
    "network = Network()\n",
    "network.to(device)\n",
    "\n",
    "#Stochastic gradient decent\n",
    "optimizer = optim.SGD(network.parameters(), lr=learning_rate,\n",
    "                      momentum=momentum)\n",
    "\n",
    "criterion = torch.nn.BCELoss()"
   ]
  },
  {
   "cell_type": "code",
   "execution_count": 5,
   "id": "4af39af2",
   "metadata": {},
   "outputs": [
    {
     "name": "stdout",
     "output_type": "stream",
     "text": [
      "----------------------------------------------------------------\n",
      "        Layer (type)               Output Shape         Param #\n",
      "================================================================\n",
      "            Conv2d-1         [-1, 20, 148, 148]             560\n",
      "            Conv2d-2           [-1, 32, 72, 72]           5,792\n",
      "            Conv2d-3           [-1, 64, 34, 34]          18,496\n",
      "            Linear-4                   [-1, 50]         924,850\n",
      "            Linear-5                    [-1, 1]              51\n",
      "================================================================\n",
      "Total params: 949,749\n",
      "Trainable params: 949,749\n",
      "Non-trainable params: 0\n",
      "----------------------------------------------------------------\n",
      "Input size (MB): 0.26\n",
      "Forward/backward pass size (MB): 5.17\n",
      "Params size (MB): 3.62\n",
      "Estimated Total Size (MB): 9.05\n",
      "----------------------------------------------------------------\n"
     ]
    },
    {
     "name": "stderr",
     "output_type": "stream",
     "text": [
      "/opt/conda/lib/python3.8/site-packages/torch/nn/functional.py:1944: UserWarning: nn.functional.sigmoid is deprecated. Use torch.sigmoid instead.\n",
      "  warnings.warn(\"nn.functional.sigmoid is deprecated. Use torch.sigmoid instead.\")\n"
     ]
    }
   ],
   "source": [
    "summary(network, (3, 150, 150))"
   ]
  },
  {
   "cell_type": "code",
   "execution_count": 33,
   "id": "3088bc49",
   "metadata": {},
   "outputs": [
    {
     "name": "stderr",
     "output_type": "stream",
     "text": [
      "/opt/conda/lib/python3.8/site-packages/PIL/TiffImagePlugin.py:822: UserWarning: Truncated File Read\n",
      "  warnings.warn(str(msg))\n"
     ]
    }
   ],
   "source": [
    "##Just for testign\n",
    "test = iter(train_data_loader)\n",
    "img, target= next(test)\n",
    "\n",
    "out = network(img.to(device))\n",
    "#test_loss += F.binary_cross_entropy(output, target).item()\n",
    "#plt.imshow(img[9][0])\n",
    "\n",
    "#img.shape\n",
    "#img.shape"
   ]
  },
  {
   "cell_type": "code",
   "execution_count": 40,
   "id": "5fcb86f2",
   "metadata": {},
   "outputs": [],
   "source": [
    "train_losses = []\n",
    "train_counter = []\n",
    "test_losses = []\n",
    "test_counter = [i*len(train_data_loader.dataset) for i in range(num_epochs + 1)]"
   ]
  },
  {
   "cell_type": "code",
   "execution_count": 41,
   "id": "59bc98de",
   "metadata": {},
   "outputs": [],
   "source": [
    "def test():\n",
    "    #Sets the module in evaluation mode\n",
    "    network.eval()\n",
    "    test_loss = 0\n",
    "    correct = 0\n",
    "    #correct.to(device)\n",
    "    \n",
    "    #dont update dynamic computation graph\n",
    "    with torch.no_grad():\n",
    "        #for every example in test\n",
    "        for data, target in test_data_loader:\n",
    "            \n",
    "            target = target.view(-1, 1).float()\n",
    "            target.to(device)\n",
    "            \n",
    "            #evaluate the model\n",
    "            output = network(data.to(device))\n",
    "            \n",
    "            #acumulate the loss\n",
    "            test_loss += F.binary_cross_entropy(output, target.to(device)).item()\n",
    "            \n",
    "            pred_cls = output.round()\n",
    "            correct += pred_cls.eq(target.view(-1, 1).to(device)).sum() \n",
    "        \n",
    "    test_loss /= len(test_data_loader.dataset)\n",
    "    test_losses.append(test_loss)\n",
    "    print('\\nTest set: Avg. loss: {:.4f}, Accuracy: {}/{} ({:.0f}%)\\n'.format(\n",
    "    test_loss, correct, len(test_data_loader.dataset), 100. * correct / len(test_data_loader.dataset)))"
   ]
  },
  {
   "cell_type": "code",
   "execution_count": 34,
   "id": "c4f78324",
   "metadata": {},
   "outputs": [],
   "source": [
    "##Just for testign\n",
    "test_loss = 0\n",
    "correct = 0\n",
    "test = iter(test_data_loader)\n",
    "img, target= next(test)\n",
    "\n",
    "#out = network(img.to(device))"
   ]
  },
  {
   "cell_type": "code",
   "execution_count": 42,
   "id": "a4dbc03d",
   "metadata": {},
   "outputs": [
    {
     "name": "stdout",
     "output_type": "stream",
     "text": [
      "\n",
      "Test set: Avg. loss: 0.0035, Accuracy: 5009/6251 (80%)\n",
      "\n",
      "Train Epoch: 1 [0/18743 (0%)]\tLoss: 0.292114\n",
      "Train Epoch: 1 [12000/18743 (64%)]\tLoss: 0.307540\n"
     ]
    },
    {
     "name": "stderr",
     "output_type": "stream",
     "text": [
      "/opt/conda/lib/python3.8/site-packages/PIL/TiffImagePlugin.py:822: UserWarning: Truncated File Read\n",
      "  warnings.warn(str(msg))\n"
     ]
    },
    {
     "name": "stdout",
     "output_type": "stream",
     "text": [
      "Time: 6.373398542404175 \n",
      "\n",
      "Test set: Avg. loss: 0.0033, Accuracy: 5055/6251 (81%)\n",
      "\n"
     ]
    }
   ],
   "source": [
    "#train\n",
    "\n",
    "test()\n",
    "\n",
    "for epoch in range(1, num_epochs+1):\n",
    "    \n",
    "    start = time.time()\n",
    "\n",
    "    \n",
    "    for batch_idx, (data, target) in enumerate(train_data_loader):\n",
    "        \n",
    "        network.train()\n",
    "        \n",
    "        #forward pass\n",
    "        out = network(data.to(device))\n",
    "        \n",
    "        #Use negative log likelihood loss.\n",
    "        loss = criterion(out, target.view(-1, 1).float().to(device))\n",
    "        \n",
    "        \n",
    "        #with this gradients are calculated\n",
    "        loss.backward()\n",
    "    \n",
    "        #update gradients\n",
    "        optimizer.step()\n",
    "        \n",
    "        #Set gradients to zero\n",
    "        optimizer.zero_grad()\n",
    "\n",
    "        #Display iteration statistics\n",
    "        if batch_idx % log_interval == 0:\n",
    "            \n",
    "            #print('Allocated:', round(torch.cuda.memory_allocated(0)/1024**3,1), 'GB')\n",
    "            print('Train Epoch: {} [{}/{} ({:.0f}%)]\\tLoss: {:.6f}'.format(epoch, batch_idx * len(data), len(train_data_loader.dataset),100. * batch_idx / len(train_data_loader), loss.item()))\n",
    "    \n",
    "    end = time.time()\n",
    "    print('Time: {} '.format(end - start))\n",
    "    \n",
    "test()\n",
    "    \n",
    "    "
   ]
  },
  {
   "cell_type": "code",
   "execution_count": 13,
   "id": "989ffd92",
   "metadata": {},
   "outputs": [
    {
     "name": "stdout",
     "output_type": "stream",
     "text": [
      "torch.cuda.memory_allocated: 10.877441MB\n",
      "torch.cuda.memory_reserved: 166.000000MB\n",
      "torch.cuda.max_memory_reserved: 166.000000MB\n"
     ]
    }
   ],
   "source": [
    "print(\"torch.cuda.memory_allocated: %fMB\"%(torch.cuda.memory_allocated(0)/1024/1024))\n",
    "print(\"torch.cuda.memory_reserved: %fMB\"%(torch.cuda.memory_reserved(0)/1024/1024))\n",
    "print(\"torch.cuda.max_memory_reserved: %fMB\"%(torch.cuda.max_memory_reserved(0)/1024/1024))\n"
   ]
  },
  {
   "cell_type": "markdown",
   "id": "7195d52d",
   "metadata": {},
   "source": [
    "### ToDo"
   ]
  },
  {
   "cell_type": "markdown",
   "id": "1635469c",
   "metadata": {},
   "source": [
    "- Create a section in which the network is described\n",
    "- Create sections to show how changing num of workers, batch size, optimizes training time\n",
    "- Check other kind of accuaracy measurements\n",
    "- Check how to maximize utilization of GPU, does this affect training results?\n",
    "- Monitor gpu usage, memory, SM usage?\n",
    "- Check wher shm is represented in docker image"
   ]
  },
  {
   "cell_type": "code",
   "execution_count": null,
   "id": "84ee28ea",
   "metadata": {},
   "outputs": [],
   "source": []
  }
 ],
 "metadata": {
  "kernelspec": {
   "display_name": "Python 3 (ipykernel)",
   "language": "python",
   "name": "python3"
  },
  "language_info": {
   "codemirror_mode": {
    "name": "ipython",
    "version": 3
   },
   "file_extension": ".py",
   "mimetype": "text/x-python",
   "name": "python",
   "nbconvert_exporter": "python",
   "pygments_lexer": "ipython3",
   "version": "3.8.12"
  }
 },
 "nbformat": 4,
 "nbformat_minor": 5
}
