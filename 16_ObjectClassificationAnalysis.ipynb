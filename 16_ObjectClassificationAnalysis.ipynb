{
 "cells": [
  {
   "cell_type": "code",
   "execution_count": 1,
   "id": "c6622be2",
   "metadata": {},
   "outputs": [],
   "source": [
    "%matplotlib inline\n",
    "\n",
    "import torch\n",
    "import matplotlib.pyplot as plt\n",
    "import torchvision\n",
    "from torchvision import transforms\n",
    "import torch.nn.functional as F\n",
    "import torch.optim as optim\n",
    "from torchsummary import summary"
   ]
  },
  {
   "cell_type": "code",
   "execution_count": 15,
   "id": "0dc6b551",
   "metadata": {},
   "outputs": [],
   "source": [
    "#Select device\n",
    "device = torch.device('cuda' if torch.cuda.is_available() else 'cpu')\n",
    "\n",
    "# Hyper parameters\n",
    "num_epochs = 50\n",
    "batchsize = 20\n",
    "batchsize_test = 20\n",
    "learning_rate = 0.01\n",
    "momentum = 0.5\n",
    "log_interval = 60\n",
    "TRAIN_DATA_PATH = \"../Data/CATS_DOGS/train\"\n",
    "TEST_DATA_PATH = \"../Data/CATS_DOGS/test\"\n",
    "\n",
    "TRANSFORM_IMG = transforms.Compose([\n",
    "    transforms.Resize(150),\n",
    "    transforms.CenterCrop(150),\n",
    "    transforms.ToTensor(),\n",
    "    transforms.Normalize(mean=[0.485, 0.456, 0.406],\n",
    "                         std=[0.229, 0.224, 0.225] )\n",
    "    ])\n",
    "\n",
    "train_data = torchvision.datasets.ImageFolder(root=TRAIN_DATA_PATH, transform=TRANSFORM_IMG)\n",
    "train_data_loader = torch.utils.data.DataLoader(train_data, batch_size=batchsize, shuffle=True,  num_workers=4)\n",
    "\n",
    "test_data = torchvision.datasets.ImageFolder(root=TEST_DATA_PATH, transform=TRANSFORM_IMG)\n",
    "test_data_loader  = torch.utils.data.DataLoader(test_data, batch_size=batchsize_test, shuffle=True, num_workers=4) \n",
    "\n"
   ]
  },
  {
   "cell_type": "code",
   "execution_count": 3,
   "id": "2e686c3e",
   "metadata": {},
   "outputs": [],
   "source": [
    "class Network(torch.nn.Module):\n",
    "    def __init__(self):\n",
    "        super(Network, self).__init__()\n",
    "        self.conv1 = torch.nn.Conv2d(3, 20, kernel_size=3)\n",
    "        self.conv2 = torch.nn.Conv2d(20, 32, kernel_size=3)\n",
    "        self.conv3 = torch.nn.Conv2d(32, 64, kernel_size=3)\n",
    "        self.fc1 = torch.nn.Linear((64*17*17), 50)\n",
    "        self.fc2 = torch.nn.Linear(50, 1)\n",
    "\n",
    "    def forward(self, x):\n",
    "        x = F.relu(F.max_pool2d(self.conv1(x), 2))\n",
    "        x = F.relu(F.max_pool2d(self.conv2(x), 2))\n",
    "        x = F.relu(F.max_pool2d(self.conv3(x), 2))\n",
    "        x = x.view(-1, (64*17*17))\n",
    "        x = F.relu(self.fc1(x))\n",
    "        x = F.dropout(x, training=self.training)\n",
    "        x = self.fc2(x)\n",
    "        return F.sigmoid(x)"
   ]
  },
  {
   "cell_type": "code",
   "execution_count": 16,
   "id": "a2171406",
   "metadata": {},
   "outputs": [],
   "source": [
    "#Network model\n",
    "network = Network()\n",
    "network.to(device)\n",
    "\n",
    "#Stochastic gradient decent\n",
    "optimizer = optim.SGD(network.parameters(), lr=learning_rate,\n",
    "                      momentum=momentum)\n",
    "\n",
    "criterion = torch.nn.BCELoss()"
   ]
  },
  {
   "cell_type": "code",
   "execution_count": 5,
   "id": "4af39af2",
   "metadata": {},
   "outputs": [
    {
     "name": "stdout",
     "output_type": "stream",
     "text": [
      "----------------------------------------------------------------\n",
      "        Layer (type)               Output Shape         Param #\n",
      "================================================================\n",
      "            Conv2d-1         [-1, 20, 148, 148]             560\n",
      "            Conv2d-2           [-1, 32, 72, 72]           5,792\n",
      "            Conv2d-3           [-1, 64, 34, 34]          18,496\n",
      "            Linear-4                   [-1, 50]         924,850\n",
      "            Linear-5                    [-1, 1]              51\n",
      "================================================================\n",
      "Total params: 949,749\n",
      "Trainable params: 949,749\n",
      "Non-trainable params: 0\n",
      "----------------------------------------------------------------\n",
      "Input size (MB): 0.26\n",
      "Forward/backward pass size (MB): 5.17\n",
      "Params size (MB): 3.62\n",
      "Estimated Total Size (MB): 9.05\n",
      "----------------------------------------------------------------\n"
     ]
    },
    {
     "name": "stderr",
     "output_type": "stream",
     "text": [
      "/opt/conda/lib/python3.8/site-packages/torch/nn/functional.py:1944: UserWarning: nn.functional.sigmoid is deprecated. Use torch.sigmoid instead.\n",
      "  warnings.warn(\"nn.functional.sigmoid is deprecated. Use torch.sigmoid instead.\")\n"
     ]
    }
   ],
   "source": [
    "summary(network, (3, 150, 150))"
   ]
  },
  {
   "cell_type": "code",
   "execution_count": 19,
   "id": "3088bc49",
   "metadata": {},
   "outputs": [
    {
     "data": {
      "text/plain": [
       "tensor([0.5180], device='cuda:0', grad_fn=<SelectBackward0>)"
      ]
     },
     "execution_count": 19,
     "metadata": {},
     "output_type": "execute_result"
    }
   ],
   "source": [
    "##Just for testign\n",
    "test = iter(train_data_loader)\n",
    "img, target= next(test)\n",
    "\n",
    "out = network(img.to(device))\n",
    "#test_loss += F.binary_cross_entropy(output, target).item()\n",
    "#plt.imshow(img[9][0])\n",
    "\n",
    "#img.shape\n"
   ]
  },
  {
   "cell_type": "code",
   "execution_count": 17,
   "id": "5fcb86f2",
   "metadata": {},
   "outputs": [],
   "source": [
    "train_losses = []\n",
    "train_counter = []\n",
    "test_losses = []\n",
    "test_counter = [i*len(train_data_loader.dataset) for i in range(num_epochs + 1)]"
   ]
  },
  {
   "cell_type": "code",
   "execution_count": 12,
   "id": "59bc98de",
   "metadata": {},
   "outputs": [],
   "source": [
    "def test():\n",
    "    #Sets the module in evaluation mode\n",
    "    network.eval()\n",
    "    test_loss = 0\n",
    "    correct = 0\n",
    "    #correct.to(device)\n",
    "    \n",
    "    #dont update dynamic computation graph\n",
    "    with torch.no_grad():\n",
    "        #for every example in test\n",
    "        for data, target in test_data_loader:\n",
    "            \n",
    "            target = target.view(-1, 1).float()\n",
    "            target.to(device)\n",
    "            \n",
    "            #evaluate the model\n",
    "            output = network(data.to(device))\n",
    "            \n",
    "            #acumulate the loss\n",
    "            test_loss += F.binary_cross_entropy(output, target.to(device)).item()\n",
    "            \n",
    "            pred_cls = output.round()\n",
    "            correct += pred_cls.eq(target.view(-1, 1).to(device)).sum() \n",
    "        \n",
    "    test_loss /= len(test_data_loader.dataset)\n",
    "    test_losses.append(test_loss)\n",
    "    print('\\nTest set: Avg. loss: {:.4f}, Accuracy: {}/{} ({:.0f}%)\\n'.format(\n",
    "    test_loss, correct, len(test_data_loader.dataset), 100. * correct / len(test_data_loader.dataset)))"
   ]
  },
  {
   "cell_type": "code",
   "execution_count": 43,
   "id": "c4f78324",
   "metadata": {},
   "outputs": [
    {
     "data": {
      "text/plain": [
       "tensor([[False],\n",
       "        [False],\n",
       "        [ True],\n",
       "        [ True],\n",
       "        [False],\n",
       "        [False],\n",
       "        [ True],\n",
       "        [ True],\n",
       "        [ True],\n",
       "        [ True],\n",
       "        [False],\n",
       "        [False],\n",
       "        [False],\n",
       "        [False],\n",
       "        [ True],\n",
       "        [ True]], device='cuda:0')"
      ]
     },
     "execution_count": 43,
     "metadata": {},
     "output_type": "execute_result"
    }
   ],
   "source": [
    "##Just for testign\n",
    "test_loss = 0\n",
    "correct = 0\n",
    "test = iter(test_data_loader)\n",
    "img, target= next(test)\n",
    "\n",
    "out = network(img.to(device))\n",
    "\n",
    "pred = out.round()\n",
    "t = pred.eq(target.view(-1, 1).to(device))\n",
    "t"
   ]
  },
  {
   "cell_type": "code",
   "execution_count": 18,
   "id": "a4dbc03d",
   "metadata": {},
   "outputs": [
    {
     "name": "stdout",
     "output_type": "stream",
     "text": [
      "\n",
      "Test set: Avg. loss: 0.0347, Accuracy: 3125/6251 (50%)\n",
      "\n",
      "Train Epoch: 1 [0/18743 (0%)]\tLoss: 0.694746\n",
      "Train Epoch: 1 [1200/18743 (6%)]\tLoss: 0.687647\n",
      "Train Epoch: 1 [2400/18743 (13%)]\tLoss: 0.699549\n",
      "Train Epoch: 1 [3600/18743 (19%)]\tLoss: 0.681731\n",
      "Train Epoch: 1 [4800/18743 (26%)]\tLoss: 0.650089\n",
      "Train Epoch: 1 [6000/18743 (32%)]\tLoss: 0.673029\n",
      "Train Epoch: 1 [7200/18743 (38%)]\tLoss: 0.633342\n",
      "Train Epoch: 1 [8400/18743 (45%)]\tLoss: 0.645627\n",
      "Train Epoch: 1 [9600/18743 (51%)]\tLoss: 0.657408\n",
      "Train Epoch: 1 [10800/18743 (58%)]\tLoss: 0.678526\n"
     ]
    },
    {
     "name": "stderr",
     "output_type": "stream",
     "text": [
      "/opt/conda/lib/python3.8/site-packages/PIL/TiffImagePlugin.py:822: UserWarning: Truncated File Read\n",
      "  warnings.warn(str(msg))\n"
     ]
    },
    {
     "name": "stdout",
     "output_type": "stream",
     "text": [
      "Train Epoch: 1 [12000/18743 (64%)]\tLoss: 0.561763\n",
      "Train Epoch: 1 [13200/18743 (70%)]\tLoss: 0.596372\n",
      "Train Epoch: 1 [14400/18743 (77%)]\tLoss: 0.559260\n",
      "Train Epoch: 1 [15600/18743 (83%)]\tLoss: 0.687345\n",
      "Train Epoch: 1 [16800/18743 (90%)]\tLoss: 0.712594\n",
      "Train Epoch: 1 [18000/18743 (96%)]\tLoss: 0.718519\n",
      "\n",
      "Test set: Avg. loss: 0.0315, Accuracy: 3982/6251 (64%)\n",
      "\n",
      "Train Epoch: 2 [0/18743 (0%)]\tLoss: 0.576999\n",
      "Train Epoch: 2 [1200/18743 (6%)]\tLoss: 0.583160\n",
      "Train Epoch: 2 [2400/18743 (13%)]\tLoss: 0.486749\n",
      "Train Epoch: 2 [3600/18743 (19%)]\tLoss: 0.718111\n",
      "Train Epoch: 2 [4800/18743 (26%)]\tLoss: 0.520314\n",
      "Train Epoch: 2 [6000/18743 (32%)]\tLoss: 0.681272\n",
      "Train Epoch: 2 [7200/18743 (38%)]\tLoss: 0.503358\n",
      "Train Epoch: 2 [8400/18743 (45%)]\tLoss: 0.630494\n",
      "Train Epoch: 2 [9600/18743 (51%)]\tLoss: 0.540679\n",
      "Train Epoch: 2 [10800/18743 (58%)]\tLoss: 0.546653\n",
      "Train Epoch: 2 [12000/18743 (64%)]\tLoss: 0.590082\n",
      "Train Epoch: 2 [13200/18743 (70%)]\tLoss: 0.692892\n",
      "Train Epoch: 2 [14400/18743 (77%)]\tLoss: 0.729382\n"
     ]
    },
    {
     "name": "stderr",
     "output_type": "stream",
     "text": [
      "/opt/conda/lib/python3.8/site-packages/PIL/TiffImagePlugin.py:822: UserWarning: Truncated File Read\n",
      "  warnings.warn(str(msg))\n"
     ]
    },
    {
     "name": "stdout",
     "output_type": "stream",
     "text": [
      "Train Epoch: 2 [15600/18743 (83%)]\tLoss: 0.647271\n",
      "Train Epoch: 2 [16800/18743 (90%)]\tLoss: 0.739437\n",
      "Train Epoch: 2 [18000/18743 (96%)]\tLoss: 0.707266\n",
      "\n",
      "Test set: Avg. loss: 0.0268, Accuracy: 4568/6251 (73%)\n",
      "\n",
      "Train Epoch: 3 [0/18743 (0%)]\tLoss: 0.479781\n",
      "Train Epoch: 3 [1200/18743 (6%)]\tLoss: 0.795115\n",
      "Train Epoch: 3 [2400/18743 (13%)]\tLoss: 0.533618\n",
      "Train Epoch: 3 [3600/18743 (19%)]\tLoss: 0.466122\n",
      "Train Epoch: 3 [4800/18743 (26%)]\tLoss: 0.568130\n",
      "Train Epoch: 3 [6000/18743 (32%)]\tLoss: 0.473232\n",
      "Train Epoch: 3 [7200/18743 (38%)]\tLoss: 0.617662\n",
      "Train Epoch: 3 [8400/18743 (45%)]\tLoss: 0.543164\n",
      "Train Epoch: 3 [9600/18743 (51%)]\tLoss: 0.615983\n",
      "Train Epoch: 3 [10800/18743 (58%)]\tLoss: 0.525211\n",
      "Train Epoch: 3 [12000/18743 (64%)]\tLoss: 0.525978\n",
      "Train Epoch: 3 [13200/18743 (70%)]\tLoss: 0.548553\n"
     ]
    },
    {
     "name": "stderr",
     "output_type": "stream",
     "text": [
      "/opt/conda/lib/python3.8/site-packages/PIL/TiffImagePlugin.py:822: UserWarning: Truncated File Read\n",
      "  warnings.warn(str(msg))\n"
     ]
    },
    {
     "name": "stdout",
     "output_type": "stream",
     "text": [
      "Train Epoch: 3 [14400/18743 (77%)]\tLoss: 0.625353\n",
      "Train Epoch: 3 [15600/18743 (83%)]\tLoss: 0.589570\n",
      "Train Epoch: 3 [16800/18743 (90%)]\tLoss: 0.665006\n",
      "Train Epoch: 3 [18000/18743 (96%)]\tLoss: 0.587944\n",
      "\n",
      "Test set: Avg. loss: 0.0261, Accuracy: 4637/6251 (74%)\n",
      "\n",
      "Train Epoch: 4 [0/18743 (0%)]\tLoss: 0.539742\n",
      "Train Epoch: 4 [1200/18743 (6%)]\tLoss: 0.436059\n",
      "Train Epoch: 4 [2400/18743 (13%)]\tLoss: 0.459958\n",
      "Train Epoch: 4 [3600/18743 (19%)]\tLoss: 0.554894\n",
      "Train Epoch: 4 [4800/18743 (26%)]\tLoss: 0.532423\n",
      "Train Epoch: 4 [6000/18743 (32%)]\tLoss: 0.655530\n",
      "Train Epoch: 4 [7200/18743 (38%)]\tLoss: 0.563579\n",
      "Train Epoch: 4 [8400/18743 (45%)]\tLoss: 0.508536\n",
      "Train Epoch: 4 [9600/18743 (51%)]\tLoss: 0.468404\n",
      "Train Epoch: 4 [10800/18743 (58%)]\tLoss: 0.370948\n",
      "Train Epoch: 4 [12000/18743 (64%)]\tLoss: 0.543636\n",
      "Train Epoch: 4 [13200/18743 (70%)]\tLoss: 0.523796\n",
      "Train Epoch: 4 [14400/18743 (77%)]\tLoss: 0.479316\n"
     ]
    },
    {
     "name": "stderr",
     "output_type": "stream",
     "text": [
      "/opt/conda/lib/python3.8/site-packages/PIL/TiffImagePlugin.py:822: UserWarning: Truncated File Read\n",
      "  warnings.warn(str(msg))\n"
     ]
    },
    {
     "name": "stdout",
     "output_type": "stream",
     "text": [
      "Train Epoch: 4 [15600/18743 (83%)]\tLoss: 0.335821\n",
      "Train Epoch: 4 [16800/18743 (90%)]\tLoss: 0.882998\n",
      "Train Epoch: 4 [18000/18743 (96%)]\tLoss: 0.481735\n",
      "\n",
      "Test set: Avg. loss: 0.0236, Accuracy: 4823/6251 (77%)\n",
      "\n",
      "Train Epoch: 5 [0/18743 (0%)]\tLoss: 0.494995\n",
      "Train Epoch: 5 [1200/18743 (6%)]\tLoss: 0.477941\n",
      "Train Epoch: 5 [2400/18743 (13%)]\tLoss: 0.437643\n",
      "Train Epoch: 5 [3600/18743 (19%)]\tLoss: 0.525968\n",
      "Train Epoch: 5 [4800/18743 (26%)]\tLoss: 0.457387\n",
      "Train Epoch: 5 [6000/18743 (32%)]\tLoss: 0.346633\n",
      "Train Epoch: 5 [7200/18743 (38%)]\tLoss: 0.470149\n",
      "Train Epoch: 5 [8400/18743 (45%)]\tLoss: 0.413130\n",
      "Train Epoch: 5 [9600/18743 (51%)]\tLoss: 0.403049\n",
      "Train Epoch: 5 [10800/18743 (58%)]\tLoss: 0.434230\n",
      "Train Epoch: 5 [12000/18743 (64%)]\tLoss: 0.524246\n",
      "Train Epoch: 5 [13200/18743 (70%)]\tLoss: 0.891401\n"
     ]
    },
    {
     "name": "stderr",
     "output_type": "stream",
     "text": [
      "/opt/conda/lib/python3.8/site-packages/PIL/TiffImagePlugin.py:822: UserWarning: Truncated File Read\n",
      "  warnings.warn(str(msg))\n"
     ]
    },
    {
     "name": "stdout",
     "output_type": "stream",
     "text": [
      "Train Epoch: 5 [14400/18743 (77%)]\tLoss: 0.357330\n",
      "Train Epoch: 5 [15600/18743 (83%)]\tLoss: 0.512386\n",
      "Train Epoch: 5 [16800/18743 (90%)]\tLoss: 0.422962\n",
      "Train Epoch: 5 [18000/18743 (96%)]\tLoss: 0.643855\n",
      "\n",
      "Test set: Avg. loss: 0.0263, Accuracy: 4674/6251 (75%)\n",
      "\n",
      "Train Epoch: 6 [0/18743 (0%)]\tLoss: 0.436725\n",
      "Train Epoch: 6 [1200/18743 (6%)]\tLoss: 0.258847\n",
      "Train Epoch: 6 [2400/18743 (13%)]\tLoss: 0.335739\n",
      "Train Epoch: 6 [3600/18743 (19%)]\tLoss: 0.481117\n",
      "Train Epoch: 6 [4800/18743 (26%)]\tLoss: 0.223217\n",
      "Train Epoch: 6 [6000/18743 (32%)]\tLoss: 0.428336\n",
      "Train Epoch: 6 [7200/18743 (38%)]\tLoss: 0.145744\n",
      "Train Epoch: 6 [8400/18743 (45%)]\tLoss: 0.349871\n",
      "Train Epoch: 6 [9600/18743 (51%)]\tLoss: 0.341403\n",
      "Train Epoch: 6 [10800/18743 (58%)]\tLoss: 0.445224\n",
      "Train Epoch: 6 [12000/18743 (64%)]\tLoss: 0.370854\n",
      "Train Epoch: 6 [13200/18743 (70%)]\tLoss: 0.712221\n",
      "Train Epoch: 6 [14400/18743 (77%)]\tLoss: 0.705041\n"
     ]
    },
    {
     "name": "stderr",
     "output_type": "stream",
     "text": [
      "/opt/conda/lib/python3.8/site-packages/PIL/TiffImagePlugin.py:822: UserWarning: Truncated File Read\n",
      "  warnings.warn(str(msg))\n"
     ]
    },
    {
     "name": "stdout",
     "output_type": "stream",
     "text": [
      "Train Epoch: 6 [15600/18743 (83%)]\tLoss: 0.470267\n",
      "Train Epoch: 6 [16800/18743 (90%)]\tLoss: 0.706694\n",
      "Train Epoch: 6 [18000/18743 (96%)]\tLoss: 0.514564\n",
      "\n",
      "Test set: Avg. loss: 0.0215, Accuracy: 4993/6251 (80%)\n",
      "\n",
      "Train Epoch: 7 [0/18743 (0%)]\tLoss: 0.476373\n",
      "Train Epoch: 7 [1200/18743 (6%)]\tLoss: 0.233821\n",
      "Train Epoch: 7 [2400/18743 (13%)]\tLoss: 0.252181\n",
      "Train Epoch: 7 [3600/18743 (19%)]\tLoss: 0.288663\n",
      "Train Epoch: 7 [4800/18743 (26%)]\tLoss: 0.319387\n",
      "Train Epoch: 7 [6000/18743 (32%)]\tLoss: 0.247287\n",
      "Train Epoch: 7 [7200/18743 (38%)]\tLoss: 0.768214\n",
      "Train Epoch: 7 [8400/18743 (45%)]\tLoss: 0.371937\n",
      "Train Epoch: 7 [9600/18743 (51%)]\tLoss: 0.312178\n"
     ]
    },
    {
     "name": "stderr",
     "output_type": "stream",
     "text": [
      "/opt/conda/lib/python3.8/site-packages/PIL/TiffImagePlugin.py:822: UserWarning: Truncated File Read\n",
      "  warnings.warn(str(msg))\n"
     ]
    },
    {
     "name": "stdout",
     "output_type": "stream",
     "text": [
      "Train Epoch: 7 [10800/18743 (58%)]\tLoss: 0.634513\n",
      "Train Epoch: 7 [12000/18743 (64%)]\tLoss: 0.339598\n",
      "Train Epoch: 7 [13200/18743 (70%)]\tLoss: 0.469614\n",
      "Train Epoch: 7 [14400/18743 (77%)]\tLoss: 0.348875\n",
      "Train Epoch: 7 [15600/18743 (83%)]\tLoss: 0.335414\n",
      "Train Epoch: 7 [16800/18743 (90%)]\tLoss: 0.433784\n",
      "Train Epoch: 7 [18000/18743 (96%)]\tLoss: 0.364827\n",
      "\n",
      "Test set: Avg. loss: 0.0239, Accuracy: 4876/6251 (78%)\n",
      "\n",
      "Train Epoch: 8 [0/18743 (0%)]\tLoss: 0.295983\n",
      "Train Epoch: 8 [1200/18743 (6%)]\tLoss: 0.313633\n",
      "Train Epoch: 8 [2400/18743 (13%)]\tLoss: 0.366599\n",
      "Train Epoch: 8 [3600/18743 (19%)]\tLoss: 0.489651\n",
      "Train Epoch: 8 [4800/18743 (26%)]\tLoss: 0.366743\n",
      "Train Epoch: 8 [6000/18743 (32%)]\tLoss: 0.304341\n",
      "Train Epoch: 8 [7200/18743 (38%)]\tLoss: 0.139703\n",
      "Train Epoch: 8 [8400/18743 (45%)]\tLoss: 0.362856\n",
      "Train Epoch: 8 [9600/18743 (51%)]\tLoss: 0.462248\n",
      "Train Epoch: 8 [10800/18743 (58%)]\tLoss: 0.304745\n",
      "Train Epoch: 8 [12000/18743 (64%)]\tLoss: 0.144558\n"
     ]
    },
    {
     "name": "stderr",
     "output_type": "stream",
     "text": [
      "/opt/conda/lib/python3.8/site-packages/PIL/TiffImagePlugin.py:822: UserWarning: Truncated File Read\n",
      "  warnings.warn(str(msg))\n"
     ]
    },
    {
     "name": "stdout",
     "output_type": "stream",
     "text": [
      "Train Epoch: 8 [13200/18743 (70%)]\tLoss: 0.183243\n",
      "Train Epoch: 8 [14400/18743 (77%)]\tLoss: 0.681742\n",
      "Train Epoch: 8 [15600/18743 (83%)]\tLoss: 0.218432\n",
      "Train Epoch: 8 [16800/18743 (90%)]\tLoss: 0.817777\n",
      "Train Epoch: 8 [18000/18743 (96%)]\tLoss: 0.407811\n",
      "\n",
      "Test set: Avg. loss: 0.0219, Accuracy: 5053/6251 (81%)\n",
      "\n",
      "Train Epoch: 9 [0/18743 (0%)]\tLoss: 0.314675\n",
      "Train Epoch: 9 [1200/18743 (6%)]\tLoss: 0.300289\n",
      "Train Epoch: 9 [2400/18743 (13%)]\tLoss: 0.481305\n",
      "Train Epoch: 9 [3600/18743 (19%)]\tLoss: 0.228456\n",
      "Train Epoch: 9 [4800/18743 (26%)]\tLoss: 0.460999\n"
     ]
    },
    {
     "name": "stderr",
     "output_type": "stream",
     "text": [
      "/opt/conda/lib/python3.8/site-packages/PIL/TiffImagePlugin.py:822: UserWarning: Truncated File Read\n",
      "  warnings.warn(str(msg))\n"
     ]
    },
    {
     "name": "stdout",
     "output_type": "stream",
     "text": [
      "Train Epoch: 9 [6000/18743 (32%)]\tLoss: 0.223901\n",
      "Train Epoch: 9 [7200/18743 (38%)]\tLoss: 0.163056\n",
      "Train Epoch: 9 [8400/18743 (45%)]\tLoss: 0.336474\n",
      "Train Epoch: 9 [9600/18743 (51%)]\tLoss: 0.368811\n",
      "Train Epoch: 9 [10800/18743 (58%)]\tLoss: 0.389336\n",
      "Train Epoch: 9 [12000/18743 (64%)]\tLoss: 0.290047\n",
      "Train Epoch: 9 [13200/18743 (70%)]\tLoss: 0.385740\n",
      "Train Epoch: 9 [14400/18743 (77%)]\tLoss: 0.316525\n",
      "Train Epoch: 9 [15600/18743 (83%)]\tLoss: 0.313248\n",
      "Train Epoch: 9 [16800/18743 (90%)]\tLoss: 0.580487\n",
      "Train Epoch: 9 [18000/18743 (96%)]\tLoss: 0.221906\n",
      "\n",
      "Test set: Avg. loss: 0.0205, Accuracy: 5124/6251 (82%)\n",
      "\n",
      "Train Epoch: 10 [0/18743 (0%)]\tLoss: 0.236936\n",
      "Train Epoch: 10 [1200/18743 (6%)]\tLoss: 0.179047\n",
      "Train Epoch: 10 [2400/18743 (13%)]\tLoss: 0.516999\n",
      "Train Epoch: 10 [3600/18743 (19%)]\tLoss: 0.178033\n",
      "Train Epoch: 10 [4800/18743 (26%)]\tLoss: 0.413060\n",
      "Train Epoch: 10 [6000/18743 (32%)]\tLoss: 0.563742\n",
      "Train Epoch: 10 [7200/18743 (38%)]\tLoss: 0.252948\n",
      "Train Epoch: 10 [8400/18743 (45%)]\tLoss: 0.290506\n",
      "Train Epoch: 10 [9600/18743 (51%)]\tLoss: 0.368689\n",
      "Train Epoch: 10 [10800/18743 (58%)]\tLoss: 0.290303\n"
     ]
    },
    {
     "name": "stderr",
     "output_type": "stream",
     "text": [
      "/opt/conda/lib/python3.8/site-packages/PIL/TiffImagePlugin.py:822: UserWarning: Truncated File Read\n",
      "  warnings.warn(str(msg))\n"
     ]
    },
    {
     "name": "stdout",
     "output_type": "stream",
     "text": [
      "Train Epoch: 10 [12000/18743 (64%)]\tLoss: 0.221092\n",
      "Train Epoch: 10 [13200/18743 (70%)]\tLoss: 0.231826\n",
      "Train Epoch: 10 [14400/18743 (77%)]\tLoss: 0.128290\n",
      "Train Epoch: 10 [15600/18743 (83%)]\tLoss: 0.360728\n",
      "Train Epoch: 10 [16800/18743 (90%)]\tLoss: 0.184390\n",
      "Train Epoch: 10 [18000/18743 (96%)]\tLoss: 0.273142\n",
      "\n",
      "Test set: Avg. loss: 0.0208, Accuracy: 5148/6251 (82%)\n",
      "\n",
      "Train Epoch: 11 [0/18743 (0%)]\tLoss: 0.218599\n"
     ]
    },
    {
     "name": "stderr",
     "output_type": "stream",
     "text": [
      "/opt/conda/lib/python3.8/site-packages/PIL/TiffImagePlugin.py:822: UserWarning: Truncated File Read\n",
      "  warnings.warn(str(msg))\n"
     ]
    },
    {
     "name": "stdout",
     "output_type": "stream",
     "text": [
      "Train Epoch: 11 [1200/18743 (6%)]\tLoss: 0.346415\n",
      "Train Epoch: 11 [2400/18743 (13%)]\tLoss: 0.245733\n",
      "Train Epoch: 11 [3600/18743 (19%)]\tLoss: 0.338659\n",
      "Train Epoch: 11 [4800/18743 (26%)]\tLoss: 0.271189\n",
      "Train Epoch: 11 [6000/18743 (32%)]\tLoss: 0.223648\n",
      "Train Epoch: 11 [7200/18743 (38%)]\tLoss: 0.523616\n",
      "Train Epoch: 11 [8400/18743 (45%)]\tLoss: 0.289555\n",
      "Train Epoch: 11 [9600/18743 (51%)]\tLoss: 0.415598\n",
      "Train Epoch: 11 [10800/18743 (58%)]\tLoss: 0.218978\n",
      "Train Epoch: 11 [12000/18743 (64%)]\tLoss: 0.250274\n",
      "Train Epoch: 11 [13200/18743 (70%)]\tLoss: 0.404643\n",
      "Train Epoch: 11 [14400/18743 (77%)]\tLoss: 0.213632\n",
      "Train Epoch: 11 [15600/18743 (83%)]\tLoss: 0.313450\n",
      "Train Epoch: 11 [16800/18743 (90%)]\tLoss: 0.205244\n",
      "Train Epoch: 11 [18000/18743 (96%)]\tLoss: 0.190595\n",
      "\n",
      "Test set: Avg. loss: 0.0208, Accuracy: 5165/6251 (83%)\n",
      "\n",
      "Train Epoch: 12 [0/18743 (0%)]\tLoss: 0.263012\n"
     ]
    },
    {
     "name": "stderr",
     "output_type": "stream",
     "text": [
      "/opt/conda/lib/python3.8/site-packages/PIL/TiffImagePlugin.py:822: UserWarning: Truncated File Read\n",
      "  warnings.warn(str(msg))\n"
     ]
    },
    {
     "name": "stdout",
     "output_type": "stream",
     "text": [
      "Train Epoch: 12 [1200/18743 (6%)]\tLoss: 0.275257\n",
      "Train Epoch: 12 [2400/18743 (13%)]\tLoss: 0.175578\n",
      "Train Epoch: 12 [3600/18743 (19%)]\tLoss: 0.152428\n",
      "Train Epoch: 12 [4800/18743 (26%)]\tLoss: 0.398026\n",
      "Train Epoch: 12 [6000/18743 (32%)]\tLoss: 0.151179\n",
      "Train Epoch: 12 [7200/18743 (38%)]\tLoss: 0.139297\n",
      "Train Epoch: 12 [8400/18743 (45%)]\tLoss: 0.116942\n",
      "Train Epoch: 12 [9600/18743 (51%)]\tLoss: 0.150859\n",
      "Train Epoch: 12 [10800/18743 (58%)]\tLoss: 0.241833\n",
      "Train Epoch: 12 [12000/18743 (64%)]\tLoss: 0.190418\n",
      "Train Epoch: 12 [13200/18743 (70%)]\tLoss: 0.290501\n",
      "Train Epoch: 12 [14400/18743 (77%)]\tLoss: 0.105047\n",
      "Train Epoch: 12 [15600/18743 (83%)]\tLoss: 0.378108\n",
      "Train Epoch: 12 [16800/18743 (90%)]\tLoss: 0.392228\n",
      "Train Epoch: 12 [18000/18743 (96%)]\tLoss: 0.222003\n",
      "\n",
      "Test set: Avg. loss: 0.0275, Accuracy: 4996/6251 (80%)\n",
      "\n",
      "Train Epoch: 13 [0/18743 (0%)]\tLoss: 0.212626\n",
      "Train Epoch: 13 [1200/18743 (6%)]\tLoss: 0.234746\n",
      "Train Epoch: 13 [2400/18743 (13%)]\tLoss: 0.162580\n",
      "Train Epoch: 13 [3600/18743 (19%)]\tLoss: 0.110014\n",
      "Train Epoch: 13 [4800/18743 (26%)]\tLoss: 0.110353\n",
      "Train Epoch: 13 [6000/18743 (32%)]\tLoss: 0.436648\n",
      "Train Epoch: 13 [7200/18743 (38%)]\tLoss: 0.150468\n",
      "Train Epoch: 13 [8400/18743 (45%)]\tLoss: 0.122682\n"
     ]
    },
    {
     "name": "stderr",
     "output_type": "stream",
     "text": [
      "/opt/conda/lib/python3.8/site-packages/PIL/TiffImagePlugin.py:822: UserWarning: Truncated File Read\n",
      "  warnings.warn(str(msg))\n"
     ]
    },
    {
     "name": "stdout",
     "output_type": "stream",
     "text": [
      "Train Epoch: 13 [9600/18743 (51%)]\tLoss: 0.231254\n",
      "Train Epoch: 13 [10800/18743 (58%)]\tLoss: 0.360869\n",
      "Train Epoch: 13 [12000/18743 (64%)]\tLoss: 0.150644\n",
      "Train Epoch: 13 [13200/18743 (70%)]\tLoss: 0.180913\n",
      "Train Epoch: 13 [14400/18743 (77%)]\tLoss: 0.164528\n",
      "Train Epoch: 13 [15600/18743 (83%)]\tLoss: 0.137934\n",
      "Train Epoch: 13 [16800/18743 (90%)]\tLoss: 0.437109\n",
      "Train Epoch: 13 [18000/18743 (96%)]\tLoss: 0.075155\n",
      "\n",
      "Test set: Avg. loss: 0.0227, Accuracy: 5075/6251 (81%)\n",
      "\n",
      "Train Epoch: 14 [0/18743 (0%)]\tLoss: 0.138434\n",
      "Train Epoch: 14 [1200/18743 (6%)]\tLoss: 0.229250\n",
      "Train Epoch: 14 [2400/18743 (13%)]\tLoss: 0.217449\n",
      "Train Epoch: 14 [3600/18743 (19%)]\tLoss: 0.044741\n",
      "Train Epoch: 14 [4800/18743 (26%)]\tLoss: 0.031969\n",
      "Train Epoch: 14 [6000/18743 (32%)]\tLoss: 0.109147\n",
      "Train Epoch: 14 [7200/18743 (38%)]\tLoss: 0.138755\n",
      "Train Epoch: 14 [8400/18743 (45%)]\tLoss: 0.068177\n",
      "Train Epoch: 14 [9600/18743 (51%)]\tLoss: 0.153456\n",
      "Train Epoch: 14 [10800/18743 (58%)]\tLoss: 0.225072\n",
      "Train Epoch: 14 [12000/18743 (64%)]\tLoss: 0.249025\n",
      "Train Epoch: 14 [13200/18743 (70%)]\tLoss: 0.202492\n"
     ]
    },
    {
     "name": "stderr",
     "output_type": "stream",
     "text": [
      "/opt/conda/lib/python3.8/site-packages/PIL/TiffImagePlugin.py:822: UserWarning: Truncated File Read\n",
      "  warnings.warn(str(msg))\n"
     ]
    },
    {
     "name": "stdout",
     "output_type": "stream",
     "text": [
      "Train Epoch: 14 [14400/18743 (77%)]\tLoss: 0.124201\n",
      "Train Epoch: 14 [15600/18743 (83%)]\tLoss: 0.131935\n",
      "Train Epoch: 14 [16800/18743 (90%)]\tLoss: 0.195209\n",
      "Train Epoch: 14 [18000/18743 (96%)]\tLoss: 0.049266\n",
      "\n",
      "Test set: Avg. loss: 0.0265, Accuracy: 5109/6251 (82%)\n",
      "\n",
      "Train Epoch: 15 [0/18743 (0%)]\tLoss: 0.027683\n",
      "Train Epoch: 15 [1200/18743 (6%)]\tLoss: 0.248051\n"
     ]
    },
    {
     "name": "stderr",
     "output_type": "stream",
     "text": [
      "/opt/conda/lib/python3.8/site-packages/PIL/TiffImagePlugin.py:822: UserWarning: Truncated File Read\n",
      "  warnings.warn(str(msg))\n"
     ]
    },
    {
     "name": "stdout",
     "output_type": "stream",
     "text": [
      "Train Epoch: 15 [2400/18743 (13%)]\tLoss: 0.092445\n",
      "Train Epoch: 15 [3600/18743 (19%)]\tLoss: 0.070502\n",
      "Train Epoch: 15 [4800/18743 (26%)]\tLoss: 0.148474\n",
      "Train Epoch: 15 [6000/18743 (32%)]\tLoss: 0.065906\n",
      "Train Epoch: 15 [7200/18743 (38%)]\tLoss: 0.123440\n",
      "Train Epoch: 15 [8400/18743 (45%)]\tLoss: 0.021715\n",
      "Train Epoch: 15 [9600/18743 (51%)]\tLoss: 0.050188\n",
      "Train Epoch: 15 [10800/18743 (58%)]\tLoss: 0.227111\n",
      "Train Epoch: 15 [12000/18743 (64%)]\tLoss: 0.064226\n",
      "Train Epoch: 15 [13200/18743 (70%)]\tLoss: 0.446691\n",
      "Train Epoch: 15 [14400/18743 (77%)]\tLoss: 0.147332\n",
      "Train Epoch: 15 [15600/18743 (83%)]\tLoss: 0.081638\n",
      "Train Epoch: 15 [16800/18743 (90%)]\tLoss: 0.295623\n",
      "Train Epoch: 15 [18000/18743 (96%)]\tLoss: 0.126810\n",
      "\n",
      "Test set: Avg. loss: 0.0255, Accuracy: 5187/6251 (83%)\n",
      "\n",
      "Train Epoch: 16 [0/18743 (0%)]\tLoss: 0.170953\n",
      "Train Epoch: 16 [1200/18743 (6%)]\tLoss: 0.031101\n",
      "Train Epoch: 16 [2400/18743 (13%)]\tLoss: 0.065940\n",
      "Train Epoch: 16 [3600/18743 (19%)]\tLoss: 0.053118\n",
      "Train Epoch: 16 [4800/18743 (26%)]\tLoss: 0.087754\n",
      "Train Epoch: 16 [6000/18743 (32%)]\tLoss: 0.065565\n",
      "Train Epoch: 16 [7200/18743 (38%)]\tLoss: 0.092598\n",
      "Train Epoch: 16 [8400/18743 (45%)]\tLoss: 0.334143\n",
      "Train Epoch: 16 [9600/18743 (51%)]\tLoss: 0.099602\n",
      "Train Epoch: 16 [10800/18743 (58%)]\tLoss: 0.145412\n",
      "Train Epoch: 16 [12000/18743 (64%)]\tLoss: 0.192787\n",
      "Train Epoch: 16 [13200/18743 (70%)]\tLoss: 0.115676\n",
      "Train Epoch: 16 [14400/18743 (77%)]\tLoss: 0.030582\n"
     ]
    },
    {
     "name": "stderr",
     "output_type": "stream",
     "text": [
      "/opt/conda/lib/python3.8/site-packages/PIL/TiffImagePlugin.py:822: UserWarning: Truncated File Read\n",
      "  warnings.warn(str(msg))\n"
     ]
    },
    {
     "name": "stdout",
     "output_type": "stream",
     "text": [
      "Train Epoch: 16 [15600/18743 (83%)]\tLoss: 0.080311\n",
      "Train Epoch: 16 [16800/18743 (90%)]\tLoss: 0.149891\n",
      "Train Epoch: 16 [18000/18743 (96%)]\tLoss: 0.091667\n",
      "\n",
      "Test set: Avg. loss: 0.0298, Accuracy: 5124/6251 (82%)\n",
      "\n",
      "Train Epoch: 17 [0/18743 (0%)]\tLoss: 0.188177\n",
      "Train Epoch: 17 [1200/18743 (6%)]\tLoss: 0.095306\n",
      "Train Epoch: 17 [2400/18743 (13%)]\tLoss: 0.128566\n",
      "Train Epoch: 17 [3600/18743 (19%)]\tLoss: 0.024412\n",
      "Train Epoch: 17 [4800/18743 (26%)]\tLoss: 0.104875\n",
      "Train Epoch: 17 [6000/18743 (32%)]\tLoss: 0.151613\n"
     ]
    },
    {
     "name": "stderr",
     "output_type": "stream",
     "text": [
      "/opt/conda/lib/python3.8/site-packages/PIL/TiffImagePlugin.py:822: UserWarning: Truncated File Read\n",
      "  warnings.warn(str(msg))\n"
     ]
    },
    {
     "name": "stdout",
     "output_type": "stream",
     "text": [
      "Train Epoch: 17 [7200/18743 (38%)]\tLoss: 0.032317\n",
      "Train Epoch: 17 [8400/18743 (45%)]\tLoss: 0.058050\n",
      "Train Epoch: 17 [9600/18743 (51%)]\tLoss: 0.014229\n",
      "Train Epoch: 17 [10800/18743 (58%)]\tLoss: 0.003000\n",
      "Train Epoch: 17 [12000/18743 (64%)]\tLoss: 0.013029\n",
      "Train Epoch: 17 [13200/18743 (70%)]\tLoss: 0.195934\n",
      "Train Epoch: 17 [14400/18743 (77%)]\tLoss: 0.064905\n",
      "Train Epoch: 17 [15600/18743 (83%)]\tLoss: 0.102337\n",
      "Train Epoch: 17 [16800/18743 (90%)]\tLoss: 0.062850\n",
      "Train Epoch: 17 [18000/18743 (96%)]\tLoss: 0.064463\n",
      "\n",
      "Test set: Avg. loss: 0.0271, Accuracy: 5160/6251 (83%)\n",
      "\n",
      "Train Epoch: 18 [0/18743 (0%)]\tLoss: 0.186308\n",
      "Train Epoch: 18 [1200/18743 (6%)]\tLoss: 0.034353\n",
      "Train Epoch: 18 [2400/18743 (13%)]\tLoss: 0.116228\n",
      "Train Epoch: 18 [3600/18743 (19%)]\tLoss: 0.151646\n",
      "Train Epoch: 18 [4800/18743 (26%)]\tLoss: 0.226100\n",
      "Train Epoch: 18 [6000/18743 (32%)]\tLoss: 0.366567\n",
      "Train Epoch: 18 [7200/18743 (38%)]\tLoss: 0.062813\n"
     ]
    },
    {
     "name": "stderr",
     "output_type": "stream",
     "text": [
      "/opt/conda/lib/python3.8/site-packages/PIL/TiffImagePlugin.py:822: UserWarning: Truncated File Read\n",
      "  warnings.warn(str(msg))\n"
     ]
    },
    {
     "name": "stdout",
     "output_type": "stream",
     "text": [
      "Train Epoch: 18 [8400/18743 (45%)]\tLoss: 0.033898\n",
      "Train Epoch: 18 [9600/18743 (51%)]\tLoss: 0.077037\n",
      "Train Epoch: 18 [10800/18743 (58%)]\tLoss: 0.219954\n",
      "Train Epoch: 18 [12000/18743 (64%)]\tLoss: 0.024579\n",
      "Train Epoch: 18 [13200/18743 (70%)]\tLoss: 0.089194\n",
      "Train Epoch: 18 [14400/18743 (77%)]\tLoss: 0.132453\n",
      "Train Epoch: 18 [15600/18743 (83%)]\tLoss: 0.132977\n",
      "Train Epoch: 18 [16800/18743 (90%)]\tLoss: 0.074260\n",
      "Train Epoch: 18 [18000/18743 (96%)]\tLoss: 0.145262\n",
      "\n",
      "Test set: Avg. loss: 0.0333, Accuracy: 5182/6251 (83%)\n",
      "\n",
      "Train Epoch: 19 [0/18743 (0%)]\tLoss: 0.031569\n",
      "Train Epoch: 19 [1200/18743 (6%)]\tLoss: 0.075151\n",
      "Train Epoch: 19 [2400/18743 (13%)]\tLoss: 0.118618\n",
      "Train Epoch: 19 [3600/18743 (19%)]\tLoss: 0.030994\n",
      "Train Epoch: 19 [4800/18743 (26%)]\tLoss: 0.205424\n",
      "Train Epoch: 19 [6000/18743 (32%)]\tLoss: 0.033641\n",
      "Train Epoch: 19 [7200/18743 (38%)]\tLoss: 0.213632\n"
     ]
    },
    {
     "name": "stderr",
     "output_type": "stream",
     "text": [
      "/opt/conda/lib/python3.8/site-packages/PIL/TiffImagePlugin.py:822: UserWarning: Truncated File Read\n",
      "  warnings.warn(str(msg))\n"
     ]
    },
    {
     "name": "stdout",
     "output_type": "stream",
     "text": [
      "Train Epoch: 19 [8400/18743 (45%)]\tLoss: 0.118787\n",
      "Train Epoch: 19 [9600/18743 (51%)]\tLoss: 0.056723\n",
      "Train Epoch: 19 [10800/18743 (58%)]\tLoss: 0.068330\n",
      "Train Epoch: 19 [12000/18743 (64%)]\tLoss: 0.006176\n",
      "Train Epoch: 19 [13200/18743 (70%)]\tLoss: 0.204281\n",
      "Train Epoch: 19 [14400/18743 (77%)]\tLoss: 0.034681\n",
      "Train Epoch: 19 [15600/18743 (83%)]\tLoss: 0.066995\n",
      "Train Epoch: 19 [16800/18743 (90%)]\tLoss: 0.086215\n",
      "Train Epoch: 19 [18000/18743 (96%)]\tLoss: 0.083188\n",
      "\n",
      "Test set: Avg. loss: 0.0326, Accuracy: 5162/6251 (83%)\n",
      "\n",
      "Train Epoch: 20 [0/18743 (0%)]\tLoss: 0.064325\n",
      "Train Epoch: 20 [1200/18743 (6%)]\tLoss: 0.036915\n",
      "Train Epoch: 20 [2400/18743 (13%)]\tLoss: 0.064255\n"
     ]
    },
    {
     "name": "stderr",
     "output_type": "stream",
     "text": [
      "/opt/conda/lib/python3.8/site-packages/PIL/TiffImagePlugin.py:822: UserWarning: Truncated File Read\n",
      "  warnings.warn(str(msg))\n"
     ]
    },
    {
     "name": "stdout",
     "output_type": "stream",
     "text": [
      "Train Epoch: 20 [3600/18743 (19%)]\tLoss: 0.113782\n",
      "Train Epoch: 20 [4800/18743 (26%)]\tLoss: 0.093288\n",
      "Train Epoch: 20 [6000/18743 (32%)]\tLoss: 0.059948\n",
      "Train Epoch: 20 [7200/18743 (38%)]\tLoss: 0.085088\n",
      "Train Epoch: 20 [8400/18743 (45%)]\tLoss: 0.015799\n",
      "Train Epoch: 20 [9600/18743 (51%)]\tLoss: 0.038295\n",
      "Train Epoch: 20 [10800/18743 (58%)]\tLoss: 0.081805\n",
      "Train Epoch: 20 [12000/18743 (64%)]\tLoss: 0.071008\n",
      "Train Epoch: 20 [13200/18743 (70%)]\tLoss: 0.085091\n",
      "Train Epoch: 20 [14400/18743 (77%)]\tLoss: 0.249667\n",
      "Train Epoch: 20 [15600/18743 (83%)]\tLoss: 0.055950\n",
      "Train Epoch: 20 [16800/18743 (90%)]\tLoss: 0.101218\n",
      "Train Epoch: 20 [18000/18743 (96%)]\tLoss: 0.060886\n",
      "\n",
      "Test set: Avg. loss: 0.0359, Accuracy: 5206/6251 (83%)\n",
      "\n",
      "Train Epoch: 21 [0/18743 (0%)]\tLoss: 0.048101\n",
      "Train Epoch: 21 [1200/18743 (6%)]\tLoss: 0.026274\n",
      "Train Epoch: 21 [2400/18743 (13%)]\tLoss: 0.048486\n",
      "Train Epoch: 21 [3600/18743 (19%)]\tLoss: 0.027604\n",
      "Train Epoch: 21 [4800/18743 (26%)]\tLoss: 0.037011\n",
      "Train Epoch: 21 [6000/18743 (32%)]\tLoss: 0.017584\n",
      "Train Epoch: 21 [7200/18743 (38%)]\tLoss: 0.009687\n",
      "Train Epoch: 21 [8400/18743 (45%)]\tLoss: 0.007421\n",
      "Train Epoch: 21 [9600/18743 (51%)]\tLoss: 0.157322\n",
      "Train Epoch: 21 [10800/18743 (58%)]\tLoss: 0.012385\n",
      "Train Epoch: 21 [12000/18743 (64%)]\tLoss: 0.167361\n",
      "Train Epoch: 21 [13200/18743 (70%)]\tLoss: 0.024545\n",
      "Train Epoch: 21 [14400/18743 (77%)]\tLoss: 0.058604\n"
     ]
    },
    {
     "name": "stderr",
     "output_type": "stream",
     "text": [
      "/opt/conda/lib/python3.8/site-packages/PIL/TiffImagePlugin.py:822: UserWarning: Truncated File Read\n",
      "  warnings.warn(str(msg))\n"
     ]
    },
    {
     "name": "stdout",
     "output_type": "stream",
     "text": [
      "Train Epoch: 21 [15600/18743 (83%)]\tLoss: 0.032994\n",
      "Train Epoch: 21 [16800/18743 (90%)]\tLoss: 0.232126\n",
      "Train Epoch: 21 [18000/18743 (96%)]\tLoss: 0.012307\n",
      "\n",
      "Test set: Avg. loss: 0.0426, Accuracy: 5095/6251 (82%)\n",
      "\n",
      "Train Epoch: 22 [0/18743 (0%)]\tLoss: 0.003718\n",
      "Train Epoch: 22 [1200/18743 (6%)]\tLoss: 0.102302\n",
      "Train Epoch: 22 [2400/18743 (13%)]\tLoss: 0.091781\n",
      "Train Epoch: 22 [3600/18743 (19%)]\tLoss: 0.029800\n",
      "Train Epoch: 22 [4800/18743 (26%)]\tLoss: 0.063554\n",
      "Train Epoch: 22 [6000/18743 (32%)]\tLoss: 0.031913\n",
      "Train Epoch: 22 [7200/18743 (38%)]\tLoss: 0.119496\n",
      "Train Epoch: 22 [8400/18743 (45%)]\tLoss: 0.074970\n",
      "Train Epoch: 22 [9600/18743 (51%)]\tLoss: 0.077851\n"
     ]
    },
    {
     "name": "stderr",
     "output_type": "stream",
     "text": [
      "/opt/conda/lib/python3.8/site-packages/PIL/TiffImagePlugin.py:822: UserWarning: Truncated File Read\n",
      "  warnings.warn(str(msg))\n"
     ]
    },
    {
     "name": "stdout",
     "output_type": "stream",
     "text": [
      "Train Epoch: 22 [10800/18743 (58%)]\tLoss: 0.122460\n",
      "Train Epoch: 22 [12000/18743 (64%)]\tLoss: 0.177716\n",
      "Train Epoch: 22 [13200/18743 (70%)]\tLoss: 0.086719\n",
      "Train Epoch: 22 [14400/18743 (77%)]\tLoss: 0.041577\n",
      "Train Epoch: 22 [15600/18743 (83%)]\tLoss: 0.237015\n",
      "Train Epoch: 22 [16800/18743 (90%)]\tLoss: 0.202684\n",
      "Train Epoch: 22 [18000/18743 (96%)]\tLoss: 0.245902\n",
      "\n",
      "Test set: Avg. loss: 0.0383, Accuracy: 5178/6251 (83%)\n",
      "\n",
      "Train Epoch: 23 [0/18743 (0%)]\tLoss: 0.012369\n",
      "Train Epoch: 23 [1200/18743 (6%)]\tLoss: 0.014900\n",
      "Train Epoch: 23 [2400/18743 (13%)]\tLoss: 0.054658\n",
      "Train Epoch: 23 [3600/18743 (19%)]\tLoss: 0.022617\n",
      "Train Epoch: 23 [4800/18743 (26%)]\tLoss: 0.131818\n",
      "Train Epoch: 23 [6000/18743 (32%)]\tLoss: 0.062333\n",
      "Train Epoch: 23 [7200/18743 (38%)]\tLoss: 0.003130\n",
      "Train Epoch: 23 [8400/18743 (45%)]\tLoss: 0.060151\n",
      "Train Epoch: 23 [9600/18743 (51%)]\tLoss: 0.060082\n",
      "Train Epoch: 23 [10800/18743 (58%)]\tLoss: 0.063062\n"
     ]
    },
    {
     "name": "stderr",
     "output_type": "stream",
     "text": [
      "/opt/conda/lib/python3.8/site-packages/PIL/TiffImagePlugin.py:822: UserWarning: Truncated File Read\n",
      "  warnings.warn(str(msg))\n"
     ]
    },
    {
     "name": "stdout",
     "output_type": "stream",
     "text": [
      "Train Epoch: 23 [12000/18743 (64%)]\tLoss: 0.493757\n",
      "Train Epoch: 23 [13200/18743 (70%)]\tLoss: 0.189043\n",
      "Train Epoch: 23 [14400/18743 (77%)]\tLoss: 0.025153\n",
      "Train Epoch: 23 [15600/18743 (83%)]\tLoss: 0.002895\n",
      "Train Epoch: 23 [16800/18743 (90%)]\tLoss: 0.049860\n",
      "Train Epoch: 23 [18000/18743 (96%)]\tLoss: 0.126479\n",
      "\n",
      "Test set: Avg. loss: 0.0375, Accuracy: 5207/6251 (83%)\n",
      "\n",
      "Train Epoch: 24 [0/18743 (0%)]\tLoss: 0.016880\n",
      "Train Epoch: 24 [1200/18743 (6%)]\tLoss: 0.004520\n",
      "Train Epoch: 24 [2400/18743 (13%)]\tLoss: 0.082617\n",
      "Train Epoch: 24 [3600/18743 (19%)]\tLoss: 0.023696\n",
      "Train Epoch: 24 [4800/18743 (26%)]\tLoss: 0.013168\n"
     ]
    },
    {
     "name": "stderr",
     "output_type": "stream",
     "text": [
      "/opt/conda/lib/python3.8/site-packages/PIL/TiffImagePlugin.py:822: UserWarning: Truncated File Read\n",
      "  warnings.warn(str(msg))\n"
     ]
    },
    {
     "name": "stdout",
     "output_type": "stream",
     "text": [
      "Train Epoch: 24 [6000/18743 (32%)]\tLoss: 0.013194\n",
      "Train Epoch: 24 [7200/18743 (38%)]\tLoss: 0.070397\n",
      "Train Epoch: 24 [8400/18743 (45%)]\tLoss: 0.005709\n",
      "Train Epoch: 24 [9600/18743 (51%)]\tLoss: 0.214783\n",
      "Train Epoch: 24 [10800/18743 (58%)]\tLoss: 0.164890\n",
      "Train Epoch: 24 [12000/18743 (64%)]\tLoss: 0.013592\n",
      "Train Epoch: 24 [13200/18743 (70%)]\tLoss: 0.123971\n",
      "Train Epoch: 24 [14400/18743 (77%)]\tLoss: 0.014318\n",
      "Train Epoch: 24 [15600/18743 (83%)]\tLoss: 0.005986\n",
      "Train Epoch: 24 [16800/18743 (90%)]\tLoss: 0.092134\n",
      "Train Epoch: 24 [18000/18743 (96%)]\tLoss: 0.044282\n",
      "\n",
      "Test set: Avg. loss: 0.0699, Accuracy: 5149/6251 (82%)\n",
      "\n",
      "Train Epoch: 25 [0/18743 (0%)]\tLoss: 0.037895\n",
      "Train Epoch: 25 [1200/18743 (6%)]\tLoss: 0.015448\n",
      "Train Epoch: 25 [2400/18743 (13%)]\tLoss: 0.060609\n",
      "Train Epoch: 25 [3600/18743 (19%)]\tLoss: 0.003602\n",
      "Train Epoch: 25 [4800/18743 (26%)]\tLoss: 0.128258\n",
      "Train Epoch: 25 [6000/18743 (32%)]\tLoss: 0.028454\n",
      "Train Epoch: 25 [7200/18743 (38%)]\tLoss: 0.000317\n",
      "Train Epoch: 25 [8400/18743 (45%)]\tLoss: 0.058098\n",
      "Train Epoch: 25 [9600/18743 (51%)]\tLoss: 0.231606\n",
      "Train Epoch: 25 [10800/18743 (58%)]\tLoss: 0.033643\n",
      "Train Epoch: 25 [12000/18743 (64%)]\tLoss: 0.011915\n",
      "Train Epoch: 25 [13200/18743 (70%)]\tLoss: 0.063166\n",
      "Train Epoch: 25 [14400/18743 (77%)]\tLoss: 0.056296\n",
      "Train Epoch: 25 [15600/18743 (83%)]\tLoss: 0.030645\n",
      "Train Epoch: 25 [16800/18743 (90%)]\tLoss: 0.042413\n"
     ]
    },
    {
     "name": "stderr",
     "output_type": "stream",
     "text": [
      "/opt/conda/lib/python3.8/site-packages/PIL/TiffImagePlugin.py:822: UserWarning: Truncated File Read\n",
      "  warnings.warn(str(msg))\n"
     ]
    },
    {
     "name": "stdout",
     "output_type": "stream",
     "text": [
      "Train Epoch: 25 [18000/18743 (96%)]\tLoss: 0.031205\n",
      "\n",
      "Test set: Avg. loss: 0.0455, Accuracy: 5196/6251 (83%)\n",
      "\n",
      "Train Epoch: 26 [0/18743 (0%)]\tLoss: 0.004881\n",
      "Train Epoch: 26 [1200/18743 (6%)]\tLoss: 0.002596\n",
      "Train Epoch: 26 [2400/18743 (13%)]\tLoss: 0.018752\n",
      "Train Epoch: 26 [3600/18743 (19%)]\tLoss: 0.046080\n",
      "Train Epoch: 26 [4800/18743 (26%)]\tLoss: 0.001511\n",
      "Train Epoch: 26 [6000/18743 (32%)]\tLoss: 0.029660\n",
      "Train Epoch: 26 [7200/18743 (38%)]\tLoss: 0.030519\n",
      "Train Epoch: 26 [8400/18743 (45%)]\tLoss: 0.167529\n",
      "Train Epoch: 26 [9600/18743 (51%)]\tLoss: 0.071129\n",
      "Train Epoch: 26 [10800/18743 (58%)]\tLoss: 0.015502\n",
      "Train Epoch: 26 [12000/18743 (64%)]\tLoss: 0.202429\n",
      "Train Epoch: 26 [13200/18743 (70%)]\tLoss: 0.010585\n",
      "Train Epoch: 26 [14400/18743 (77%)]\tLoss: 0.198888\n",
      "Train Epoch: 26 [15600/18743 (83%)]\tLoss: 0.034260\n",
      "Train Epoch: 26 [16800/18743 (90%)]\tLoss: 0.098419\n"
     ]
    },
    {
     "name": "stderr",
     "output_type": "stream",
     "text": [
      "/opt/conda/lib/python3.8/site-packages/PIL/TiffImagePlugin.py:822: UserWarning: Truncated File Read\n",
      "  warnings.warn(str(msg))\n"
     ]
    },
    {
     "name": "stdout",
     "output_type": "stream",
     "text": [
      "Train Epoch: 26 [18000/18743 (96%)]\tLoss: 0.013168\n",
      "\n",
      "Test set: Avg. loss: 0.0463, Accuracy: 5256/6251 (84%)\n",
      "\n",
      "Train Epoch: 27 [0/18743 (0%)]\tLoss: 0.010926\n",
      "Train Epoch: 27 [1200/18743 (6%)]\tLoss: 0.030957\n",
      "Train Epoch: 27 [2400/18743 (13%)]\tLoss: 0.004472\n",
      "Train Epoch: 27 [3600/18743 (19%)]\tLoss: 0.059917\n",
      "Train Epoch: 27 [4800/18743 (26%)]\tLoss: 0.003102\n",
      "Train Epoch: 27 [6000/18743 (32%)]\tLoss: 0.018986\n",
      "Train Epoch: 27 [7200/18743 (38%)]\tLoss: 0.006545\n",
      "Train Epoch: 27 [8400/18743 (45%)]\tLoss: 0.038512\n",
      "Train Epoch: 27 [9600/18743 (51%)]\tLoss: 0.022803\n",
      "Train Epoch: 27 [10800/18743 (58%)]\tLoss: 0.053890\n"
     ]
    },
    {
     "name": "stderr",
     "output_type": "stream",
     "text": [
      "/opt/conda/lib/python3.8/site-packages/PIL/TiffImagePlugin.py:822: UserWarning: Truncated File Read\n",
      "  warnings.warn(str(msg))\n"
     ]
    },
    {
     "name": "stdout",
     "output_type": "stream",
     "text": [
      "Train Epoch: 27 [12000/18743 (64%)]\tLoss: 0.123086\n",
      "Train Epoch: 27 [13200/18743 (70%)]\tLoss: 0.002822\n",
      "Train Epoch: 27 [14400/18743 (77%)]\tLoss: 0.028634\n",
      "Train Epoch: 27 [15600/18743 (83%)]\tLoss: 0.100026\n",
      "Train Epoch: 27 [16800/18743 (90%)]\tLoss: 0.028858\n",
      "Train Epoch: 27 [18000/18743 (96%)]\tLoss: 0.043934\n",
      "\n",
      "Test set: Avg. loss: 0.0537, Accuracy: 5174/6251 (83%)\n",
      "\n",
      "Train Epoch: 28 [0/18743 (0%)]\tLoss: 0.002880\n",
      "Train Epoch: 28 [1200/18743 (6%)]\tLoss: 0.137113\n",
      "Train Epoch: 28 [2400/18743 (13%)]\tLoss: 0.166756\n",
      "Train Epoch: 28 [3600/18743 (19%)]\tLoss: 0.131831\n",
      "Train Epoch: 28 [4800/18743 (26%)]\tLoss: 0.042569\n",
      "Train Epoch: 28 [6000/18743 (32%)]\tLoss: 0.048677\n",
      "Train Epoch: 28 [7200/18743 (38%)]\tLoss: 0.006053\n",
      "Train Epoch: 28 [8400/18743 (45%)]\tLoss: 0.005233\n",
      "Train Epoch: 28 [9600/18743 (51%)]\tLoss: 0.055458\n",
      "Train Epoch: 28 [10800/18743 (58%)]\tLoss: 0.131232\n",
      "Train Epoch: 28 [12000/18743 (64%)]\tLoss: 0.028799\n"
     ]
    },
    {
     "name": "stderr",
     "output_type": "stream",
     "text": [
      "/opt/conda/lib/python3.8/site-packages/PIL/TiffImagePlugin.py:822: UserWarning: Truncated File Read\n",
      "  warnings.warn(str(msg))\n"
     ]
    },
    {
     "name": "stdout",
     "output_type": "stream",
     "text": [
      "Train Epoch: 28 [13200/18743 (70%)]\tLoss: 0.059786\n",
      "Train Epoch: 28 [14400/18743 (77%)]\tLoss: 0.002649\n",
      "Train Epoch: 28 [15600/18743 (83%)]\tLoss: 0.010832\n",
      "Train Epoch: 28 [16800/18743 (90%)]\tLoss: 0.019223\n",
      "Train Epoch: 28 [18000/18743 (96%)]\tLoss: 0.000699\n",
      "\n",
      "Test set: Avg. loss: 0.0509, Accuracy: 5246/6251 (84%)\n",
      "\n",
      "Train Epoch: 29 [0/18743 (0%)]\tLoss: 0.437059\n",
      "Train Epoch: 29 [1200/18743 (6%)]\tLoss: 0.071101\n",
      "Train Epoch: 29 [2400/18743 (13%)]\tLoss: 0.058694\n",
      "Train Epoch: 29 [3600/18743 (19%)]\tLoss: 0.133266\n",
      "Train Epoch: 29 [4800/18743 (26%)]\tLoss: 0.056146\n",
      "Train Epoch: 29 [6000/18743 (32%)]\tLoss: 0.061378\n",
      "Train Epoch: 29 [7200/18743 (38%)]\tLoss: 0.021015\n",
      "Train Epoch: 29 [8400/18743 (45%)]\tLoss: 0.001058\n",
      "Train Epoch: 29 [9600/18743 (51%)]\tLoss: 0.010317\n",
      "Train Epoch: 29 [10800/18743 (58%)]\tLoss: 0.013892\n",
      "Train Epoch: 29 [12000/18743 (64%)]\tLoss: 0.003158\n",
      "Train Epoch: 29 [13200/18743 (70%)]\tLoss: 0.012689\n",
      "Train Epoch: 29 [14400/18743 (77%)]\tLoss: 0.011200\n",
      "Train Epoch: 29 [15600/18743 (83%)]\tLoss: 0.133367\n",
      "Train Epoch: 29 [16800/18743 (90%)]\tLoss: 0.085726\n"
     ]
    },
    {
     "name": "stderr",
     "output_type": "stream",
     "text": [
      "/opt/conda/lib/python3.8/site-packages/PIL/TiffImagePlugin.py:822: UserWarning: Truncated File Read\n",
      "  warnings.warn(str(msg))\n"
     ]
    },
    {
     "name": "stdout",
     "output_type": "stream",
     "text": [
      "Train Epoch: 29 [18000/18743 (96%)]\tLoss: 0.004078\n",
      "\n",
      "Test set: Avg. loss: 0.0463, Accuracy: 5217/6251 (83%)\n",
      "\n",
      "Train Epoch: 30 [0/18743 (0%)]\tLoss: 0.000213\n",
      "Train Epoch: 30 [1200/18743 (6%)]\tLoss: 0.050891\n",
      "Train Epoch: 30 [2400/18743 (13%)]\tLoss: 0.002803\n",
      "Train Epoch: 30 [3600/18743 (19%)]\tLoss: 0.018516\n",
      "Train Epoch: 30 [4800/18743 (26%)]\tLoss: 0.001899\n",
      "Train Epoch: 30 [6000/18743 (32%)]\tLoss: 0.025002\n",
      "Train Epoch: 30 [7200/18743 (38%)]\tLoss: 0.054826\n",
      "Train Epoch: 30 [8400/18743 (45%)]\tLoss: 0.057084\n",
      "Train Epoch: 30 [9600/18743 (51%)]\tLoss: 0.000541\n",
      "Train Epoch: 30 [10800/18743 (58%)]\tLoss: 0.046983\n"
     ]
    },
    {
     "name": "stderr",
     "output_type": "stream",
     "text": [
      "/opt/conda/lib/python3.8/site-packages/PIL/TiffImagePlugin.py:822: UserWarning: Truncated File Read\n",
      "  warnings.warn(str(msg))\n"
     ]
    },
    {
     "name": "stdout",
     "output_type": "stream",
     "text": [
      "Train Epoch: 30 [12000/18743 (64%)]\tLoss: 0.056039\n",
      "Train Epoch: 30 [13200/18743 (70%)]\tLoss: 0.072962\n",
      "Train Epoch: 30 [14400/18743 (77%)]\tLoss: 0.202167\n",
      "Train Epoch: 30 [15600/18743 (83%)]\tLoss: 0.005347\n",
      "Train Epoch: 30 [16800/18743 (90%)]\tLoss: 0.020036\n",
      "Train Epoch: 30 [18000/18743 (96%)]\tLoss: 0.156442\n",
      "\n",
      "Test set: Avg. loss: 0.0513, Accuracy: 5180/6251 (83%)\n",
      "\n",
      "Train Epoch: 31 [0/18743 (0%)]\tLoss: 0.122498\n",
      "Train Epoch: 31 [1200/18743 (6%)]\tLoss: 0.017123\n",
      "Train Epoch: 31 [2400/18743 (13%)]\tLoss: 0.001012\n",
      "Train Epoch: 31 [3600/18743 (19%)]\tLoss: 0.014797\n",
      "Train Epoch: 31 [4800/18743 (26%)]\tLoss: 0.005181\n",
      "Train Epoch: 31 [6000/18743 (32%)]\tLoss: 0.005719\n",
      "Train Epoch: 31 [7200/18743 (38%)]\tLoss: 0.106073\n",
      "Train Epoch: 31 [8400/18743 (45%)]\tLoss: 0.001258\n",
      "Train Epoch: 31 [9600/18743 (51%)]\tLoss: 0.025073\n",
      "Train Epoch: 31 [10800/18743 (58%)]\tLoss: 0.188639\n",
      "Train Epoch: 31 [12000/18743 (64%)]\tLoss: 0.060880\n",
      "Train Epoch: 31 [13200/18743 (70%)]\tLoss: 0.100767\n",
      "Train Epoch: 31 [14400/18743 (77%)]\tLoss: 0.021098\n"
     ]
    },
    {
     "name": "stderr",
     "output_type": "stream",
     "text": [
      "/opt/conda/lib/python3.8/site-packages/PIL/TiffImagePlugin.py:822: UserWarning: Truncated File Read\n",
      "  warnings.warn(str(msg))\n"
     ]
    },
    {
     "name": "stdout",
     "output_type": "stream",
     "text": [
      "Train Epoch: 31 [15600/18743 (83%)]\tLoss: 0.082062\n",
      "Train Epoch: 31 [16800/18743 (90%)]\tLoss: 0.058149\n",
      "Train Epoch: 31 [18000/18743 (96%)]\tLoss: 0.005043\n",
      "\n",
      "Test set: Avg. loss: 0.0640, Accuracy: 5193/6251 (83%)\n",
      "\n",
      "Train Epoch: 32 [0/18743 (0%)]\tLoss: 0.009713\n",
      "Train Epoch: 32 [1200/18743 (6%)]\tLoss: 0.000335\n",
      "Train Epoch: 32 [2400/18743 (13%)]\tLoss: 0.000506\n",
      "Train Epoch: 32 [3600/18743 (19%)]\tLoss: 0.057557\n"
     ]
    },
    {
     "name": "stderr",
     "output_type": "stream",
     "text": [
      "/opt/conda/lib/python3.8/site-packages/PIL/TiffImagePlugin.py:822: UserWarning: Truncated File Read\n",
      "  warnings.warn(str(msg))\n"
     ]
    },
    {
     "name": "stdout",
     "output_type": "stream",
     "text": [
      "Train Epoch: 32 [4800/18743 (26%)]\tLoss: 0.035098\n",
      "Train Epoch: 32 [6000/18743 (32%)]\tLoss: 0.020909\n",
      "Train Epoch: 32 [7200/18743 (38%)]\tLoss: 0.005866\n",
      "Train Epoch: 32 [8400/18743 (45%)]\tLoss: 0.173621\n",
      "Train Epoch: 32 [9600/18743 (51%)]\tLoss: 0.108246\n",
      "Train Epoch: 32 [10800/18743 (58%)]\tLoss: 0.001344\n",
      "Train Epoch: 32 [12000/18743 (64%)]\tLoss: 0.020700\n",
      "Train Epoch: 32 [13200/18743 (70%)]\tLoss: 0.066668\n",
      "Train Epoch: 32 [14400/18743 (77%)]\tLoss: 0.105171\n",
      "Train Epoch: 32 [15600/18743 (83%)]\tLoss: 0.002154\n",
      "Train Epoch: 32 [16800/18743 (90%)]\tLoss: 0.006227\n",
      "Train Epoch: 32 [18000/18743 (96%)]\tLoss: 0.006913\n",
      "\n",
      "Test set: Avg. loss: 0.0503, Accuracy: 5231/6251 (84%)\n",
      "\n",
      "Train Epoch: 33 [0/18743 (0%)]\tLoss: 0.094267\n",
      "Train Epoch: 33 [1200/18743 (6%)]\tLoss: 0.077015\n",
      "Train Epoch: 33 [2400/18743 (13%)]\tLoss: 0.036267\n",
      "Train Epoch: 33 [3600/18743 (19%)]\tLoss: 0.000591\n",
      "Train Epoch: 33 [4800/18743 (26%)]\tLoss: 0.004772\n",
      "Train Epoch: 33 [6000/18743 (32%)]\tLoss: 0.001699\n",
      "Train Epoch: 33 [7200/18743 (38%)]\tLoss: 0.065126\n",
      "Train Epoch: 33 [8400/18743 (45%)]\tLoss: 0.072439\n",
      "Train Epoch: 33 [9600/18743 (51%)]\tLoss: 0.009173\n",
      "Train Epoch: 33 [10800/18743 (58%)]\tLoss: 0.036055\n",
      "Train Epoch: 33 [12000/18743 (64%)]\tLoss: 0.007957\n"
     ]
    },
    {
     "name": "stderr",
     "output_type": "stream",
     "text": [
      "/opt/conda/lib/python3.8/site-packages/PIL/TiffImagePlugin.py:822: UserWarning: Truncated File Read\n",
      "  warnings.warn(str(msg))\n"
     ]
    },
    {
     "name": "stdout",
     "output_type": "stream",
     "text": [
      "Train Epoch: 33 [13200/18743 (70%)]\tLoss: 0.024780\n",
      "Train Epoch: 33 [14400/18743 (77%)]\tLoss: 0.003080\n",
      "Train Epoch: 33 [15600/18743 (83%)]\tLoss: 0.016855\n",
      "Train Epoch: 33 [16800/18743 (90%)]\tLoss: 0.012914\n",
      "Train Epoch: 33 [18000/18743 (96%)]\tLoss: 0.087257\n",
      "\n",
      "Test set: Avg. loss: 0.0502, Accuracy: 5197/6251 (83%)\n",
      "\n",
      "Train Epoch: 34 [0/18743 (0%)]\tLoss: 0.021862\n",
      "Train Epoch: 34 [1200/18743 (6%)]\tLoss: 0.047740\n",
      "Train Epoch: 34 [2400/18743 (13%)]\tLoss: 0.008333\n",
      "Train Epoch: 34 [3600/18743 (19%)]\tLoss: 0.027791\n",
      "Train Epoch: 34 [4800/18743 (26%)]\tLoss: 0.002367\n",
      "Train Epoch: 34 [6000/18743 (32%)]\tLoss: 0.268813\n"
     ]
    },
    {
     "name": "stderr",
     "output_type": "stream",
     "text": [
      "/opt/conda/lib/python3.8/site-packages/PIL/TiffImagePlugin.py:822: UserWarning: Truncated File Read\n",
      "  warnings.warn(str(msg))\n"
     ]
    },
    {
     "name": "stdout",
     "output_type": "stream",
     "text": [
      "Train Epoch: 34 [7200/18743 (38%)]\tLoss: 0.001032\n",
      "Train Epoch: 34 [8400/18743 (45%)]\tLoss: 0.272675\n",
      "Train Epoch: 34 [9600/18743 (51%)]\tLoss: 0.016909\n",
      "Train Epoch: 34 [10800/18743 (58%)]\tLoss: 0.002881\n",
      "Train Epoch: 34 [12000/18743 (64%)]\tLoss: 0.024452\n",
      "Train Epoch: 34 [13200/18743 (70%)]\tLoss: 0.123621\n",
      "Train Epoch: 34 [14400/18743 (77%)]\tLoss: 0.004042\n",
      "Train Epoch: 34 [15600/18743 (83%)]\tLoss: 0.062913\n",
      "Train Epoch: 34 [16800/18743 (90%)]\tLoss: 0.006955\n",
      "Train Epoch: 34 [18000/18743 (96%)]\tLoss: 0.006263\n",
      "\n",
      "Test set: Avg. loss: 0.0588, Accuracy: 5251/6251 (84%)\n",
      "\n",
      "Train Epoch: 35 [0/18743 (0%)]\tLoss: 0.002392\n",
      "Train Epoch: 35 [1200/18743 (6%)]\tLoss: 0.008080\n",
      "Train Epoch: 35 [2400/18743 (13%)]\tLoss: 0.002474\n",
      "Train Epoch: 35 [3600/18743 (19%)]\tLoss: 0.003293\n",
      "Train Epoch: 35 [4800/18743 (26%)]\tLoss: 0.000780\n",
      "Train Epoch: 35 [6000/18743 (32%)]\tLoss: 0.014053\n",
      "Train Epoch: 35 [7200/18743 (38%)]\tLoss: 0.019223\n"
     ]
    },
    {
     "name": "stderr",
     "output_type": "stream",
     "text": [
      "/opt/conda/lib/python3.8/site-packages/PIL/TiffImagePlugin.py:822: UserWarning: Truncated File Read\n",
      "  warnings.warn(str(msg))\n"
     ]
    },
    {
     "name": "stdout",
     "output_type": "stream",
     "text": [
      "Train Epoch: 35 [8400/18743 (45%)]\tLoss: 0.000877\n",
      "Train Epoch: 35 [9600/18743 (51%)]\tLoss: 0.025926\n",
      "Train Epoch: 35 [10800/18743 (58%)]\tLoss: 0.128321\n",
      "Train Epoch: 35 [12000/18743 (64%)]\tLoss: 0.004100\n",
      "Train Epoch: 35 [13200/18743 (70%)]\tLoss: 0.053614\n",
      "Train Epoch: 35 [14400/18743 (77%)]\tLoss: 0.019174\n",
      "Train Epoch: 35 [15600/18743 (83%)]\tLoss: 0.000023\n",
      "Train Epoch: 35 [16800/18743 (90%)]\tLoss: 0.041304\n",
      "Train Epoch: 35 [18000/18743 (96%)]\tLoss: 0.089334\n",
      "\n",
      "Test set: Avg. loss: 0.0617, Accuracy: 5058/6251 (81%)\n",
      "\n",
      "Train Epoch: 36 [0/18743 (0%)]\tLoss: 0.018269\n",
      "Train Epoch: 36 [1200/18743 (6%)]\tLoss: 0.002535\n",
      "Train Epoch: 36 [2400/18743 (13%)]\tLoss: 0.015320\n",
      "Train Epoch: 36 [3600/18743 (19%)]\tLoss: 0.033518\n",
      "Train Epoch: 36 [4800/18743 (26%)]\tLoss: 0.097174\n",
      "Train Epoch: 36 [6000/18743 (32%)]\tLoss: 0.063974\n",
      "Train Epoch: 36 [7200/18743 (38%)]\tLoss: 0.064830\n",
      "Train Epoch: 36 [8400/18743 (45%)]\tLoss: 0.001456\n",
      "Train Epoch: 36 [9600/18743 (51%)]\tLoss: 0.072874\n"
     ]
    },
    {
     "name": "stderr",
     "output_type": "stream",
     "text": [
      "/opt/conda/lib/python3.8/site-packages/PIL/TiffImagePlugin.py:822: UserWarning: Truncated File Read\n",
      "  warnings.warn(str(msg))\n"
     ]
    },
    {
     "name": "stdout",
     "output_type": "stream",
     "text": [
      "Train Epoch: 36 [10800/18743 (58%)]\tLoss: 0.012877\n",
      "Train Epoch: 36 [12000/18743 (64%)]\tLoss: 0.042605\n",
      "Train Epoch: 36 [13200/18743 (70%)]\tLoss: 0.027331\n",
      "Train Epoch: 36 [14400/18743 (77%)]\tLoss: 0.038327\n",
      "Train Epoch: 36 [15600/18743 (83%)]\tLoss: 0.000434\n",
      "Train Epoch: 36 [16800/18743 (90%)]\tLoss: 0.012300\n",
      "Train Epoch: 36 [18000/18743 (96%)]\tLoss: 0.077409\n",
      "\n",
      "Test set: Avg. loss: 0.0590, Accuracy: 5249/6251 (84%)\n",
      "\n",
      "Train Epoch: 37 [0/18743 (0%)]\tLoss: 0.040943\n",
      "Train Epoch: 37 [1200/18743 (6%)]\tLoss: 0.028207\n",
      "Train Epoch: 37 [2400/18743 (13%)]\tLoss: 0.021446\n",
      "Train Epoch: 37 [3600/18743 (19%)]\tLoss: 0.067543\n",
      "Train Epoch: 37 [4800/18743 (26%)]\tLoss: 0.013193\n",
      "Train Epoch: 37 [6000/18743 (32%)]\tLoss: 0.059006\n",
      "Train Epoch: 37 [7200/18743 (38%)]\tLoss: 0.043936\n",
      "Train Epoch: 37 [8400/18743 (45%)]\tLoss: 0.013093\n",
      "Train Epoch: 37 [9600/18743 (51%)]\tLoss: 0.004432\n",
      "Train Epoch: 37 [10800/18743 (58%)]\tLoss: 0.032184\n",
      "Train Epoch: 37 [12000/18743 (64%)]\tLoss: 0.023978\n",
      "Train Epoch: 37 [13200/18743 (70%)]\tLoss: 0.016734\n"
     ]
    },
    {
     "name": "stderr",
     "output_type": "stream",
     "text": [
      "/opt/conda/lib/python3.8/site-packages/PIL/TiffImagePlugin.py:822: UserWarning: Truncated File Read\n",
      "  warnings.warn(str(msg))\n"
     ]
    },
    {
     "name": "stdout",
     "output_type": "stream",
     "text": [
      "Train Epoch: 37 [14400/18743 (77%)]\tLoss: 0.002608\n",
      "Train Epoch: 37 [15600/18743 (83%)]\tLoss: 0.001939\n",
      "Train Epoch: 37 [16800/18743 (90%)]\tLoss: 0.017448\n",
      "Train Epoch: 37 [18000/18743 (96%)]\tLoss: 0.006222\n",
      "\n",
      "Test set: Avg. loss: 0.0613, Accuracy: 5236/6251 (84%)\n",
      "\n",
      "Train Epoch: 38 [0/18743 (0%)]\tLoss: 0.001095\n",
      "Train Epoch: 38 [1200/18743 (6%)]\tLoss: 0.003046\n",
      "Train Epoch: 38 [2400/18743 (13%)]\tLoss: 0.054744\n",
      "Train Epoch: 38 [3600/18743 (19%)]\tLoss: 0.001493\n",
      "Train Epoch: 38 [4800/18743 (26%)]\tLoss: 0.004999\n",
      "Train Epoch: 38 [6000/18743 (32%)]\tLoss: 0.027560\n",
      "Train Epoch: 38 [7200/18743 (38%)]\tLoss: 0.026121\n"
     ]
    },
    {
     "name": "stderr",
     "output_type": "stream",
     "text": [
      "/opt/conda/lib/python3.8/site-packages/PIL/TiffImagePlugin.py:822: UserWarning: Truncated File Read\n",
      "  warnings.warn(str(msg))\n"
     ]
    },
    {
     "name": "stdout",
     "output_type": "stream",
     "text": [
      "Train Epoch: 38 [8400/18743 (45%)]\tLoss: 0.066885\n",
      "Train Epoch: 38 [9600/18743 (51%)]\tLoss: 0.064906\n",
      "Train Epoch: 38 [10800/18743 (58%)]\tLoss: 0.004229\n",
      "Train Epoch: 38 [12000/18743 (64%)]\tLoss: 0.013531\n",
      "Train Epoch: 38 [13200/18743 (70%)]\tLoss: 0.068329\n",
      "Train Epoch: 38 [14400/18743 (77%)]\tLoss: 0.000179\n",
      "Train Epoch: 38 [15600/18743 (83%)]\tLoss: 0.002880\n",
      "Train Epoch: 38 [16800/18743 (90%)]\tLoss: 0.015789\n",
      "Train Epoch: 38 [18000/18743 (96%)]\tLoss: 0.058053\n",
      "\n",
      "Test set: Avg. loss: 0.0556, Accuracy: 5221/6251 (84%)\n",
      "\n",
      "Train Epoch: 39 [0/18743 (0%)]\tLoss: 0.100422\n",
      "Train Epoch: 39 [1200/18743 (6%)]\tLoss: 0.003903\n",
      "Train Epoch: 39 [2400/18743 (13%)]\tLoss: 0.013580\n",
      "Train Epoch: 39 [3600/18743 (19%)]\tLoss: 0.003639\n",
      "Train Epoch: 39 [4800/18743 (26%)]\tLoss: 0.002284\n",
      "Train Epoch: 39 [6000/18743 (32%)]\tLoss: 0.014336\n",
      "Train Epoch: 39 [7200/18743 (38%)]\tLoss: 0.209011\n",
      "Train Epoch: 39 [8400/18743 (45%)]\tLoss: 0.004662\n",
      "Train Epoch: 39 [9600/18743 (51%)]\tLoss: 0.001340\n",
      "Train Epoch: 39 [10800/18743 (58%)]\tLoss: 0.089207\n",
      "Train Epoch: 39 [12000/18743 (64%)]\tLoss: 0.004568\n"
     ]
    },
    {
     "name": "stderr",
     "output_type": "stream",
     "text": [
      "/opt/conda/lib/python3.8/site-packages/PIL/TiffImagePlugin.py:822: UserWarning: Truncated File Read\n",
      "  warnings.warn(str(msg))\n"
     ]
    },
    {
     "name": "stdout",
     "output_type": "stream",
     "text": [
      "Train Epoch: 39 [13200/18743 (70%)]\tLoss: 0.000496\n",
      "Train Epoch: 39 [14400/18743 (77%)]\tLoss: 0.127703\n",
      "Train Epoch: 39 [15600/18743 (83%)]\tLoss: 0.017976\n",
      "Train Epoch: 39 [16800/18743 (90%)]\tLoss: 0.005854\n",
      "Train Epoch: 39 [18000/18743 (96%)]\tLoss: 0.094019\n",
      "\n",
      "Test set: Avg. loss: 0.0671, Accuracy: 5093/6251 (81%)\n",
      "\n",
      "Train Epoch: 40 [0/18743 (0%)]\tLoss: 0.250747\n",
      "Train Epoch: 40 [1200/18743 (6%)]\tLoss: 0.050142\n",
      "Train Epoch: 40 [2400/18743 (13%)]\tLoss: 0.001606\n",
      "Train Epoch: 40 [3600/18743 (19%)]\tLoss: 0.073201\n",
      "Train Epoch: 40 [4800/18743 (26%)]\tLoss: 0.025210\n",
      "Train Epoch: 40 [6000/18743 (32%)]\tLoss: 0.021765\n",
      "Train Epoch: 40 [7200/18743 (38%)]\tLoss: 0.004939\n",
      "Train Epoch: 40 [8400/18743 (45%)]\tLoss: 0.020105\n",
      "Train Epoch: 40 [9600/18743 (51%)]\tLoss: 0.002674\n"
     ]
    },
    {
     "name": "stderr",
     "output_type": "stream",
     "text": [
      "/opt/conda/lib/python3.8/site-packages/PIL/TiffImagePlugin.py:822: UserWarning: Truncated File Read\n",
      "  warnings.warn(str(msg))\n"
     ]
    },
    {
     "name": "stdout",
     "output_type": "stream",
     "text": [
      "Train Epoch: 40 [10800/18743 (58%)]\tLoss: 0.022420\n",
      "Train Epoch: 40 [12000/18743 (64%)]\tLoss: 0.033390\n",
      "Train Epoch: 40 [13200/18743 (70%)]\tLoss: 0.020724\n",
      "Train Epoch: 40 [14400/18743 (77%)]\tLoss: 0.002178\n",
      "Train Epoch: 40 [15600/18743 (83%)]\tLoss: 0.005381\n",
      "Train Epoch: 40 [16800/18743 (90%)]\tLoss: 0.098480\n",
      "Train Epoch: 40 [18000/18743 (96%)]\tLoss: 0.050551\n",
      "\n",
      "Test set: Avg. loss: 0.0719, Accuracy: 5231/6251 (84%)\n",
      "\n",
      "Train Epoch: 41 [0/18743 (0%)]\tLoss: 0.078618\n",
      "Train Epoch: 41 [1200/18743 (6%)]\tLoss: 0.000438\n",
      "Train Epoch: 41 [2400/18743 (13%)]\tLoss: 0.004238\n",
      "Train Epoch: 41 [3600/18743 (19%)]\tLoss: 0.028668\n",
      "Train Epoch: 41 [4800/18743 (26%)]\tLoss: 0.001898\n",
      "Train Epoch: 41 [6000/18743 (32%)]\tLoss: 0.013593\n",
      "Train Epoch: 41 [7200/18743 (38%)]\tLoss: 0.001052\n",
      "Train Epoch: 41 [8400/18743 (45%)]\tLoss: 0.004534\n",
      "Train Epoch: 41 [9600/18743 (51%)]\tLoss: 0.001348\n",
      "Train Epoch: 41 [10800/18743 (58%)]\tLoss: 0.007113\n",
      "Train Epoch: 41 [12000/18743 (64%)]\tLoss: 0.059299\n",
      "Train Epoch: 41 [13200/18743 (70%)]\tLoss: 0.059186\n"
     ]
    },
    {
     "name": "stderr",
     "output_type": "stream",
     "text": [
      "/opt/conda/lib/python3.8/site-packages/PIL/TiffImagePlugin.py:822: UserWarning: Truncated File Read\n",
      "  warnings.warn(str(msg))\n"
     ]
    },
    {
     "name": "stdout",
     "output_type": "stream",
     "text": [
      "Train Epoch: 41 [14400/18743 (77%)]\tLoss: 0.001175\n",
      "Train Epoch: 41 [15600/18743 (83%)]\tLoss: 0.109232\n",
      "Train Epoch: 41 [16800/18743 (90%)]\tLoss: 0.001524\n",
      "Train Epoch: 41 [18000/18743 (96%)]\tLoss: 0.001360\n",
      "\n",
      "Test set: Avg. loss: 0.0752, Accuracy: 5220/6251 (84%)\n",
      "\n",
      "Train Epoch: 42 [0/18743 (0%)]\tLoss: 0.006175\n",
      "Train Epoch: 42 [1200/18743 (6%)]\tLoss: 0.017116\n",
      "Train Epoch: 42 [2400/18743 (13%)]\tLoss: 0.000161\n",
      "Train Epoch: 42 [3600/18743 (19%)]\tLoss: 0.088867\n",
      "Train Epoch: 42 [4800/18743 (26%)]\tLoss: 0.006422\n",
      "Train Epoch: 42 [6000/18743 (32%)]\tLoss: 0.000598\n",
      "Train Epoch: 42 [7200/18743 (38%)]\tLoss: 0.000320\n",
      "Train Epoch: 42 [8400/18743 (45%)]\tLoss: 0.000957\n",
      "Train Epoch: 42 [9600/18743 (51%)]\tLoss: 0.004216\n",
      "Train Epoch: 42 [10800/18743 (58%)]\tLoss: 0.006627\n"
     ]
    },
    {
     "name": "stderr",
     "output_type": "stream",
     "text": [
      "/opt/conda/lib/python3.8/site-packages/PIL/TiffImagePlugin.py:822: UserWarning: Truncated File Read\n",
      "  warnings.warn(str(msg))\n"
     ]
    },
    {
     "name": "stdout",
     "output_type": "stream",
     "text": [
      "Train Epoch: 42 [12000/18743 (64%)]\tLoss: 0.071808\n",
      "Train Epoch: 42 [13200/18743 (70%)]\tLoss: 0.001386\n",
      "Train Epoch: 42 [14400/18743 (77%)]\tLoss: 0.075674\n",
      "Train Epoch: 42 [15600/18743 (83%)]\tLoss: 0.006681\n",
      "Train Epoch: 42 [16800/18743 (90%)]\tLoss: 0.005198\n",
      "Train Epoch: 42 [18000/18743 (96%)]\tLoss: 0.007351\n",
      "\n",
      "Test set: Avg. loss: 0.0631, Accuracy: 5247/6251 (84%)\n",
      "\n",
      "Train Epoch: 43 [0/18743 (0%)]\tLoss: 0.002988\n",
      "Train Epoch: 43 [1200/18743 (6%)]\tLoss: 0.000086\n",
      "Train Epoch: 43 [2400/18743 (13%)]\tLoss: 0.004846\n",
      "Train Epoch: 43 [3600/18743 (19%)]\tLoss: 0.046632\n",
      "Train Epoch: 43 [4800/18743 (26%)]\tLoss: 0.000378\n",
      "Train Epoch: 43 [6000/18743 (32%)]\tLoss: 0.029373\n",
      "Train Epoch: 43 [7200/18743 (38%)]\tLoss: 0.002354\n",
      "Train Epoch: 43 [8400/18743 (45%)]\tLoss: 0.000439\n",
      "Train Epoch: 43 [9600/18743 (51%)]\tLoss: 0.074834\n",
      "Train Epoch: 43 [10800/18743 (58%)]\tLoss: 0.003021\n"
     ]
    },
    {
     "name": "stderr",
     "output_type": "stream",
     "text": [
      "/opt/conda/lib/python3.8/site-packages/PIL/TiffImagePlugin.py:822: UserWarning: Truncated File Read\n",
      "  warnings.warn(str(msg))\n"
     ]
    },
    {
     "name": "stdout",
     "output_type": "stream",
     "text": [
      "Train Epoch: 43 [12000/18743 (64%)]\tLoss: 0.083690\n",
      "Train Epoch: 43 [13200/18743 (70%)]\tLoss: 0.002235\n",
      "Train Epoch: 43 [14400/18743 (77%)]\tLoss: 0.027394\n",
      "Train Epoch: 43 [15600/18743 (83%)]\tLoss: 0.008028\n",
      "Train Epoch: 43 [16800/18743 (90%)]\tLoss: 0.052018\n",
      "Train Epoch: 43 [18000/18743 (96%)]\tLoss: 0.006717\n",
      "\n",
      "Test set: Avg. loss: 0.0602, Accuracy: 5205/6251 (83%)\n",
      "\n",
      "Train Epoch: 44 [0/18743 (0%)]\tLoss: 0.029222\n",
      "Train Epoch: 44 [1200/18743 (6%)]\tLoss: 0.007451\n",
      "Train Epoch: 44 [2400/18743 (13%)]\tLoss: 0.046557\n",
      "Train Epoch: 44 [3600/18743 (19%)]\tLoss: 0.003564\n",
      "Train Epoch: 44 [4800/18743 (26%)]\tLoss: 0.004611\n",
      "Train Epoch: 44 [6000/18743 (32%)]\tLoss: 0.005732\n",
      "Train Epoch: 44 [7200/18743 (38%)]\tLoss: 0.125177\n",
      "Train Epoch: 44 [8400/18743 (45%)]\tLoss: 0.004673\n",
      "Train Epoch: 44 [9600/18743 (51%)]\tLoss: 0.002690\n",
      "Train Epoch: 44 [10800/18743 (58%)]\tLoss: 0.009028\n",
      "Train Epoch: 44 [12000/18743 (64%)]\tLoss: 0.002944\n",
      "Train Epoch: 44 [13200/18743 (70%)]\tLoss: 0.000009\n",
      "Train Epoch: 44 [14400/18743 (77%)]\tLoss: 0.184445\n",
      "Train Epoch: 44 [15600/18743 (83%)]\tLoss: 0.061346\n"
     ]
    },
    {
     "name": "stderr",
     "output_type": "stream",
     "text": [
      "/opt/conda/lib/python3.8/site-packages/PIL/TiffImagePlugin.py:822: UserWarning: Truncated File Read\n",
      "  warnings.warn(str(msg))\n"
     ]
    },
    {
     "name": "stdout",
     "output_type": "stream",
     "text": [
      "Train Epoch: 44 [16800/18743 (90%)]\tLoss: 0.015453\n",
      "Train Epoch: 44 [18000/18743 (96%)]\tLoss: 0.098197\n",
      "\n",
      "Test set: Avg. loss: 0.0651, Accuracy: 5144/6251 (82%)\n",
      "\n",
      "Train Epoch: 45 [0/18743 (0%)]\tLoss: 0.207649\n",
      "Train Epoch: 45 [1200/18743 (6%)]\tLoss: 0.044218\n",
      "Train Epoch: 45 [2400/18743 (13%)]\tLoss: 0.005761\n",
      "Train Epoch: 45 [3600/18743 (19%)]\tLoss: 0.049479\n",
      "Train Epoch: 45 [4800/18743 (26%)]\tLoss: 0.009206\n",
      "Train Epoch: 45 [6000/18743 (32%)]\tLoss: 0.051880\n",
      "Train Epoch: 45 [7200/18743 (38%)]\tLoss: 0.027539\n",
      "Train Epoch: 45 [8400/18743 (45%)]\tLoss: 0.001425\n",
      "Train Epoch: 45 [9600/18743 (51%)]\tLoss: 0.115390\n",
      "Train Epoch: 45 [10800/18743 (58%)]\tLoss: 0.032507\n"
     ]
    },
    {
     "name": "stderr",
     "output_type": "stream",
     "text": [
      "/opt/conda/lib/python3.8/site-packages/PIL/TiffImagePlugin.py:822: UserWarning: Truncated File Read\n",
      "  warnings.warn(str(msg))\n"
     ]
    },
    {
     "name": "stdout",
     "output_type": "stream",
     "text": [
      "Train Epoch: 45 [12000/18743 (64%)]\tLoss: 0.000124\n",
      "Train Epoch: 45 [13200/18743 (70%)]\tLoss: 0.002660\n",
      "Train Epoch: 45 [14400/18743 (77%)]\tLoss: 0.015570\n",
      "Train Epoch: 45 [15600/18743 (83%)]\tLoss: 0.032051\n",
      "Train Epoch: 45 [16800/18743 (90%)]\tLoss: 0.085721\n",
      "Train Epoch: 45 [18000/18743 (96%)]\tLoss: 0.033530\n",
      "\n",
      "Test set: Avg. loss: 0.0724, Accuracy: 5226/6251 (84%)\n",
      "\n",
      "Train Epoch: 46 [0/18743 (0%)]\tLoss: 0.040374\n",
      "Train Epoch: 46 [1200/18743 (6%)]\tLoss: 0.068502\n",
      "Train Epoch: 46 [2400/18743 (13%)]\tLoss: 0.000614\n",
      "Train Epoch: 46 [3600/18743 (19%)]\tLoss: 0.007285\n",
      "Train Epoch: 46 [4800/18743 (26%)]\tLoss: 0.027405\n",
      "Train Epoch: 46 [6000/18743 (32%)]\tLoss: 0.059818\n",
      "Train Epoch: 46 [7200/18743 (38%)]\tLoss: 0.000017\n"
     ]
    },
    {
     "name": "stderr",
     "output_type": "stream",
     "text": [
      "/opt/conda/lib/python3.8/site-packages/PIL/TiffImagePlugin.py:822: UserWarning: Truncated File Read\n",
      "  warnings.warn(str(msg))\n"
     ]
    },
    {
     "name": "stdout",
     "output_type": "stream",
     "text": [
      "Train Epoch: 46 [8400/18743 (45%)]\tLoss: 0.000110\n",
      "Train Epoch: 46 [9600/18743 (51%)]\tLoss: 0.006284\n",
      "Train Epoch: 46 [10800/18743 (58%)]\tLoss: 0.085978\n",
      "Train Epoch: 46 [12000/18743 (64%)]\tLoss: 0.002866\n",
      "Train Epoch: 46 [13200/18743 (70%)]\tLoss: 0.075734\n",
      "Train Epoch: 46 [14400/18743 (77%)]\tLoss: 0.059238\n",
      "Train Epoch: 46 [15600/18743 (83%)]\tLoss: 0.000821\n",
      "Train Epoch: 46 [16800/18743 (90%)]\tLoss: 0.005567\n",
      "Train Epoch: 46 [18000/18743 (96%)]\tLoss: 0.004741\n",
      "\n",
      "Test set: Avg. loss: 0.0641, Accuracy: 5204/6251 (83%)\n",
      "\n",
      "Train Epoch: 47 [0/18743 (0%)]\tLoss: 0.031325\n",
      "Train Epoch: 47 [1200/18743 (6%)]\tLoss: 0.002378\n",
      "Train Epoch: 47 [2400/18743 (13%)]\tLoss: 0.010169\n",
      "Train Epoch: 47 [3600/18743 (19%)]\tLoss: 0.059786\n",
      "Train Epoch: 47 [4800/18743 (26%)]\tLoss: 0.002264\n",
      "Train Epoch: 47 [6000/18743 (32%)]\tLoss: 0.043322\n"
     ]
    },
    {
     "name": "stderr",
     "output_type": "stream",
     "text": [
      "/opt/conda/lib/python3.8/site-packages/PIL/TiffImagePlugin.py:822: UserWarning: Truncated File Read\n",
      "  warnings.warn(str(msg))\n"
     ]
    },
    {
     "name": "stdout",
     "output_type": "stream",
     "text": [
      "Train Epoch: 47 [7200/18743 (38%)]\tLoss: 0.020829\n",
      "Train Epoch: 47 [8400/18743 (45%)]\tLoss: 0.000046\n",
      "Train Epoch: 47 [9600/18743 (51%)]\tLoss: 0.012827\n",
      "Train Epoch: 47 [10800/18743 (58%)]\tLoss: 0.082661\n",
      "Train Epoch: 47 [12000/18743 (64%)]\tLoss: 0.026058\n",
      "Train Epoch: 47 [13200/18743 (70%)]\tLoss: 0.064339\n",
      "Train Epoch: 47 [14400/18743 (77%)]\tLoss: 0.025598\n",
      "Train Epoch: 47 [15600/18743 (83%)]\tLoss: 0.008425\n",
      "Train Epoch: 47 [16800/18743 (90%)]\tLoss: 0.021214\n",
      "Train Epoch: 47 [18000/18743 (96%)]\tLoss: 0.001056\n",
      "\n",
      "Test set: Avg. loss: 0.0712, Accuracy: 5241/6251 (84%)\n",
      "\n",
      "Train Epoch: 48 [0/18743 (0%)]\tLoss: 0.000675\n",
      "Train Epoch: 48 [1200/18743 (6%)]\tLoss: 0.000082\n",
      "Train Epoch: 48 [2400/18743 (13%)]\tLoss: 0.000637\n",
      "Train Epoch: 48 [3600/18743 (19%)]\tLoss: 0.000121\n",
      "Train Epoch: 48 [4800/18743 (26%)]\tLoss: 0.000096\n",
      "Train Epoch: 48 [6000/18743 (32%)]\tLoss: 0.020633\n",
      "Train Epoch: 48 [7200/18743 (38%)]\tLoss: 0.010760\n",
      "Train Epoch: 48 [8400/18743 (45%)]\tLoss: 0.000816\n",
      "Train Epoch: 48 [9600/18743 (51%)]\tLoss: 0.001200\n"
     ]
    },
    {
     "name": "stderr",
     "output_type": "stream",
     "text": [
      "/opt/conda/lib/python3.8/site-packages/PIL/TiffImagePlugin.py:822: UserWarning: Truncated File Read\n",
      "  warnings.warn(str(msg))\n"
     ]
    },
    {
     "name": "stdout",
     "output_type": "stream",
     "text": [
      "Train Epoch: 48 [10800/18743 (58%)]\tLoss: 0.032796\n",
      "Train Epoch: 48 [12000/18743 (64%)]\tLoss: 0.002250\n",
      "Train Epoch: 48 [13200/18743 (70%)]\tLoss: 0.002670\n",
      "Train Epoch: 48 [14400/18743 (77%)]\tLoss: 0.002722\n",
      "Train Epoch: 48 [15600/18743 (83%)]\tLoss: 0.001749\n",
      "Train Epoch: 48 [16800/18743 (90%)]\tLoss: 0.034302\n",
      "Train Epoch: 48 [18000/18743 (96%)]\tLoss: 0.000030\n",
      "\n",
      "Test set: Avg. loss: 0.0754, Accuracy: 5260/6251 (84%)\n",
      "\n",
      "Train Epoch: 49 [0/18743 (0%)]\tLoss: 0.004764\n",
      "Train Epoch: 49 [1200/18743 (6%)]\tLoss: 0.002427\n",
      "Train Epoch: 49 [2400/18743 (13%)]\tLoss: 0.027016\n",
      "Train Epoch: 49 [3600/18743 (19%)]\tLoss: 0.007365\n",
      "Train Epoch: 49 [4800/18743 (26%)]\tLoss: 0.029782\n",
      "Train Epoch: 49 [6000/18743 (32%)]\tLoss: 0.000296\n",
      "Train Epoch: 49 [7200/18743 (38%)]\tLoss: 0.101880\n",
      "Train Epoch: 49 [8400/18743 (45%)]\tLoss: 0.005101\n",
      "Train Epoch: 49 [9600/18743 (51%)]\tLoss: 0.010746\n",
      "Train Epoch: 49 [10800/18743 (58%)]\tLoss: 0.006501\n"
     ]
    },
    {
     "name": "stderr",
     "output_type": "stream",
     "text": [
      "/opt/conda/lib/python3.8/site-packages/PIL/TiffImagePlugin.py:822: UserWarning: Truncated File Read\n",
      "  warnings.warn(str(msg))\n"
     ]
    },
    {
     "name": "stdout",
     "output_type": "stream",
     "text": [
      "Train Epoch: 49 [12000/18743 (64%)]\tLoss: 0.127300\n",
      "Train Epoch: 49 [13200/18743 (70%)]\tLoss: 0.004581\n",
      "Train Epoch: 49 [14400/18743 (77%)]\tLoss: 0.015186\n",
      "Train Epoch: 49 [15600/18743 (83%)]\tLoss: 0.133934\n",
      "Train Epoch: 49 [16800/18743 (90%)]\tLoss: 0.019150\n",
      "Train Epoch: 49 [18000/18743 (96%)]\tLoss: 0.003828\n",
      "\n",
      "Test set: Avg. loss: 0.0976, Accuracy: 5185/6251 (83%)\n",
      "\n",
      "Train Epoch: 50 [0/18743 (0%)]\tLoss: 0.004548\n",
      "Train Epoch: 50 [1200/18743 (6%)]\tLoss: 0.001827\n",
      "Train Epoch: 50 [2400/18743 (13%)]\tLoss: 0.001101\n",
      "Train Epoch: 50 [3600/18743 (19%)]\tLoss: 0.001422\n",
      "Train Epoch: 50 [4800/18743 (26%)]\tLoss: 0.027102\n",
      "Train Epoch: 50 [6000/18743 (32%)]\tLoss: 0.001770\n",
      "Train Epoch: 50 [7200/18743 (38%)]\tLoss: 0.065278\n",
      "Train Epoch: 50 [8400/18743 (45%)]\tLoss: 0.013950\n",
      "Train Epoch: 50 [9600/18743 (51%)]\tLoss: 0.028629\n"
     ]
    },
    {
     "name": "stderr",
     "output_type": "stream",
     "text": [
      "/opt/conda/lib/python3.8/site-packages/PIL/TiffImagePlugin.py:822: UserWarning: Truncated File Read\n",
      "  warnings.warn(str(msg))\n"
     ]
    },
    {
     "name": "stdout",
     "output_type": "stream",
     "text": [
      "Train Epoch: 50 [10800/18743 (58%)]\tLoss: 0.000202\n",
      "Train Epoch: 50 [12000/18743 (64%)]\tLoss: 0.019987\n",
      "Train Epoch: 50 [13200/18743 (70%)]\tLoss: 0.003414\n",
      "Train Epoch: 50 [14400/18743 (77%)]\tLoss: 0.000062\n",
      "Train Epoch: 50 [15600/18743 (83%)]\tLoss: 0.035409\n",
      "Train Epoch: 50 [16800/18743 (90%)]\tLoss: 0.000136\n",
      "Train Epoch: 50 [18000/18743 (96%)]\tLoss: 0.041978\n",
      "\n",
      "Test set: Avg. loss: 0.0788, Accuracy: 5238/6251 (84%)\n",
      "\n"
     ]
    }
   ],
   "source": [
    "#train\n",
    "\n",
    "test()\n",
    "\n",
    "for epoch in range(1, num_epochs+1):\n",
    "    \n",
    "    for batch_idx, (data, target) in enumerate(train_data_loader):\n",
    "        \n",
    "        network.train()\n",
    "        \n",
    "        #print(f'b {batch}')\n",
    "        \n",
    "        #forward pass\n",
    "        out = network(data.to(device))\n",
    "        \n",
    "        #Use negative log likelihood loss.\n",
    "        loss = criterion(out, target.view(-1, 1).float().to(device))\n",
    "        \n",
    "        \n",
    "        #with this gradients are calculated\n",
    "        loss.backward()\n",
    "    \n",
    "        #update gradients\n",
    "        optimizer.step()\n",
    "        \n",
    "        #Set gradients to zero\n",
    "        optimizer.zero_grad()\n",
    "\n",
    "        #Display iteration statistics\n",
    "        if batch_idx % log_interval == 0:\n",
    "            \n",
    "            #print('Allocated:', round(torch.cuda.memory_allocated(0)/1024**3,1), 'GB')\n",
    "            print('Train Epoch: {} [{}/{} ({:.0f}%)]\\tLoss: {:.6f}'.format(epoch, batch_idx * len(data), len(train_data_loader.dataset),100. * batch_idx / len(train_data_loader), loss.item()))\n",
    "        \n",
    "    test()\n",
    "    \n",
    "    "
   ]
  },
  {
   "cell_type": "code",
   "execution_count": 13,
   "id": "989ffd92",
   "metadata": {},
   "outputs": [
    {
     "name": "stdout",
     "output_type": "stream",
     "text": [
      "torch.cuda.memory_allocated: 10.877441MB\n",
      "torch.cuda.memory_reserved: 166.000000MB\n",
      "torch.cuda.max_memory_reserved: 166.000000MB\n"
     ]
    }
   ],
   "source": [
    "print(\"torch.cuda.memory_allocated: %fMB\"%(torch.cuda.memory_allocated(0)/1024/1024))\n",
    "print(\"torch.cuda.memory_reserved: %fMB\"%(torch.cuda.memory_reserved(0)/1024/1024))\n",
    "print(\"torch.cuda.max_memory_reserved: %fMB\"%(torch.cuda.max_memory_reserved(0)/1024/1024))\n"
   ]
  },
  {
   "cell_type": "markdown",
   "id": "7195d52d",
   "metadata": {},
   "source": [
    "### ToDo"
   ]
  },
  {
   "cell_type": "markdown",
   "id": "1635469c",
   "metadata": {},
   "source": [
    "- Create a section in which the network is described\n",
    "- Check other kind of accuaracy measurements\n",
    "- Check why having a 24 batch doesn't work\n",
    "- Check how to maximize utilization of GPU, does this affect training results?\n",
    "- Monitor gpu usage, memory, SM usage?"
   ]
  },
  {
   "cell_type": "code",
   "execution_count": null,
   "id": "84ee28ea",
   "metadata": {},
   "outputs": [],
   "source": []
  }
 ],
 "metadata": {
  "kernelspec": {
   "display_name": "Python 3 (ipykernel)",
   "language": "python",
   "name": "python3"
  },
  "language_info": {
   "codemirror_mode": {
    "name": "ipython",
    "version": 3
   },
   "file_extension": ".py",
   "mimetype": "text/x-python",
   "name": "python",
   "nbconvert_exporter": "python",
   "pygments_lexer": "ipython3",
   "version": "3.8.12"
  }
 },
 "nbformat": 4,
 "nbformat_minor": 5
}
